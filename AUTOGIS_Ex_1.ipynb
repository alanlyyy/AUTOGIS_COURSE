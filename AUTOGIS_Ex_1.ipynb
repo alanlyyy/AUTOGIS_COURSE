{
 "cells": [
  {
   "cell_type": "code",
   "execution_count": 7,
   "metadata": {},
   "outputs": [
    {
     "name": "stdout",
     "output_type": "stream",
     "text": [
      "POINT (0 1.1)\n",
      "Point\n"
     ]
    }
   ],
   "source": [
    "from shapely.geometry import Point\n",
    "\n",
    "def create_point_geom(x_coord, y_coord):\n",
    "    \n",
    "        return Point(x_coord, y_coord)\n",
    "        \n",
    "\n",
    "#https://stackoverflow.com/questions/2052390/manually-raising-throwing-an-exception-in-python\n",
    "#raise NotImplementedError(\"Object not instantiated\")\n",
    "\n",
    "try:\n",
    "    # NON-EDITABLE CODE CELL FOR TESTING YOUR SOLUTION\n",
    "    # Demonstrate the usage of the function\n",
    "    point1 = create_point_geom(0.0, 1.1)\n",
    "except NotImplementedError() as err:\n",
    "    print(err.args)\n",
    "    \n",
    "# NON-EDITABLE CODE CELL FOR TESTING YOUR SOLUTION\n",
    "print(point1)\n",
    "\n",
    "# NON-EDITABLE CODE CELL FOR TESTING YOUR SOLUTION\n",
    "print(point1.geom_type)\n",
    "\n"
   ]
  },
  {
   "cell_type": "code",
   "execution_count": 17,
   "metadata": {},
   "outputs": [],
   "source": [
    "from shapely.geometry import LineString\n",
    "\n",
    "def create_line_geom(list_of_points):\n",
    "    \n",
    "    #ensure data type of list of points is list, otherwise raiser assertion error\n",
    "    assert (type(list_of_points) == list ), \"Input Should be List\" \n",
    "    \n",
    "    #ensure list of points has more than 1 point\n",
    "    assert (len(list_of_points) >= 2), \"LineString object requires at least two points!\"\n",
    "    \n",
    "    for point in list_of_points:\n",
    "        assert (type(point) == Point), \"All lists values should be shapely point objects!\"\n",
    "    \n",
    "    #create linestring with list of points\n",
    "    line = LineString(list_of_points)\n",
    "    \n",
    "    return line\n",
    "\n",
    "#test linestring creation function\n",
    "try: \n",
    "    list_of_points = [ Point(45.2, 22.34), Point(100.22, -3.2) ]\n",
    "    line1 = create_line_geom(list_of_points)\n",
    "except NotImplementedError:\n",
    "    print(\"not implemented\")\n",
    "    "
   ]
  },
  {
   "cell_type": "code",
   "execution_count": null,
   "metadata": {},
   "outputs": [],
   "source": [
    "# NON-EDITABLE CODE CELL FOR TESTING YOUR SOLUTION\n",
    "print(line1)"
   ]
  },
  {
   "cell_type": "code",
   "execution_count": null,
   "metadata": {},
   "outputs": [],
   "source": [
    "# NON-EDITABLE CODE CELL FOR TESTING YOUR SOLUTION\n",
    "print(line1.geom_type)"
   ]
  },
  {
   "cell_type": "code",
   "execution_count": 15,
   "metadata": {},
   "outputs": [
    {
     "name": "stdout",
     "output_type": "stream",
     "text": [
      "Found an assertion error. List check works correctly.\n"
     ]
    }
   ],
   "source": [
    "# NON-EDITABLE CODE CELL FOR TESTING YOUR SOLUTION\n",
    "try:\n",
    "    # Pass something else than a list\n",
    "    create_line_geom(\"Give me a line!\")\n",
    "except AssertionError:\n",
    "    print(\"Found an assertion error. List check works correctly.\")\n",
    "except Exception as e:\n",
    "    raise e"
   ]
  },
  {
   "cell_type": "code",
   "execution_count": 35,
   "metadata": {},
   "outputs": [],
   "source": [
    "from shapely.geometry import Polygon\n",
    "\n",
    "def create_poly_geom(coords):\n",
    "    \n",
    "    #verify input is type list other wise raise an exception\n",
    "    assert type(coords) == list,\"Error, Input Should be a list\"\n",
    "    \n",
    "    #verify if length of list is atleast 3 other wise raise an exception\n",
    "    assert len(coords) >= 3, \"Error, Polygon object requires at least 3 Points!\"\n",
    "    \n",
    "    #loop through the list, check if each object is type tuple, otherwise raise an exception\n",
    "    try:\n",
    "        for t in coords:\n",
    "            assert (type(t) == tuple) , \" Error, All values in list should be coordinate tuples!\"\n",
    "            \n",
    "        return Polygon(coords)\n",
    "    \n",
    "    except AssertionError:\n",
    "        \n",
    "        list_of_shapely_points = [] \n",
    "        \n",
    "        #loop through the list, check if each object is a shapely point otherwise raise an exception\n",
    "        for i in range(0, len(coords)):\n",
    "            \n",
    "            assert (type(coords[i]) == Point), \"Error, item is not a shapely point object\"\n",
    "            \n",
    "            list_of_shapely_points.append( (coords[i].x, coords[i].y) )\n",
    "            \n",
    "        \n",
    "        return Polygon(list_of_shapely_points)\n",
    "        \n",
    "        \n",
    "              \n",
    "    \n",
    "    "
   ]
  },
  {
   "cell_type": "code",
   "execution_count": 23,
   "metadata": {},
   "outputs": [
    {
     "name": "stdout",
     "output_type": "stream",
     "text": [
      "POLYGON ((45.2 22.34, 100.22 -3.2, 70 10.2, 45.2 22.34))\n",
      "Polygon\n"
     ]
    }
   ],
   "source": [
    "list_of_points = [(45.2, 22.34), (100.22, -3.20), (70.0, 10.20)]\n",
    "\n",
    "poly1 = create_poly_geom(list_of_points)\n",
    "\n",
    "# NON-EDITABLE CODE CELL FOR TESTING YOUR SOLUTION\n",
    "print(poly1)\n",
    "\n",
    "# NON-EDITABLE CODE CELL FOR TESTING YOUR SOLUTION\n",
    "print(poly1.geom_type)"
   ]
  },
  {
   "cell_type": "code",
   "execution_count": 24,
   "metadata": {},
   "outputs": [
    {
     "name": "stdout",
     "output_type": "stream",
     "text": [
      "List check works\n"
     ]
    }
   ],
   "source": [
    "#check if function checks length of input correctly.\n",
    "\n",
    "# NON-EDITABLE CODE CELL FOR TESTING YOUR SOLUTION\n",
    "try:\n",
    "    # Pass something else than a list\n",
    "    create_poly_geom(\"Give me a polygon\")\n",
    "except AssertionError:\n",
    "    print(\"List check works\")\n",
    "except Exception as e:\n",
    "    raise e"
   ]
  },
  {
   "cell_type": "code",
   "execution_count": 38,
   "metadata": {},
   "outputs": [],
   "source": [
    "#test shapely points to polygon creation\n",
    "try:\n",
    "    # Pass something else than a list\n",
    "    create_poly_geom([Point(5,6), Point(7,8), Point(9,10)])\n",
    "except AssertionError:\n",
    "    print(\"List check works\")\n",
    "except Exception as e:\n",
    "    raise e"
   ]
  },
  {
   "cell_type": "code",
   "execution_count": 39,
   "metadata": {},
   "outputs": [
    {
     "name": "stdout",
     "output_type": "stream",
     "text": [
      "List check works\n"
     ]
    }
   ],
   "source": [
    "#test shapely points to polygon creation\n",
    "try:\n",
    "    # Pass something else than a list\n",
    "    create_poly_geom([Point(5,6), Point(7,8)])\n",
    "except AssertionError:\n",
    "    print(\"List check works\")\n",
    "except Exception as e:\n",
    "    raise e"
   ]
  },
  {
   "cell_type": "code",
   "execution_count": null,
   "metadata": {},
   "outputs": [],
   "source": []
  }
 ],
 "metadata": {
  "kernelspec": {
   "display_name": "Python 3 (ipykernel)",
   "language": "python",
   "name": "python3"
  },
  "language_info": {
   "codemirror_mode": {
    "name": "ipython",
    "version": 3
   },
   "file_extension": ".py",
   "mimetype": "text/x-python",
   "name": "python",
   "nbconvert_exporter": "python",
   "pygments_lexer": "ipython3",
   "version": "3.9.7"
  }
 },
 "nbformat": 4,
 "nbformat_minor": 4
}
