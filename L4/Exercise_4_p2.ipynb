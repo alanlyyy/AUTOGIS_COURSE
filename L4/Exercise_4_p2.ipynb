{
 "cells": [
  {
   "cell_type": "markdown",
   "id": "89ed04c8-13ed-4c30-b190-7dd1dc0494ed",
   "metadata": {},
   "source": [
    "# Problem 2: Calculate and visualize the dominance areas of shopping centers (10 points)\n",
    "In this problem, the aim is to define the dominance area for each of those shopping centers based on public transport travel time. The result will look something like this:"
   ]
  },
  {
   "cell_type": "markdown",
   "id": "447e5c3c-f339-4439-b333-79b4659e118d",
   "metadata": {},
   "source": [
    "# Data\n",
    "- The data/ directory contains 7 text files having data about accessibility in Helsinki Region, and a Shapefile that contains a Polygon grid that can be used to visualize and analyze the data spatially:\n",
    "\n",
    "    1. travel_times_to_[XXXXXXX]_[NAME-OF-THE-CENTER].txt including travel times and road network distances to a specific shopping center\n",
    "    2. MetropAccess_YKR_grid_EurefFIN.shp including the Polygon grid with YKR_ID column that can be used to join the grid with the accessibility data"
   ]
  },
  {
   "cell_type": "markdown",
   "id": "2df294d5-9a03-4529-bcd1-9907938a231b",
   "metadata": {},
   "source": [
    "# An overview of the problem\n",
    "- In this problem we want to identify the closest shopping center for each grid cell in the region by public transport, and to visualize dominance areas for each shopping center based on this information."
   ]
  },
  {
   "cell_type": "markdown",
   "id": "4d820193-0320-4dbe-b689-1ebfdcd3d9b4",
   "metadata": {},
   "source": [
    "1. Combine public transport travel time information from all input files into one GeoDataFrame.\n",
    "   - Read in the grid file (MetropAccess_YKR_grid_EurefFIN.shp)\n",
    "   - For each travel time file (7 files in total):\n",
    "      1. read in the data\n",
    "      2. rename the travel time columns so that they can be identified; Include the name of each shopping center to the column name: 'pt_r_t_Jumbo', 'pt_r_t_Dixi', and so on, based on the input file name.\n",
    "      3. Join those columns into the grid where YKR_ID in the grid corresponds to from_id in the travel time data file.\n",
    "      4. At the end you should have one GeoDataFrame with different columns containing the travel times to different shopping centers."
   ]
  },
  {
   "cell_type": "code",
   "execution_count": 183,
   "id": "145902a8-4497-4b35-893f-2e4f6a07e664",
   "metadata": {},
   "outputs": [
    {
     "name": "stdout",
     "output_type": "stream",
     "text": [
      "['exercise-4-main/data\\\\TravelTimes_to_5878070_Jumbo.txt', 'exercise-4-main/data\\\\TravelTimes_to_5878087_Dixi.txt', 'exercise-4-main/data\\\\TravelTimes_to_5902043_Myyrmanni.txt', 'exercise-4-main/data\\\\TravelTimes_to_5944003_Itis.txt', 'exercise-4-main/data\\\\TravelTimes_to_5975373_Forum.txt', 'exercise-4-main/data\\\\TravelTimes_to_5978593_IsoOmena.txt', 'exercise-4-main/data\\\\TravelTimes_to_5980260_Ruoholahti.txt']  length of:  7\n"
     ]
    }
   ],
   "source": [
    "import os\n",
    "import pandas as pd\n",
    "import geopandas as gpd\n",
    "from shapely.geometry import Point, LineString, Polygon\n",
    "\n",
    "directory = r\"exercise-4-main/data\"\n",
    "grid_file = r\"MetropAccess_YKR_grid_EurefFIN.shp\"\n",
    "grid_path = os.path.join(directory, grid_file)\n",
    "\n",
    "\n",
    "list_of_files = os.listdir(directory)\n",
    "list_of_travel_time_files = []\n",
    "\n",
    "for file in list_of_files:\n",
    "    if '.txt' in file:\n",
    "        list_of_travel_time_files.append(os.path.join(directory, file))\n",
    "\n",
    "print(list_of_travel_time_files, \" length of: \", len(list_of_travel_time_files) )"
   ]
  },
  {
   "cell_type": "code",
   "execution_count": 184,
   "id": "9b4d0cb9-5136-462f-a603-77220d8a75ba",
   "metadata": {},
   "outputs": [],
   "source": [
    "import re"
   ]
  },
  {
   "cell_type": "code",
   "execution_count": 185,
   "id": "e3251aaa-cded-43e6-a0ae-63e0abdc053d",
   "metadata": {},
   "outputs": [
    {
     "name": "stdout",
     "output_type": "stream",
     "text": [
      "['Jumbo', 'Dixi', 'Myyrmanni', 'Itis', 'Forum', 'IsoOmena', 'Ruoholahti']\n"
     ]
    }
   ],
   "source": [
    "#example of extracting shopping center name from string using regex\n",
    "#https://docs.python.org/3/library/re.html\n",
    "\n",
    "#split string by '_' seperator\n",
    "#extract 'XXXX.txt'\n",
    "#extract XXXX, by removing '.txt' portion of the string, subscript -4\n",
    "shopping_center_example = re.split(r'_', list_of_files[8])[3][:-4]\n",
    "\n",
    "shopping_center_names_list = []\n",
    "\n",
    "#repeat for all shopping centers\n",
    "for shopping_center in list_of_travel_time_files:\n",
    "    shopping_center_names_list.append( re.split(r'_', shopping_center)[3][:-4] )\n",
    "\n",
    "print(shopping_center_names_list)"
   ]
  },
  {
   "cell_type": "markdown",
   "id": "e19597bb-3f03-492b-84ba-6317521e8eab",
   "metadata": {},
   "source": [
    "- read in the data"
   ]
  },
  {
   "cell_type": "code",
   "execution_count": 186,
   "id": "5a421c90-86e0-4b2d-8120-6cded6a975af",
   "metadata": {},
   "outputs": [],
   "source": [
    "#read in grid shapefile\n",
    "grid = gpd.read_file(grid_path)\n",
    "\n",
    "#read each txt file as a data frame store in the list\n",
    "for file, shopping_center in zip(list_of_travel_time_files, shopping_center_names_list):\n",
    "    \n",
    "    data = pd.read_csv(file, sep=';') \n",
    "    \n",
    "    #generate new column name\n",
    "    title_string = 'pt_r_t_{val}'.format(val = shopping_center)\n",
    "    \n",
    "    #create a new column using values from the 'pt_r_t' column\n",
    "    data[title_string] = data[ [ 'pt_r_t' ] ] \n",
    "    \n",
    "    data.drop(columns=['pt_r_t'], axis=1, inplace=True)\n",
    "    \n",
    "    #create a smaller subset of data, join both tables using YKR_ID from grid and from_id of data, overwrite the previous dataframe\n",
    "    grid = grid.merge(data[ [title_string, 'from_id'] ],  how='outer', left_on = 'YKR_ID', right_on ='from_id')\n",
    "    \n",
    "    grid.drop(columns = ['from_id'], axis=1, inplace=True)"
   ]
  },
  {
   "cell_type": "code",
   "execution_count": 187,
   "id": "5252383a-ed75-4a8e-a21f-da0b5b6b86b5",
   "metadata": {
    "tags": []
   },
   "outputs": [
    {
     "name": "stdout",
     "output_type": "stream",
     "text": [
      "          x          y   YKR_ID  \\\n",
      "0  381875.0  6697880.0  5785640   \n",
      "1  382125.0  6697880.0  5785641   \n",
      "2  382375.0  6697880.0  5785642   \n",
      "3  382625.0  6697880.0  5785643   \n",
      "4  381125.0  6697630.0  5787544   \n",
      "\n",
      "                                            geometry  pt_r_t_Jumbo  \\\n",
      "0  POLYGON ((382000.000 6697750.000, 381750.000 6...           101   \n",
      "1  POLYGON ((382250.000 6697750.000, 382000.000 6...           108   \n",
      "2  POLYGON ((382500.000 6697750.000, 382250.000 6...           109   \n",
      "3  POLYGON ((382750.000 6697750.000, 382500.000 6...           114   \n",
      "4  POLYGON ((381250.000 6697500.000, 381000.000 6...            98   \n",
      "\n",
      "   pt_r_t_Dixi  pt_r_t_Myyrmanni  pt_r_t_Itis  pt_r_t_Forum  pt_r_t_IsoOmena  \\\n",
      "0          102                90          132           110              141   \n",
      "1          109                93          135           113              143   \n",
      "2          111                95          137           115              145   \n",
      "3          115                99          141           119              149   \n",
      "4           99                83          125           103              134   \n",
      "\n",
      "   pt_r_t_Ruoholahti  \n",
      "0                118  \n",
      "1                121  \n",
      "2                123  \n",
      "3                127  \n",
      "4                111  \n"
     ]
    }
   ],
   "source": [
    "# NON-EDITABLE TEST CELL\n",
    "#Check input grid\n",
    "print(grid.head())"
   ]
  },
  {
   "cell_type": "code",
   "execution_count": 188,
   "id": "e317f613-2230-476a-94ef-99384871efc9",
   "metadata": {
    "tags": []
   },
   "outputs": [
    {
     "name": "stdout",
     "output_type": "stream",
     "text": [
      "Number of travel time data files:  7\n"
     ]
    }
   ],
   "source": [
    "# NON-EDITABLE TEST CELL\n",
    "# Check how many filepaths there are\n",
    "print(\"Number of travel time data files: \", len(shopping_center_names_list))"
   ]
  },
  {
   "cell_type": "code",
   "execution_count": 189,
   "id": "3989b04c-d177-434a-bbe9-8d71cf7976d0",
   "metadata": {
    "tags": []
   },
   "outputs": [
    {
     "name": "stdout",
     "output_type": "stream",
     "text": [
      "          x          y   YKR_ID  \\\n",
      "0  381875.0  6697880.0  5785640   \n",
      "1  382125.0  6697880.0  5785641   \n",
      "2  382375.0  6697880.0  5785642   \n",
      "3  382625.0  6697880.0  5785643   \n",
      "4  381125.0  6697630.0  5787544   \n",
      "\n",
      "                                            geometry  pt_r_t_Jumbo  \\\n",
      "0  POLYGON ((382000.000 6697750.000, 381750.000 6...           101   \n",
      "1  POLYGON ((382250.000 6697750.000, 382000.000 6...           108   \n",
      "2  POLYGON ((382500.000 6697750.000, 382250.000 6...           109   \n",
      "3  POLYGON ((382750.000 6697750.000, 382500.000 6...           114   \n",
      "4  POLYGON ((381250.000 6697500.000, 381000.000 6...            98   \n",
      "\n",
      "   pt_r_t_Dixi  pt_r_t_Myyrmanni  pt_r_t_Itis  pt_r_t_Forum  pt_r_t_IsoOmena  \\\n",
      "0          102                90          132           110              141   \n",
      "1          109                93          135           113              143   \n",
      "2          111                95          137           115              145   \n",
      "3          115                99          141           119              149   \n",
      "4           99                83          125           103              134   \n",
      "\n",
      "   pt_r_t_Ruoholahti  \n",
      "0                118  \n",
      "1                121  \n",
      "2                123  \n",
      "3                127  \n",
      "4                111  \n"
     ]
    }
   ],
   "source": [
    "# NON-EDITABLE TEST CELL\n",
    "#Check data\n",
    "print(grid.head())\n",
    "\n",
    "# Check that there are correct number of columns\n",
    "assert len(grid.columns) >= 9, \"There are some columns missing from the grid.\""
   ]
  },
  {
   "cell_type": "markdown",
   "id": "85c23f39-55ba-4599-9dc7-f1ea5974a50f",
   "metadata": {},
   "source": [
    "- Find out the closes shopping center for each grid cell in the region:\n",
    "      A. For each grid cell (each row) find out the minimum time across all travel time columns (pt_r_t_X) and insert that value into a new column called min_t.\n",
    "      B. You should also figure out the name of the shopping center that is closest to that particular grid square and store the name of the closest shopping center into a       new column dominant_service on each row.\n",
    "\n",
    "(Hint: You can identify which column contains the minimum travel time on each row using the idxmin() function.)"
   ]
  },
  {
   "cell_type": "markdown",
   "id": "d0d4ea77-5101-435f-aded-c38a0ce4c53e",
   "metadata": {},
   "source": [
    "- For each grid cell (each row), find out the shortest travel time to any shopping center. Store the result in a new column 'min_t'.\n",
    "- Find out also the column name (for example: 'pt_r_t_Jumbo'), for the shortest travel time using the idxmin() function into a column called 'dominant_service'"
   ]
  },
  {
   "cell_type": "code",
   "execution_count": 190,
   "id": "028cdd0f-e15f-415c-89b8-f575472af2d0",
   "metadata": {
    "tags": []
   },
   "outputs": [
    {
     "name": "stdout",
     "output_type": "stream",
     "text": [
      "13231\n"
     ]
    }
   ],
   "source": [
    "columns_for_comparison = grid.columns[4:]\n",
    "\n",
    "#extract the min value from current row\n",
    "row_min =  grid[ columns_for_comparison ].idxmin(axis='columns',skipna=True)\n",
    "\n",
    "#test row_min\n",
    "print(len(row_min))\n",
    "\n",
    "dominant_service = []\n",
    "min_t = []\n",
    "for index in range(0,len(row_min)):\n",
    "    min_t.append( grid.at[index, row_min[index]] )\n",
    "    dominant_service.append( re.split(r'_', row_min[index])[3])"
   ]
  },
  {
   "cell_type": "code",
   "execution_count": 191,
   "id": "91a8757f-e8b4-4485-b5c9-d671c88d37e0",
   "metadata": {},
   "outputs": [],
   "source": [
    "grid['min_t'] = min_t\n",
    "grid['dominant_service'] = dominant_service"
   ]
  },
  {
   "cell_type": "markdown",
   "id": "e4b44be8-5631-404e-8ca5-443267d1f8dd",
   "metadata": {},
   "source": [
    "- Remove rows containing -1 (no data values) from the dataframe. You can for example replace the no-data values with numpy's np.nan, and then drop no-data values using the DataFrame.dropna function."
   ]
  },
  {
   "cell_type": "code",
   "execution_count": 192,
   "id": "8bfd5a4d-362d-4921-8a16-1329e537a550",
   "metadata": {},
   "outputs": [
    {
     "name": "stdout",
     "output_type": "stream",
     "text": [
      "simplified NA removal:  13020\n"
     ]
    }
   ],
   "source": [
    "import numpy as np\n",
    "\n",
    "#more efficient way of removing null values from dataframe\n",
    "grid.replace(-1, np.nan, inplace=True)\n",
    "\n",
    "#drop NA values if there any NA values in thw row, do not make a copy of the instance.\n",
    "grid.dropna(axis=0, how='any', inplace=True)\n",
    "\n",
    "grid.reset_index( inplace=True)\n",
    "\n",
    "print(\"simplified NA removal: \" , len(grid))"
   ]
  },
  {
   "cell_type": "code",
   "execution_count": 193,
   "id": "ef59bd71-46ad-43a5-9e2c-2015b6f9e97f",
   "metadata": {},
   "outputs": [
    {
     "name": "stdout",
     "output_type": "stream",
     "text": [
      "    YKR_ID  min_t dominant_service\n",
      "0  5785640   90.0        Myyrmanni\n",
      "1  5785641   93.0        Myyrmanni\n",
      "2  5785642   95.0        Myyrmanni\n",
      "3  5785643   99.0        Myyrmanni\n",
      "4  5787544   83.0        Myyrmanni\n"
     ]
    }
   ],
   "source": [
    "# NON-EDITABLE TEST CELL\n",
    "print(grid[['YKR_ID', 'min_t', 'dominant_service']].head())"
   ]
  },
  {
   "cell_type": "markdown",
   "id": "05ee3c19-6b8e-4ad5-8174-5b1d136f1a96",
   "metadata": {},
   "source": [
    "Finally, visualize the dominance areas and travel times:\n",
    "   -  visualize the dominance areas using the codes found in column dominant_service.\n",
    "   -  Visualize travel times to shopping centers from the min_t column\n",
    "\n",
    "(You should create subplots with 2 rows and one column (see the example above).)"
   ]
  },
  {
   "cell_type": "code",
   "execution_count": 194,
   "id": "4a6d9cd2-fc04-479b-af95-fcd6df0c9093",
   "metadata": {},
   "outputs": [],
   "source": [
    "#dissolve (aggregate geometries - municipality polygon geometries for each shopping center\n",
    "dominant_service_area = grid.dissolve(by='dominant_service')\n",
    "    \n",
    "dominant_service_area.reset_index(inplace=True)\n",
    "\n",
    "#Select useful columns\n",
    "dominant_service_area  = dominant_service_area[['dominant_service', \"geometry\"]]"
   ]
  },
  {
   "cell_type": "code",
   "execution_count": 195,
   "id": "a373ac46-71d3-481b-87ac-d57431ae94ff",
   "metadata": {},
   "outputs": [
    {
     "data": {
      "text/html": [
       "<div>\n",
       "<style scoped>\n",
       "    .dataframe tbody tr th:only-of-type {\n",
       "        vertical-align: middle;\n",
       "    }\n",
       "\n",
       "    .dataframe tbody tr th {\n",
       "        vertical-align: top;\n",
       "    }\n",
       "\n",
       "    .dataframe thead th {\n",
       "        text-align: right;\n",
       "    }\n",
       "</style>\n",
       "<table border=\"1\" class=\"dataframe\">\n",
       "  <thead>\n",
       "    <tr style=\"text-align: right;\">\n",
       "      <th></th>\n",
       "      <th>dominant_service</th>\n",
       "      <th>geometry</th>\n",
       "    </tr>\n",
       "  </thead>\n",
       "  <tbody>\n",
       "    <tr>\n",
       "      <th>0</th>\n",
       "      <td>Dixi</td>\n",
       "      <td>MULTIPOLYGON (((384750.000 6687000.000, 384750...</td>\n",
       "    </tr>\n",
       "    <tr>\n",
       "      <th>1</th>\n",
       "      <td>Forum</td>\n",
       "      <td>MULTIPOLYGON (((362250.000 6689000.000, 362250...</td>\n",
       "    </tr>\n",
       "    <tr>\n",
       "      <th>2</th>\n",
       "      <td>IsoOmena</td>\n",
       "      <td>MULTIPOLYGON (((361750.000 6690000.000, 361750...</td>\n",
       "    </tr>\n",
       "    <tr>\n",
       "      <th>3</th>\n",
       "      <td>Itis</td>\n",
       "      <td>MULTIPOLYGON (((384250.000 6680000.000, 384250...</td>\n",
       "    </tr>\n",
       "    <tr>\n",
       "      <th>4</th>\n",
       "      <td>Jumbo</td>\n",
       "      <td>MULTIPOLYGON (((375250.000 6686750.000, 375250...</td>\n",
       "    </tr>\n",
       "  </tbody>\n",
       "</table>\n",
       "</div>"
      ],
      "text/plain": [
       "  dominant_service                                           geometry\n",
       "0             Dixi  MULTIPOLYGON (((384750.000 6687000.000, 384750...\n",
       "1            Forum  MULTIPOLYGON (((362250.000 6689000.000, 362250...\n",
       "2         IsoOmena  MULTIPOLYGON (((361750.000 6690000.000, 361750...\n",
       "3             Itis  MULTIPOLYGON (((384250.000 6680000.000, 384250...\n",
       "4            Jumbo  MULTIPOLYGON (((375250.000 6686750.000, 375250..."
      ]
     },
     "execution_count": 195,
     "metadata": {},
     "output_type": "execute_result"
    }
   ],
   "source": [
    "dominant_service_area.head()"
   ]
  },
  {
   "cell_type": "code",
   "execution_count": 196,
   "id": "41f469d4-1642-4ec2-b4f2-487b0c295c74",
   "metadata": {},
   "outputs": [
    {
     "data": {
      "image/png": "[encoded data removed]",
      "text/plain": [
       "<Figure size 1080x1080 with 2 Axes>"
      ]
     },
     "metadata": {
      "needs_background": "light"
     },
     "output_type": "display_data"
    }
   ],
   "source": [
    "#how to adjust legend of a plot reference:\n",
    "#https://stackoverflow.com/questions/39816790/relocating-legend-from-geopandas-plot\n",
    "\n",
    "import matplotlib.pyplot as plt\n",
    "\n",
    "#increase the overall figsize to allow the subplots to increase in fig_size\n",
    "fig, axs = plt.subplots(nrows = 1, ncols=2, sharex=True, sharey=True, figsize= (15,15))\n",
    "\n",
    "\n",
    "plot1 = dominant_service_area.plot(ax=axs[0], column='dominant_service',cmap=\"RdYlBu\",k=7, linewidth=0, legend =True, figsize=(10, 5)) #plot a different color for each grid x 20 grids\n",
    "plot1.set_title(\"Dominance Areas of Shopping Centers\")\n",
    "plot1.axis('off')\n",
    "leg1 = plot1.get_legend()\n",
    "leg1.set_bbox_to_anchor((0., 0., 0.2, 0.2))\n",
    "\n",
    "plot2 = grid.plot(ax = axs[1], column= \"min_t\", scheme= \"Natural_Breaks\", k=7, cmap=\"RdYlBu\", linewidth=0, legend = True, figsize=(10, 5))\n",
    "plot2.set_title(\"Travel times to closest shopping center\")\n",
    "plot2.axis('off')\n",
    "\n",
    "leg2 = plot2.get_legend()\n",
    "leg2.set_bbox_to_anchor((0., 0., 0.2, 0.2))\n",
    "\n",
    "plt.tight_layout()\n",
    "plt.show()"
   ]
  },
  {
   "cell_type": "markdown",
   "id": "0aad49a0-d4c7-47ea-8451-b14cc47acac0",
   "metadata": {},
   "source": [
    "The nearest shopping center to each grid is shown on the left, and the minimum travel time for each grid to each shopping center is shown on the right.\n",
    "\n",
    "For example, to interpret this, for the Itis shopping center, the central part of the Itis shopping center has the shortest travel time. While the north west of Itis begins to have a longer travel time."
   ]
  },
  {
   "cell_type": "code",
   "execution_count": 197,
   "id": "30332cb4-d1bd-46c8-8dc2-af437dd1f216",
   "metadata": {},
   "outputs": [],
   "source": [
    "fig.savefig('output_ex_3.png')"
   ]
  },
  {
   "cell_type": "markdown",
   "id": "a658b19a-e496-42e8-9647-c9db9b4b2440",
   "metadata": {},
   "source": [
    "That's it! If you want more challenge, you can still continue to optional problem 3. For problem 3, you need to save the grid with information about dominant services to file:"
   ]
  },
  {
   "cell_type": "code",
   "execution_count": 198,
   "id": "20b45835-540b-4719-89b1-feb8fcccffe9",
   "metadata": {},
   "outputs": [],
   "source": [
    "# Save grid to file (if you want to continue to problem 3)\n",
    "\n",
    "grid.to_file('All_compiled_traveled_times.shp')"
   ]
  }
 ],
 "metadata": {
  "kernelspec": {
   "display_name": "Python 3 (ipykernel)",
   "language": "python",
   "name": "python3"
  },
  "language_info": {
   "codemirror_mode": {
    "name": "ipython",
    "version": 3
   },
   "file_extension": ".py",
   "mimetype": "text/x-python",
   "name": "python",
   "nbconvert_exporter": "python",
   "pygments_lexer": "ipython3",
   "version": "3.8.12"
  }
 },
 "nbformat": 4,
 "nbformat_minor": 5
}
