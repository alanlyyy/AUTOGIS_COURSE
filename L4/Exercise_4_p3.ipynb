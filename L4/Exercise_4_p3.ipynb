{
 "cells": [
  {
   "cell_type": "markdown",
   "id": "4893d1f5-0b65-4dad-a8fc-2a93fe2873af",
   "metadata": {},
   "source": [
    "# Problem 3: How many people live in the dominance area of each shopping center?\n",
    "Find out how many people live under the dominance area of each shopping center. You should be able to do this based on the output from problem 2, lesson materials from weeks 2, 3 and 4 and these additional hints:\n",
    "\n",
    "- You can read in the population data from the HSY WFS service: https://kartta.hsy.fi/geoserver/wfs (check more hints from the lesson materials)\n",
    "- Aggregate your dominance areas from problem 2 into a unified geometries using dissolve() -function in geopandas before joining with the population data.\n",
    "- Remember to check the crs of the input data.\n",
    "- Join information between the population grid and the dominance areas -layer using intersect as the condition in the spatial join."
   ]
  },
  {
   "cell_type": "code",
   "execution_count": 142,
   "id": "197fe558-55c5-4bb8-b4e7-4e7edee10087",
   "metadata": {},
   "outputs": [],
   "source": [
    "import geopandas as gpd\n",
    "import matplotlib.pyplot as plt\n",
    "from shapely.geometry import Point, LineString, Polygon\n",
    "import pandas as pd\n",
    "import os "
   ]
  },
  {
   "cell_type": "markdown",
   "id": "1e3176c8-529e-4a3b-ac37-66dcf7161cc2",
   "metadata": {},
   "source": [
    "You can read in the population data from the HSY WFS service: https://kartta.hsy.fi/geoserver/wfs \n",
    "\n",
    "- Found in Lesson 3 Spatial Join"
   ]
  },
  {
   "cell_type": "code",
   "execution_count": 143,
   "id": "c8e8feda-3fc2-4b63-99af-3e20ed1c9c11",
   "metadata": {},
   "outputs": [],
   "source": [
    "import requests\n",
    "import geojson\n",
    "\n",
    "# Specify the url for web feature service\n",
    "url = 'https://kartta.hsy.fi/geoserver/wfs'\n",
    "\n",
    "# Specify parameters (read data in json format). \n",
    "# Available feature types in this particular data source: http://geo.stat.fi/geoserver/vaestoruutu/wfs?service=wfs&version=2.0.0&request=describeFeatureType\n",
    "params = dict(service='WFS', \n",
    "              version='2.0.0', \n",
    "              request='GetFeature', \n",
    "              typeName='asuminen_ja_maankaytto:Vaestotietoruudukko_2018', \n",
    "              outputFormat='json')\n",
    "\n",
    "# Fetch data from WFS using requests\n",
    "r = requests.get(url, params=params)\n",
    "\n",
    "# Create GeoDataFrame from geojson\n",
    "pop = gpd.GeoDataFrame.from_features(geojson.loads(r.content))"
   ]
  },
  {
   "cell_type": "code",
   "execution_count": 144,
   "id": "e8799788-fc00-4653-b865-3c1730e5bada",
   "metadata": {},
   "outputs": [
    {
     "data": {
      "text/html": [
       "<div>\n",
       "<style scoped>\n",
       "    .dataframe tbody tr th:only-of-type {\n",
       "        vertical-align: middle;\n",
       "    }\n",
       "\n",
       "    .dataframe tbody tr th {\n",
       "        vertical-align: top;\n",
       "    }\n",
       "\n",
       "    .dataframe thead th {\n",
       "        text-align: right;\n",
       "    }\n",
       "</style>\n",
       "<table border=\"1\" class=\"dataframe\">\n",
       "  <thead>\n",
       "    <tr style=\"text-align: right;\">\n",
       "      <th></th>\n",
       "      <th>geometry</th>\n",
       "      <th>index</th>\n",
       "      <th>asukkaita</th>\n",
       "      <th>asvaljyys</th>\n",
       "      <th>ika0_9</th>\n",
       "      <th>ika10_19</th>\n",
       "      <th>ika20_29</th>\n",
       "      <th>ika30_39</th>\n",
       "      <th>ika40_49</th>\n",
       "      <th>ika50_59</th>\n",
       "      <th>ika60_69</th>\n",
       "      <th>ika70_79</th>\n",
       "      <th>ika_yli80</th>\n",
       "    </tr>\n",
       "  </thead>\n",
       "  <tbody>\n",
       "    <tr>\n",
       "      <th>0</th>\n",
       "      <td>POLYGON ((25472499.995 6689749.005, 25472499.9...</td>\n",
       "      <td>688</td>\n",
       "      <td>9</td>\n",
       "      <td>28.0</td>\n",
       "      <td>99</td>\n",
       "      <td>99</td>\n",
       "      <td>99</td>\n",
       "      <td>99</td>\n",
       "      <td>99</td>\n",
       "      <td>99</td>\n",
       "      <td>99</td>\n",
       "      <td>99</td>\n",
       "      <td>99</td>\n",
       "    </tr>\n",
       "    <tr>\n",
       "      <th>1</th>\n",
       "      <td>POLYGON ((25472499.995 6685998.998, 25472499.9...</td>\n",
       "      <td>703</td>\n",
       "      <td>5</td>\n",
       "      <td>51.0</td>\n",
       "      <td>99</td>\n",
       "      <td>99</td>\n",
       "      <td>99</td>\n",
       "      <td>99</td>\n",
       "      <td>99</td>\n",
       "      <td>99</td>\n",
       "      <td>99</td>\n",
       "      <td>99</td>\n",
       "      <td>99</td>\n",
       "    </tr>\n",
       "    <tr>\n",
       "      <th>2</th>\n",
       "      <td>POLYGON ((25472499.995 6684249.004, 25472499.9...</td>\n",
       "      <td>710</td>\n",
       "      <td>8</td>\n",
       "      <td>44.0</td>\n",
       "      <td>99</td>\n",
       "      <td>99</td>\n",
       "      <td>99</td>\n",
       "      <td>99</td>\n",
       "      <td>99</td>\n",
       "      <td>99</td>\n",
       "      <td>99</td>\n",
       "      <td>99</td>\n",
       "      <td>99</td>\n",
       "    </tr>\n",
       "    <tr>\n",
       "      <th>3</th>\n",
       "      <td>POLYGON ((25472499.995 6683999.005, 25472499.9...</td>\n",
       "      <td>711</td>\n",
       "      <td>5</td>\n",
       "      <td>90.0</td>\n",
       "      <td>99</td>\n",
       "      <td>99</td>\n",
       "      <td>99</td>\n",
       "      <td>99</td>\n",
       "      <td>99</td>\n",
       "      <td>99</td>\n",
       "      <td>99</td>\n",
       "      <td>99</td>\n",
       "      <td>99</td>\n",
       "    </tr>\n",
       "    <tr>\n",
       "      <th>4</th>\n",
       "      <td>POLYGON ((25472499.995 6682998.998, 25472499.9...</td>\n",
       "      <td>715</td>\n",
       "      <td>11</td>\n",
       "      <td>41.0</td>\n",
       "      <td>99</td>\n",
       "      <td>99</td>\n",
       "      <td>99</td>\n",
       "      <td>99</td>\n",
       "      <td>99</td>\n",
       "      <td>99</td>\n",
       "      <td>99</td>\n",
       "      <td>99</td>\n",
       "      <td>99</td>\n",
       "    </tr>\n",
       "  </tbody>\n",
       "</table>\n",
       "</div>"
      ],
      "text/plain": [
       "                                            geometry  index  asukkaita  \\\n",
       "0  POLYGON ((25472499.995 6689749.005, 25472499.9...    688          9   \n",
       "1  POLYGON ((25472499.995 6685998.998, 25472499.9...    703          5   \n",
       "2  POLYGON ((25472499.995 6684249.004, 25472499.9...    710          8   \n",
       "3  POLYGON ((25472499.995 6683999.005, 25472499.9...    711          5   \n",
       "4  POLYGON ((25472499.995 6682998.998, 25472499.9...    715         11   \n",
       "\n",
       "   asvaljyys  ika0_9  ika10_19  ika20_29  ika30_39  ika40_49  ika50_59  \\\n",
       "0       28.0      99        99        99        99        99        99   \n",
       "1       51.0      99        99        99        99        99        99   \n",
       "2       44.0      99        99        99        99        99        99   \n",
       "3       90.0      99        99        99        99        99        99   \n",
       "4       41.0      99        99        99        99        99        99   \n",
       "\n",
       "   ika60_69  ika70_79  ika_yli80  \n",
       "0        99        99         99  \n",
       "1        99        99         99  \n",
       "2        99        99         99  \n",
       "3        99        99         99  \n",
       "4        99        99         99  "
      ]
     },
     "execution_count": 144,
     "metadata": {},
     "output_type": "execute_result"
    }
   ],
   "source": [
    "#display population data\n",
    "pop.head()"
   ]
  },
  {
   "cell_type": "code",
   "execution_count": 145,
   "id": "6e610a4c-8614-4059-ba84-b151fa640e0e",
   "metadata": {},
   "outputs": [
    {
     "data": {
      "text/plain": [
       "(5832, 13)"
      ]
     },
     "execution_count": 145,
     "metadata": {},
     "output_type": "execute_result"
    }
   ],
   "source": [
    "pop.shape"
   ]
  },
  {
   "cell_type": "code",
   "execution_count": 146,
   "id": "3fd08d02-e321-4826-9f79-1fd73423fd92",
   "metadata": {},
   "outputs": [
    {
     "data": {
      "text/plain": [
       "Index(['geometry', 'index', 'pop18', 'asvaljyys', 'ika0_9', 'ika10_19',\n",
       "       'ika20_29', 'ika30_39', 'ika40_49', 'ika50_59', 'ika60_69', 'ika70_79',\n",
       "       'ika_yli80'],\n",
       "      dtype='object')"
      ]
     },
     "execution_count": 146,
     "metadata": {},
     "output_type": "execute_result"
    }
   ],
   "source": [
    "# Change the name of a column\n",
    "pop = pop.rename(columns={'asukkaita': 'pop18'})\n",
    "\n",
    "# Check the column names\n",
    "pop.columns"
   ]
  },
  {
   "cell_type": "markdown",
   "id": "4bf03297-3cf4-4ace-937c-6984dd8770a0",
   "metadata": {},
   "source": [
    "Let’s also get rid of all unnecessary columns by selecting only columns that we need i.e. pop18 and geometry"
   ]
  },
  {
   "cell_type": "code",
   "execution_count": 147,
   "id": "ae3fb922-3f31-4915-9473-a31f160baf3b",
   "metadata": {},
   "outputs": [
    {
     "data": {
      "text/html": [
       "<div>\n",
       "<style scoped>\n",
       "    .dataframe tbody tr th:only-of-type {\n",
       "        vertical-align: middle;\n",
       "    }\n",
       "\n",
       "    .dataframe tbody tr th {\n",
       "        vertical-align: top;\n",
       "    }\n",
       "\n",
       "    .dataframe thead th {\n",
       "        text-align: right;\n",
       "    }\n",
       "</style>\n",
       "<table border=\"1\" class=\"dataframe\">\n",
       "  <thead>\n",
       "    <tr style=\"text-align: right;\">\n",
       "      <th></th>\n",
       "      <th>pop18</th>\n",
       "      <th>geometry</th>\n",
       "    </tr>\n",
       "  </thead>\n",
       "  <tbody>\n",
       "    <tr>\n",
       "      <th>0</th>\n",
       "      <td>9</td>\n",
       "      <td>POLYGON ((25472499.995 6689749.005, 25472499.9...</td>\n",
       "    </tr>\n",
       "    <tr>\n",
       "      <th>1</th>\n",
       "      <td>5</td>\n",
       "      <td>POLYGON ((25472499.995 6685998.998, 25472499.9...</td>\n",
       "    </tr>\n",
       "    <tr>\n",
       "      <th>2</th>\n",
       "      <td>8</td>\n",
       "      <td>POLYGON ((25472499.995 6684249.004, 25472499.9...</td>\n",
       "    </tr>\n",
       "    <tr>\n",
       "      <th>3</th>\n",
       "      <td>5</td>\n",
       "      <td>POLYGON ((25472499.995 6683999.005, 25472499.9...</td>\n",
       "    </tr>\n",
       "    <tr>\n",
       "      <th>4</th>\n",
       "      <td>11</td>\n",
       "      <td>POLYGON ((25472499.995 6682998.998, 25472499.9...</td>\n",
       "    </tr>\n",
       "  </tbody>\n",
       "</table>\n",
       "</div>"
      ],
      "text/plain": [
       "   pop18                                           geometry\n",
       "0      9  POLYGON ((25472499.995 6689749.005, 25472499.9...\n",
       "1      5  POLYGON ((25472499.995 6685998.998, 25472499.9...\n",
       "2      8  POLYGON ((25472499.995 6684249.004, 25472499.9...\n",
       "3      5  POLYGON ((25472499.995 6683999.005, 25472499.9...\n",
       "4     11  POLYGON ((25472499.995 6682998.998, 25472499.9..."
      ]
     },
     "execution_count": 147,
     "metadata": {},
     "output_type": "execute_result"
    }
   ],
   "source": [
    "# Subset columns\n",
    "pop = pop[[\"pop18\", \"geometry\"]]\n",
    "\n",
    "pop.head()"
   ]
  },
  {
   "cell_type": "markdown",
   "id": "b2b97038-bc7f-41fa-a196-a65cc27e8a40",
   "metadata": {},
   "source": [
    "# Create Grid File"
   ]
  },
  {
   "cell_type": "markdown",
   "id": "9cfc7cc9-f60b-47d3-9f33-bedfb37db151",
   "metadata": {},
   "source": [
    "- Extract txt file paths"
   ]
  },
  {
   "cell_type": "code",
   "execution_count": 148,
   "id": "0f580cca-71c2-41db-be36-0d8877c1e890",
   "metadata": {},
   "outputs": [
    {
     "name": "stdout",
     "output_type": "stream",
     "text": [
      "['exercise-4-main/data\\\\TravelTimes_to_5878070_Jumbo.txt', 'exercise-4-main/data\\\\TravelTimes_to_5878087_Dixi.txt', 'exercise-4-main/data\\\\TravelTimes_to_5902043_Myyrmanni.txt', 'exercise-4-main/data\\\\TravelTimes_to_5944003_Itis.txt', 'exercise-4-main/data\\\\TravelTimes_to_5975373_Forum.txt', 'exercise-4-main/data\\\\TravelTimes_to_5978593_IsoOmena.txt', 'exercise-4-main/data\\\\TravelTimes_to_5980260_Ruoholahti.txt']  length of:  7\n",
      "['Jumbo', 'Dixi', 'Myyrmanni', 'Itis', 'Forum', 'IsoOmena', 'Ruoholahti']\n"
     ]
    }
   ],
   "source": [
    "import re \n",
    "\n",
    "directory = r\"exercise-4-main/data\"\n",
    "grid_file = r\"MetropAccess_YKR_grid_EurefFIN.shp\"\n",
    "grid_path = os.path.join(directory, grid_file)\n",
    "\n",
    "\n",
    "list_of_files = os.listdir(directory)\n",
    "list_of_travel_time_files = []\n",
    "\n",
    "for file in list_of_files:\n",
    "    if '.txt' in file:\n",
    "        list_of_travel_time_files.append(os.path.join(directory, file))\n",
    "\n",
    "print(list_of_travel_time_files, \" length of: \", len(list_of_travel_time_files) )\n",
    "\n",
    "#split string by '_' seperator\n",
    "#extract 'XXXX.txt'\n",
    "#extract XXXX, by removing '.txt' portion of the string, subscript -4\n",
    "shopping_center_example = re.split(r'_', list_of_files[8])[3][:-4]\n",
    "\n",
    "shopping_center_names_list = []\n",
    "\n",
    "#repeat for all shopping centers\n",
    "for shopping_center in list_of_travel_time_files:\n",
    "    shopping_center_names_list.append( re.split(r'_', shopping_center)[3][:-4] )\n",
    "\n",
    "print(shopping_center_names_list)"
   ]
  },
  {
   "cell_type": "markdown",
   "id": "2895d17d-82b8-493c-a215-e6fd52165481",
   "metadata": {},
   "source": [
    "- Import grid file \n",
    "- merge grid geodataframe  with pandas dataframe for each shopping center using ID key match"
   ]
  },
  {
   "cell_type": "code",
   "execution_count": 149,
   "id": "53c1d773-0659-4a97-ab6b-2c519ddb8f21",
   "metadata": {},
   "outputs": [],
   "source": [
    "from pyproj import CRS\n",
    "\n",
    "#read in grid shapefile\n",
    "grid = gpd.read_file(grid_path)\n",
    "\n",
    "#transform the crs of grid shapefile before performing the aggregation of geometry features using 'dissolve' (after dissolving, cant transform crs of multipolygon feature)\n",
    "grid = grid.to_crs(CRS.from_epsg(3879))\n",
    "\n",
    "#read each txt file as a data frame store in the list\n",
    "for file, shopping_center in zip(list_of_travel_time_files, shopping_center_names_list):\n",
    "    \n",
    "    data = pd.read_csv(file, sep=';') \n",
    "    \n",
    "    #generate new column name\n",
    "    title_string = 'pt_r_t_{val}'.format(val = shopping_center)\n",
    "    \n",
    "    #create a new column using values from the 'pt_r_t' column\n",
    "    data[title_string] = data[ [ 'pt_r_t' ] ] \n",
    "    \n",
    "    data.drop(columns=['pt_r_t'], axis=1, inplace=True)\n",
    "    \n",
    "    #create a smaller subset of data, join both tables using YKR_ID from grid and from_id of data, overwrite the previous dataframe\n",
    "    grid = grid.merge(data[ [title_string, 'from_id'] ],  how='outer', left_on = 'YKR_ID', right_on ='from_id')\n",
    "    \n",
    "    grid.drop(columns = ['from_id'], axis=1, inplace=True)"
   ]
  },
  {
   "cell_type": "markdown",
   "id": "c7dee2ad-e91d-4290-8a6b-fe547164da7a",
   "metadata": {},
   "source": [
    "- calculate the minimum travel time for each row \n",
    "- identify the shopping center with the shortest travel time on each row"
   ]
  },
  {
   "cell_type": "code",
   "execution_count": 150,
   "id": "79fbddb7-f277-462a-829e-10e0627f9fbd",
   "metadata": {},
   "outputs": [
    {
     "name": "stdout",
     "output_type": "stream",
     "text": [
      "13231\n"
     ]
    }
   ],
   "source": [
    "columns_for_comparison = grid.columns[4:]\n",
    "\n",
    "#extract the min value from current row\n",
    "row_min =  grid[ columns_for_comparison ].idxmin(axis='columns',skipna=True)\n",
    "\n",
    "#test row_min\n",
    "print(len(row_min))\n",
    "\n",
    "dominant_service = []\n",
    "min_t = []\n",
    "for index in range(0,len(row_min)):\n",
    "    min_t.append( grid.at[index, row_min[index]] )\n",
    "    dominant_service.append( re.split(r'_', row_min[index])[3])\n",
    "    \n",
    "grid['min_t'] = min_t\n",
    "grid['dominant_service'] = dominant_service"
   ]
  },
  {
   "cell_type": "markdown",
   "id": "44c63071-d45c-4430-9343-9e5dd1bbd504",
   "metadata": {},
   "source": [
    "- Remove null values from the grid geodataframe"
   ]
  },
  {
   "cell_type": "code",
   "execution_count": 151,
   "id": "c36af1b8-44c8-47f9-a778-e6526f1c4ef6",
   "metadata": {},
   "outputs": [
    {
     "name": "stdout",
     "output_type": "stream",
     "text": [
      "simplified NA removal:  13020\n"
     ]
    }
   ],
   "source": [
    "import numpy as np\n",
    "\n",
    "#more efficient way of removing null values from dataframe\n",
    "grid.replace(-1, np.nan, inplace=True)\n",
    "\n",
    "#drop NA values if there any NA values in thw row, do not make a copy of the instance.\n",
    "grid.dropna(axis=0, how='any', inplace=True)\n",
    "\n",
    "grid.reset_index( inplace=True)\n",
    "\n",
    "print(\"simplified NA removal: \" , len(grid))"
   ]
  },
  {
   "cell_type": "markdown",
   "id": "baaaf3ae-477b-4a20-a072-0f3a51436b39",
   "metadata": {},
   "source": [
    "- aggregate geometry by shopping center label"
   ]
  },
  {
   "cell_type": "code",
   "execution_count": 152,
   "id": "508aed2b-5b50-4cf5-a89f-93e51b4a1b13",
   "metadata": {},
   "outputs": [],
   "source": [
    "#dissolve (aggregate geometries - municipality polygon geometries for each shopping center\n",
    "dominant_service_area = grid.dissolve(by='dominant_service')\n",
    "    \n",
    "dominant_service_area.reset_index(inplace=True)\n",
    "\n",
    "#Select useful columns\n",
    "dominant_service_area  = dominant_service_area[['dominant_service', \"geometry\"]]"
   ]
  },
  {
   "cell_type": "code",
   "execution_count": 153,
   "id": "f5110988-2a18-4df0-812d-5887f01ea1f9",
   "metadata": {},
   "outputs": [
    {
     "data": {
      "text/plain": [
       "Index(['index', 'x', 'y', 'YKR_ID', 'geometry', 'pt_r_t_Jumbo', 'pt_r_t_Dixi',\n",
       "       'pt_r_t_Myyrmanni', 'pt_r_t_Itis', 'pt_r_t_Forum', 'pt_r_t_IsoOmena',\n",
       "       'pt_r_t_Ruoholahti', 'min_t', 'dominant_service'],\n",
       "      dtype='object')"
      ]
     },
     "execution_count": 153,
     "metadata": {},
     "output_type": "execute_result"
    }
   ],
   "source": [
    "#check column labels\n",
    "grid.columns"
   ]
  },
  {
   "cell_type": "markdown",
   "id": "fdc4111a-f55b-4017-8c0a-21542cd2766d",
   "metadata": {},
   "source": [
    "- Aggregate your dominance areas from problem 2 into a unified geometries using dissolve() -function in geopandas before joining with the population data."
   ]
  },
  {
   "cell_type": "code",
   "execution_count": 154,
   "id": "4e11f0ef-2aa5-4cf8-93fe-110321cac2a2",
   "metadata": {},
   "outputs": [
    {
     "data": {
      "text/html": [
       "<div>\n",
       "<style scoped>\n",
       "    .dataframe tbody tr th:only-of-type {\n",
       "        vertical-align: middle;\n",
       "    }\n",
       "\n",
       "    .dataframe tbody tr th {\n",
       "        vertical-align: top;\n",
       "    }\n",
       "\n",
       "    .dataframe thead th {\n",
       "        text-align: right;\n",
       "    }\n",
       "</style>\n",
       "<table border=\"1\" class=\"dataframe\">\n",
       "  <thead>\n",
       "    <tr style=\"text-align: right;\">\n",
       "      <th></th>\n",
       "      <th>geometry</th>\n",
       "      <th>index</th>\n",
       "      <th>x</th>\n",
       "      <th>y</th>\n",
       "      <th>YKR_ID</th>\n",
       "      <th>pt_r_t_Jumbo</th>\n",
       "      <th>pt_r_t_Dixi</th>\n",
       "      <th>pt_r_t_Myyrmanni</th>\n",
       "      <th>pt_r_t_Itis</th>\n",
       "      <th>pt_r_t_Forum</th>\n",
       "      <th>pt_r_t_IsoOmena</th>\n",
       "      <th>pt_r_t_Ruoholahti</th>\n",
       "      <th>min_t</th>\n",
       "    </tr>\n",
       "    <tr>\n",
       "      <th>dominant_service</th>\n",
       "      <th></th>\n",
       "      <th></th>\n",
       "      <th></th>\n",
       "      <th></th>\n",
       "      <th></th>\n",
       "      <th></th>\n",
       "      <th></th>\n",
       "      <th></th>\n",
       "      <th></th>\n",
       "      <th></th>\n",
       "      <th></th>\n",
       "      <th></th>\n",
       "      <th></th>\n",
       "    </tr>\n",
       "  </thead>\n",
       "  <tbody>\n",
       "    <tr>\n",
       "      <th>Dixi</th>\n",
       "      <td>MULTIPOLYGON (((25495260.623 6688105.784, 2549...</td>\n",
       "      <td>211</td>\n",
       "      <td>392625.0</td>\n",
       "      <td>6694630.0</td>\n",
       "      <td>5810457</td>\n",
       "      <td>66.0</td>\n",
       "      <td>54.0</td>\n",
       "      <td>85.0</td>\n",
       "      <td>79.0</td>\n",
       "      <td>77.0</td>\n",
       "      <td>106.0</td>\n",
       "      <td>82.0</td>\n",
       "      <td>54.0</td>\n",
       "    </tr>\n",
       "    <tr>\n",
       "      <th>Forum</th>\n",
       "      <td>MULTIPOLYGON (((25472713.235 6689172.913, 2547...</td>\n",
       "      <td>512</td>\n",
       "      <td>376875.0</td>\n",
       "      <td>6693130.0</td>\n",
       "      <td>5821788</td>\n",
       "      <td>109.0</td>\n",
       "      <td>125.0</td>\n",
       "      <td>106.0</td>\n",
       "      <td>124.0</td>\n",
       "      <td>105.0</td>\n",
       "      <td>131.0</td>\n",
       "      <td>119.0</td>\n",
       "      <td>105.0</td>\n",
       "    </tr>\n",
       "    <tr>\n",
       "      <th>IsoOmena</th>\n",
       "      <td>MULTIPOLYGON (((25472183.044 6690157.462, 2547...</td>\n",
       "      <td>1635</td>\n",
       "      <td>361875.0</td>\n",
       "      <td>6690130.0</td>\n",
       "      <td>5844368</td>\n",
       "      <td>107.0</td>\n",
       "      <td>93.0</td>\n",
       "      <td>73.0</td>\n",
       "      <td>106.0</td>\n",
       "      <td>80.0</td>\n",
       "      <td>72.0</td>\n",
       "      <td>82.0</td>\n",
       "      <td>72.0</td>\n",
       "    </tr>\n",
       "    <tr>\n",
       "      <th>Itis</th>\n",
       "      <td>MULTIPOLYGON (((25494972.968 6681092.184, 2549...</td>\n",
       "      <td>4190</td>\n",
       "      <td>402125.0</td>\n",
       "      <td>6685880.0</td>\n",
       "      <td>5876274</td>\n",
       "      <td>98.0</td>\n",
       "      <td>85.0</td>\n",
       "      <td>97.0</td>\n",
       "      <td>55.0</td>\n",
       "      <td>79.0</td>\n",
       "      <td>100.0</td>\n",
       "      <td>80.0</td>\n",
       "      <td>55.0</td>\n",
       "    </tr>\n",
       "    <tr>\n",
       "      <th>Jumbo</th>\n",
       "      <td>MULTIPOLYGON (((25485293.308 6686802.751, 2548...</td>\n",
       "      <td>210</td>\n",
       "      <td>384125.0</td>\n",
       "      <td>6694630.0</td>\n",
       "      <td>5810423</td>\n",
       "      <td>104.0</td>\n",
       "      <td>105.0</td>\n",
       "      <td>107.0</td>\n",
       "      <td>142.0</td>\n",
       "      <td>126.0</td>\n",
       "      <td>159.0</td>\n",
       "      <td>134.0</td>\n",
       "      <td>104.0</td>\n",
       "    </tr>\n",
       "  </tbody>\n",
       "</table>\n",
       "</div>"
      ],
      "text/plain": [
       "                                                           geometry  index  \\\n",
       "dominant_service                                                             \n",
       "Dixi              MULTIPOLYGON (((25495260.623 6688105.784, 2549...    211   \n",
       "Forum             MULTIPOLYGON (((25472713.235 6689172.913, 2547...    512   \n",
       "IsoOmena          MULTIPOLYGON (((25472183.044 6690157.462, 2547...   1635   \n",
       "Itis              MULTIPOLYGON (((25494972.968 6681092.184, 2549...   4190   \n",
       "Jumbo             MULTIPOLYGON (((25485293.308 6686802.751, 2548...    210   \n",
       "\n",
       "                         x          y   YKR_ID  pt_r_t_Jumbo  pt_r_t_Dixi  \\\n",
       "dominant_service                                                            \n",
       "Dixi              392625.0  6694630.0  5810457          66.0         54.0   \n",
       "Forum             376875.0  6693130.0  5821788         109.0        125.0   \n",
       "IsoOmena          361875.0  6690130.0  5844368         107.0         93.0   \n",
       "Itis              402125.0  6685880.0  5876274          98.0         85.0   \n",
       "Jumbo             384125.0  6694630.0  5810423         104.0        105.0   \n",
       "\n",
       "                  pt_r_t_Myyrmanni  pt_r_t_Itis  pt_r_t_Forum  \\\n",
       "dominant_service                                                \n",
       "Dixi                          85.0         79.0          77.0   \n",
       "Forum                        106.0        124.0         105.0   \n",
       "IsoOmena                      73.0        106.0          80.0   \n",
       "Itis                          97.0         55.0          79.0   \n",
       "Jumbo                        107.0        142.0         126.0   \n",
       "\n",
       "                  pt_r_t_IsoOmena  pt_r_t_Ruoholahti  min_t  \n",
       "dominant_service                                             \n",
       "Dixi                        106.0               82.0   54.0  \n",
       "Forum                       131.0              119.0  105.0  \n",
       "IsoOmena                     72.0               82.0   72.0  \n",
       "Itis                        100.0               80.0   55.0  \n",
       "Jumbo                       159.0              134.0  104.0  "
      ]
     },
     "execution_count": 154,
     "metadata": {},
     "output_type": "execute_result"
    }
   ],
   "source": [
    "# how the dissolve function works:\n",
    "#https://geopandas.org/en/stable/docs/user_guide/aggregation_with_dissolve.html\n",
    "\n",
    "data_geo = grid.dissolve(by= 'dominant_service')\n",
    "\n",
    "data_geo.head()"
   ]
  },
  {
   "cell_type": "code",
   "execution_count": 155,
   "id": "85edc835-61f4-49e1-ab25-a95152ee1b7f",
   "metadata": {},
   "outputs": [
    {
     "data": {
      "text/html": [
       "<div>\n",
       "<style scoped>\n",
       "    .dataframe tbody tr th:only-of-type {\n",
       "        vertical-align: middle;\n",
       "    }\n",
       "\n",
       "    .dataframe tbody tr th {\n",
       "        vertical-align: top;\n",
       "    }\n",
       "\n",
       "    .dataframe thead th {\n",
       "        text-align: right;\n",
       "    }\n",
       "</style>\n",
       "<table border=\"1\" class=\"dataframe\">\n",
       "  <thead>\n",
       "    <tr style=\"text-align: right;\">\n",
       "      <th></th>\n",
       "      <th>geometry</th>\n",
       "    </tr>\n",
       "    <tr>\n",
       "      <th>dominant_service</th>\n",
       "      <th></th>\n",
       "    </tr>\n",
       "  </thead>\n",
       "  <tbody>\n",
       "    <tr>\n",
       "      <th>Dixi</th>\n",
       "      <td>MULTIPOLYGON (((25495260.623 6688105.784, 2549...</td>\n",
       "    </tr>\n",
       "    <tr>\n",
       "      <th>Forum</th>\n",
       "      <td>MULTIPOLYGON (((25472713.235 6689172.913, 2547...</td>\n",
       "    </tr>\n",
       "    <tr>\n",
       "      <th>IsoOmena</th>\n",
       "      <td>MULTIPOLYGON (((25472183.044 6690157.462, 2547...</td>\n",
       "    </tr>\n",
       "    <tr>\n",
       "      <th>Itis</th>\n",
       "      <td>MULTIPOLYGON (((25494972.968 6681092.184, 2549...</td>\n",
       "    </tr>\n",
       "    <tr>\n",
       "      <th>Jumbo</th>\n",
       "      <td>MULTIPOLYGON (((25485293.308 6686802.751, 2548...</td>\n",
       "    </tr>\n",
       "  </tbody>\n",
       "</table>\n",
       "</div>"
      ],
      "text/plain": [
       "                                                           geometry\n",
       "dominant_service                                                   \n",
       "Dixi              MULTIPOLYGON (((25495260.623 6688105.784, 2549...\n",
       "Forum             MULTIPOLYGON (((25472713.235 6689172.913, 2547...\n",
       "IsoOmena          MULTIPOLYGON (((25472183.044 6690157.462, 2547...\n",
       "Itis              MULTIPOLYGON (((25494972.968 6681092.184, 2549...\n",
       "Jumbo             MULTIPOLYGON (((25485293.308 6686802.751, 2548..."
      ]
     },
     "execution_count": 155,
     "metadata": {},
     "output_type": "execute_result"
    }
   ],
   "source": [
    "#extract the aggregated grids and dominant service center\n",
    "data_geo = data_geo[ ['geometry'] ] \n",
    "\n",
    "data_geo.head()"
   ]
  },
  {
   "cell_type": "markdown",
   "id": "8653c39a-3bd6-40a7-9139-49a90013ec4e",
   "metadata": {},
   "source": [
    "- Remember to check the crs of the input data."
   ]
  },
  {
   "cell_type": "code",
   "execution_count": 156,
   "id": "c6714a35-5524-4de7-b994-b7410e0bf02c",
   "metadata": {},
   "outputs": [
    {
     "name": "stdout",
     "output_type": "stream",
     "text": [
      "epsg:3879\n"
     ]
    }
   ],
   "source": [
    "#check crs of grid\n",
    "print(data_geo.crs)"
   ]
  },
  {
   "cell_type": "code",
   "execution_count": 157,
   "id": "263c3274-8d6a-4e3e-8797-d16fb5c2d96e",
   "metadata": {},
   "outputs": [
    {
     "name": "stdout",
     "output_type": "stream",
     "text": [
      "None\n"
     ]
    }
   ],
   "source": [
    "#check crs of population grid\n",
    "print(pop.crs)"
   ]
  },
  {
   "cell_type": "code",
   "execution_count": 158,
   "id": "a11138d7-0e8a-4943-8876-2aa851f850b6",
   "metadata": {},
   "outputs": [],
   "source": [
    "pop.crs = CRS.from_epsg(3879)\n",
    "assert data_geo.crs == pop.crs, \"CRS of population and Grids are not equal\""
   ]
  },
  {
   "cell_type": "markdown",
   "id": "5d5da274-a223-4be0-9488-4d870f93ea80",
   "metadata": {},
   "source": [
    "- Join information between the population grid and the dominance areas -layer using intersect as the condition in the spatial join."
   ]
  },
  {
   "cell_type": "code",
   "execution_count": 163,
   "id": "5c75739f-b436-4ae0-83c6-9a441e3908bd",
   "metadata": {},
   "outputs": [
    {
     "data": {
      "text/html": [
       "<div>\n",
       "<style scoped>\n",
       "    .dataframe tbody tr th:only-of-type {\n",
       "        vertical-align: middle;\n",
       "    }\n",
       "\n",
       "    .dataframe tbody tr th {\n",
       "        vertical-align: top;\n",
       "    }\n",
       "\n",
       "    .dataframe thead th {\n",
       "        text-align: right;\n",
       "    }\n",
       "</style>\n",
       "<table border=\"1\" class=\"dataframe\">\n",
       "  <thead>\n",
       "    <tr style=\"text-align: right;\">\n",
       "      <th></th>\n",
       "      <th>pop18</th>\n",
       "      <th>geometry</th>\n",
       "      <th>nearest_shopping_center</th>\n",
       "    </tr>\n",
       "  </thead>\n",
       "  <tbody>\n",
       "    <tr>\n",
       "      <th>0</th>\n",
       "      <td>9</td>\n",
       "      <td>POLYGON ((25472499.995 6689749.005, 25472499.9...</td>\n",
       "      <td>IsoOmena</td>\n",
       "    </tr>\n",
       "    <tr>\n",
       "      <th>1</th>\n",
       "      <td>5</td>\n",
       "      <td>POLYGON ((25472499.995 6685998.998, 25472499.9...</td>\n",
       "      <td>IsoOmena</td>\n",
       "    </tr>\n",
       "    <tr>\n",
       "      <th>2</th>\n",
       "      <td>8</td>\n",
       "      <td>POLYGON ((25472499.995 6684249.004, 25472499.9...</td>\n",
       "      <td>IsoOmena</td>\n",
       "    </tr>\n",
       "    <tr>\n",
       "      <th>3</th>\n",
       "      <td>5</td>\n",
       "      <td>POLYGON ((25472499.995 6683999.005, 25472499.9...</td>\n",
       "      <td>IsoOmena</td>\n",
       "    </tr>\n",
       "    <tr>\n",
       "      <th>4</th>\n",
       "      <td>11</td>\n",
       "      <td>POLYGON ((25472499.995 6682998.998, 25472499.9...</td>\n",
       "      <td>IsoOmena</td>\n",
       "    </tr>\n",
       "  </tbody>\n",
       "</table>\n",
       "</div>"
      ],
      "text/plain": [
       "   pop18                                           geometry  \\\n",
       "0      9  POLYGON ((25472499.995 6689749.005, 25472499.9...   \n",
       "1      5  POLYGON ((25472499.995 6685998.998, 25472499.9...   \n",
       "2      8  POLYGON ((25472499.995 6684249.004, 25472499.9...   \n",
       "3      5  POLYGON ((25472499.995 6683999.005, 25472499.9...   \n",
       "4     11  POLYGON ((25472499.995 6682998.998, 25472499.9...   \n",
       "\n",
       "  nearest_shopping_center  \n",
       "0                IsoOmena  \n",
       "1                IsoOmena  \n",
       "2                IsoOmena  \n",
       "3                IsoOmena  \n",
       "4                IsoOmena  "
      ]
     },
     "execution_count": 163,
     "metadata": {},
     "output_type": "execute_result"
    }
   ],
   "source": [
    "#reference for sjoin: https://geopandas.org/en/stable/docs/reference/api/geopandas.sjoin.html\n",
    "\n",
    "#inner join to preserve column attributes from both geodataframes, preserve the geometry of population grid\n",
    "nearest_shopping_center= gpd.sjoin(pop, data_geo, how='inner', predicate='intersects')\n",
    "\n",
    "nearest_shopping_center.rename( columns= { 'index_right': 'nearest_shopping_center' } ,inplace=True)\n",
    "\n",
    "nearest_shopping_center.head()"
   ]
  },
  {
   "cell_type": "markdown",
   "id": "38a808f5-707a-4255-98c3-dc89ba099409",
   "metadata": {},
   "source": [
    "- check if the projection of grids & population match."
   ]
  },
  {
   "cell_type": "code",
   "execution_count": 164,
   "id": "ecc8bb4a-2ea4-4875-adfd-b7963b19cddd",
   "metadata": {},
   "outputs": [
    {
     "data": {
      "text/plain": [
       "<AxesSubplot:>"
      ]
     },
     "execution_count": 164,
     "metadata": {},
     "output_type": "execute_result"
    },
    {
     "data": {
      "image/png": "[encoded data removed]",
      "text/plain": [
       "<Figure size 432x288 with 1 Axes>"
      ]
     },
     "metadata": {
      "needs_background": "light"
     },
     "output_type": "display_data"
    }
   ],
   "source": [
    "#https://geopandas.org/en/stable/docs/user_guide/mapping.html\n",
    "\n",
    "#method 1 example of docs\n",
    "base = grid.plot(color='blue', edgecolor='black')\n",
    "pop.plot(ax=base, marker='o', color='red', markersize=5)"
   ]
  },
  {
   "cell_type": "markdown",
   "id": "4a667bde-ff69-4584-9962-3a954c0cf4ba",
   "metadata": {},
   "source": [
    "- Join information between the population grid and the dominance areas -layer using intersect as the condition in the spatial join."
   ]
  },
  {
   "cell_type": "code",
   "execution_count": 166,
   "id": "84337547-eca5-4873-b275-862016526afa",
   "metadata": {},
   "outputs": [
    {
     "data": {
      "text/html": [
       "<div>\n",
       "<style scoped>\n",
       "    .dataframe tbody tr th:only-of-type {\n",
       "        vertical-align: middle;\n",
       "    }\n",
       "\n",
       "    .dataframe tbody tr th {\n",
       "        vertical-align: top;\n",
       "    }\n",
       "\n",
       "    .dataframe thead th {\n",
       "        text-align: right;\n",
       "    }\n",
       "</style>\n",
       "<table border=\"1\" class=\"dataframe\">\n",
       "  <thead>\n",
       "    <tr style=\"text-align: right;\">\n",
       "      <th></th>\n",
       "      <th>pop18</th>\n",
       "    </tr>\n",
       "    <tr>\n",
       "      <th>nearest_shopping_center</th>\n",
       "      <th></th>\n",
       "    </tr>\n",
       "  </thead>\n",
       "  <tbody>\n",
       "    <tr>\n",
       "      <th>Dixi</th>\n",
       "      <td>223770</td>\n",
       "    </tr>\n",
       "    <tr>\n",
       "      <th>Forum</th>\n",
       "      <td>259697</td>\n",
       "    </tr>\n",
       "    <tr>\n",
       "      <th>IsoOmena</th>\n",
       "      <td>201205</td>\n",
       "    </tr>\n",
       "    <tr>\n",
       "      <th>Itis</th>\n",
       "      <td>212502</td>\n",
       "    </tr>\n",
       "    <tr>\n",
       "      <th>Jumbo</th>\n",
       "      <td>79573</td>\n",
       "    </tr>\n",
       "    <tr>\n",
       "      <th>Myyrmanni</th>\n",
       "      <td>231630</td>\n",
       "    </tr>\n",
       "    <tr>\n",
       "      <th>Ruoholahti</th>\n",
       "      <td>87856</td>\n",
       "    </tr>\n",
       "  </tbody>\n",
       "</table>\n",
       "</div>"
      ],
      "text/plain": [
       "                          pop18\n",
       "nearest_shopping_center        \n",
       "Dixi                     223770\n",
       "Forum                    259697\n",
       "IsoOmena                 201205\n",
       "Itis                     212502\n",
       "Jumbo                     79573\n",
       "Myyrmanni                231630\n",
       "Ruoholahti                87856"
      ]
     },
     "execution_count": 166,
     "metadata": {},
     "output_type": "execute_result"
    }
   ],
   "source": [
    "nearest_shopping_center.groupby(by=['nearest_shopping_center']).sum()"
   ]
  },
  {
   "cell_type": "code",
   "execution_count": 171,
   "id": "3b0abba7-50c0-4050-b7d1-38d757e88851",
   "metadata": {},
   "outputs": [
    {
     "data": {
      "text/plain": [
       "<AxesSubplot:>"
      ]
     },
     "execution_count": 171,
     "metadata": {},
     "output_type": "execute_result"
    },
    {
     "data": {
      "image/png": "[encoded data removed]",
      "text/plain": [
       "<Figure size 432x288 with 1 Axes>"
      ]
     },
     "metadata": {
      "needs_background": "light"
     },
     "output_type": "display_data"
    }
   ],
   "source": [
    "base = grid.plot(color='white', edgecolor='black')\n",
    "nearest_shopping_center.plot(ax=base, column='nearest_shopping_center', cmap='tab20', k=7)\n",
    "\n",
    "#population grids to nearest shopping districts."
   ]
  },
  {
   "cell_type": "code",
   "execution_count": 176,
   "id": "6ca0c89f-da75-4cf3-a047-5fbf1c8c66c5",
   "metadata": {},
   "outputs": [
    {
     "data": {
      "text/plain": [
       "<AxesSubplot:>"
      ]
     },
     "execution_count": 176,
     "metadata": {},
     "output_type": "execute_result"
    },
    {
     "data": {
      "image/png": "[encoded data removed]",
      "text/plain": [
       "<Figure size 432x288 with 1 Axes>"
      ]
     },
     "metadata": {
      "needs_background": "light"
     },
     "output_type": "display_data"
    }
   ],
   "source": [
    "newbase = grid.plot(color='black')\n",
    "nearest_shopping_center.plot(ax=newbase, column= \"pop18\", scheme= \"Natural_Breaks\", k=7, cmap=\"RdYlBu\", linewidth=0, legend =True,figsize=(10,5))\n",
    "\n",
    "#popilation density by grid,lower density in red areas, larger density in blue areas."
   ]
  },
  {
   "cell_type": "code",
   "execution_count": null,
   "id": "f1e8e764-2499-4509-acfa-3ff9dac14f06",
   "metadata": {},
   "outputs": [],
   "source": []
  }
 ],
 "metadata": {
  "kernelspec": {
   "display_name": "Python 3 (ipykernel)",
   "language": "python",
   "name": "python3"
  },
  "language_info": {
   "codemirror_mode": {
    "name": "ipython",
    "version": 3
   },
   "file_extension": ".py",
   "mimetype": "text/x-python",
   "name": "python",
   "nbconvert_exporter": "python",
   "pygments_lexer": "ipython3",
   "version": "3.8.12"
  }
 },
 "nbformat": 4,
 "nbformat_minor": 5
}
