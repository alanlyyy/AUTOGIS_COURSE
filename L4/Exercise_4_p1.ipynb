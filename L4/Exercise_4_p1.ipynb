{
 "cells": [
  {
   "cell_type": "markdown",
   "id": "0c6c5c00-193a-48b7-bebd-9e1658f70c74",
   "metadata": {},
   "source": [
    "# Problem 1: Join accessibility datasets into a grid and visualize the data on a map (10 points)\n",
    "\n",
    "- Desired output from problem 1: Travel times by public transport (PT) and car to Itis and Myyrmanni"
   ]
  },
  {
   "cell_type": "markdown",
   "id": "678ef194-3210-40a2-a906-f34d1b6beb56",
   "metadata": {},
   "source": [
    "Data\n",
    "\n",
    "The data/ directory in this repository contains all the required input data for this exercise:\n",
    "\n",
    "- Travel time data: travel_times_to_[XXXXXXX]_[NAME-OF-THE-CENTER].txt (Travel times and distances in the Helsinki Region to different shopping centers as text files)\n",
    "\n",
    "- Reference grid: MetropAccess_YKR_grid_EurefFIN.shp.\n",
    "\n",
    "Column from_id in the travel time data sets corresponds to the YKR_ID column in the grid shapefile"
   ]
  },
  {
   "cell_type": "markdown",
   "id": "5cadb4b9-92a1-4b31-8369-6f73a63cc1b9",
   "metadata": {},
   "source": [
    "We will focus on travel times to Itis and Myyrmanni. Our goal is to visualize travel times by public transport and car to both shopping centers.\n",
    "\n",
    "Before plotting the maps we need to classify the data.\n",
    "- Your task is to first develop the processing steps using Itis as input\n",
    "- repeat the steps for Myyrmanni."
   ]
  },
  {
   "cell_type": "code",
   "execution_count": 123,
   "id": "6a02d3bf-fe68-46af-8f63-9f4c4ae27459",
   "metadata": {},
   "outputs": [],
   "source": [
    "import pandas as pd\n",
    "import geopandas as gpd\n",
    "from shapely.geometry import Point, LineString, Polygon\n",
    "import os"
   ]
  },
  {
   "cell_type": "markdown",
   "id": "f3ae1995-071d-47e6-b6a4-174c26ef8bef",
   "metadata": {},
   "source": [
    "- Read the Polygon grid MetropAccess_YKR_grid_EurefFIN.shp into a GeoDataFrame called grid using geopandas:"
   ]
  },
  {
   "cell_type": "code",
   "execution_count": 124,
   "id": "f0594356-2fc1-4f80-bec5-0d2ab68dedbf",
   "metadata": {},
   "outputs": [
    {
     "data": {
      "text/html": [
       "<div>\n",
       "<style scoped>\n",
       "    .dataframe tbody tr th:only-of-type {\n",
       "        vertical-align: middle;\n",
       "    }\n",
       "\n",
       "    .dataframe tbody tr th {\n",
       "        vertical-align: top;\n",
       "    }\n",
       "\n",
       "    .dataframe thead th {\n",
       "        text-align: right;\n",
       "    }\n",
       "</style>\n",
       "<table border=\"1\" class=\"dataframe\">\n",
       "  <thead>\n",
       "    <tr style=\"text-align: right;\">\n",
       "      <th></th>\n",
       "      <th>x</th>\n",
       "      <th>y</th>\n",
       "      <th>YKR_ID</th>\n",
       "      <th>geometry</th>\n",
       "    </tr>\n",
       "  </thead>\n",
       "  <tbody>\n",
       "    <tr>\n",
       "      <th>0</th>\n",
       "      <td>381875.0</td>\n",
       "      <td>6697880.0</td>\n",
       "      <td>5785640</td>\n",
       "      <td>POLYGON ((382000.000 6697750.000, 381750.000 6...</td>\n",
       "    </tr>\n",
       "    <tr>\n",
       "      <th>1</th>\n",
       "      <td>382125.0</td>\n",
       "      <td>6697880.0</td>\n",
       "      <td>5785641</td>\n",
       "      <td>POLYGON ((382250.000 6697750.000, 382000.000 6...</td>\n",
       "    </tr>\n",
       "    <tr>\n",
       "      <th>2</th>\n",
       "      <td>382375.0</td>\n",
       "      <td>6697880.0</td>\n",
       "      <td>5785642</td>\n",
       "      <td>POLYGON ((382500.000 6697750.000, 382250.000 6...</td>\n",
       "    </tr>\n",
       "    <tr>\n",
       "      <th>3</th>\n",
       "      <td>382625.0</td>\n",
       "      <td>6697880.0</td>\n",
       "      <td>5785643</td>\n",
       "      <td>POLYGON ((382750.000 6697750.000, 382500.000 6...</td>\n",
       "    </tr>\n",
       "    <tr>\n",
       "      <th>4</th>\n",
       "      <td>381125.0</td>\n",
       "      <td>6697630.0</td>\n",
       "      <td>5787544</td>\n",
       "      <td>POLYGON ((381250.000 6697500.000, 381000.000 6...</td>\n",
       "    </tr>\n",
       "  </tbody>\n",
       "</table>\n",
       "</div>"
      ],
      "text/plain": [
       "          x          y   YKR_ID  \\\n",
       "0  381875.0  6697880.0  5785640   \n",
       "1  382125.0  6697880.0  5785641   \n",
       "2  382375.0  6697880.0  5785642   \n",
       "3  382625.0  6697880.0  5785643   \n",
       "4  381125.0  6697630.0  5787544   \n",
       "\n",
       "                                            geometry  \n",
       "0  POLYGON ((382000.000 6697750.000, 381750.000 6...  \n",
       "1  POLYGON ((382250.000 6697750.000, 382000.000 6...  \n",
       "2  POLYGON ((382500.000 6697750.000, 382250.000 6...  \n",
       "3  POLYGON ((382750.000 6697750.000, 382500.000 6...  \n",
       "4  POLYGON ((381250.000 6697500.000, 381000.000 6...  "
      ]
     },
     "execution_count": 124,
     "metadata": {},
     "output_type": "execute_result"
    }
   ],
   "source": [
    "fp = r\"exercise-4-main\\data\\MetropAccess_YKR_grid_EurefFIN.shp\"\n",
    "\n",
    "grid_path = os.path.join(fp)\n",
    "grid = gpd.read_file(grid_path)\n",
    "\n",
    "grid.head()"
   ]
  },
  {
   "cell_type": "code",
   "execution_count": 125,
   "id": "aa1286b5-358d-49d6-8fa0-3a05ff1adc49",
   "metadata": {},
   "outputs": [
    {
     "name": "stdout",
     "output_type": "stream",
     "text": [
      "\n",
      "YKR GRID: 13231 rows\n"
     ]
    }
   ],
   "source": [
    "# NON-EDITABLE TEST CELL\n",
    "# Check the data\n",
    "print(\"\\nYKR GRID:\", len(grid), \"rows\")"
   ]
  },
  {
   "cell_type": "markdown",
   "id": "c6b5419d-f3e4-46e3-8c3e-9dbb00721f17",
   "metadata": {},
   "source": [
    "- Read the travel time data file for Itis using Pandas into a variable called data.  (Separator is \";\" in the input file.)\n",
    "\n",
    "- Select only following columns from the file: *pt_r_t*, *car_r_t*, *from_id*, *to_id*"
   ]
  },
  {
   "cell_type": "code",
   "execution_count": 126,
   "id": "ff6d3a9a-d447-45da-bc06-d4318f3c94b5",
   "metadata": {},
   "outputs": [
    {
     "name": "stdout",
     "output_type": "stream",
     "text": [
      "   from_id    to_id  walk_t  walk_d  car_r_t  car_r_d  car_m_t  car_m_d  \\\n",
      "0  5785640  5944003     494   34582       50    36229       44    36229   \n",
      "1  5785641  5944003     457   31966       51    36439       45    36439   \n",
      "2  5785642  5944003     458   32046       58    35841       52    34064   \n",
      "3  5785643  5944003     462   32338       57    37723       50    37935   \n",
      "4  5787544  5944003     487   34093       50    35803       44    35803   \n",
      "\n",
      "   pt_r_t  pt_r_tt  pt_r_d  pt_m_t  pt_m_tt  pt_m_d  \n",
      "0     132      157   38465     142      173   38465  \n",
      "1     135      154   38671     145      171   38671  \n",
      "2     137      154   38789     147      172   38789  \n",
      "3     141      163   39082     151      176   39082  \n",
      "4     125      142   37976     122      148   37786  \n"
     ]
    }
   ],
   "source": [
    "fp = r\"TravelTimes_to_5944003_Itis.txt\"\n",
    "directory = r\"exercise-4-main\\data\"\n",
    "\n",
    "travel_time_data = os.path.join(directory, fp)\n",
    "\n",
    "data = pd.read_csv(travel_time_data, sep=';')\n",
    "\n",
    "print(data.head())"
   ]
  },
  {
   "cell_type": "code",
   "execution_count": 127,
   "id": "2e1c7202-c3ae-45bb-ac82-a3447072fe03",
   "metadata": {},
   "outputs": [],
   "source": [
    "#extract the following columns: pt_r_t, car_r_t, from_id, to_id from all attributes\n",
    "data = data[ ['pt_r_t', 'car_r_t', 'from_id', 'to_id' ] ]"
   ]
  },
  {
   "cell_type": "code",
   "execution_count": 128,
   "id": "d67b358d-eb01-4938-b7b9-929d1c51fc64",
   "metadata": {},
   "outputs": [
    {
     "data": {
      "text/html": [
       "<div>\n",
       "<style scoped>\n",
       "    .dataframe tbody tr th:only-of-type {\n",
       "        vertical-align: middle;\n",
       "    }\n",
       "\n",
       "    .dataframe tbody tr th {\n",
       "        vertical-align: top;\n",
       "    }\n",
       "\n",
       "    .dataframe thead th {\n",
       "        text-align: right;\n",
       "    }\n",
       "</style>\n",
       "<table border=\"1\" class=\"dataframe\">\n",
       "  <thead>\n",
       "    <tr style=\"text-align: right;\">\n",
       "      <th></th>\n",
       "      <th>pt_r_t</th>\n",
       "      <th>car_r_t</th>\n",
       "      <th>from_id</th>\n",
       "      <th>to_id</th>\n",
       "    </tr>\n",
       "  </thead>\n",
       "  <tbody>\n",
       "    <tr>\n",
       "      <th>0</th>\n",
       "      <td>132</td>\n",
       "      <td>50</td>\n",
       "      <td>5785640</td>\n",
       "      <td>5944003</td>\n",
       "    </tr>\n",
       "    <tr>\n",
       "      <th>1</th>\n",
       "      <td>135</td>\n",
       "      <td>51</td>\n",
       "      <td>5785641</td>\n",
       "      <td>5944003</td>\n",
       "    </tr>\n",
       "    <tr>\n",
       "      <th>2</th>\n",
       "      <td>137</td>\n",
       "      <td>58</td>\n",
       "      <td>5785642</td>\n",
       "      <td>5944003</td>\n",
       "    </tr>\n",
       "    <tr>\n",
       "      <th>3</th>\n",
       "      <td>141</td>\n",
       "      <td>57</td>\n",
       "      <td>5785643</td>\n",
       "      <td>5944003</td>\n",
       "    </tr>\n",
       "    <tr>\n",
       "      <th>4</th>\n",
       "      <td>125</td>\n",
       "      <td>50</td>\n",
       "      <td>5787544</td>\n",
       "      <td>5944003</td>\n",
       "    </tr>\n",
       "  </tbody>\n",
       "</table>\n",
       "</div>"
      ],
      "text/plain": [
       "   pt_r_t  car_r_t  from_id    to_id\n",
       "0     132       50  5785640  5944003\n",
       "1     135       51  5785641  5944003\n",
       "2     137       58  5785642  5944003\n",
       "3     141       57  5785643  5944003\n",
       "4     125       50  5787544  5944003"
      ]
     },
     "execution_count": 128,
     "metadata": {},
     "output_type": "execute_result"
    }
   ],
   "source": [
    "data.head()"
   ]
  },
  {
   "cell_type": "code",
   "execution_count": 129,
   "id": "e3fad1d0-c34c-41ca-ac73-ee2d16c2a1ef",
   "metadata": {},
   "outputs": [
    {
     "name": "stdout",
     "output_type": "stream",
     "text": [
      "\n",
      "ITIS: 13231 rows\n"
     ]
    }
   ],
   "source": [
    "# NON-EDITABLE TEST CELL\n",
    "# Check the data\n",
    "print(f\"\\nITIS: {len(data)} rows\")"
   ]
  },
  {
   "cell_type": "markdown",
   "id": "50b4d9d7-6bec-4f8a-8228-685e724e8c81",
   "metadata": {},
   "source": [
    "join attributes from *data* to *grid* using the merge function:\n",
    "\n",
    "- YKR_ID -column in grid corresponds to the from_id column in data\n",
    "\n",
    "- store the join output into a variable called data_geo"
   ]
  },
  {
   "cell_type": "code",
   "execution_count": 130,
   "id": "2517ed80-ca1d-46c8-8c27-8b1bb43c8008",
   "metadata": {},
   "outputs": [
    {
     "name": "stdout",
     "output_type": "stream",
     "text": [
      "   pt_r_t  car_r_t  from_id    to_id\n",
      "0     132       50  5785640  5944003\n",
      "1     135       51  5785641  5944003\n",
      "2     137       58  5785642  5944003\n",
      "3     141       57  5785643  5944003\n",
      "4     125       50  5787544  5944003\n",
      "          x          y   YKR_ID  \\\n",
      "0  381875.0  6697880.0  5785640   \n",
      "1  382125.0  6697880.0  5785641   \n",
      "2  382375.0  6697880.0  5785642   \n",
      "3  382625.0  6697880.0  5785643   \n",
      "4  381125.0  6697630.0  5787544   \n",
      "\n",
      "                                            geometry  \n",
      "0  POLYGON ((382000.000 6697750.000, 381750.000 6...  \n",
      "1  POLYGON ((382250.000 6697750.000, 382000.000 6...  \n",
      "2  POLYGON ((382500.000 6697750.000, 382250.000 6...  \n",
      "3  POLYGON ((382750.000 6697750.000, 382500.000 6...  \n",
      "4  POLYGON ((381250.000 6697500.000, 381000.000 6...  \n"
     ]
    }
   ],
   "source": [
    "print(data.head())\n",
    "print(grid.head())"
   ]
  },
  {
   "cell_type": "code",
   "execution_count": 131,
   "id": "88b340c1-4088-4528-a4ef-fbb377c2ec88",
   "metadata": {},
   "outputs": [],
   "source": [
    "#join attributes from data dataframe to grid dataframe\n",
    "#compute outer join to preserve ID's from both grid and data datasets\n",
    "#indicator is used to create a new column to identify ID's that do not have exist in both datasets.\n",
    "data_geo = grid.merge(data,  how='outer', left_on = 'YKR_ID', right_on ='from_id', indicator=True )"
   ]
  },
  {
   "cell_type": "code",
   "execution_count": 132,
   "id": "f2c37cb8-aae8-416b-9b5d-4e9edfc883a1",
   "metadata": {},
   "outputs": [
    {
     "name": "stdout",
     "output_type": "stream",
     "text": [
      "          x          y   YKR_ID  \\\n",
      "0  381875.0  6697880.0  5785640   \n",
      "1  382125.0  6697880.0  5785641   \n",
      "2  382375.0  6697880.0  5785642   \n",
      "3  382625.0  6697880.0  5785643   \n",
      "4  381125.0  6697630.0  5787544   \n",
      "\n",
      "                                            geometry  pt_r_t  car_r_t  \\\n",
      "0  POLYGON ((382000.000 6697750.000, 381750.000 6...     132       50   \n",
      "1  POLYGON ((382250.000 6697750.000, 382000.000 6...     135       51   \n",
      "2  POLYGON ((382500.000 6697750.000, 382250.000 6...     137       58   \n",
      "3  POLYGON ((382750.000 6697750.000, 382500.000 6...     141       57   \n",
      "4  POLYGON ((381250.000 6697500.000, 381000.000 6...     125       50   \n",
      "\n",
      "   from_id    to_id _merge  \n",
      "0  5785640  5944003   both  \n",
      "1  5785641  5944003   both  \n",
      "2  5785642  5944003   both  \n",
      "3  5785643  5944003   both  \n",
      "4  5787544  5944003   both  \n"
     ]
    }
   ],
   "source": [
    "print(data_geo.head())"
   ]
  },
  {
   "cell_type": "code",
   "execution_count": 133,
   "id": "4ec16c23-7b1b-4b0c-a936-083a0abc09a7",
   "metadata": {},
   "outputs": [
    {
     "data": {
      "text/plain": [
       "both          13231\n",
       "left_only         0\n",
       "right_only        0\n",
       "Name: _merge, dtype: int64"
      ]
     },
     "execution_count": 133,
     "metadata": {},
     "output_type": "execute_result"
    }
   ],
   "source": [
    "#Identify count of ID's that do not exist in either the data or grid datasets.\n",
    "data_geo['_merge'].value_counts()"
   ]
  },
  {
   "cell_type": "code",
   "execution_count": 134,
   "id": "f43334c6-837d-4ec9-a92c-905baffeabf1",
   "metadata": {},
   "outputs": [],
   "source": [
    "# NON-EDITABLE TEST CELL\n",
    "#Check data type\n",
    "assert type(data_geo) == gpd.geodataframe.GeoDataFrame, \"Output should be a geodataframe.\""
   ]
  },
  {
   "cell_type": "code",
   "execution_count": 135,
   "id": "632b5968-28ed-48ca-b185-0c9de9af1aa2",
   "metadata": {},
   "outputs": [],
   "source": [
    "# NON-EDITABLE TEST CELL\n",
    "# Check that the merged output have (at least) the necessary columns\n",
    "required_columns = ['YKR_ID', 'pt_r_t', 'car_r_t', 'geometry']\n",
    "\n",
    "assert all(x in data_geo.columns for x in required_columns), \"Couldn't find all required columns.\""
   ]
  },
  {
   "cell_type": "markdown",
   "id": "b40f771e-6a53-40a1-acb3-015efde81722",
   "metadata": {},
   "source": [
    "Remove all rows containing no-data values (-1) from data_geo. \n",
    "- You can for example replace the no-data values with numpy's np.nan\n",
    "- then drop rows containing no-data values using the DataFrame.dropna function."
   ]
  },
  {
   "cell_type": "code",
   "execution_count": 136,
   "id": "207c9fae-8969-4891-977c-ec3b5fbb26fa",
   "metadata": {},
   "outputs": [
    {
     "name": "stdout",
     "output_type": "stream",
     "text": [
      "False    13231\n",
      "Name: YKR_ID, dtype: int64 1\n",
      "False    13231\n",
      "Name: from_id, dtype: int64 1\n"
     ]
    }
   ],
   "source": [
    "#check for -1 values in id rows\n",
    "v_count1 = (data_geo['YKR_ID'] == -1).value_counts(dropna=False)\n",
    "v_count2 = (data_geo['from_id'] == -1).value_counts(dropna=False)\n",
    "\n",
    "print(v_count1, len(v_count1))\n",
    "print(v_count2, len(v_count2))"
   ]
  },
  {
   "cell_type": "code",
   "execution_count": 137,
   "id": "f1fead60-c46b-4abb-a0cc-0889ad97d6fe",
   "metadata": {},
   "outputs": [
    {
     "name": "stdout",
     "output_type": "stream",
     "text": [
      "Row with -1: pt_r_t\n",
      "Row with -1: car_r_t\n",
      "Row with -1: to_id\n",
      "-----\n",
      "Row with -1: pt_r_t\n",
      "Row with -1: car_r_t\n",
      "Row with -1: to_id\n"
     ]
    }
   ],
   "source": [
    "#identify rows with -1 values\n",
    "\n",
    "def check_cols_na(gdf,null_match=-1):\n",
    "\n",
    "    #iterate through the columns\n",
    "    for col in gdf.columns:\n",
    "        #create a column mask to check for -1 values\n",
    "        #if the aggregate count of the given column is greater than 1, indicating T and F detected\n",
    "        if ( len((gdf[col] == null_match).value_counts(dropna=False)) >1):\n",
    "\n",
    "            #print rows with -1 values\n",
    "            print(\"Row with -1:\", col)\n",
    "        \n",
    "#iterate through the columns\n",
    "for col in data_geo.columns:\n",
    "    \n",
    "    #create a column mask to check for -1 values\n",
    "    #if the aggregate count of the given column is greater than 1, indicating T and F detected\n",
    "    if ( len((data_geo[col] == -1).value_counts(dropna=False)) >1):\n",
    "        \n",
    "        #print rows with -1 values\n",
    "        print(\"Row with -1:\", col)\n",
    "        \n",
    "\n",
    "print('-----')\n",
    "check_cols_na(data_geo)"
   ]
  },
  {
   "cell_type": "code",
   "execution_count": 138,
   "id": "a458b288-3902-414f-938f-54ea512d10d5",
   "metadata": {},
   "outputs": [],
   "source": [
    "import numpy as np\n",
    "\n",
    "def remove_na(gdf,null_match=-1):\n",
    "    '''poor way to find nulls and remove the rows from the dataset.'''\n",
    "    row_index_with_na = []\n",
    "    \n",
    "    #create a copy instance\n",
    "    gdf_copy = gdf.copy()\n",
    "    \n",
    "    #ensure index starts from 0 to N\n",
    "    gdf_copy.reset_index(inplace=True)\n",
    "\n",
    "    #iterate through the columns\n",
    "    for col in gdf_copy.columns:\n",
    "\n",
    "        #create a column mask to check for -1 values\n",
    "        #if the aggregate count of the given column is greater than 1, indicating T and F detected\n",
    "        if ( len((gdf_copy[col] == null_match).value_counts(dropna=False)) >1):\n",
    "\n",
    "            #find null row indices in dataframe append to row index list\n",
    "            for row in range(0, len(gdf[col])):\n",
    "                if (gdf_copy.loc[row,col] == null_match):\n",
    "                    row_index_with_na.append(row)\n",
    "    \n",
    "    #drop rows with NA values\n",
    "    gdf_copy.drop(labels = row_index_with_na, axis= 0, inplace=True)\n",
    "    print(\"Archaic NA removal: \",len(gdf_copy))\n",
    "    \n",
    "#test call of function\n",
    "#remove_na(data_geo)"
   ]
  },
  {
   "cell_type": "code",
   "execution_count": 139,
   "id": "96c60d45-d2fb-4baf-b568-bae874f5dee2",
   "metadata": {},
   "outputs": [
    {
     "name": "stdout",
     "output_type": "stream",
     "text": [
      "simplified NA removal:  13020\n"
     ]
    }
   ],
   "source": [
    "#more efficient way of removing null values from dataframe\n",
    "data_geo.replace(-1, np.nan, inplace=True)\n",
    "\n",
    "#drop NA values if there any NA values in thw row, do not make a copy of the instance.\n",
    "data_geo.dropna(axis=0, how='any', inplace=True)\n",
    "\n",
    "print(\"simplified NA removal: \" , len(data_geo))"
   ]
  },
  {
   "cell_type": "code",
   "execution_count": 140,
   "id": "bb8a4ef7-0d15-400a-8ca7-1b89022f3bf3",
   "metadata": {},
   "outputs": [],
   "source": [
    "# NON-EDITABLE TEST CELL\n",
    "# Check that -1 values are not present in the columns\n",
    "assert -1 not in data_geo[\"pt_r_t\"], \"NoData values (-1) should be removed from the data!\""
   ]
  },
  {
   "cell_type": "markdown",
   "id": "b23f8a64-9d79-4fb3-9f83-470a2ca4eb0b",
   "metadata": {},
   "source": [
    "Classify the travel times for both travel modes (public transport and private car) into five-minute intervals\n",
    "- Create a UserDefined classifier using the pysal/mapclassify library using these class breaks: 5, 10, 15, 20, 25, 30, 35, 40, 45, 50, 55, 60"
   ]
  },
  {
   "cell_type": "code",
   "execution_count": 141,
   "id": "d5f94034-f12c-4509-8ffd-88fc046a035e",
   "metadata": {},
   "outputs": [],
   "source": [
    "import mapclassify\n",
    "\n",
    "#Create a user defined classifier\n",
    "classifier = mapclassify.UserDefined.make(bins=[5, 10, 15, 20, 25, 30, 35, 40, 45, 50, 55, 60])"
   ]
  },
  {
   "cell_type": "markdown",
   "id": "61bf5b9e-d7bc-45d5-a176-be12dc2396a1",
   "metadata": {},
   "source": [
    "- Apply the classifier to pt_r_t and car_r_t columns and store the results to pt_r_t_cl and car_r_t_cl columns, respectively\n",
    "\n",
    "Notice that these 12 class breaks will produce 13 classes (1 class break divides the data into two classes)."
   ]
  },
  {
   "cell_type": "code",
   "execution_count": 142,
   "id": "5d08c3a9-5d0a-4f66-acc2-b1bd2d55ae55",
   "metadata": {},
   "outputs": [
    {
     "data": {
      "text/plain": [
       "12    6643\n",
       "10    1055\n",
       "11    1010\n",
       "9      977\n",
       "7      814\n",
       "8      768\n",
       "6      664\n",
       "5      478\n",
       "4      321\n",
       "3      200\n",
       "2       76\n",
       "1       13\n",
       "0        1\n",
       "Name: pt_r_t_cl, dtype: int64"
      ]
     },
     "execution_count": 142,
     "metadata": {},
     "output_type": "execute_result"
    }
   ],
   "source": [
    "#apply Classifier to the pt_r_t column and create a new column with the new output \n",
    "data_geo['pt_r_t_cl'] = data_geo[['pt_r_t']].apply(classifier)\n",
    "\n",
    "#Lets see what we have\n",
    "data_geo.head()\n",
    "\n",
    "data_geo['pt_r_t_cl'].value_counts()"
   ]
  },
  {
   "cell_type": "code",
   "execution_count": 143,
   "id": "4706d576-d5d8-43d6-ab74-0223c1c81de2",
   "metadata": {},
   "outputs": [
    {
     "data": {
      "text/plain": [
       "5     1985\n",
       "6     1611\n",
       "4     1604\n",
       "7     1580\n",
       "8     1441\n",
       "9     1346\n",
       "3     1024\n",
       "10     896\n",
       "11     545\n",
       "12     467\n",
       "2      393\n",
       "1      125\n",
       "0        3\n",
       "Name: car_r_t_cl, dtype: int64"
      ]
     },
     "execution_count": 143,
     "metadata": {},
     "output_type": "execute_result"
    }
   ],
   "source": [
    "#apply Classifier to the car_r_t column and create a new column with the new output\n",
    "data_geo['car_r_t_cl'] = data_geo[['car_r_t']].apply(classifier)\n",
    "\n",
    "#Lets see what we have\n",
    "data_geo['car_r_t_cl'].head()\n",
    "\n",
    "data_geo['car_r_t_cl'].value_counts()"
   ]
  },
  {
   "cell_type": "code",
   "execution_count": 144,
   "id": "12609a53-1054-4711-aea0-dc7a230b2a9c",
   "metadata": {},
   "outputs": [
    {
     "name": "stdout",
     "output_type": "stream",
     "text": [
      "travel times by public transport:\n",
      "    YKR_ID  pt_r_t  pt_r_t_cl\n",
      "0  5785640   132.0         12\n",
      "1  5785641   135.0         12\n",
      "2  5785642   137.0         12\n",
      "3  5785643   141.0         12\n",
      "4  5787544   125.0         12\n"
     ]
    }
   ],
   "source": [
    "# NON-EDITABLE TEST CELL\n",
    "#Check the output\n",
    "print(\"travel times by public transport:\")\n",
    "print(data_geo[['YKR_ID', 'pt_r_t', 'pt_r_t_cl']].head())"
   ]
  },
  {
   "cell_type": "code",
   "execution_count": 145,
   "id": "7995beba-441d-4ec4-9292-91eed4bfc9c6",
   "metadata": {},
   "outputs": [
    {
     "name": "stdout",
     "output_type": "stream",
     "text": [
      "Travel times by car:\n",
      "    YKR_ID  car_r_t  car_r_t_cl\n",
      "0  5785640     50.0           9\n",
      "1  5785641     51.0          10\n",
      "2  5785642     58.0          11\n",
      "3  5785643     57.0          11\n",
      "4  5787544     50.0           9\n"
     ]
    }
   ],
   "source": [
    "# NON-EDITABLE TEST CELL\n",
    "#Check the output\n",
    "print(\"Travel times by car:\")\n",
    "print(data_geo[['YKR_ID','car_r_t', 'car_r_t_cl']].head())"
   ]
  },
  {
   "cell_type": "markdown",
   "id": "6b1851fc-77ae-4deb-b92a-748db373fb75",
   "metadata": {},
   "source": [
    "Create a 1x2 plot where the you plot travel times by public transport and travel times by car to Itis:\n",
    "\n",
    "- Create subplots using matplotlib having 1 row and 2 columns (use parameters nrows & ncols), and the figure size should be 10 inches by 5 inches (use parameter figsize)\n",
    "- Add titles for the subplots as seen in the example above\n",
    "- Remove the empty whitespace around the plots using function plt.tight_layout()\n",
    "- Save the figure into disk with filename itis_accessibility.png"
   ]
  },
  {
   "cell_type": "code",
   "execution_count": 146,
   "id": "f1162570-0f92-4409-a641-cea7fdf3b892",
   "metadata": {},
   "outputs": [],
   "source": [
    "import matplotlib.pyplot as plt"
   ]
  },
  {
   "cell_type": "code",
   "execution_count": 147,
   "id": "a4c4b64d-b508-4265-865f-35a92ff5b2bc",
   "metadata": {},
   "outputs": [
    {
     "data": {
      "image/png": "[encoded data removed]",
      "text/plain": [
       "<Figure size 432x288 with 2 Axes>"
      ]
     },
     "metadata": {
      "needs_background": "light"
     },
     "output_type": "display_data"
    }
   ],
   "source": [
    "# always create your matplotlib objects ahead of time and pass them to the plotting methods (or use them directly)\n",
    "#reference https://stackoverflow.com/questions/38253948/geopandas-plots-as-subfigures\n",
    "\n",
    "#under method2, using matplotlib objects to plot example\n",
    "#reference: https://geopandas.org/en/stable/docs/user_guide/mapping.html\n",
    "fig, axs = plt.subplots(nrows = 1, ncols=2, sharex=True, sharey=True)\n",
    "\n",
    "plot1 = data_geo.plot(ax=axs[0], column= 'car_r_t_cl', cmap=\"RdYlBu\", linewidth=0, legend =False, figsize=(10, 5))\n",
    "plot2 = data_geo.plot(ax=axs[1], column= 'pt_r_t_cl', cmap=\"RdYlBu\", linewidth=0, legend =False, figsize=(10, 5))\n",
    "\n",
    "#set title for each axes object\n",
    "plot1.set_title('Itis - Travel Time by Car')\n",
    "plot2.set_title('Itis - Travel Time by PT')\n",
    "\n",
    "#turn off the axis for each axes object\n",
    "plot1.axis('off')\n",
    "plot2.axis('off')\n",
    "\n",
    "#remove all whitespace from all axes objects\n",
    "plt.tight_layout()\n",
    "\n",
    "#show all axes object\n",
    "plt.show()"
   ]
  },
  {
   "cell_type": "code",
   "execution_count": 148,
   "id": "1924fa4f-2003-4d59-a5c5-9327ede6c682",
   "metadata": {},
   "outputs": [],
   "source": [
    "#grab fig from subplot object and print the plot.\n",
    "output_fig1 = 'itis_accessibility.jpg'\n",
    "\n",
    "#How to save figure using matplotlib\n",
    "#https://stackoverflow.com/questions/19555525/saving-plots-axessubplot-generated-from-python-pandas-with-matplotlibs-savefi\n",
    "fig.savefig(output_fig1)"
   ]
  },
  {
   "cell_type": "code",
   "execution_count": 149,
   "id": "64d2d205-85b9-45c1-bd9b-9e8908be8109",
   "metadata": {},
   "outputs": [],
   "source": [
    "# NON-EDITABLE TEST CELL\n",
    "# Check that output figure file exists\n",
    "import os\n",
    "assert os.path.isfile(output_fig1), \"figure does not exists!\""
   ]
  },
  {
   "cell_type": "markdown",
   "id": "a1548645-21d1-4c5d-91ba-032c0e32c2bc",
   "metadata": {},
   "source": [
    "# Next, your task is to repeat all the same steps for Myyrmanni (data/TravelTimes_to_5902043_Myyrmanni.txt):\n",
    "- Read text file using pandas into a variable called data\n",
    "- Select columns 'pt_r_t', 'car_r_t', 'from_id', 'to_id'\n",
    "- Make table join between grid and travel time data. Store output in a variable called data_geo\n",
    "- Remove no data values\n",
    "- Classify the values in columns 'pt_r_t', 'car_r_t' into new columns 'pt_r_t_cl', 'car_r_t_cl'\n",
    "- Plot travel times by public transport and travel times by car.\n",
    "- Save output image to file (myyrmanni_accessibility.png)"
   ]
  },
  {
   "cell_type": "markdown",
   "id": "0d4ee6e4-a286-44b9-96b4-50f1b48ba682",
   "metadata": {},
   "source": [
    "Read text file using pandas into a variable called data"
   ]
  },
  {
   "cell_type": "code",
   "execution_count": 150,
   "id": "d312e6fc-0a47-4c79-a81a-08009619edb3",
   "metadata": {},
   "outputs": [],
   "source": [
    "#read test file using pandas into variable called_data\n",
    "fp2 = r'TravelTimes_to_5902043_Myyrmanni.txt'\n",
    "directory2 = r'exercise-4-main/data'\n",
    "\n",
    "path2 = os.path.join(directory2, fp2)\n",
    "data = pd.read_csv(path2, sep=';')"
   ]
  },
  {
   "cell_type": "code",
   "execution_count": 151,
   "id": "8010f175-8650-4d67-b5f5-e487a0080a11",
   "metadata": {},
   "outputs": [
    {
     "data": {
      "text/html": [
       "<div>\n",
       "<style scoped>\n",
       "    .dataframe tbody tr th:only-of-type {\n",
       "        vertical-align: middle;\n",
       "    }\n",
       "\n",
       "    .dataframe tbody tr th {\n",
       "        vertical-align: top;\n",
       "    }\n",
       "\n",
       "    .dataframe thead th {\n",
       "        text-align: right;\n",
       "    }\n",
       "</style>\n",
       "<table border=\"1\" class=\"dataframe\">\n",
       "  <thead>\n",
       "    <tr style=\"text-align: right;\">\n",
       "      <th></th>\n",
       "      <th>from_id</th>\n",
       "      <th>to_id</th>\n",
       "      <th>walk_t</th>\n",
       "      <th>walk_d</th>\n",
       "      <th>car_r_t</th>\n",
       "      <th>car_r_d</th>\n",
       "      <th>car_m_t</th>\n",
       "      <th>car_m_d</th>\n",
       "      <th>pt_r_t</th>\n",
       "      <th>pt_r_tt</th>\n",
       "      <th>pt_r_d</th>\n",
       "      <th>pt_m_t</th>\n",
       "      <th>pt_m_tt</th>\n",
       "      <th>pt_m_d</th>\n",
       "    </tr>\n",
       "  </thead>\n",
       "  <tbody>\n",
       "    <tr>\n",
       "      <th>0</th>\n",
       "      <td>5785640</td>\n",
       "      <td>5902043</td>\n",
       "      <td>295</td>\n",
       "      <td>20668</td>\n",
       "      <td>39</td>\n",
       "      <td>22321</td>\n",
       "      <td>35</td>\n",
       "      <td>22321</td>\n",
       "      <td>90</td>\n",
       "      <td>121</td>\n",
       "      <td>21119</td>\n",
       "      <td>98</td>\n",
       "      <td>129</td>\n",
       "      <td>21119</td>\n",
       "    </tr>\n",
       "    <tr>\n",
       "      <th>1</th>\n",
       "      <td>5785641</td>\n",
       "      <td>5902043</td>\n",
       "      <td>258</td>\n",
       "      <td>18052</td>\n",
       "      <td>39</td>\n",
       "      <td>22532</td>\n",
       "      <td>35</td>\n",
       "      <td>22532</td>\n",
       "      <td>93</td>\n",
       "      <td>115</td>\n",
       "      <td>21325</td>\n",
       "      <td>101</td>\n",
       "      <td>127</td>\n",
       "      <td>21325</td>\n",
       "    </tr>\n",
       "    <tr>\n",
       "      <th>2</th>\n",
       "      <td>5785642</td>\n",
       "      <td>5902043</td>\n",
       "      <td>259</td>\n",
       "      <td>18131</td>\n",
       "      <td>47</td>\n",
       "      <td>22216</td>\n",
       "      <td>42</td>\n",
       "      <td>20440</td>\n",
       "      <td>95</td>\n",
       "      <td>115</td>\n",
       "      <td>21443</td>\n",
       "      <td>103</td>\n",
       "      <td>128</td>\n",
       "      <td>21443</td>\n",
       "    </tr>\n",
       "    <tr>\n",
       "      <th>3</th>\n",
       "      <td>5785643</td>\n",
       "      <td>5902043</td>\n",
       "      <td>263</td>\n",
       "      <td>18424</td>\n",
       "      <td>51</td>\n",
       "      <td>24773</td>\n",
       "      <td>46</td>\n",
       "      <td>22996</td>\n",
       "      <td>99</td>\n",
       "      <td>126</td>\n",
       "      <td>21736</td>\n",
       "      <td>107</td>\n",
       "      <td>132</td>\n",
       "      <td>21736</td>\n",
       "    </tr>\n",
       "    <tr>\n",
       "      <th>4</th>\n",
       "      <td>5787544</td>\n",
       "      <td>5902043</td>\n",
       "      <td>288</td>\n",
       "      <td>20179</td>\n",
       "      <td>38</td>\n",
       "      <td>21895</td>\n",
       "      <td>34</td>\n",
       "      <td>21895</td>\n",
       "      <td>83</td>\n",
       "      <td>103</td>\n",
       "      <td>20630</td>\n",
       "      <td>91</td>\n",
       "      <td>108</td>\n",
       "      <td>20630</td>\n",
       "    </tr>\n",
       "  </tbody>\n",
       "</table>\n",
       "</div>"
      ],
      "text/plain": [
       "   from_id    to_id  walk_t  walk_d  car_r_t  car_r_d  car_m_t  car_m_d  \\\n",
       "0  5785640  5902043     295   20668       39    22321       35    22321   \n",
       "1  5785641  5902043     258   18052       39    22532       35    22532   \n",
       "2  5785642  5902043     259   18131       47    22216       42    20440   \n",
       "3  5785643  5902043     263   18424       51    24773       46    22996   \n",
       "4  5787544  5902043     288   20179       38    21895       34    21895   \n",
       "\n",
       "   pt_r_t  pt_r_tt  pt_r_d  pt_m_t  pt_m_tt  pt_m_d  \n",
       "0      90      121   21119      98      129   21119  \n",
       "1      93      115   21325     101      127   21325  \n",
       "2      95      115   21443     103      128   21443  \n",
       "3      99      126   21736     107      132   21736  \n",
       "4      83      103   20630      91      108   20630  "
      ]
     },
     "execution_count": 151,
     "metadata": {},
     "output_type": "execute_result"
    }
   ],
   "source": [
    "data.head()"
   ]
  },
  {
   "cell_type": "markdown",
   "id": "fe010ed6-f121-4d7b-af0a-430072c568d2",
   "metadata": {},
   "source": [
    "select only columns pt_r_t, car_r_t, from_id, to_id  from data df"
   ]
  },
  {
   "cell_type": "code",
   "execution_count": 152,
   "id": "77eced9a-36e9-43da-bf59-0becd58a4846",
   "metadata": {},
   "outputs": [],
   "source": [
    "data = data[ [ 'pt_r_t' , 'car_r_t', 'from_id', 'to_id' ] ] "
   ]
  },
  {
   "cell_type": "code",
   "execution_count": 153,
   "id": "a8d30130-1d71-4054-b123-4d2652689a4c",
   "metadata": {},
   "outputs": [
    {
     "data": {
      "text/html": [
       "<div>\n",
       "<style scoped>\n",
       "    .dataframe tbody tr th:only-of-type {\n",
       "        vertical-align: middle;\n",
       "    }\n",
       "\n",
       "    .dataframe tbody tr th {\n",
       "        vertical-align: top;\n",
       "    }\n",
       "\n",
       "    .dataframe thead th {\n",
       "        text-align: right;\n",
       "    }\n",
       "</style>\n",
       "<table border=\"1\" class=\"dataframe\">\n",
       "  <thead>\n",
       "    <tr style=\"text-align: right;\">\n",
       "      <th></th>\n",
       "      <th>pt_r_t</th>\n",
       "      <th>car_r_t</th>\n",
       "      <th>from_id</th>\n",
       "      <th>to_id</th>\n",
       "    </tr>\n",
       "  </thead>\n",
       "  <tbody>\n",
       "    <tr>\n",
       "      <th>0</th>\n",
       "      <td>90</td>\n",
       "      <td>39</td>\n",
       "      <td>5785640</td>\n",
       "      <td>5902043</td>\n",
       "    </tr>\n",
       "    <tr>\n",
       "      <th>1</th>\n",
       "      <td>93</td>\n",
       "      <td>39</td>\n",
       "      <td>5785641</td>\n",
       "      <td>5902043</td>\n",
       "    </tr>\n",
       "    <tr>\n",
       "      <th>2</th>\n",
       "      <td>95</td>\n",
       "      <td>47</td>\n",
       "      <td>5785642</td>\n",
       "      <td>5902043</td>\n",
       "    </tr>\n",
       "    <tr>\n",
       "      <th>3</th>\n",
       "      <td>99</td>\n",
       "      <td>51</td>\n",
       "      <td>5785643</td>\n",
       "      <td>5902043</td>\n",
       "    </tr>\n",
       "    <tr>\n",
       "      <th>4</th>\n",
       "      <td>83</td>\n",
       "      <td>38</td>\n",
       "      <td>5787544</td>\n",
       "      <td>5902043</td>\n",
       "    </tr>\n",
       "  </tbody>\n",
       "</table>\n",
       "</div>"
      ],
      "text/plain": [
       "   pt_r_t  car_r_t  from_id    to_id\n",
       "0      90       39  5785640  5902043\n",
       "1      93       39  5785641  5902043\n",
       "2      95       47  5785642  5902043\n",
       "3      99       51  5785643  5902043\n",
       "4      83       38  5787544  5902043"
      ]
     },
     "execution_count": 153,
     "metadata": {},
     "output_type": "execute_result"
    }
   ],
   "source": [
    "data.head()"
   ]
  },
  {
   "cell_type": "markdown",
   "id": "386e32a6-0967-4944-8bc1-a7118e282ae2",
   "metadata": {},
   "source": [
    "make table join between grid and travel time data. Store output in variable called data_geo"
   ]
  },
  {
   "cell_type": "code",
   "execution_count": 154,
   "id": "cfb704d7-9acd-4173-be00-c21103f87563",
   "metadata": {},
   "outputs": [],
   "source": [
    "#Join on YKR_ID in grid geodataframe & from_id in data dataframe\n",
    "#perform full outer join to retain rows where 'id' may not exist in boh grid and data df.\n",
    "#indicator is used to identify if the ID exists in the other df.\n",
    "data_geo = grid.merge(data,  how='outer', left_on = 'YKR_ID', right_on ='from_id', indicator=True )"
   ]
  },
  {
   "cell_type": "code",
   "execution_count": 155,
   "id": "94db9370-53a0-4437-81f0-4488469ca35f",
   "metadata": {},
   "outputs": [
    {
     "data": {
      "text/html": [
       "<div>\n",
       "<style scoped>\n",
       "    .dataframe tbody tr th:only-of-type {\n",
       "        vertical-align: middle;\n",
       "    }\n",
       "\n",
       "    .dataframe tbody tr th {\n",
       "        vertical-align: top;\n",
       "    }\n",
       "\n",
       "    .dataframe thead th {\n",
       "        text-align: right;\n",
       "    }\n",
       "</style>\n",
       "<table border=\"1\" class=\"dataframe\">\n",
       "  <thead>\n",
       "    <tr style=\"text-align: right;\">\n",
       "      <th></th>\n",
       "      <th>x</th>\n",
       "      <th>y</th>\n",
       "      <th>YKR_ID</th>\n",
       "      <th>geometry</th>\n",
       "      <th>pt_r_t</th>\n",
       "      <th>car_r_t</th>\n",
       "      <th>from_id</th>\n",
       "      <th>to_id</th>\n",
       "      <th>_merge</th>\n",
       "    </tr>\n",
       "  </thead>\n",
       "  <tbody>\n",
       "    <tr>\n",
       "      <th>0</th>\n",
       "      <td>381875.0</td>\n",
       "      <td>6697880.0</td>\n",
       "      <td>5785640</td>\n",
       "      <td>POLYGON ((382000.000 6697750.000, 381750.000 6...</td>\n",
       "      <td>90</td>\n",
       "      <td>39</td>\n",
       "      <td>5785640</td>\n",
       "      <td>5902043</td>\n",
       "      <td>both</td>\n",
       "    </tr>\n",
       "    <tr>\n",
       "      <th>1</th>\n",
       "      <td>382125.0</td>\n",
       "      <td>6697880.0</td>\n",
       "      <td>5785641</td>\n",
       "      <td>POLYGON ((382250.000 6697750.000, 382000.000 6...</td>\n",
       "      <td>93</td>\n",
       "      <td>39</td>\n",
       "      <td>5785641</td>\n",
       "      <td>5902043</td>\n",
       "      <td>both</td>\n",
       "    </tr>\n",
       "    <tr>\n",
       "      <th>2</th>\n",
       "      <td>382375.0</td>\n",
       "      <td>6697880.0</td>\n",
       "      <td>5785642</td>\n",
       "      <td>POLYGON ((382500.000 6697750.000, 382250.000 6...</td>\n",
       "      <td>95</td>\n",
       "      <td>47</td>\n",
       "      <td>5785642</td>\n",
       "      <td>5902043</td>\n",
       "      <td>both</td>\n",
       "    </tr>\n",
       "    <tr>\n",
       "      <th>3</th>\n",
       "      <td>382625.0</td>\n",
       "      <td>6697880.0</td>\n",
       "      <td>5785643</td>\n",
       "      <td>POLYGON ((382750.000 6697750.000, 382500.000 6...</td>\n",
       "      <td>99</td>\n",
       "      <td>51</td>\n",
       "      <td>5785643</td>\n",
       "      <td>5902043</td>\n",
       "      <td>both</td>\n",
       "    </tr>\n",
       "    <tr>\n",
       "      <th>4</th>\n",
       "      <td>381125.0</td>\n",
       "      <td>6697630.0</td>\n",
       "      <td>5787544</td>\n",
       "      <td>POLYGON ((381250.000 6697500.000, 381000.000 6...</td>\n",
       "      <td>83</td>\n",
       "      <td>38</td>\n",
       "      <td>5787544</td>\n",
       "      <td>5902043</td>\n",
       "      <td>both</td>\n",
       "    </tr>\n",
       "  </tbody>\n",
       "</table>\n",
       "</div>"
      ],
      "text/plain": [
       "          x          y   YKR_ID  \\\n",
       "0  381875.0  6697880.0  5785640   \n",
       "1  382125.0  6697880.0  5785641   \n",
       "2  382375.0  6697880.0  5785642   \n",
       "3  382625.0  6697880.0  5785643   \n",
       "4  381125.0  6697630.0  5787544   \n",
       "\n",
       "                                            geometry  pt_r_t  car_r_t  \\\n",
       "0  POLYGON ((382000.000 6697750.000, 381750.000 6...      90       39   \n",
       "1  POLYGON ((382250.000 6697750.000, 382000.000 6...      93       39   \n",
       "2  POLYGON ((382500.000 6697750.000, 382250.000 6...      95       47   \n",
       "3  POLYGON ((382750.000 6697750.000, 382500.000 6...      99       51   \n",
       "4  POLYGON ((381250.000 6697500.000, 381000.000 6...      83       38   \n",
       "\n",
       "   from_id    to_id _merge  \n",
       "0  5785640  5902043   both  \n",
       "1  5785641  5902043   both  \n",
       "2  5785642  5902043   both  \n",
       "3  5785643  5902043   both  \n",
       "4  5787544  5902043   both  "
      ]
     },
     "execution_count": 155,
     "metadata": {},
     "output_type": "execute_result"
    }
   ],
   "source": [
    "data_geo.head()"
   ]
  },
  {
   "cell_type": "code",
   "execution_count": 156,
   "id": "b01973d9-350b-4af5-a923-e45b846d5dc5",
   "metadata": {},
   "outputs": [
    {
     "data": {
      "text/plain": [
       "both          13231\n",
       "left_only         0\n",
       "right_only        0\n",
       "Name: _merge, dtype: int64"
      ]
     },
     "execution_count": 156,
     "metadata": {},
     "output_type": "execute_result"
    }
   ],
   "source": [
    "#it appears that all the id's match up on both dataframes.\n",
    "data_geo['_merge'].value_counts()"
   ]
  },
  {
   "cell_type": "markdown",
   "id": "1a653bb4-df1c-49b1-b6af-928aa70d27bb",
   "metadata": {},
   "source": [
    "Remove no data values"
   ]
  },
  {
   "cell_type": "code",
   "execution_count": 157,
   "id": "6e832250-e739-4ebe-8dd4-a3c5f1a57a85",
   "metadata": {
    "tags": []
   },
   "outputs": [
    {
     "name": "stdout",
     "output_type": "stream",
     "text": [
      "Row with -1: pt_r_t\n",
      "Row with -1: car_r_t\n",
      "Row with -1: to_id\n"
     ]
    }
   ],
   "source": [
    "#check and verify which columns have na values\n",
    "check_cols_na(data_geo)"
   ]
  },
  {
   "cell_type": "code",
   "execution_count": 158,
   "id": "a33e6f32-f0c7-4a37-bac3-ec86cbd43b85",
   "metadata": {},
   "outputs": [
    {
     "name": "stdout",
     "output_type": "stream",
     "text": [
      "simplified NA removal:  13020\n"
     ]
    }
   ],
   "source": [
    "#replace -1 value with np.nan for all values in the dataframe\n",
    "data_geo.replace(-1, np.nan, inplace=True)\n",
    "\n",
    "#drop NA values if there any NA values in the row, do not make a copy of the instance.\n",
    "data_geo.dropna(axis=0, how='any', inplace=True)\n",
    "\n",
    "print(\"simplified NA removal: \" , len(data_geo))"
   ]
  },
  {
   "cell_type": "markdown",
   "id": "70a3b68c-c545-458d-8a84-a0236811718e",
   "metadata": {},
   "source": [
    "Classify the values in columns 'pt_r_t', 'car_r_t' into new columns 'pt_r_t_cl', 'car_r_t_cl'"
   ]
  },
  {
   "cell_type": "code",
   "execution_count": 159,
   "id": "d80458de-9761-4236-9093-5352743ac510",
   "metadata": {},
   "outputs": [],
   "source": [
    "#Create a user defined classifier\n",
    "classifier = mapclassify.UserDefined.make(bins=[5, 10, 15, 20, 25, 30, 35, 40, 45, 50, 55, 60])\n",
    "\n",
    "#apply the classifier to col pt_r_t and create a new column, pt_r_t_cl \n",
    "data_geo['pt_r_t_cl'] = data_geo[ ['pt_r_t'] ].apply(classifier)\n",
    "\n",
    "#apply the classifier to col car_r_t and create a new column, car_r_t_cl\n",
    "data_geo['car_r_t_cl'] = data_geo[ ['car_r_t'] ].apply(classifier)"
   ]
  },
  {
   "cell_type": "code",
   "execution_count": 160,
   "id": "382748cf-5ef4-48b1-aba8-5704dfbf9382",
   "metadata": {},
   "outputs": [
    {
     "data": {
      "text/plain": [
       "12    4876\n",
       "10    1320\n",
       "11    1247\n",
       "9     1229\n",
       "8     1226\n",
       "7     1074\n",
       "6      824\n",
       "5      565\n",
       "4      341\n",
       "3      197\n",
       "2      102\n",
       "1       17\n",
       "0        2\n",
       "Name: pt_r_t_cl, dtype: int64"
      ]
     },
     "execution_count": 160,
     "metadata": {},
     "output_type": "execute_result"
    }
   ],
   "source": [
    "data_geo['pt_r_t_cl'].value_counts()"
   ]
  },
  {
   "cell_type": "code",
   "execution_count": 161,
   "id": "26adfbad-b498-44d4-baae-3161ecb911af",
   "metadata": {},
   "outputs": [
    {
     "data": {
      "text/plain": [
       "6     2516\n",
       "7     2480\n",
       "5     2351\n",
       "8     1676\n",
       "4     1575\n",
       "3      812\n",
       "9      715\n",
       "10     374\n",
       "2      255\n",
       "11     162\n",
       "12      65\n",
       "1       38\n",
       "0        1\n",
       "Name: car_r_t_cl, dtype: int64"
      ]
     },
     "execution_count": 161,
     "metadata": {},
     "output_type": "execute_result"
    }
   ],
   "source": [
    "data_geo['car_r_t_cl'].value_counts()"
   ]
  },
  {
   "cell_type": "markdown",
   "id": "f5132884-96a4-4e33-bb6a-1218a9d5ccc4",
   "metadata": {},
   "source": [
    " Plot travel times by public transport and travel times by car."
   ]
  },
  {
   "cell_type": "code",
   "execution_count": 162,
   "id": "71a0d189-14ea-4133-9bac-ad61e3db402b",
   "metadata": {},
   "outputs": [
    {
     "data": {
      "image/png": "[encoded data removed]",
      "text/plain": [
       "<Figure size 432x288 with 2 Axes>"
      ]
     },
     "metadata": {
      "needs_background": "light"
     },
     "output_type": "display_data"
    }
   ],
   "source": [
    "fig, axs = plt.subplots(nrows = 1, ncols=2, sharex=True, sharey=True)\n",
    "\n",
    "plot1 = data_geo.plot(ax=axs[0], column= 'car_r_t_cl', cmap=\"RdYlBu\", linewidth=0, legend =False, figsize=(10, 5))\n",
    "plot2 = data_geo.plot(ax=axs[1], column= 'pt_r_t_cl', cmap=\"RdYlBu\", linewidth=0, legend =False, figsize=(10, 5))\n",
    "\n",
    "#set title for each axes object\n",
    "plot1.set_title('Myyrmanni - Travel Time by Car')\n",
    "plot2.set_title('Myyrmanni - Travel Time by PT')\n",
    "\n",
    "#turn off the axis for each axes object\n",
    "plot1.axis('off')\n",
    "plot2.axis('off')\n",
    "\n",
    "#remove all whitespace from all axes objects\n",
    "plt.tight_layout()\n",
    "\n",
    "#show all axes object\n",
    "plt.show()"
   ]
  },
  {
   "cell_type": "markdown",
   "id": "a8779740-de19-42a5-92c3-824c08e36c20",
   "metadata": {},
   "source": [
    "Save output image to file (myyrmanni_accessibility.png)"
   ]
  },
  {
   "cell_type": "code",
   "execution_count": 163,
   "id": "00cd2161-a8ed-46aa-aa06-63a8d0716209",
   "metadata": {},
   "outputs": [],
   "source": [
    "output_fig2 = 'myyrmanni_accessibility.png'\n",
    "fig.savefig(output_fig2)"
   ]
  },
  {
   "cell_type": "code",
   "execution_count": 164,
   "id": "015fa176-72c8-44dc-ad4f-dd84f390b32b",
   "metadata": {},
   "outputs": [],
   "source": [
    "# NON-EDITABLE TEST CELL\n",
    "# Check that output figure file exists\n",
    "import os\n",
    "assert os.path.isfile(output_fig2), \"figure does not exists!\""
   ]
  },
  {
   "cell_type": "markdown",
   "id": "1ab07933-bb9e-4395-9600-67177e3b3caf",
   "metadata": {},
   "source": [
    "# Optional: 4-panel figure\n",
    "\n",
    "- As an optional task, plot travel times to Itis and Myyrmanni all in one 4-panel figure (see example at the top of this page)!\n",
    "\n",
    "Hints:\n",
    "\n",
    "- create a for-loop where you repeat all the steps for Itis and Myyrmanni (you can iterate over a list of input filepaths)\n",
    "- Before the for-loop, create a figure with 4 subplots (2 rows and 2 columns) and use figsize=(10,10)\n",
    "- Inside the for-loop, plot each map into one of the subplots.\n",
    "- save the figure as shopping_center_accessibility.png"
   ]
  },
  {
   "cell_type": "code",
   "execution_count": 174,
   "id": "8f259e5f-66ba-4dd9-ba96-b150e69837ef",
   "metadata": {},
   "outputs": [],
   "source": [
    "#stores the list of Travel_Times_XXX.txt files\n",
    "file_list = [travel_time_data, path2]\n",
    "\n",
    "def plot_data_geo(list_of_travel_time_files, grid_file_path):\n",
    "    \n",
    "    #number rows is dependent on number of travel time files\n",
    "    fig, axs = plt.subplots(nrows = len(list_of_travel_time_files), ncols=2, sharex=True, sharey=True)\n",
    "    \n",
    "    #store the geodataframe instances after processing list_of_travel_times file\n",
    "    gdf_list = [] \n",
    "    \n",
    "    for index in range(0,len(list_of_travel_time_files)):\n",
    "        \n",
    "        classified_gdf = classify_travel_times_with_grid(list_of_travel_time_files[index], grid_file_path)\n",
    "        \n",
    "        #append tuple of axes objects generated from plotting the geodataframe output of the classify functions\n",
    "        gdf_list.append( \n",
    "            (\n",
    "            classified_gdf.plot(ax=axs[index,0], column= 'car_r_t_cl', cmap=\"RdYlBu\", linewidth=0, legend=False, figsize=(10, 10)) ,\n",
    "            \n",
    "            classified_gdf.plot(ax=axs[index,1], column= 'pt_r_t_cl', cmap=\"RdYlBu\", linewidth=0, legend=False, figsize=(10, 10))\n",
    "            )\n",
    "        )\n",
    "        \n",
    "    for index in range(0, len(gdf_list)):\n",
    "        #set title for each axes object\n",
    "        gdf_list[index][0].set_title('Travel Time by Car')\n",
    "        gdf_list[index][1].set_title('Travel Time by PT')\n",
    "\n",
    "        #turn off the axis for each axes object\n",
    "        gdf_list[index][0].axis('off')\n",
    "        gdf_list[index][1].axis('off')\n",
    "\n",
    "    #remove all whitespace from all axes objects\n",
    "    plt.tight_layout()\n",
    "\n",
    "    #show all axes object\n",
    "    plt.show()\n",
    "    \n",
    "    output_fig2 = 'shopping_center_accessibility_{val}.png'.format( val = len(list_of_travel_time_files) )\n",
    "    fig.savefig(output_fig2)\n",
    "\n",
    "        \n",
    "def classify_travel_times_with_grid(file, grid_file):\n",
    "    \n",
    "    #read travel times file convert to dataframe\n",
    "    data = pd.read_csv(file,sep = ';')\n",
    "    \n",
    "    #extract a subset of columns from dataframe\n",
    "    data = data[ [ 'pt_r_t' , 'car_r_t', 'from_id', 'to_id' ] ] \n",
    "    \n",
    "    #read in grid file as a geodataframe\n",
    "    grid_path = os.path.join(grid_file)\n",
    "    grid = gpd.read_file(grid_path)\n",
    "    \n",
    "    #full outer join between travel times dataframe into grid dataframe matching YKRID = from_id\n",
    "    data_geo = grid.merge(data,  how='outer', left_on = 'YKR_ID', right_on ='from_id', indicator=True )\n",
    "    \n",
    "    #replace -1 values with nan\n",
    "    data_geo.replace(-1, np.nan, inplace=True)\n",
    "\n",
    "    #drop NA values if there any NA values in the row, do not make a copy of the instance.\n",
    "    data_geo.dropna(axis=0, how='any', inplace=True)\n",
    "\n",
    "    print(\"simplified NA removal: \" , len(data_geo))\n",
    "    \n",
    "    #Create a user defined classifier\n",
    "    classifier = mapclassify.UserDefined.make(bins=[5, 10, 15, 20, 25, 30, 35, 40, 45, 50, 55, 60])\n",
    "    \n",
    "    #apply Classifier to the pt_r_t column and create a new column with the new output \n",
    "    data_geo['pt_r_t_cl'] = data_geo[['pt_r_t']].apply(classifier)\n",
    "    \n",
    "    #apply Classifier to the car_r_t column and create a new column with the new output\n",
    "    data_geo['car_r_t_cl'] = data_geo[['car_r_t']].apply(classifier)\n",
    "    \n",
    "    #return a geodataframe with classification columns on pt_r_t_cl and car_r_t_cl\n",
    "    return data_geo"
   ]
  },
  {
   "cell_type": "code",
   "execution_count": 168,
   "id": "07216d42-21bb-4b53-b1fc-a5f012a6c434",
   "metadata": {},
   "outputs": [
    {
     "name": "stdout",
     "output_type": "stream",
     "text": [
      "['exercise-4-main\\\\data\\\\TravelTimes_to_5944003_Itis.txt', 'exercise-4-main/data\\\\TravelTimes_to_5902043_Myyrmanni.txt']\n"
     ]
    }
   ],
   "source": [
    "#identify all files in the file_list for testing\n",
    "print(file_list)"
   ]
  },
  {
   "cell_type": "code",
   "execution_count": 175,
   "id": "079dcfd7-3560-4c26-9ee6-86e834e3b1d7",
   "metadata": {},
   "outputs": [
    {
     "name": "stdout",
     "output_type": "stream",
     "text": [
      "simplified NA removal:  13020\n",
      "simplified NA removal:  13020\n"
     ]
    },
    {
     "data": {
      "image/png": "[encoded data removed]",
      "text/plain": [
       "<Figure size 432x288 with 4 Axes>"
      ]
     },
     "metadata": {
      "needs_background": "light"
     },
     "output_type": "display_data"
    }
   ],
   "source": [
    "#test function\n",
    "plot_data_geo(file_list, grid_path)"
   ]
  },
  {
   "cell_type": "code",
   "execution_count": null,
   "id": "08a11dfc-9a5a-4780-9be2-b501698c887a",
   "metadata": {},
   "outputs": [],
   "source": []
  }
 ],
 "metadata": {
  "kernelspec": {
   "display_name": "Python 3 (ipykernel)",
   "language": "python",
   "name": "python3"
  },
  "language_info": {
   "codemirror_mode": {
    "name": "ipython",
    "version": 3
   },
   "file_extension": ".py",
   "mimetype": "text/x-python",
   "name": "python",
   "nbconvert_exporter": "python",
   "pygments_lexer": "ipython3",
   "version": "3.8.12"
  }
 },
 "nbformat": 4,
 "nbformat_minor": 5
}
