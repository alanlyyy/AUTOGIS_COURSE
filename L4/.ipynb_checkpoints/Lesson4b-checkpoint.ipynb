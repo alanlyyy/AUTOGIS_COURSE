{
 "cells": [
  {
   "cell_type": "markdown",
   "id": "86a13f61-46b2-41d5-96d9-5a17e2318e10",
   "metadata": {},
   "source": [
    "In this tutorial, we will create boundaries of Finnish hospital districts (sairaanhoitopiiri in Finnish) by dissolving municipality boundaries into larger entities. Main processing steps include a table join and dissolving the municipality geometries into larger entities.\n",
    "\n",
    "We will combine information from municipality polygons from Statistics Finland and a list of health care districts by the Finnish Municipality authority Kuntaliitto.\n",
    "\n",
    "Importing required python packages:"
   ]
  },
  {
   "cell_type": "code",
   "execution_count": 1,
   "id": "b27a55d2-3850-4849-ae86-23cb98d32b7d",
   "metadata": {},
   "outputs": [],
   "source": [
    "import json\n",
    "import numpy as np\n",
    "import pandas as pd\n",
    "import geopandas as gpd\n",
    "from pyproj import CRS\n",
    "import matplotlib.pyplot as plt"
   ]
  },
  {
   "cell_type": "markdown",
   "id": "ccac5f46-b37d-4e9f-bdad-bb4490a07b08",
   "metadata": {},
   "source": [
    "Read in data¶\n",
    "Municipality polygons from Statistics Finland web feature service: https://www.stat.fi/org/avoindata/paikkatietoaineistot/kuntapohjaiset_tilastointialueet.html\n",
    "\n",
    "wfs: http://geo.stat.fi/geoserver/tilastointialueet/wfs?\n",
    "\n",
    "feature: tilastointialueet:kunta1000k (most recent information about municipality polygons)"
   ]
  },
  {
   "cell_type": "code",
   "execution_count": 2,
   "id": "290ee704-302a-4cd0-a09d-3b98f030b789",
   "metadata": {},
   "outputs": [],
   "source": [
    "# For available features, see http://geo.stat.fi/geoserver/tilastointialueet/wfs?request=GetCapabilities\n",
    "url = \"http://geo.stat.fi/geoserver/tilastointialueet/wfs?request=GetFeature&typename=tilastointialueet:kunta1000k&outputformat=JSON\"\n",
    "geodata = gpd.read_file(url) #read the url (JSON format) to a geodataframe"
   ]
  },
  {
   "cell_type": "code",
   "execution_count": 3,
   "id": "8e48cf5b-ca9f-4713-b522-c62cd3859650",
   "metadata": {},
   "outputs": [
    {
     "data": {
      "text/html": [
       "<div>\n",
       "<style scoped>\n",
       "    .dataframe tbody tr th:only-of-type {\n",
       "        vertical-align: middle;\n",
       "    }\n",
       "\n",
       "    .dataframe tbody tr th {\n",
       "        vertical-align: top;\n",
       "    }\n",
       "\n",
       "    .dataframe thead th {\n",
       "        text-align: right;\n",
       "    }\n",
       "</style>\n",
       "<table border=\"1\" class=\"dataframe\">\n",
       "  <thead>\n",
       "    <tr style=\"text-align: right;\">\n",
       "      <th></th>\n",
       "      <th>id</th>\n",
       "      <th>kunta</th>\n",
       "      <th>vuosi</th>\n",
       "      <th>nimi</th>\n",
       "      <th>namn</th>\n",
       "      <th>name</th>\n",
       "      <th>geometry</th>\n",
       "    </tr>\n",
       "  </thead>\n",
       "  <tbody>\n",
       "    <tr>\n",
       "      <th>0</th>\n",
       "      <td>kunta1000k.1</td>\n",
       "      <td>005</td>\n",
       "      <td>2022</td>\n",
       "      <td>Alajärvi</td>\n",
       "      <td>Alajärvi</td>\n",
       "      <td>Alajärvi</td>\n",
       "      <td>POLYGON ((366787.924 7001300.583, 364487.590 6...</td>\n",
       "    </tr>\n",
       "    <tr>\n",
       "      <th>1</th>\n",
       "      <td>kunta1000k.2</td>\n",
       "      <td>009</td>\n",
       "      <td>2022</td>\n",
       "      <td>Alavieska</td>\n",
       "      <td>Alavieska</td>\n",
       "      <td>Alavieska</td>\n",
       "      <td>POLYGON ((382543.364 7120022.976, 382899.505 7...</td>\n",
       "    </tr>\n",
       "    <tr>\n",
       "      <th>2</th>\n",
       "      <td>kunta1000k.3</td>\n",
       "      <td>010</td>\n",
       "      <td>2022</td>\n",
       "      <td>Alavus</td>\n",
       "      <td>Alavo</td>\n",
       "      <td>Alavus</td>\n",
       "      <td>POLYGON ((343298.204 6961570.195, 343831.847 6...</td>\n",
       "    </tr>\n",
       "    <tr>\n",
       "      <th>3</th>\n",
       "      <td>kunta1000k.4</td>\n",
       "      <td>016</td>\n",
       "      <td>2022</td>\n",
       "      <td>Asikkala</td>\n",
       "      <td>Asikkala</td>\n",
       "      <td>Asikkala</td>\n",
       "      <td>POLYGON ((436139.680 6798279.085, 435714.468 6...</td>\n",
       "    </tr>\n",
       "    <tr>\n",
       "      <th>4</th>\n",
       "      <td>kunta1000k.5</td>\n",
       "      <td>018</td>\n",
       "      <td>2022</td>\n",
       "      <td>Askola</td>\n",
       "      <td>Askola</td>\n",
       "      <td>Askola</td>\n",
       "      <td>POLYGON ((426631.036 6720528.076, 428821.749 6...</td>\n",
       "    </tr>\n",
       "  </tbody>\n",
       "</table>\n",
       "</div>"
      ],
      "text/plain": [
       "             id kunta  vuosi       nimi       namn       name  \\\n",
       "0  kunta1000k.1   005   2022   Alajärvi   Alajärvi   Alajärvi   \n",
       "1  kunta1000k.2   009   2022  Alavieska  Alavieska  Alavieska   \n",
       "2  kunta1000k.3   010   2022     Alavus      Alavo     Alavus   \n",
       "3  kunta1000k.4   016   2022   Asikkala   Asikkala   Asikkala   \n",
       "4  kunta1000k.5   018   2022     Askola     Askola     Askola   \n",
       "\n",
       "                                            geometry  \n",
       "0  POLYGON ((366787.924 7001300.583, 364487.590 6...  \n",
       "1  POLYGON ((382543.364 7120022.976, 382899.505 7...  \n",
       "2  POLYGON ((343298.204 6961570.195, 343831.847 6...  \n",
       "3  POLYGON ((436139.680 6798279.085, 435714.468 6...  \n",
       "4  POLYGON ((426631.036 6720528.076, 428821.749 6...  "
      ]
     },
     "execution_count": 3,
     "metadata": {},
     "output_type": "execute_result"
    }
   ],
   "source": [
    "geodata.head()"
   ]
  },
  {
   "cell_type": "code",
   "execution_count": 4,
   "id": "5196cb13-a551-48cf-a606-78404ea4b016",
   "metadata": {},
   "outputs": [
    {
     "data": {
      "text/plain": [
       "309"
      ]
     },
     "execution_count": 4,
     "metadata": {},
     "output_type": "execute_result"
    }
   ],
   "source": [
    "# Check length (there are 310 municipalities in Finland in 2020)\n",
    "len(geodata)"
   ]
  },
  {
   "cell_type": "code",
   "execution_count": 5,
   "id": "76b444c8-e447-43cf-888e-422d18997197",
   "metadata": {},
   "outputs": [
    {
     "data": {
      "text/html": [
       "<div>\n",
       "<style scoped>\n",
       "    .dataframe tbody tr th:only-of-type {\n",
       "        vertical-align: middle;\n",
       "    }\n",
       "\n",
       "    .dataframe tbody tr th {\n",
       "        vertical-align: top;\n",
       "    }\n",
       "\n",
       "    .dataframe thead th {\n",
       "        text-align: right;\n",
       "    }\n",
       "</style>\n",
       "<table border=\"1\" class=\"dataframe\">\n",
       "  <thead>\n",
       "    <tr style=\"text-align: right;\">\n",
       "      <th></th>\n",
       "      <th>code</th>\n",
       "      <th>name</th>\n",
       "      <th>geometry</th>\n",
       "    </tr>\n",
       "  </thead>\n",
       "  <tbody>\n",
       "    <tr>\n",
       "      <th>0</th>\n",
       "      <td>005</td>\n",
       "      <td>Alajärvi</td>\n",
       "      <td>POLYGON ((366787.924 7001300.583, 364487.590 6...</td>\n",
       "    </tr>\n",
       "    <tr>\n",
       "      <th>1</th>\n",
       "      <td>009</td>\n",
       "      <td>Alavieska</td>\n",
       "      <td>POLYGON ((382543.364 7120022.976, 382899.505 7...</td>\n",
       "    </tr>\n",
       "    <tr>\n",
       "      <th>2</th>\n",
       "      <td>010</td>\n",
       "      <td>Alavus</td>\n",
       "      <td>POLYGON ((343298.204 6961570.195, 343831.847 6...</td>\n",
       "    </tr>\n",
       "    <tr>\n",
       "      <th>3</th>\n",
       "      <td>016</td>\n",
       "      <td>Asikkala</td>\n",
       "      <td>POLYGON ((436139.680 6798279.085, 435714.468 6...</td>\n",
       "    </tr>\n",
       "    <tr>\n",
       "      <th>4</th>\n",
       "      <td>018</td>\n",
       "      <td>Askola</td>\n",
       "      <td>POLYGON ((426631.036 6720528.076, 428821.749 6...</td>\n",
       "    </tr>\n",
       "  </tbody>\n",
       "</table>\n",
       "</div>"
      ],
      "text/plain": [
       "  code       name                                           geometry\n",
       "0  005   Alajärvi  POLYGON ((366787.924 7001300.583, 364487.590 6...\n",
       "1  009  Alavieska  POLYGON ((382543.364 7120022.976, 382899.505 7...\n",
       "2  010     Alavus  POLYGON ((343298.204 6961570.195, 343831.847 6...\n",
       "3  016   Asikkala  POLYGON ((436139.680 6798279.085, 435714.468 6...\n",
       "4  018     Askola  POLYGON ((426631.036 6720528.076, 428821.749 6..."
      ]
     },
     "execution_count": 5,
     "metadata": {},
     "output_type": "execute_result"
    }
   ],
   "source": [
    "#select and rename columns\n",
    "geodata.rename(columns={'kunta':'code'},inplace=True)\n",
    "\n",
    "#select code,name,and geometry columns from geodata, and replace the existing dataframe\n",
    "geodata = geodata[['code','name','geometry']]\n",
    "geodata.head()"
   ]
  },
  {
   "cell_type": "code",
   "execution_count": 6,
   "id": "aba73606-d9af-4627-812d-0289336efa2f",
   "metadata": {},
   "outputs": [
    {
     "data": {
      "text/plain": [
       "<AxesSubplot:>"
      ]
     },
     "execution_count": 6,
     "metadata": {},
     "output_type": "execute_result"
    },
    {
     "data": {
      "image/png": "[encoded data removed]",
      "text/plain": [
       "<Figure size 432x288 with 1 Axes>"
      ]
     },
     "metadata": {
      "needs_background": "light"
     },
     "output_type": "display_data"
    }
   ],
   "source": [
    "geodata.plot()"
   ]
  },
  {
   "cell_type": "code",
   "execution_count": 7,
   "id": "1b18a12a-7d62-460b-abc0-f9309144fc99",
   "metadata": {},
   "outputs": [
    {
     "data": {
      "text/plain": [
       "code          object\n",
       "name          object\n",
       "geometry    geometry\n",
       "dtype: object"
      ]
     },
     "execution_count": 7,
     "metadata": {},
     "output_type": "execute_result"
    }
   ],
   "source": [
    "geodata.dtypes"
   ]
  },
  {
   "cell_type": "markdown",
   "id": "ae164c8f-d1de-4903-93e8-b3677f9fb5c4",
   "metadata": {
    "tags": []
   },
   "source": [
    "Excel files often come with additional formatting such as metadata on the first lines of the data array. This is why it is a good idea to download the file on your own computer and have a look at the data structure before reading in the file using Python. It is also often a good idea to save the file as a csv file before reading in the data. However, it is also possible to read in data directly from Excel. For this, you need to have the xlrd module installed:\n",
    "\n",
    "- conda install -c conda-forge xlrd"
   ]
  },
  {
   "cell_type": "markdown",
   "id": "847bc7a4-af14-4c7d-b477-9b368cf8f271",
   "metadata": {},
   "source": [
    "In the case of this health districts excel the header is located on the 4th row (index 3) of the excel spreadsheet."
   ]
  },
  {
   "cell_type": "code",
   "execution_count": 9,
   "id": "c99ca19b-6431-4c16-891e-89c2180067d5",
   "metadata": {},
   "outputs": [],
   "source": [
    "data = pd.read_excel(r\"Shp_jäsenkunnat_2020.xls\", sheet_name=\"kunnat_shp_2020_ aakkosjärj.\", header=3)"
   ]
  },
  {
   "cell_type": "code",
   "execution_count": 10,
   "id": "94c857b6-8b74-4c59-8a99-f322ae2ea25e",
   "metadata": {},
   "outputs": [
    {
     "name": "stdout",
     "output_type": "stream",
     "text": [
      "   kunta-\\nkoodi      kunta  shp:n koodi  sairaanhoitopiiri erva-alue  \\\n",
      "0            NaN        NaN          NaN                NaN       NaN   \n",
      "1           20.0       Akaa          6.0          Pirkanmaa      TAYS   \n",
      "2            5.0   Alajärvi         15.0    Etelä-Pohjanmaa      TAYS   \n",
      "3            9.0  Alavieska         18.0  Pohjois-Pohjanmaa       OYS   \n",
      "4           10.0     Alavus         15.0    Etelä-Pohjanmaa      TAYS   \n",
      "\n",
      "   kuntien lkm  \n",
      "0          NaN  \n",
      "1          1.0  \n",
      "2          2.0  \n",
      "3          3.0  \n",
      "4          4.0  \n"
     ]
    }
   ],
   "source": [
    "print(data.head())"
   ]
  },
  {
   "cell_type": "markdown",
   "id": "e98a0706-1368-4276-ac28-5ad214e45521",
   "metadata": {},
   "source": [
    "- In addition, the first row after the header is empty. We can get rid of it using the dropna() -function:"
   ]
  },
  {
   "cell_type": "code",
   "execution_count": 11,
   "id": "84ef0511-6772-4fad-9ef1-d8955d79183e",
   "metadata": {},
   "outputs": [],
   "source": [
    "data.dropna(inplace=True)"
   ]
  },
  {
   "cell_type": "code",
   "execution_count": 12,
   "id": "210e28cd-eb8d-4190-9371-beda0b05e8f9",
   "metadata": {},
   "outputs": [
    {
     "name": "stdout",
     "output_type": "stream",
     "text": [
      "294\n"
     ]
    }
   ],
   "source": [
    "print(len(data))"
   ]
  },
  {
   "cell_type": "code",
   "execution_count": 14,
   "id": "3394a9fb-0f66-444c-a824-0692202f35c4",
   "metadata": {},
   "outputs": [],
   "source": [
    "#Rename columns kunta-\\nkoodi & 'sairaanhoitopiiri'\n",
    "data.rename(columns= { 'kunta-\\nkoodi': 'code', 'sairaanhoitopiiri':'healthCareDistrict' }, inplace=True)\n",
    "\n",
    "#select subset useful columns\n",
    "data = data[['code','healthCareDistrict']]"
   ]
  },
  {
   "cell_type": "code",
   "execution_count": 15,
   "id": "f668609c-0a77-4ba7-812a-d137ef242aee",
   "metadata": {},
   "outputs": [
    {
     "name": "stdout",
     "output_type": "stream",
     "text": [
      "      code healthCareDistrict\n",
      "1     20.0          Pirkanmaa\n",
      "2      5.0    Etelä-Pohjanmaa\n",
      "3      9.0  Pohjois-Pohjanmaa\n",
      "4     10.0    Etelä-Pohjanmaa\n",
      "5     16.0        Päijät-Häme\n",
      "..     ...                ...\n",
      "290  977.0  Pohjois-Pohjanmaa\n",
      "291  980.0          Pirkanmaa\n",
      "292  981.0         Kanta-Häme\n",
      "293  989.0    Etelä-Pohjanmaa\n",
      "294  992.0        Keski-Suomi\n",
      "\n",
      "[294 rows x 2 columns]\n"
     ]
    }
   ],
   "source": [
    "print(data)"
   ]
  },
  {
   "cell_type": "code",
   "execution_count": 16,
   "id": "0ad2756e-aa84-49d9-a99f-bda56018b555",
   "metadata": {},
   "outputs": [
    {
     "name": "stdout",
     "output_type": "stream",
     "text": [
      "code                  float64\n",
      "healthCareDistrict     object\n",
      "dtype: object\n"
     ]
    }
   ],
   "source": [
    "print(data.dtypes)"
   ]
  },
  {
   "cell_type": "markdown",
   "id": "21233389-6058-4048-91da-0a96b809faf0",
   "metadata": {},
   "source": [
    "- prepare the data for table join. We will use the municipality code as the common key."
   ]
  },
  {
   "cell_type": "markdown",
   "id": "a820ca12-3bf6-4118-99d9-1ac4ea91d575",
   "metadata": {},
   "source": [
    "- The code column is currently a floating point number. We need to modify these codes so that they match the ones in the spatial data:"
   ]
  },
  {
   "cell_type": "code",
   "execution_count": 19,
   "id": "1be7732d-b949-4f0e-a9a7-5a6c5263708b",
   "metadata": {},
   "outputs": [
    {
     "name": "stdout",
     "output_type": "stream",
     "text": [
      "20.0\n",
      "020\n"
     ]
    }
   ],
   "source": [
    "# Example using one code\n",
    "number = data.at[1, \"code\"]\n",
    "print(number)\n",
    "\n",
    "# Conver this number to character string 020\n",
    "print(\"20\".zfill(3))"
   ]
  },
  {
   "cell_type": "markdown",
   "id": "4d167c43-f416-4e92-89cd-c791834fd383",
   "metadata": {},
   "source": [
    "-  apply this process on all rows at once, and take into account different number of digits:"
   ]
  },
  {
   "cell_type": "code",
   "execution_count": 20,
   "id": "81bf30c2-9f9e-4265-a3dd-8a39aa568ed6",
   "metadata": {},
   "outputs": [],
   "source": [
    "#convert each row of code column from into to str\n",
    "data[\"code\"] = data[\"code\"].astype(int).astype('str')\n",
    "\n",
    "#add missing zeros to municipality code strings\n",
    "data[\"code\"] = data[\"code\"].str.zfill(3)"
   ]
  },
  {
   "cell_type": "code",
   "execution_count": 21,
   "id": "5c9b4198-4fec-486e-8e86-29515b11a634",
   "metadata": {},
   "outputs": [
    {
     "data": {
      "text/html": [
       "<div>\n",
       "<style scoped>\n",
       "    .dataframe tbody tr th:only-of-type {\n",
       "        vertical-align: middle;\n",
       "    }\n",
       "\n",
       "    .dataframe tbody tr th {\n",
       "        vertical-align: top;\n",
       "    }\n",
       "\n",
       "    .dataframe thead th {\n",
       "        text-align: right;\n",
       "    }\n",
       "</style>\n",
       "<table border=\"1\" class=\"dataframe\">\n",
       "  <thead>\n",
       "    <tr style=\"text-align: right;\">\n",
       "      <th></th>\n",
       "      <th>code</th>\n",
       "      <th>healthCareDistrict</th>\n",
       "    </tr>\n",
       "  </thead>\n",
       "  <tbody>\n",
       "    <tr>\n",
       "      <th>1</th>\n",
       "      <td>020</td>\n",
       "      <td>Pirkanmaa</td>\n",
       "    </tr>\n",
       "    <tr>\n",
       "      <th>2</th>\n",
       "      <td>005</td>\n",
       "      <td>Etelä-Pohjanmaa</td>\n",
       "    </tr>\n",
       "    <tr>\n",
       "      <th>3</th>\n",
       "      <td>009</td>\n",
       "      <td>Pohjois-Pohjanmaa</td>\n",
       "    </tr>\n",
       "    <tr>\n",
       "      <th>4</th>\n",
       "      <td>010</td>\n",
       "      <td>Etelä-Pohjanmaa</td>\n",
       "    </tr>\n",
       "    <tr>\n",
       "      <th>5</th>\n",
       "      <td>016</td>\n",
       "      <td>Päijät-Häme</td>\n",
       "    </tr>\n",
       "  </tbody>\n",
       "</table>\n",
       "</div>"
      ],
      "text/plain": [
       "  code healthCareDistrict\n",
       "1  020          Pirkanmaa\n",
       "2  005    Etelä-Pohjanmaa\n",
       "3  009  Pohjois-Pohjanmaa\n",
       "4  010    Etelä-Pohjanmaa\n",
       "5  016        Päijät-Häme"
      ]
     },
     "execution_count": 21,
     "metadata": {},
     "output_type": "execute_result"
    }
   ],
   "source": [
    "data.head()"
   ]
  },
  {
   "cell_type": "markdown",
   "id": "6cf4593a-c7ca-4509-905c-e2a8d8345ac4",
   "metadata": {},
   "source": [
    "Join Health district info to the municipality polygons"
   ]
  },
  {
   "cell_type": "code",
   "execution_count": 22,
   "id": "9b1e08b4-b773-4f44-9dea-bd1a4e0ed043",
   "metadata": {},
   "outputs": [],
   "source": [
    "#merge health districts into geodata using 'code' as the key, preserve geodata columns and append data columns to geodata\n",
    "geodata = geodata.merge(data, on=\"code\", how= \"left\")"
   ]
  },
  {
   "cell_type": "code",
   "execution_count": 23,
   "id": "dc352696-fe8d-4feb-94cb-c0a3d82320a2",
   "metadata": {},
   "outputs": [
    {
     "data": {
      "text/html": [
       "<div>\n",
       "<style scoped>\n",
       "    .dataframe tbody tr th:only-of-type {\n",
       "        vertical-align: middle;\n",
       "    }\n",
       "\n",
       "    .dataframe tbody tr th {\n",
       "        vertical-align: top;\n",
       "    }\n",
       "\n",
       "    .dataframe thead th {\n",
       "        text-align: right;\n",
       "    }\n",
       "</style>\n",
       "<table border=\"1\" class=\"dataframe\">\n",
       "  <thead>\n",
       "    <tr style=\"text-align: right;\">\n",
       "      <th></th>\n",
       "      <th>code</th>\n",
       "      <th>name</th>\n",
       "      <th>geometry</th>\n",
       "      <th>healthCareDistrict</th>\n",
       "    </tr>\n",
       "  </thead>\n",
       "  <tbody>\n",
       "    <tr>\n",
       "      <th>0</th>\n",
       "      <td>005</td>\n",
       "      <td>Alajärvi</td>\n",
       "      <td>POLYGON ((366787.924 7001300.583, 364487.590 6...</td>\n",
       "      <td>Etelä-Pohjanmaa</td>\n",
       "    </tr>\n",
       "    <tr>\n",
       "      <th>1</th>\n",
       "      <td>009</td>\n",
       "      <td>Alavieska</td>\n",
       "      <td>POLYGON ((382543.364 7120022.976, 382899.505 7...</td>\n",
       "      <td>Pohjois-Pohjanmaa</td>\n",
       "    </tr>\n",
       "    <tr>\n",
       "      <th>2</th>\n",
       "      <td>010</td>\n",
       "      <td>Alavus</td>\n",
       "      <td>POLYGON ((343298.204 6961570.195, 343831.847 6...</td>\n",
       "      <td>Etelä-Pohjanmaa</td>\n",
       "    </tr>\n",
       "    <tr>\n",
       "      <th>3</th>\n",
       "      <td>016</td>\n",
       "      <td>Asikkala</td>\n",
       "      <td>POLYGON ((436139.680 6798279.085, 435714.468 6...</td>\n",
       "      <td>Päijät-Häme</td>\n",
       "    </tr>\n",
       "    <tr>\n",
       "      <th>4</th>\n",
       "      <td>018</td>\n",
       "      <td>Askola</td>\n",
       "      <td>POLYGON ((426631.036 6720528.076, 428821.749 6...</td>\n",
       "      <td>HUS</td>\n",
       "    </tr>\n",
       "    <tr>\n",
       "      <th>...</th>\n",
       "      <td>...</td>\n",
       "      <td>...</td>\n",
       "      <td>...</td>\n",
       "      <td>...</td>\n",
       "    </tr>\n",
       "    <tr>\n",
       "      <th>304</th>\n",
       "      <td>977</td>\n",
       "      <td>Ylivieska</td>\n",
       "      <td>POLYGON ((398010.991 7110887.267, 399696.069 7...</td>\n",
       "      <td>Pohjois-Pohjanmaa</td>\n",
       "    </tr>\n",
       "    <tr>\n",
       "      <th>305</th>\n",
       "      <td>980</td>\n",
       "      <td>Ylöjärvi</td>\n",
       "      <td>POLYGON ((313738.511 6896936.100, 319421.316 6...</td>\n",
       "      <td>Pirkanmaa</td>\n",
       "    </tr>\n",
       "    <tr>\n",
       "      <th>306</th>\n",
       "      <td>981</td>\n",
       "      <td>Ypäjä</td>\n",
       "      <td>POLYGON ((297451.456 6756204.328, 297931.884 6...</td>\n",
       "      <td>Kanta-Häme</td>\n",
       "    </tr>\n",
       "    <tr>\n",
       "      <th>307</th>\n",
       "      <td>989</td>\n",
       "      <td>Ähtäri</td>\n",
       "      <td>POLYGON ((348733.187 6959704.551, 349457.337 6...</td>\n",
       "      <td>Etelä-Pohjanmaa</td>\n",
       "    </tr>\n",
       "    <tr>\n",
       "      <th>308</th>\n",
       "      <td>992</td>\n",
       "      <td>Äänekoski</td>\n",
       "      <td>POLYGON ((452626.858 6973610.366, 457542.012 6...</td>\n",
       "      <td>Keski-Suomi</td>\n",
       "    </tr>\n",
       "  </tbody>\n",
       "</table>\n",
       "<p>309 rows × 4 columns</p>\n",
       "</div>"
      ],
      "text/plain": [
       "    code       name                                           geometry  \\\n",
       "0    005   Alajärvi  POLYGON ((366787.924 7001300.583, 364487.590 6...   \n",
       "1    009  Alavieska  POLYGON ((382543.364 7120022.976, 382899.505 7...   \n",
       "2    010     Alavus  POLYGON ((343298.204 6961570.195, 343831.847 6...   \n",
       "3    016   Asikkala  POLYGON ((436139.680 6798279.085, 435714.468 6...   \n",
       "4    018     Askola  POLYGON ((426631.036 6720528.076, 428821.749 6...   \n",
       "..   ...        ...                                                ...   \n",
       "304  977  Ylivieska  POLYGON ((398010.991 7110887.267, 399696.069 7...   \n",
       "305  980   Ylöjärvi  POLYGON ((313738.511 6896936.100, 319421.316 6...   \n",
       "306  981      Ypäjä  POLYGON ((297451.456 6756204.328, 297931.884 6...   \n",
       "307  989     Ähtäri  POLYGON ((348733.187 6959704.551, 349457.337 6...   \n",
       "308  992  Äänekoski  POLYGON ((452626.858 6973610.366, 457542.012 6...   \n",
       "\n",
       "    healthCareDistrict  \n",
       "0      Etelä-Pohjanmaa  \n",
       "1    Pohjois-Pohjanmaa  \n",
       "2      Etelä-Pohjanmaa  \n",
       "3          Päijät-Häme  \n",
       "4                  HUS  \n",
       "..                 ...  \n",
       "304  Pohjois-Pohjanmaa  \n",
       "305          Pirkanmaa  \n",
       "306         Kanta-Häme  \n",
       "307    Etelä-Pohjanmaa  \n",
       "308        Keski-Suomi  \n",
       "\n",
       "[309 rows x 4 columns]"
      ]
     },
     "execution_count": 23,
     "metadata": {},
     "output_type": "execute_result"
    }
   ],
   "source": [
    "geodata"
   ]
  },
  {
   "cell_type": "markdown",
   "id": "3393f72b-754f-42f3-956a-13df3da69a25",
   "metadata": {},
   "source": [
    "- Check the count of municipalities per health care disctrict"
   ]
  },
  {
   "cell_type": "code",
   "execution_count": 38,
   "id": "0e5434b5-ef00-414e-9091-46715f87e6cc",
   "metadata": {},
   "outputs": [
    {
     "data": {
      "text/plain": [
       "Pohjois-Pohjanmaa    29\n",
       "Varsinais-Suomi      28\n",
       "HUS                  24\n",
       "Pirkanmaa            23\n",
       "Keski-Suomi          21\n",
       "Etelä-Pohjanmaa      18\n",
       "Pohjois-Savo         18\n",
       "NaN                  16\n",
       "Satakunta            16\n",
       "Lappi                15\n",
       "Vaasa                13\n",
       "Pohjois-Karjala      13\n",
       "Päijät-Häme          12\n",
       "Kanta-Häme           11\n",
       "Keski-Pohjanmaa      10\n",
       "Etelä-Savo            9\n",
       "Etelä-Karjala         9\n",
       "Kainuu                8\n",
       "Kymenlaakso           6\n",
       "Länsi-Pohja           6\n",
       "Itä-Savo              4\n",
       "Name: healthCareDistrict, dtype: int64"
      ]
     },
     "execution_count": 38,
     "metadata": {},
     "output_type": "execute_result"
    }
   ],
   "source": [
    "#Municipalities in the Åland island did not have a matching health care district in the data. Let’s have a closer look:\n",
    "geodata[\"healthCareDistrict\"].value_counts(dropna=False)"
   ]
  },
  {
   "cell_type": "code",
   "execution_count": 39,
   "id": "0e15ac31-0af2-4dd1-9297-e777d24ca6b0",
   "metadata": {},
   "outputs": [
    {
     "data": {
      "text/plain": [
       "7          Brändö\n",
       "8          Eckerö\n",
       "15       Finström\n",
       "17          Föglö\n",
       "18           Geta\n",
       "24     Hammarland\n",
       "57         Jomala\n",
       "111      Kumlinge\n",
       "121         Kökar\n",
       "134       Lemland\n",
       "147    Lumparland\n",
       "153     Mariehamn\n",
       "236       Saltvik\n",
       "254      Sottunga\n",
       "256          Sund\n",
       "301         Vårdö\n",
       "Name: name, dtype: object"
      ]
     },
     "execution_count": 39,
     "metadata": {},
     "output_type": "execute_result"
    }
   ],
   "source": [
    "# List all municipalities that lack health district info:\n",
    "geodata[geodata[\"healthCareDistrict\"].isnull()].name"
   ]
  },
  {
   "cell_type": "code",
   "execution_count": 40,
   "id": "243b00d0-5697-472e-89d9-59863b2ca0f9",
   "metadata": {},
   "outputs": [],
   "source": [
    "# Update \"Ahvenanmaa\" as the health care district for Åland municipalities (16 municipalities in total)\n",
    "geodata.loc[geodata[\"healthCareDistrict\"].isnull(), \"healthCareDistrict\"] = \"Ahvenanmaa\""
   ]
  },
  {
   "cell_type": "markdown",
   "id": "be10c7b4-5f3f-4b00-9400-3ac3196b865f",
   "metadata": {},
   "source": [
    "- Check the count of municipalities per health care disctrict"
   ]
  },
  {
   "cell_type": "code",
   "execution_count": 41,
   "id": "76c5eabe-734c-4d27-8967-e263e8d05ab7",
   "metadata": {},
   "outputs": [
    {
     "data": {
      "text/plain": [
       "Pohjois-Pohjanmaa    29\n",
       "Varsinais-Suomi      28\n",
       "HUS                  24\n",
       "Pirkanmaa            23\n",
       "Keski-Suomi          21\n",
       "Etelä-Pohjanmaa      18\n",
       "Pohjois-Savo         18\n",
       "Ahvenanmaa           16\n",
       "Satakunta            16\n",
       "Lappi                15\n",
       "Vaasa                13\n",
       "Pohjois-Karjala      13\n",
       "Päijät-Häme          12\n",
       "Kanta-Häme           11\n",
       "Keski-Pohjanmaa      10\n",
       "Etelä-Savo            9\n",
       "Etelä-Karjala         9\n",
       "Kainuu                8\n",
       "Kymenlaakso           6\n",
       "Länsi-Pohja           6\n",
       "Itä-Savo              4\n",
       "Name: healthCareDistrict, dtype: int64"
      ]
     },
     "execution_count": 41,
     "metadata": {},
     "output_type": "execute_result"
    }
   ],
   "source": [
    "geodata[\"healthCareDistrict\"].value_counts()"
   ]
  },
  {
   "cell_type": "code",
   "execution_count": 42,
   "id": "a26fa5a9-f6b5-4489-9409-23aa90e27539",
   "metadata": {},
   "outputs": [],
   "source": [
    "#dissolve (aggregate geometries - municipality polygon geometries for each health care district\n",
    "districts = geodata.dissolve(by= 'healthCareDistrict')"
   ]
  },
  {
   "cell_type": "code",
   "execution_count": 43,
   "id": "fbbe8fc0-7af4-4576-a2a4-6049e00f91d4",
   "metadata": {},
   "outputs": [],
   "source": [
    "districts.reset_index(inplace=True)"
   ]
  },
  {
   "cell_type": "code",
   "execution_count": 44,
   "id": "8cc66a30-ca0a-436f-bed6-dc299334b5a2",
   "metadata": {},
   "outputs": [],
   "source": [
    "#Select useful columns\n",
    "districts = districts[[\"healthCareDistrict\", \"geometry\"]]"
   ]
  },
  {
   "cell_type": "code",
   "execution_count": 45,
   "id": "6cb20fe5-98fc-4b08-a0ec-7d37619c8a9c",
   "metadata": {},
   "outputs": [
    {
     "data": {
      "text/html": [
       "<div>\n",
       "<style scoped>\n",
       "    .dataframe tbody tr th:only-of-type {\n",
       "        vertical-align: middle;\n",
       "    }\n",
       "\n",
       "    .dataframe tbody tr th {\n",
       "        vertical-align: top;\n",
       "    }\n",
       "\n",
       "    .dataframe thead th {\n",
       "        text-align: right;\n",
       "    }\n",
       "</style>\n",
       "<table border=\"1\" class=\"dataframe\">\n",
       "  <thead>\n",
       "    <tr style=\"text-align: right;\">\n",
       "      <th></th>\n",
       "      <th>healthCareDistrict</th>\n",
       "      <th>geometry</th>\n",
       "    </tr>\n",
       "  </thead>\n",
       "  <tbody>\n",
       "    <tr>\n",
       "      <th>0</th>\n",
       "      <td>Ahvenanmaa</td>\n",
       "      <td>MULTIPOLYGON (((73987.240 6697201.016, 73996.4...</td>\n",
       "    </tr>\n",
       "    <tr>\n",
       "      <th>1</th>\n",
       "      <td>Etelä-Karjala</td>\n",
       "      <td>POLYGON ((532977.917 6741313.207, 529917.560 6...</td>\n",
       "    </tr>\n",
       "    <tr>\n",
       "      <th>2</th>\n",
       "      <td>Etelä-Pohjanmaa</td>\n",
       "      <td>POLYGON ((267794.597 6906783.873, 267352.980 6...</td>\n",
       "    </tr>\n",
       "    <tr>\n",
       "      <th>3</th>\n",
       "      <td>Etelä-Savo</td>\n",
       "      <td>POLYGON ((461869.214 6804910.484, 462537.714 6...</td>\n",
       "    </tr>\n",
       "    <tr>\n",
       "      <th>4</th>\n",
       "      <td>HUS</td>\n",
       "      <td>MULTIPOLYGON (((266121.775 6637948.040, 266071...</td>\n",
       "    </tr>\n",
       "    <tr>\n",
       "      <th>5</th>\n",
       "      <td>Itä-Savo</td>\n",
       "      <td>POLYGON ((599514.246 6823216.797, 598553.102 6...</td>\n",
       "    </tr>\n",
       "    <tr>\n",
       "      <th>6</th>\n",
       "      <td>Kainuu</td>\n",
       "      <td>POLYGON ((544756.828 7080852.564, 543902.663 7...</td>\n",
       "    </tr>\n",
       "    <tr>\n",
       "      <th>7</th>\n",
       "      <td>Kanta-Häme</td>\n",
       "      <td>POLYGON ((296901.865 6736363.869, 295788.771 6...</td>\n",
       "    </tr>\n",
       "    <tr>\n",
       "      <th>8</th>\n",
       "      <td>Keski-Pohjanmaa</td>\n",
       "      <td>MULTIPOLYGON (((294303.166 7093997.252, 294176...</td>\n",
       "    </tr>\n",
       "    <tr>\n",
       "      <th>9</th>\n",
       "      <td>Keski-Suomi</td>\n",
       "      <td>POLYGON ((363260.793 6987161.698, 362732.775 6...</td>\n",
       "    </tr>\n",
       "    <tr>\n",
       "      <th>10</th>\n",
       "      <td>Kymenlaakso</td>\n",
       "      <td>MULTIPOLYGON (((470378.484 6722709.768, 468908...</td>\n",
       "    </tr>\n",
       "    <tr>\n",
       "      <th>11</th>\n",
       "      <td>Lappi</td>\n",
       "      <td>POLYGON ((344634.196 7564754.428, 344045.672 7...</td>\n",
       "    </tr>\n",
       "    <tr>\n",
       "      <th>12</th>\n",
       "      <td>Länsi-Pohja</td>\n",
       "      <td>MULTIPOLYGON (((358420.862 7342394.937, 357928...</td>\n",
       "    </tr>\n",
       "    <tr>\n",
       "      <th>13</th>\n",
       "      <td>Pirkanmaa</td>\n",
       "      <td>POLYGON ((327451.427 6772682.170, 326977.811 6...</td>\n",
       "    </tr>\n",
       "    <tr>\n",
       "      <th>14</th>\n",
       "      <td>Pohjois-Karjala</td>\n",
       "      <td>POLYGON ((582201.515 7039259.585, 581762.132 7...</td>\n",
       "    </tr>\n",
       "    <tr>\n",
       "      <th>15</th>\n",
       "      <td>Pohjois-Pohjanmaa</td>\n",
       "      <td>MULTIPOLYGON (((330820.823 7111363.326, 330774...</td>\n",
       "    </tr>\n",
       "    <tr>\n",
       "      <th>16</th>\n",
       "      <td>Pohjois-Savo</td>\n",
       "      <td>POLYGON ((467106.855 6957611.173, 461009.200 6...</td>\n",
       "    </tr>\n",
       "    <tr>\n",
       "      <th>17</th>\n",
       "      <td>Päijät-Häme</td>\n",
       "      <td>POLYGON ((394254.442 6791800.016, 393517.903 6...</td>\n",
       "    </tr>\n",
       "    <tr>\n",
       "      <th>18</th>\n",
       "      <td>Satakunta</td>\n",
       "      <td>MULTIPOLYGON (((194812.924 6792368.494, 194910...</td>\n",
       "    </tr>\n",
       "    <tr>\n",
       "      <th>19</th>\n",
       "      <td>Vaasa</td>\n",
       "      <td>MULTIPOLYGON (((179385.981 7027290.988, 179327...</td>\n",
       "    </tr>\n",
       "    <tr>\n",
       "      <th>20</th>\n",
       "      <td>Varsinais-Suomi</td>\n",
       "      <td>MULTIPOLYGON (((170506.877 6682360.988, 170229...</td>\n",
       "    </tr>\n",
       "  </tbody>\n",
       "</table>\n",
       "</div>"
      ],
      "text/plain": [
       "   healthCareDistrict                                           geometry\n",
       "0          Ahvenanmaa  MULTIPOLYGON (((73987.240 6697201.016, 73996.4...\n",
       "1       Etelä-Karjala  POLYGON ((532977.917 6741313.207, 529917.560 6...\n",
       "2     Etelä-Pohjanmaa  POLYGON ((267794.597 6906783.873, 267352.980 6...\n",
       "3          Etelä-Savo  POLYGON ((461869.214 6804910.484, 462537.714 6...\n",
       "4                 HUS  MULTIPOLYGON (((266121.775 6637948.040, 266071...\n",
       "5            Itä-Savo  POLYGON ((599514.246 6823216.797, 598553.102 6...\n",
       "6              Kainuu  POLYGON ((544756.828 7080852.564, 543902.663 7...\n",
       "7          Kanta-Häme  POLYGON ((296901.865 6736363.869, 295788.771 6...\n",
       "8     Keski-Pohjanmaa  MULTIPOLYGON (((294303.166 7093997.252, 294176...\n",
       "9         Keski-Suomi  POLYGON ((363260.793 6987161.698, 362732.775 6...\n",
       "10        Kymenlaakso  MULTIPOLYGON (((470378.484 6722709.768, 468908...\n",
       "11              Lappi  POLYGON ((344634.196 7564754.428, 344045.672 7...\n",
       "12        Länsi-Pohja  MULTIPOLYGON (((358420.862 7342394.937, 357928...\n",
       "13          Pirkanmaa  POLYGON ((327451.427 6772682.170, 326977.811 6...\n",
       "14    Pohjois-Karjala  POLYGON ((582201.515 7039259.585, 581762.132 7...\n",
       "15  Pohjois-Pohjanmaa  MULTIPOLYGON (((330820.823 7111363.326, 330774...\n",
       "16       Pohjois-Savo  POLYGON ((467106.855 6957611.173, 461009.200 6...\n",
       "17        Päijät-Häme  POLYGON ((394254.442 6791800.016, 393517.903 6...\n",
       "18          Satakunta  MULTIPOLYGON (((194812.924 6792368.494, 194910...\n",
       "19              Vaasa  MULTIPOLYGON (((179385.981 7027290.988, 179327...\n",
       "20    Varsinais-Suomi  MULTIPOLYGON (((170506.877 6682360.988, 170229..."
      ]
     },
     "execution_count": 45,
     "metadata": {},
     "output_type": "execute_result"
    }
   ],
   "source": [
    "districts"
   ]
  },
  {
   "cell_type": "code",
   "execution_count": 47,
   "id": "a90702ce-d653-4082-89ae-87876f08628f",
   "metadata": {},
   "outputs": [
    {
     "data": {
      "text/plain": [
       "(40857.339215, 765862.479085, 6575077.820610001, 7833703.7515899995)"
      ]
     },
     "execution_count": 47,
     "metadata": {},
     "output_type": "execute_result"
    },
    {
     "data": {
      "image/png": "[encoded data removed]",
      "text/plain": [
       "<Figure size 432x288 with 1 Axes>"
      ]
     },
     "metadata": {
      "needs_background": "light"
     },
     "output_type": "display_data"
    }
   ],
   "source": [
    "districts.plot(column='healthCareDistrict', cmap='tab20',k=20) #plot a different color for each grid x 20 grids\n",
    "plt.axis('off')"
   ]
  },
  {
   "cell_type": "code",
   "execution_count": 48,
   "id": "f4a31255-ad72-47b1-b832-f0dee361b31e",
   "metadata": {},
   "outputs": [
    {
     "name": "stderr",
     "output_type": "stream",
     "text": [
      "C:\\Users\\aly\\AppData\\Local\\Continuum\\anaconda3\\envs\\python-gis\\lib\\site-packages\\geopandas\\io\\file.py:362: FutureWarning: pandas.Int64Index is deprecated and will be removed from pandas in a future version. Use pandas.Index with the appropriate dtype instead.\n",
      "  pd.Int64Index,\n"
     ]
    }
   ],
   "source": [
    "#Write GeoJSON in original projection\n",
    "districts.to_file(\"healthDistrictsEPSG3067.geojson\", driver='GeoJSON', encoding= 'utf-8')"
   ]
  },
  {
   "cell_type": "code",
   "execution_count": 49,
   "id": "2f922ac0-594e-4804-a61d-8dd53a5a60a2",
   "metadata": {},
   "outputs": [
    {
     "name": "stderr",
     "output_type": "stream",
     "text": [
      "C:\\Users\\aly\\AppData\\Local\\Continuum\\anaconda3\\envs\\python-gis\\lib\\site-packages\\geopandas\\io\\file.py:362: FutureWarning: pandas.Int64Index is deprecated and will be removed from pandas in a future version. Use pandas.Index with the appropriate dtype instead.\n",
      "  pd.Int64Index,\n"
     ]
    }
   ],
   "source": [
    "#reproject to WGS84 and save again\n",
    "wgs84 = CRS.from_epsg(4326)\n",
    "districts.to_crs(wgs84).to_file(\"healthDistrictsEPSG4326.geojson\",driver='GeoJSON', encoding='utf-8')"
   ]
  },
  {
   "cell_type": "code",
   "execution_count": null,
   "id": "e740a654-fecd-4cf4-8772-303972f9f368",
   "metadata": {},
   "outputs": [],
   "source": []
  }
 ],
 "metadata": {
  "kernelspec": {
   "display_name": "Python 3 (ipykernel)",
   "language": "python",
   "name": "python3"
  },
  "language_info": {
   "codemirror_mode": {
    "name": "ipython",
    "version": 3
   },
   "file_extension": ".py",
   "mimetype": "text/x-python",
   "name": "python",
   "nbconvert_exporter": "python",
   "pygments_lexer": "ipython3",
   "version": "3.8.12"
  }
 },
 "nbformat": 4,
 "nbformat_minor": 5
}
