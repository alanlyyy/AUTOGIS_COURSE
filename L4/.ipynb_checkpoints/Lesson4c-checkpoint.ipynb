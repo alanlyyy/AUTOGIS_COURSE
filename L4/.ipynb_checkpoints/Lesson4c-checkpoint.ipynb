{
 "cells": [
  {
   "cell_type": "markdown",
   "id": "f0d3b53d-f880-4bac-a5aa-11ac62e407ba",
   "metadata": {},
   "source": [
    "# Data Reclassification"
   ]
  },
  {
   "cell_type": "markdown",
   "id": "83a04970-94ed-43c7-9eb4-7cce84054456",
   "metadata": {},
   "source": [
    "Input Data\n",
    "\n",
    "We will use Travel Time Matrix data from Helsinki that contains travel time and distance information for routes between all 250 m x 250 m grid cell centroids (n = 13231) in the Capital Region of Helsinki by walking, cycling, public transportation and car.\n",
    "\n",
    "- In this tutorial, we will use the geojson file generated in the previous section: \"data/TravelTimes_to_5975375_RailwayStation_Helsinki.geojson\"\n",
    "\n",
    "- Alternatively, you can re-download L4 data and use \"data/Travel_times_to_5975375_RailwayStation.shp\" as input file in here."
   ]
  },
  {
   "cell_type": "markdown",
   "id": "03b0e778-dba4-47cf-b4ec-d3d8b13441af",
   "metadata": {},
   "source": [
    "- First, we need to read our Travel Time data from Helsinki:"
   ]
  },
  {
   "cell_type": "code",
   "execution_count": 1,
   "id": "f50ea3de-485c-4530-9609-466663a53d10",
   "metadata": {},
   "outputs": [
    {
     "data": {
      "text/html": [
       "<div>\n",
       "<style scoped>\n",
       "    .dataframe tbody tr th:only-of-type {\n",
       "        vertical-align: middle;\n",
       "    }\n",
       "\n",
       "    .dataframe tbody tr th {\n",
       "        vertical-align: top;\n",
       "    }\n",
       "\n",
       "    .dataframe thead th {\n",
       "        text-align: right;\n",
       "    }\n",
       "</style>\n",
       "<table border=\"1\" class=\"dataframe\">\n",
       "  <thead>\n",
       "    <tr style=\"text-align: right;\">\n",
       "      <th></th>\n",
       "      <th>car_m_d</th>\n",
       "      <th>car_m_t</th>\n",
       "      <th>car_r_d</th>\n",
       "      <th>car_r_t</th>\n",
       "      <th>from_id</th>\n",
       "      <th>pt_m_d</th>\n",
       "      <th>pt_m_t</th>\n",
       "      <th>pt_m_tt</th>\n",
       "      <th>pt_r_d</th>\n",
       "      <th>pt_r_t</th>\n",
       "      <th>pt_r_tt</th>\n",
       "      <th>to_id</th>\n",
       "      <th>walk_d</th>\n",
       "      <th>walk_t</th>\n",
       "      <th>GML_ID</th>\n",
       "      <th>NAMEFIN</th>\n",
       "      <th>NAMESWE</th>\n",
       "      <th>NATCODE</th>\n",
       "      <th>geometry</th>\n",
       "    </tr>\n",
       "  </thead>\n",
       "  <tbody>\n",
       "    <tr>\n",
       "      <th>0</th>\n",
       "      <td>29476</td>\n",
       "      <td>41</td>\n",
       "      <td>29483</td>\n",
       "      <td>46</td>\n",
       "      <td>5876274</td>\n",
       "      <td>29990</td>\n",
       "      <td>76</td>\n",
       "      <td>95</td>\n",
       "      <td>24984</td>\n",
       "      <td>77</td>\n",
       "      <td>99</td>\n",
       "      <td>5975375</td>\n",
       "      <td>25532</td>\n",
       "      <td>365</td>\n",
       "      <td>27517366</td>\n",
       "      <td>Helsinki</td>\n",
       "      <td>Helsingfors</td>\n",
       "      <td>091</td>\n",
       "      <td>POLYGON ((402003.328 6685762.545, 402143.720 6...</td>\n",
       "    </tr>\n",
       "    <tr>\n",
       "      <th>1</th>\n",
       "      <td>29456</td>\n",
       "      <td>41</td>\n",
       "      <td>29462</td>\n",
       "      <td>46</td>\n",
       "      <td>5876275</td>\n",
       "      <td>29866</td>\n",
       "      <td>74</td>\n",
       "      <td>95</td>\n",
       "      <td>24860</td>\n",
       "      <td>75</td>\n",
       "      <td>93</td>\n",
       "      <td>5975375</td>\n",
       "      <td>25408</td>\n",
       "      <td>363</td>\n",
       "      <td>27517366</td>\n",
       "      <td>Helsinki</td>\n",
       "      <td>Helsingfors</td>\n",
       "      <td>091</td>\n",
       "      <td>POLYGON ((402250.000 6685750.000, 402250.000 6...</td>\n",
       "    </tr>\n",
       "    <tr>\n",
       "      <th>2</th>\n",
       "      <td>36772</td>\n",
       "      <td>50</td>\n",
       "      <td>36778</td>\n",
       "      <td>56</td>\n",
       "      <td>5876278</td>\n",
       "      <td>33541</td>\n",
       "      <td>116</td>\n",
       "      <td>137</td>\n",
       "      <td>44265</td>\n",
       "      <td>130</td>\n",
       "      <td>146</td>\n",
       "      <td>5975375</td>\n",
       "      <td>31110</td>\n",
       "      <td>444</td>\n",
       "      <td>27517366</td>\n",
       "      <td>Helsinki</td>\n",
       "      <td>Helsingfors</td>\n",
       "      <td>091</td>\n",
       "      <td>POLYGON ((403243.781 6685772.634, 403250.000 6...</td>\n",
       "    </tr>\n",
       "    <tr>\n",
       "      <th>3</th>\n",
       "      <td>36898</td>\n",
       "      <td>49</td>\n",
       "      <td>36904</td>\n",
       "      <td>56</td>\n",
       "      <td>5876279</td>\n",
       "      <td>33720</td>\n",
       "      <td>119</td>\n",
       "      <td>141</td>\n",
       "      <td>44444</td>\n",
       "      <td>132</td>\n",
       "      <td>155</td>\n",
       "      <td>5975375</td>\n",
       "      <td>31289</td>\n",
       "      <td>447</td>\n",
       "      <td>27517366</td>\n",
       "      <td>Helsinki</td>\n",
       "      <td>Helsingfors</td>\n",
       "      <td>091</td>\n",
       "      <td>POLYGON ((403250.000 6685750.000, 403250.000 6...</td>\n",
       "    </tr>\n",
       "    <tr>\n",
       "      <th>4</th>\n",
       "      <td>29411</td>\n",
       "      <td>40</td>\n",
       "      <td>29418</td>\n",
       "      <td>44</td>\n",
       "      <td>5878128</td>\n",
       "      <td>29944</td>\n",
       "      <td>75</td>\n",
       "      <td>95</td>\n",
       "      <td>24938</td>\n",
       "      <td>76</td>\n",
       "      <td>99</td>\n",
       "      <td>5975375</td>\n",
       "      <td>25486</td>\n",
       "      <td>364</td>\n",
       "      <td>27517366</td>\n",
       "      <td>Helsinki</td>\n",
       "      <td>Helsingfors</td>\n",
       "      <td>091</td>\n",
       "      <td>POLYGON ((402000.000 6685592.186, 402000.000 6...</td>\n",
       "    </tr>\n",
       "  </tbody>\n",
       "</table>\n",
       "</div>"
      ],
      "text/plain": [
       "   car_m_d  car_m_t  car_r_d  car_r_t  from_id  pt_m_d  pt_m_t  pt_m_tt  \\\n",
       "0    29476       41    29483       46  5876274   29990      76       95   \n",
       "1    29456       41    29462       46  5876275   29866      74       95   \n",
       "2    36772       50    36778       56  5876278   33541     116      137   \n",
       "3    36898       49    36904       56  5876279   33720     119      141   \n",
       "4    29411       40    29418       44  5878128   29944      75       95   \n",
       "\n",
       "   pt_r_d  pt_r_t  pt_r_tt    to_id  walk_d  walk_t    GML_ID   NAMEFIN  \\\n",
       "0   24984      77       99  5975375   25532     365  27517366  Helsinki   \n",
       "1   24860      75       93  5975375   25408     363  27517366  Helsinki   \n",
       "2   44265     130      146  5975375   31110     444  27517366  Helsinki   \n",
       "3   44444     132      155  5975375   31289     447  27517366  Helsinki   \n",
       "4   24938      76       99  5975375   25486     364  27517366  Helsinki   \n",
       "\n",
       "       NAMESWE NATCODE                                           geometry  \n",
       "0  Helsingfors     091  POLYGON ((402003.328 6685762.545, 402143.720 6...  \n",
       "1  Helsingfors     091  POLYGON ((402250.000 6685750.000, 402250.000 6...  \n",
       "2  Helsingfors     091  POLYGON ((403243.781 6685772.634, 403250.000 6...  \n",
       "3  Helsingfors     091  POLYGON ((403250.000 6685750.000, 403250.000 6...  \n",
       "4  Helsingfors     091  POLYGON ((402000.000 6685592.186, 402000.000 6...  "
      ]
     },
     "execution_count": 1,
     "metadata": {},
     "output_type": "execute_result"
    }
   ],
   "source": [
    "import geopandas as gpd\n",
    "\n",
    "fp = \"TravelTimes_to_5975375_RailwayStation_Helsinki.geojson\"\n",
    "\n",
    "#Read the GeoJSON file similarly as Shapefile\n",
    "acc = gpd.read_file(fp)\n",
    "\n",
    "#lets see what we have\n",
    "acc.head()"
   ]
  },
  {
   "cell_type": "markdown",
   "id": "c2c9e12e-1f0c-4cc1-9712-a7fb5c38774c",
   "metadata": {},
   "source": [
    "interested in are columns:\n",
    "- pt_r_tt which is telling the time in minutes that it takes to reach city center from different parts of the city\n",
    "- walk_d that tells the network distance by roads to reach city center from different parts of the city (almost equal to Euclidian distance)."
   ]
  },
  {
   "cell_type": "markdown",
   "id": "652c818f-79a0-4795-adae-3f58d94048de",
   "metadata": {},
   "source": [
    "The NoData values are presented with value -1.\n",
    "\n",
    "- Thus we need to remove the No Data values first."
   ]
  },
  {
   "cell_type": "code",
   "execution_count": 2,
   "id": "4a9f378b-e55c-4278-aa1a-b531831ccc51",
   "metadata": {},
   "outputs": [],
   "source": [
    "# Include only data that is above or equal to 0\n",
    "acc = acc.loc[acc['pt_r_tt'] >= 0 ]\n",
    "\n",
    "#acc['pt_r_tt'] >=0 mask to look for all row indices in pt_r_tt column that meet the condition, extract all those rows from the df."
   ]
  },
  {
   "cell_type": "markdown",
   "id": "77774a90-93e5-46db-884e-460d740391bb",
   "metadata": {},
   "source": [
    "Let’s plot the data and see how it looks like\n",
    "\n",
    "- cmap parameter defines the color map. Read more about choosing colormaps in matplotlib\n",
    "\n",
    "- scheme option scales the colors according to a classification scheme (requires mapclassify module to be installed):"
   ]
  },
  {
   "cell_type": "code",
   "execution_count": 3,
   "id": "e725d248-cb44-42b9-8199-16621ed80d5d",
   "metadata": {},
   "outputs": [
    {
     "data": {
      "image/png": "[encoded data removed]",
      "text/plain": [
       "<Figure size 432x288 with 1 Axes>"
      ]
     },
     "metadata": {
      "needs_background": "light"
     },
     "output_type": "display_data"
    }
   ],
   "source": [
    "import matplotlib.pyplot as plt\n",
    "\n",
    "#plot using 9 classes and classify the values or \"pt_r_tt\" using \"Natural Breaks\" classification\n",
    "acc.plot(column= \"pt_r_tt\", scheme= \"Natural_Breaks\", k=9, cmap=\"RdYlBu\", linewidth=0, legend =True)\n",
    "\n",
    "#use tight layout\n",
    "plt.tight_layout() #use to remove the surrounding white spaces of the plot"
   ]
  },
  {
   "cell_type": "markdown",
   "id": "a5d63d25-ce59-4dc1-8978-c906e982e11d",
   "metadata": {},
   "source": [
    "As we can see from this map, the travel times are lower in the south where the city center is located but there are some areas of “good” accessibility also in some other areas \n",
    "(where the color is red).\n",
    "\n",
    "Let’s also make a plot about walking distances:"
   ]
  },
  {
   "cell_type": "code",
   "execution_count": 4,
   "id": "77f7328c-890a-46b9-855d-b213238f29da",
   "metadata": {},
   "outputs": [
    {
     "data": {
      "image/png": "[encoded data removed]",
      "text/plain": [
       "<Figure size 432x288 with 1 Axes>"
      ]
     },
     "metadata": {
      "needs_background": "light"
     },
     "output_type": "display_data"
    }
   ],
   "source": [
    "#plot walking distance using 9 classes and classify walk_d.\n",
    "acc.plot(column=\"walk_d\", scheme=\"Natural_Breaks\",k=9,cmap=\"RdYlBu\", linewidth= 0, legend=True)\n",
    "\n",
    "#use tight layout\n",
    "plt.tight_layout()"
   ]
  },
  {
   "cell_type": "markdown",
   "id": "772fc7f7-3c51-4051-918d-8213f12b76fe",
   "metadata": {},
   "source": [
    "Okay, from here we can see that the walking distances (along road network) reminds more or less Euclidian distances."
   ]
  },
  {
   "cell_type": "markdown",
   "id": "181c0761-53e9-48da-8d2a-59b4c983a393",
   "metadata": {},
   "source": [
    "Applying classifiers to data\n",
    "\n",
    "- scheme option defines the classification scheme using pysal/mapclassify"
   ]
  },
  {
   "cell_type": "code",
   "execution_count": 5,
   "id": "a5856601-48a1-439e-83ea-435261fdd0b4",
   "metadata": {},
   "outputs": [],
   "source": [
    "import mapclassify"
   ]
  },
  {
   "cell_type": "markdown",
   "id": "46b97a06-342c-4589-8ac0-7a161226f1f6",
   "metadata": {},
   "source": [
    "- Natural Breaks"
   ]
  },
  {
   "cell_type": "code",
   "execution_count": 6,
   "id": "0e90ead7-0f02-4cc6-90b8-d2999dc770b1",
   "metadata": {},
   "outputs": [
    {
     "data": {
      "text/plain": [
       "NaturalBreaks           \n",
       "\n",
       "    Interval       Count\n",
       "------------------------\n",
       "[  0.00,  21.00] |   263\n",
       "( 21.00,  30.00] |   529\n",
       "( 30.00,  38.00] |   873\n",
       "( 38.00,  44.00] |   727\n",
       "( 44.00,  54.00] |   605\n",
       "( 54.00,  68.00] |   459\n",
       "( 68.00,  85.00] |   210\n",
       "( 85.00, 115.00] |   138\n",
       "(115.00, 155.00] |     3"
      ]
     },
     "execution_count": 6,
     "metadata": {},
     "output_type": "execute_result"
    }
   ],
   "source": [
    "mapclassify.NaturalBreaks(y=acc['pt_r_tt'], k=9)"
   ]
  },
  {
   "cell_type": "markdown",
   "id": "66f6ca1a-193e-425e-b7cd-9685998d8db6",
   "metadata": {},
   "source": [
    "- Quantiles (default s 5 classes)"
   ]
  },
  {
   "cell_type": "code",
   "execution_count": 7,
   "id": "5a072321-992d-4a37-bfc0-8ea7a4f930d0",
   "metadata": {},
   "outputs": [
    {
     "data": {
      "text/plain": [
       "Quantiles               \n",
       "\n",
       "    Interval       Count\n",
       "------------------------\n",
       "[  0.00,  30.00] |   792\n",
       "( 30.00,  37.00] |   779\n",
       "( 37.00,  44.00] |   821\n",
       "( 44.00,  56.00] |   685\n",
       "( 56.00, 155.00] |   730"
      ]
     },
     "execution_count": 7,
     "metadata": {},
     "output_type": "execute_result"
    }
   ],
   "source": [
    "mapclassify.Quantiles(y=acc['pt_r_tt'])"
   ]
  },
  {
   "cell_type": "code",
   "execution_count": 8,
   "id": "ad1c43fe-822e-4b63-bd8d-9ec3fbef15fd",
   "metadata": {},
   "outputs": [
    {
     "data": {
      "text/plain": [
       "array([ 19.,  29.,  37.,  45.,  54.,  65.,  79.,  96., 155.])"
      ]
     },
     "execution_count": 8,
     "metadata": {},
     "output_type": "execute_result"
    }
   ],
   "source": [
    "#extract the threshold values into an array\n",
    "classifier = mapclassify.NaturalBreaks(y=acc['pt_r_tt'], k=9)\n",
    "classifier.bins"
   ]
  },
  {
   "cell_type": "markdown",
   "id": "2c4e8e71-b6ae-483d-9cf1-4de533422187",
   "metadata": {},
   "source": [
    "- Let’s apply one of the Pysal classifiers into our data and classify the travel times by public transport into 9 classes\n",
    "\n",
    "- The classifier needs to be initialized first with make() function that takes the number of desired classes as input parameter"
   ]
  },
  {
   "cell_type": "code",
   "execution_count": 9,
   "id": "eb9d0258-7df5-4131-a802-32bc57e02265",
   "metadata": {},
   "outputs": [],
   "source": [
    "#Create a natural breaks classifier\n",
    "classifier = mapclassify.NaturalBreaks.make(k=9)"
   ]
  },
  {
   "cell_type": "markdown",
   "id": "ea4fdb6b-b5f7-45f3-b862-56e6a90d0221",
   "metadata": {},
   "source": [
    "- now we can apply that classifier into our data by using apply function"
   ]
  },
  {
   "cell_type": "code",
   "execution_count": 10,
   "id": "b52afb3c-2ced-4491-a138-9567ecd6407e",
   "metadata": {},
   "outputs": [
    {
     "data": {
      "text/html": [
       "<div>\n",
       "<style scoped>\n",
       "    .dataframe tbody tr th:only-of-type {\n",
       "        vertical-align: middle;\n",
       "    }\n",
       "\n",
       "    .dataframe tbody tr th {\n",
       "        vertical-align: top;\n",
       "    }\n",
       "\n",
       "    .dataframe thead th {\n",
       "        text-align: right;\n",
       "    }\n",
       "</style>\n",
       "<table border=\"1\" class=\"dataframe\">\n",
       "  <thead>\n",
       "    <tr style=\"text-align: right;\">\n",
       "      <th></th>\n",
       "      <th>pt_r_tt</th>\n",
       "    </tr>\n",
       "  </thead>\n",
       "  <tbody>\n",
       "    <tr>\n",
       "      <th>0</th>\n",
       "      <td>8</td>\n",
       "    </tr>\n",
       "    <tr>\n",
       "      <th>1</th>\n",
       "      <td>7</td>\n",
       "    </tr>\n",
       "    <tr>\n",
       "      <th>2</th>\n",
       "      <td>8</td>\n",
       "    </tr>\n",
       "    <tr>\n",
       "      <th>3</th>\n",
       "      <td>8</td>\n",
       "    </tr>\n",
       "    <tr>\n",
       "      <th>4</th>\n",
       "      <td>8</td>\n",
       "    </tr>\n",
       "  </tbody>\n",
       "</table>\n",
       "</div>"
      ],
      "text/plain": [
       "   pt_r_tt\n",
       "0        8\n",
       "1        7\n",
       "2        8\n",
       "3        8\n",
       "4        8"
      ]
     },
     "execution_count": 10,
     "metadata": {},
     "output_type": "execute_result"
    }
   ],
   "source": [
    "#apply Classifier the pt_r_tt column \n",
    "classifications = acc[['pt_r_tt']].apply(classifier)\n",
    "\n",
    "#Lets see what we have\n",
    "classifications.head()"
   ]
  },
  {
   "cell_type": "code",
   "execution_count": 11,
   "id": "85a12945-cd15-4fef-93c7-0796ea3edf54",
   "metadata": {},
   "outputs": [
    {
     "data": {
      "text/plain": [
       "pandas.core.frame.DataFrame"
      ]
     },
     "execution_count": 11,
     "metadata": {},
     "output_type": "execute_result"
    }
   ],
   "source": [
    "type(classifications)"
   ]
  },
  {
   "cell_type": "markdown",
   "id": "481f2d72-81b7-49df-aef7-311d7f1429b1",
   "metadata": {},
   "source": [
    "The result for the classification of column 'pt_r_tt' is a new column where each row is classified into 9 different classes (number 1-9) based on natural breaks classification"
   ]
  },
  {
   "cell_type": "markdown",
   "id": "001606bc-b59a-4a23-9dc4-96ef8355aef2",
   "metadata": {},
   "source": [
    "- add the classification values directly into a new column in our dataframe"
   ]
  },
  {
   "cell_type": "code",
   "execution_count": 12,
   "id": "dfeefadd-febe-4561-ab54-dd1c0c4338f9",
   "metadata": {},
   "outputs": [
    {
     "data": {
      "text/html": [
       "<div>\n",
       "<style scoped>\n",
       "    .dataframe tbody tr th:only-of-type {\n",
       "        vertical-align: middle;\n",
       "    }\n",
       "\n",
       "    .dataframe tbody tr th {\n",
       "        vertical-align: top;\n",
       "    }\n",
       "\n",
       "    .dataframe thead th {\n",
       "        text-align: right;\n",
       "    }\n",
       "</style>\n",
       "<table border=\"1\" class=\"dataframe\">\n",
       "  <thead>\n",
       "    <tr style=\"text-align: right;\">\n",
       "      <th></th>\n",
       "      <th>pt_r_tt</th>\n",
       "      <th>nb_pt_r_tt</th>\n",
       "    </tr>\n",
       "  </thead>\n",
       "  <tbody>\n",
       "    <tr>\n",
       "      <th>0</th>\n",
       "      <td>99</td>\n",
       "      <td>8</td>\n",
       "    </tr>\n",
       "    <tr>\n",
       "      <th>1</th>\n",
       "      <td>93</td>\n",
       "      <td>7</td>\n",
       "    </tr>\n",
       "    <tr>\n",
       "      <th>2</th>\n",
       "      <td>146</td>\n",
       "      <td>8</td>\n",
       "    </tr>\n",
       "    <tr>\n",
       "      <th>3</th>\n",
       "      <td>155</td>\n",
       "      <td>8</td>\n",
       "    </tr>\n",
       "    <tr>\n",
       "      <th>4</th>\n",
       "      <td>99</td>\n",
       "      <td>8</td>\n",
       "    </tr>\n",
       "  </tbody>\n",
       "</table>\n",
       "</div>"
      ],
      "text/plain": [
       "   pt_r_tt  nb_pt_r_tt\n",
       "0       99           8\n",
       "1       93           7\n",
       "2      146           8\n",
       "3      155           8\n",
       "4       99           8"
      ]
     },
     "execution_count": 12,
     "metadata": {},
     "output_type": "execute_result"
    }
   ],
   "source": [
    "#create new column nb_pt_r_tt to store the classified values of pt_r_tt using natural breaks.\n",
    "acc['nb_pt_r_tt'] = acc[['pt_r_tt']].apply(classifier)\n",
    "\n",
    "#extract the top 5 rows for original values and classification columns\n",
    "acc[['pt_r_tt', 'nb_pt_r_tt']].head()"
   ]
  },
  {
   "cell_type": "code",
   "execution_count": 13,
   "id": "4bfa78c8-7921-4fa3-b536-514b1200358c",
   "metadata": {},
   "outputs": [
    {
     "data": {
      "image/png": "[encoded data removed]",
      "text/plain": [
       "<Figure size 432x288 with 2 Axes>"
      ]
     },
     "metadata": {
      "needs_background": "light"
     },
     "output_type": "display_data"
    }
   ],
   "source": [
    "#visualize the classification scheme\n",
    "acc.plot( column='nb_pt_r_tt', linewidth=0,legend=True)\n",
    "\n",
    "#use tight layout\n",
    "plt.tight_layout()"
   ]
  },
  {
   "cell_type": "markdown",
   "id": "e0ee6119-40ff-4604-94b0-41ecca5f62b7",
   "metadata": {},
   "source": [
    "now we have a map where we have used one of the common classifiers to classify our data into 9 classes."
   ]
  },
  {
   "cell_type": "markdown",
   "id": "46785cbf-ed31-4015-b1be-1fceca06efff",
   "metadata": {},
   "source": [
    "Classification explanation: Natural Break, Standard Deviation, Equal Interval\n",
    "http://wiki-1-1930356585.us-east-1.elb.amazonaws.com/wiki/index.php/Classification"
   ]
  },
  {
   "cell_type": "markdown",
   "id": "414c5897-a95e-4d81-91bc-588366b45d47",
   "metadata": {},
   "source": [
    "Plotting a histogram"
   ]
  },
  {
   "cell_type": "markdown",
   "id": "6db8b70a-0b86-46ec-b62e-1389b010b347",
   "metadata": {},
   "source": [
    "- histogram is a graphic representation of the distribution of the data. \n",
    "- When classifying the data, it’s always good to consider how the data is distributed, and how the classification shceme divides values into different ranges.\n",
    "\n",
    "plot histogram using pandas.DataFrame.plot.hist\n",
    "\n",
    "Number of histogram bins(groups of data) can be controlled using the parameter bins:"
   ]
  },
  {
   "cell_type": "code",
   "execution_count": 14,
   "id": "fac22582-f08a-4e8b-96b8-6548bc63b1e7",
   "metadata": {},
   "outputs": [
    {
     "data": {
      "text/plain": [
       "<AxesSubplot:ylabel='Frequency'>"
      ]
     },
     "execution_count": 14,
     "metadata": {},
     "output_type": "execute_result"
    },
    {
     "data": {
      "image/png": "[encoded data removed]",
      "text/plain": [
       "<Figure size 432x288 with 1 Axes>"
      ]
     },
     "metadata": {
      "needs_background": "light"
     },
     "output_type": "display_data"
    }
   ],
   "source": [
    "#create a histogram for column 'pt_r_tt' with 50 bins\n",
    "acc['pt_r_tt'].plot.hist(bins=50)"
   ]
  },
  {
   "cell_type": "markdown",
   "id": "ac26594d-4dd7-4a97-8cfc-26ad3682e692",
   "metadata": {},
   "source": [
    "Add threshold values on top of the histogram vertical lines\n",
    "- Natural Breaks"
   ]
  },
  {
   "cell_type": "code",
   "execution_count": 15,
   "id": "3a6137ac-31e7-4108-bb44-3c8d5ac5ed1a",
   "metadata": {},
   "outputs": [
    {
     "data": {
      "image/png": "[encoded data removed]",
      "text/plain": [
       "<Figure size 432x288 with 1 Axes>"
      ]
     },
     "metadata": {
      "needs_background": "light"
     },
     "output_type": "display_data"
    }
   ],
   "source": [
    "#define natural breaks classifier with 9 bins\n",
    "classifier = mapclassify.NaturalBreaks(y=acc['pt_r_tt'], k=9)\n",
    "\n",
    "#plot the histogram for public transport rush hour travel time\n",
    "acc['pt_r_tt'].plot.hist(bins=50)\n",
    "\n",
    "#add vertical lines for class breaks using the classifier bins\n",
    "for value in classifier.bins:\n",
    "    plt.axvline(value, color='k', linestyle='dashed', linewidth=1)"
   ]
  },
  {
   "cell_type": "markdown",
   "id": "3aa57a3d-e195-4377-b062-b39feb8203ab",
   "metadata": {},
   "source": [
    "- Quantiles"
   ]
  },
  {
   "cell_type": "code",
   "execution_count": 16,
   "id": "5dbefc56-34a1-48e8-b7a5-290d568dbc03",
   "metadata": {},
   "outputs": [
    {
     "data": {
      "image/png": "[encoded data removed]",
      "text/plain": [
       "<Figure size 432x288 with 1 Axes>"
      ]
     },
     "metadata": {
      "needs_background": "light"
     },
     "output_type": "display_data"
    }
   ],
   "source": [
    "#define quantiles classifier \n",
    "classifier = mapclassify.Quantiles(y=acc['pt_r_tt'])\n",
    "\n",
    "#plot the histogram for public transport rush hour travel time\n",
    "acc['pt_r_tt'].plot.hist(bins=50)\n",
    "\n",
    "#plot each quantile bin on the map.\n",
    "for value in classifier.bins:\n",
    "    plt.axvline(value, color='k', linestyle='dashed', linewidth=1)"
   ]
  },
  {
   "cell_type": "code",
   "execution_count": 17,
   "id": "3b0d2c2e-b4de-4984-82f6-48e0e9c399b7",
   "metadata": {},
   "outputs": [
    {
     "data": {
      "image/png": "[encoded data removed]",
      "text/plain": [
       "<Figure size 432x288 with 1 Axes>"
      ]
     },
     "metadata": {
      "needs_background": "light"
     },
     "output_type": "display_data"
    }
   ],
   "source": [
    "#create a stdmean classifier\n",
    "classifier = mapclassify.StdMean(y= acc['car_r_t'])\n",
    "\n",
    "acc['car_r_t'].plot.hist(bins=50)\n",
    "\n",
    "for value in classifier.bins:\n",
    "    plt.axvline(value, color='k', linestyle='dashed',linewidth=1)"
   ]
  },
  {
   "cell_type": "code",
   "execution_count": 18,
   "id": "4a372389-6eac-493b-a8da-9f8a808fa7c4",
   "metadata": {},
   "outputs": [
    {
     "data": {
      "text/plain": [
       "<AxesSubplot:>"
      ]
     },
     "execution_count": 18,
     "metadata": {},
     "output_type": "execute_result"
    },
    {
     "data": {
      "image/png": "[encoded data removed]",
      "text/plain": [
       "<Figure size 432x288 with 1 Axes>"
      ]
     },
     "metadata": {
      "needs_background": "light"
     },
     "output_type": "display_data"
    }
   ],
   "source": [
    "#plot using 9 classes and classify the values or \"pt_r_tt\" using \"Natural Breaks\" classification\n",
    "acc.plot(column= \"car_r_t\", scheme= \"StdMean\", k=9, cmap=\"RdYlBu\", linewidth=0, legend =True)"
   ]
  },
  {
   "cell_type": "markdown",
   "id": "f651974e-a381-4904-86cc-f1e0f3016c65",
   "metadata": {},
   "source": [
    "The standard deviation for travel time by car in the city center is the lowest from the average car travel time of the entire state\n",
    "\n",
    "The standard deviation for travel time by car in the suburban areas is the highest relative to average car travel time of the entire state.\n"
   ]
  },
  {
   "cell_type": "code",
   "execution_count": 19,
   "id": "ace95e4d-3b14-401a-b91f-06d459bc2b53",
   "metadata": {},
   "outputs": [
    {
     "name": "stdout",
     "output_type": "stream",
     "text": [
      "Mean Car Travel Time:  27.761754662463883\n",
      "Classifier Bins:  [10.54516856 19.15346161 36.37004771 44.97834077 56.        ]\n"
     ]
    }
   ],
   "source": [
    "print(\"Mean Car Travel Time: \", acc[\"car_r_t\"].mean())\n",
    "\n",
    "print(\"Classifier Bins: \", classifier.bins)"
   ]
  },
  {
   "cell_type": "markdown",
   "id": "cbb95c24-4cdc-42b1-82e5-3a28a2b8e24a",
   "metadata": {},
   "source": [
    "# Creating Custom Classifier"
   ]
  },
  {
   "cell_type": "markdown",
   "id": "e01aa200-b288-404b-ad27-a68f57a6d6ef",
   "metadata": {},
   "source": [
    "- create a function where we classify the geometries into two classes based on a given threshold -parameter. If the area of a polygon is lower than the threshold value (average size of the lake), the output column will get a value 0, if it is larger, it will get a value 1. This kind of classification is often called a binary classification."
   ]
  },
  {
   "cell_type": "code",
   "execution_count": 21,
   "id": "341a4ead-4a2f-431d-8f58-289979328ecc",
   "metadata": {},
   "outputs": [],
   "source": [
    "def custom_classifier(row, src_col1, src_col2, threshold1, threshold2, output_col):\n",
    "    \"\"\"Custom classifier that can be applied on each row of a pandas dtaframe (axis=1).\n",
    "    \n",
    "    This function classifies data based on values in two source columns and stores the output value in the output column.\n",
    "    Output values is 1 if the value in src_col1 is LOWER than the threshold1 value AND the value in srr_col2 is higher than threshold2 value.\n",
    "    In all other cases, output value is 0.\n",
    "    \n",
    "    ARGS:\n",
    "        row: one row of data\n",
    "        src_col1: source column named associated with threshold 1\n",
    "        src_col2: source column named associated with threshold 2\n",
    "        threshold1: upper threshold value for src_col1\n",
    "        threshold2: lower threshold value for src_col2\n",
    "        output_col: output column name\n",
    "        \n",
    "    Returns:\n",
    "        updated row of data.\n",
    "    \"\"\"\n",
    "    \n",
    "    #if condition is true, assign 1 into output column\n",
    "    if row[src_col1] < threshold1 and row[src_col2] > threshold2:\n",
    "        row[output_col] = 1\n",
    "        \n",
    "    #else, assign 0 into output column\n",
    "    else:\n",
    "        row[output_col] = 0\n",
    "    \n",
    "    #return the updated row\n",
    "    return row"
   ]
  },
  {
   "cell_type": "markdown",
   "id": "67e693f5-bf7a-4ac1-b4bc-a5a43ba17fea",
   "metadata": {},
   "source": [
    "Classification based on 2 criteria, find out grid cells:\n",
    "- travel time is lower or equal to 20 minutes\n",
    "- and travel distance are further away than 4km (4000 meters) from city center.\n",
    "\n",
    "append results to empty column for our classification results called \"suitable_area\""
   ]
  },
  {
   "cell_type": "code",
   "execution_count": 22,
   "id": "18c991c2-583b-46d4-9f60-387b67184bca",
   "metadata": {},
   "outputs": [
    {
     "data": {
      "text/html": [
       "<div>\n",
       "<style scoped>\n",
       "    .dataframe tbody tr th:only-of-type {\n",
       "        vertical-align: middle;\n",
       "    }\n",
       "\n",
       "    .dataframe tbody tr th {\n",
       "        vertical-align: top;\n",
       "    }\n",
       "\n",
       "    .dataframe thead th {\n",
       "        text-align: right;\n",
       "    }\n",
       "</style>\n",
       "<table border=\"1\" class=\"dataframe\">\n",
       "  <thead>\n",
       "    <tr style=\"text-align: right;\">\n",
       "      <th></th>\n",
       "      <th>car_m_d</th>\n",
       "      <th>car_m_t</th>\n",
       "      <th>car_r_d</th>\n",
       "      <th>car_r_t</th>\n",
       "      <th>from_id</th>\n",
       "      <th>pt_m_d</th>\n",
       "      <th>pt_m_t</th>\n",
       "      <th>pt_m_tt</th>\n",
       "      <th>pt_r_d</th>\n",
       "      <th>pt_r_t</th>\n",
       "      <th>...</th>\n",
       "      <th>to_id</th>\n",
       "      <th>walk_d</th>\n",
       "      <th>walk_t</th>\n",
       "      <th>GML_ID</th>\n",
       "      <th>NAMEFIN</th>\n",
       "      <th>NAMESWE</th>\n",
       "      <th>NATCODE</th>\n",
       "      <th>geometry</th>\n",
       "      <th>nb_pt_r_tt</th>\n",
       "      <th>suitable_area</th>\n",
       "    </tr>\n",
       "  </thead>\n",
       "  <tbody>\n",
       "    <tr>\n",
       "      <th>0</th>\n",
       "      <td>29476</td>\n",
       "      <td>41</td>\n",
       "      <td>29483</td>\n",
       "      <td>46</td>\n",
       "      <td>5876274</td>\n",
       "      <td>29990</td>\n",
       "      <td>76</td>\n",
       "      <td>95</td>\n",
       "      <td>24984</td>\n",
       "      <td>77</td>\n",
       "      <td>...</td>\n",
       "      <td>5975375</td>\n",
       "      <td>25532</td>\n",
       "      <td>365</td>\n",
       "      <td>27517366</td>\n",
       "      <td>Helsinki</td>\n",
       "      <td>Helsingfors</td>\n",
       "      <td>091</td>\n",
       "      <td>POLYGON ((402003.328 6685762.545, 402143.720 6...</td>\n",
       "      <td>8</td>\n",
       "      <td>0</td>\n",
       "    </tr>\n",
       "    <tr>\n",
       "      <th>1</th>\n",
       "      <td>29456</td>\n",
       "      <td>41</td>\n",
       "      <td>29462</td>\n",
       "      <td>46</td>\n",
       "      <td>5876275</td>\n",
       "      <td>29866</td>\n",
       "      <td>74</td>\n",
       "      <td>95</td>\n",
       "      <td>24860</td>\n",
       "      <td>75</td>\n",
       "      <td>...</td>\n",
       "      <td>5975375</td>\n",
       "      <td>25408</td>\n",
       "      <td>363</td>\n",
       "      <td>27517366</td>\n",
       "      <td>Helsinki</td>\n",
       "      <td>Helsingfors</td>\n",
       "      <td>091</td>\n",
       "      <td>POLYGON ((402250.000 6685750.000, 402250.000 6...</td>\n",
       "      <td>7</td>\n",
       "      <td>0</td>\n",
       "    </tr>\n",
       "    <tr>\n",
       "      <th>2</th>\n",
       "      <td>36772</td>\n",
       "      <td>50</td>\n",
       "      <td>36778</td>\n",
       "      <td>56</td>\n",
       "      <td>5876278</td>\n",
       "      <td>33541</td>\n",
       "      <td>116</td>\n",
       "      <td>137</td>\n",
       "      <td>44265</td>\n",
       "      <td>130</td>\n",
       "      <td>...</td>\n",
       "      <td>5975375</td>\n",
       "      <td>31110</td>\n",
       "      <td>444</td>\n",
       "      <td>27517366</td>\n",
       "      <td>Helsinki</td>\n",
       "      <td>Helsingfors</td>\n",
       "      <td>091</td>\n",
       "      <td>POLYGON ((403243.781 6685772.634, 403250.000 6...</td>\n",
       "      <td>8</td>\n",
       "      <td>0</td>\n",
       "    </tr>\n",
       "    <tr>\n",
       "      <th>3</th>\n",
       "      <td>36898</td>\n",
       "      <td>49</td>\n",
       "      <td>36904</td>\n",
       "      <td>56</td>\n",
       "      <td>5876279</td>\n",
       "      <td>33720</td>\n",
       "      <td>119</td>\n",
       "      <td>141</td>\n",
       "      <td>44444</td>\n",
       "      <td>132</td>\n",
       "      <td>...</td>\n",
       "      <td>5975375</td>\n",
       "      <td>31289</td>\n",
       "      <td>447</td>\n",
       "      <td>27517366</td>\n",
       "      <td>Helsinki</td>\n",
       "      <td>Helsingfors</td>\n",
       "      <td>091</td>\n",
       "      <td>POLYGON ((403250.000 6685750.000, 403250.000 6...</td>\n",
       "      <td>8</td>\n",
       "      <td>0</td>\n",
       "    </tr>\n",
       "    <tr>\n",
       "      <th>4</th>\n",
       "      <td>29411</td>\n",
       "      <td>40</td>\n",
       "      <td>29418</td>\n",
       "      <td>44</td>\n",
       "      <td>5878128</td>\n",
       "      <td>29944</td>\n",
       "      <td>75</td>\n",
       "      <td>95</td>\n",
       "      <td>24938</td>\n",
       "      <td>76</td>\n",
       "      <td>...</td>\n",
       "      <td>5975375</td>\n",
       "      <td>25486</td>\n",
       "      <td>364</td>\n",
       "      <td>27517366</td>\n",
       "      <td>Helsinki</td>\n",
       "      <td>Helsingfors</td>\n",
       "      <td>091</td>\n",
       "      <td>POLYGON ((402000.000 6685592.186, 402000.000 6...</td>\n",
       "      <td>8</td>\n",
       "      <td>0</td>\n",
       "    </tr>\n",
       "  </tbody>\n",
       "</table>\n",
       "<p>5 rows × 21 columns</p>\n",
       "</div>"
      ],
      "text/plain": [
       "   car_m_d  car_m_t  car_r_d  car_r_t  from_id  pt_m_d  pt_m_t  pt_m_tt  \\\n",
       "0    29476       41    29483       46  5876274   29990      76       95   \n",
       "1    29456       41    29462       46  5876275   29866      74       95   \n",
       "2    36772       50    36778       56  5876278   33541     116      137   \n",
       "3    36898       49    36904       56  5876279   33720     119      141   \n",
       "4    29411       40    29418       44  5878128   29944      75       95   \n",
       "\n",
       "   pt_r_d  pt_r_t  ...    to_id  walk_d  walk_t    GML_ID   NAMEFIN  \\\n",
       "0   24984      77  ...  5975375   25532     365  27517366  Helsinki   \n",
       "1   24860      75  ...  5975375   25408     363  27517366  Helsinki   \n",
       "2   44265     130  ...  5975375   31110     444  27517366  Helsinki   \n",
       "3   44444     132  ...  5975375   31289     447  27517366  Helsinki   \n",
       "4   24938      76  ...  5975375   25486     364  27517366  Helsinki   \n",
       "\n",
       "       NAMESWE NATCODE                                           geometry  \\\n",
       "0  Helsingfors     091  POLYGON ((402003.328 6685762.545, 402143.720 6...   \n",
       "1  Helsingfors     091  POLYGON ((402250.000 6685750.000, 402250.000 6...   \n",
       "2  Helsingfors     091  POLYGON ((403243.781 6685772.634, 403250.000 6...   \n",
       "3  Helsingfors     091  POLYGON ((403250.000 6685750.000, 403250.000 6...   \n",
       "4  Helsingfors     091  POLYGON ((402000.000 6685592.186, 402000.000 6...   \n",
       "\n",
       "  nb_pt_r_tt  suitable_area  \n",
       "0          8              0  \n",
       "1          7              0  \n",
       "2          8              0  \n",
       "3          8              0  \n",
       "4          8              0  \n",
       "\n",
       "[5 rows x 21 columns]"
      ]
     },
     "execution_count": 22,
     "metadata": {},
     "output_type": "execute_result"
    }
   ],
   "source": [
    "#Create column for the classification results\n",
    "acc[\"suitable_area\"] = None\n",
    "\n",
    "#apply function to acc dataframe\n",
    "acc = acc.apply(custom_classifier,\n",
    "                src_col1 = 'pt_r_tt',\n",
    "                src_col2 = 'walk_d',\n",
    "                threshold1 = 20,\n",
    "                threshold2 = 4000,\n",
    "                output_col = 'suitable_area',\n",
    "                axis=1)\n",
    "\n",
    "#see the first rows\n",
    "acc.head()\n",
    "                "
   ]
  },
  {
   "cell_type": "markdown",
   "id": "73e7e718-a5ca-4f35-9406-6426be17572a",
   "metadata": {},
   "source": [
    "In the suitable areas column, how many polygons meet the requirement of having a travel time < 20 mins and travel distance > 4km ? \n",
    "- Use dataFrame.value_counts() to show the distribution of counts for our column"
   ]
  },
  {
   "cell_type": "code",
   "execution_count": 24,
   "id": "6ad60fb8-8232-4813-b9f4-62e05b5bd3a9",
   "metadata": {},
   "outputs": [
    {
     "data": {
      "text/plain": [
       "0    3798\n",
       "1       9\n",
       "Name: suitable_area, dtype: int64"
      ]
     },
     "execution_count": 24,
     "metadata": {},
     "output_type": "execute_result"
    }
   ],
   "source": [
    "#Get value counts to check distribution of suitable areas\n",
    "acc['suitable_area'].value_counts()"
   ]
  },
  {
   "cell_type": "markdown",
   "id": "701a52bd-1240-46ac-81f6-842e6ad8c576",
   "metadata": {},
   "source": [
    "There are 9 suitable areas where can try to find an appartment to buy\n",
    "\n",
    "Plot there location on the map"
   ]
  },
  {
   "cell_type": "code",
   "execution_count": 25,
   "id": "0b62dbe9-6f93-477f-8067-60ec14f3b0b1",
   "metadata": {},
   "outputs": [
    {
     "data": {
      "image/png": "[encoded data removed]",
      "text/plain": [
       "<Figure size 432x288 with 1 Axes>"
      ]
     },
     "metadata": {
      "needs_background": "light"
     },
     "output_type": "display_data"
    }
   ],
   "source": [
    "acc.plot(column=\"suitable_area\", linewidth=0)\n",
    "\n",
    "#remove surrounding whitespace on the map\n",
    "plt.tight_layout()"
   ]
  },
  {
   "cell_type": "markdown",
   "id": "58bc58f8-b1c9-4f5a-a9b3-cde11a608a8f",
   "metadata": {},
   "source": [
    "Visualizing the suitable places with our criteria, the locations appears to be on the eastern part from the city center. Locations\n",
    "are along the metro line which makes them good locations in terms of travel time to city center since metro is really fast travel mode."
   ]
  },
  {
   "cell_type": "code",
   "execution_count": null,
   "id": "06791963-efde-4e41-97d6-773e0c1e00c9",
   "metadata": {},
   "outputs": [],
   "source": []
  }
 ],
 "metadata": {
  "kernelspec": {
   "display_name": "Python 3 (ipykernel)",
   "language": "python",
   "name": "python3"
  },
  "language_info": {
   "codemirror_mode": {
    "name": "ipython",
    "version": 3
   },
   "file_extension": ".py",
   "mimetype": "text/x-python",
   "name": "python",
   "nbconvert_exporter": "python",
   "pygments_lexer": "ipython3",
   "version": "3.8.12"
  }
 },
 "nbformat": 4,
 "nbformat_minor": 5
}
