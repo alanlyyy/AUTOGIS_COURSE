{
 "cells": [
  {
   "cell_type": "markdown",
   "id": "84c44674-2603-43c0-9715-8236f774939f",
   "metadata": {},
   "source": [
    "Problem 4: What is the closest shopping center from your home / work? (5 points)\n",
    "In the last problem you should find out the closest shopping center from two different locations a) your home and b) work place.\n",
    "\n",
    "Steps:\n",
    "\n",
    "Create a txt-file called activity_locations.txt (use same formatting as in Problem 1) with two columns:\n",
    "id: unique id for each row\n",
    "addr: address of your work and home (or any two addresses in the Helsinki Region.)\n",
    "Save the text file into this repository.\n",
    "\n",
    "- Read those addresses using pandas and geocode the addresses.\n",
    "- Find out the nearest shopping center to these points using Shapely nearest_points.\n",
    "- Print out the name of the shopping center that is nearest to a) home and b) work. For example: Shopping center closest to home: REDI."
   ]
  },
  {
   "cell_type": "code",
   "execution_count": 82,
   "id": "5805da3a-cf00-406e-a9b3-0d642a2d6f17",
   "metadata": {},
   "outputs": [],
   "source": [
    "import pandas as pd\n",
    "import geopandas as gpd\n",
    "from shapely.geometry import Point, LineString, Polygon\n",
    "\n",
    "#import the geocoding tool\n",
    "from geopandas.tools import geocode\n",
    "\n",
    "#import CRS class for crs reprojection\n",
    "from pyproj import CRS\n",
    "\n",
    "#for plotting geopandas dataframe and visual inspection\n",
    "import matplotlib.pyplot as plt"
   ]
  },
  {
   "cell_type": "markdown",
   "id": "bd0c8a8c-b83a-4f91-b92a-29f1da4675ab",
   "metadata": {},
   "source": [
    "- Read those addresses using pandas and geocode the addresses."
   ]
  },
  {
   "cell_type": "code",
   "execution_count": 83,
   "id": "ca515644-9272-445f-9748-916269fa434e",
   "metadata": {},
   "outputs": [
    {
     "name": "stdout",
     "output_type": "stream",
     "text": [
      "   id                                       addr\n",
      "0   0          Koirasaarentie 35, 00590 Helsinki\n",
      "1   1  Gustaf Hällströmin katu 2, 00560 Helsinki\n"
     ]
    }
   ],
   "source": [
    "data = pd.read_csv('activity_locations.txt', sep = ';')\n",
    "\n",
    "print(data.head())"
   ]
  },
  {
   "cell_type": "code",
   "execution_count": 84,
   "id": "82ad68bc-38e5-4091-84d9-f5c336cee93a",
   "metadata": {},
   "outputs": [
    {
     "data": {
      "text/html": [
       "<div>\n",
       "<style scoped>\n",
       "    .dataframe tbody tr th:only-of-type {\n",
       "        vertical-align: middle;\n",
       "    }\n",
       "\n",
       "    .dataframe tbody tr th {\n",
       "        vertical-align: top;\n",
       "    }\n",
       "\n",
       "    .dataframe thead th {\n",
       "        text-align: right;\n",
       "    }\n",
       "</style>\n",
       "<table border=\"1\" class=\"dataframe\">\n",
       "  <thead>\n",
       "    <tr style=\"text-align: right;\">\n",
       "      <th></th>\n",
       "      <th>geometry</th>\n",
       "      <th>address</th>\n",
       "    </tr>\n",
       "  </thead>\n",
       "  <tbody>\n",
       "    <tr>\n",
       "      <th>0</th>\n",
       "      <td>POINT (25.02474 60.16878)</td>\n",
       "      <td>Koirasaarentie, Hopealaakso, Kruunuvuorenranta...</td>\n",
       "    </tr>\n",
       "    <tr>\n",
       "      <th>1</th>\n",
       "      <td>POINT (24.96289 60.20490)</td>\n",
       "      <td>Unicafe Physicum, 2, Gustaf Hällströmin katu, ...</td>\n",
       "    </tr>\n",
       "  </tbody>\n",
       "</table>\n",
       "</div>"
      ],
      "text/plain": [
       "                    geometry  \\\n",
       "0  POINT (25.02474 60.16878)   \n",
       "1  POINT (24.96289 60.20490)   \n",
       "\n",
       "                                             address  \n",
       "0  Koirasaarentie, Hopealaakso, Kruunuvuorenranta...  \n",
       "1  Unicafe Physicum, 2, Gustaf Hällströmin katu, ...  "
      ]
     },
     "execution_count": 84,
     "metadata": {},
     "output_type": "execute_result"
    }
   ],
   "source": [
    "#not using rate limiter due to small amount of geocoding (2 rows)\n",
    "\n",
    "#geocode addresses using Nominatim api. #nominatim is rate limited to 1 call /second\n",
    "geo = geocode(data['addr'], provider='nominatim', user_agent='autogis_xx',timeout=4)\n",
    "\n",
    "#verify geocode works\n",
    "geo.head()"
   ]
  },
  {
   "cell_type": "markdown",
   "id": "9a747fcf-4546-4556-91d5-41471700b7db",
   "metadata": {},
   "source": [
    "- Find out the nearest shopping center to these points using Shapely nearest_points."
   ]
  },
  {
   "cell_type": "code",
   "execution_count": 85,
   "id": "47eb94b8-b166-44ab-8e2c-94b768ee9d79",
   "metadata": {},
   "outputs": [
    {
     "name": "stdout",
     "output_type": "stream",
     "text": [
      "                                             address  id       name  \\\n",
      "0  Kauppakeskus Itis, 1-7, Itäkatu, Itäkeskus, Va...   0       Itis   \n",
      "1  Salaattiasema, 14-20, Mannerheimintie, Kluuvi,...   1      Forum   \n",
      "2  Sports Academy, 11, Piispansilta, Matinkylä, S...   2  Iso-Omena   \n",
      "3  Lasten kappeli Arkki, 3-9, Leppävaarankatu, Sä...   3      Sello   \n",
      "4  Stockmann, 3, Vantaanportinkatu, Vantaanportti...   4      Jumbo   \n",
      "\n",
      "                                             addr  \\\n",
      "0            Itäkatu 1-7, 00930 Helsinki, Finland   \n",
      "1  Mannerheimintie 14-20, 00100 Helsinki, Finland   \n",
      "2           Piispansilta 11, 02230 Espoo, Finland   \n",
      "3       Leppävaarankatu 3-9, 02600 Espoo, Finland   \n",
      "4               Vantaanportinkatu 3, 01510 Vantaa   \n",
      "\n",
      "                           geometry  \n",
      "0  POINT (25504598.602 6677662.109)  \n",
      "1  POINT (25496573.542 6672878.360)  \n",
      "2  POINT (25485431.705 6672252.372)  \n",
      "3  POINT (25489491.076 6678322.265)  \n",
      "4  POINT (25497943.932 6686656.982)  \n",
      "(7, 5)\n"
     ]
    }
   ],
   "source": [
    "#read in the shopping_centers.shp data\n",
    "shopping_centers = gpd.read_file(\"shopping_centers.shp\")\n",
    "\n",
    "print(shopping_centers.head())\n",
    "print(shopping_centers.shape) #7 rows, 5 columns"
   ]
  },
  {
   "cell_type": "code",
   "execution_count": 86,
   "id": "28793d94-42cf-497f-83ac-27c0f2111855",
   "metadata": {},
   "outputs": [
    {
     "name": "stdout",
     "output_type": "stream",
     "text": [
      "epsg:3879\n",
      "EPSG:4326\n"
     ]
    }
   ],
   "source": [
    "#Check coordinate reference system information (re-project / define if needed)\n",
    "print(shopping_centers.crs)\n",
    "print(geo.crs)"
   ]
  },
  {
   "cell_type": "code",
   "execution_count": 87,
   "id": "fc4c88c5-fa4d-4192-a43a-bcbd3f310080",
   "metadata": {},
   "outputs": [
    {
     "name": "stdout",
     "output_type": "stream",
     "text": [
      "epsg:3879\n",
      "<class 'pyproj.crs.crs.CRS'>\n"
     ]
    }
   ],
   "source": [
    "#reproject the coordinates in the geometry column  and redefine the .crs definition\n",
    "geo = geo.to_crs(shopping_centers.crs)\n",
    "print(geo.crs)\n",
    "print(type(geo.crs))"
   ]
  },
  {
   "cell_type": "code",
   "execution_count": 88,
   "id": "02667d83-9c9b-4852-a3d4-a925ae45c5a2",
   "metadata": {},
   "outputs": [],
   "source": [
    "from shapely.ops import nearest_points\n",
    "\n",
    "def get_nearest_values(row, other_gdf, point_column='geometry', value_column=\"geometry\"):\n",
    "    \"\"\"Find the nearest point and return the corresponding value from specified value column.\"\"\"\n",
    "    \n",
    "    # Create an union of the other GeoDataFrame's geometries:\n",
    "    other_points = other_gdf[\"geometry\"].unary_union\n",
    "    \n",
    "    # Find the nearest points\n",
    "    nearest_geoms = nearest_points(row[point_column], other_points)\n",
    "    \n",
    "    # Get corresponding values from the other df\n",
    "    nearest_data = other_gdf.loc[other_gdf[\"geometry\"] == nearest_geoms[1]]\n",
    "    \n",
    "    nearest_value = nearest_data[value_column].values[0]\n",
    "    \n",
    "    return nearest_value"
   ]
  },
  {
   "cell_type": "code",
   "execution_count": 89,
   "id": "93cad59f-efee-4e1f-b507-38c91e3049e7",
   "metadata": {},
   "outputs": [
    {
     "name": "stdout",
     "output_type": "stream",
     "text": [
      "                           geometry  \\\n",
      "0  POINT (25501373.676 6672876.994)   \n",
      "1  POINT (25497942.152 6676901.898)   \n",
      "\n",
      "                                             address  nearest_location_id  \n",
      "0  Koirasaarentie, Hopealaakso, Kruunuvuorenranta...                    5  \n",
      "1  Unicafe Physicum, 2, Gustaf Hällströmin katu, ...                    6  \n"
     ]
    }
   ],
   "source": [
    "#get the nearest shopping center to the work/home addresses\n",
    "geo[\"nearest_location_id\"] = geo.apply(get_nearest_values, other_gdf=shopping_centers, point_column=\"geometry\", value_column=\"id\", axis=1)\n",
    "\n",
    "print(geo.head())"
   ]
  },
  {
   "cell_type": "code",
   "execution_count": 90,
   "id": "df1183c3-b85c-466f-b128-7d66e8abf4f8",
   "metadata": {},
   "outputs": [],
   "source": [
    "#extract nearest_location addresses using the id of the shopping_centers, add to the dataframe\n",
    "geo[\"nearest_location_address\"] = [shopping_centers.at[ geo.at[0,'nearest_location_id'], 'address' ] ,shopping_centers.at[ geo.at[1,'nearest_location_id'], 'address' ] ]"
   ]
  },
  {
   "cell_type": "code",
   "execution_count": 91,
   "id": "e3f786f2-2313-4ccf-82d3-7d52a7a9f31f",
   "metadata": {},
   "outputs": [
    {
     "name": "stdout",
     "output_type": "stream",
     "text": [
      "                           geometry  \\\n",
      "0  POINT (25501373.676 6672876.994)   \n",
      "1  POINT (25497942.152 6676901.898)   \n",
      "\n",
      "                                             address  nearest_location_id  \\\n",
      "0  Koirasaarentie, Hopealaakso, Kruunuvuorenranta...                    5   \n",
      "1  Unicafe Physicum, 2, Gustaf Hällströmin katu, ...                    6   \n",
      "\n",
      "                            nearest_location_address  \n",
      "0  Yoga Valo, 5, Hermannin rantatie, Verkkosaari,...  \n",
      "1  Pasilansilta, Keski-Pasila, Pasila, Keskinen s...  \n"
     ]
    }
   ],
   "source": [
    "print(geo.head())"
   ]
  },
  {
   "cell_type": "code",
   "execution_count": 92,
   "id": "d01c394a-d450-4b77-921e-8efa9af395a4",
   "metadata": {},
   "outputs": [],
   "source": [
    "#extract nearest_location points using the id of the shopping_centers, add to the dataframe\n",
    "geo[\"nearest_location_geometry\"] = [shopping_centers.at[ geo.at[0,'nearest_location_id'], 'geometry' ] ,shopping_centers.at[ geo.at[1,'nearest_location_id'], 'geometry' ] ]"
   ]
  },
  {
   "cell_type": "code",
   "execution_count": 93,
   "id": "03b22990-5191-4fc8-851d-84674b38910c",
   "metadata": {},
   "outputs": [
    {
     "name": "stdout",
     "output_type": "stream",
     "text": [
      "                           geometry  \\\n",
      "0  POINT (25501373.676 6672876.994)   \n",
      "1  POINT (25497942.152 6676901.898)   \n",
      "\n",
      "                                             address  nearest_location_id  \\\n",
      "0  Koirasaarentie, Hopealaakso, Kruunuvuorenranta...                    5   \n",
      "1  Unicafe Physicum, 2, Gustaf Hällströmin katu, ...                    6   \n",
      "\n",
      "                            nearest_location_address  \\\n",
      "0  Yoga Valo, 5, Hermannin rantatie, Verkkosaari,...   \n",
      "1  Pasilansilta, Keski-Pasila, Pasila, Keskinen s...   \n",
      "\n",
      "                     nearest_location_geometry  \n",
      "0  POINT (25498829.27422557 6674970.005298332)  \n",
      "1  POINT (25496345.00760458 6676150.296155145)  \n"
     ]
    }
   ],
   "source": [
    "print(geo.head())"
   ]
  },
  {
   "cell_type": "code",
   "execution_count": 94,
   "id": "00af5bc4-6f73-4e2f-b9d1-5b2ae775584b",
   "metadata": {},
   "outputs": [
    {
     "name": "stdout",
     "output_type": "stream",
     "text": [
      "epsg:3879\n",
      "                            nearest_location_address  \\\n",
      "0  Yoga Valo, 5, Hermannin rantatie, Verkkosaari,...   \n",
      "1  Pasilansilta, Keski-Pasila, Pasila, Keskinen s...   \n",
      "\n",
      "                           geometry  \n",
      "0  POINT (25498829.274 6674970.005)  \n",
      "1  POINT (25496345.008 6676150.296)  \n"
     ]
    }
   ],
   "source": [
    "#extract shopping_center locations that are nearest to the addresses\n",
    "geo_col = geo.columns\n",
    "nearest_shopping_center = geo.copy()\n",
    "nearest_shopping_center.drop( columns =geo_col[0:3], inplace=True, axis =1)\n",
    "\n",
    "#covert nearest_location_geometry -> geometry to allowing plotting of the points\n",
    "nearest_shopping_center.rename(columns={\"nearest_location_geometry\" : \"geometry\"}, inplace =True)\n",
    "\n",
    "#verify if crs of the geodataframe is still intact\n",
    "print(nearest_shopping_center.crs)\n",
    "\n",
    "print(nearest_shopping_center.head())\n",
    "    "
   ]
  },
  {
   "cell_type": "code",
   "execution_count": 95,
   "id": "fa640566-fe61-4405-a469-c4e08f28c5b0",
   "metadata": {},
   "outputs": [
    {
     "data": {
      "text/plain": [
       "<AxesSubplot:>"
      ]
     },
     "execution_count": 95,
     "metadata": {},
     "output_type": "execute_result"
    },
    {
     "data": {
      "image/png": "[encoded data removed]",
      "text/plain": [
       "<Figure size 1080x576 with 1 Axes>"
      ]
     },
     "metadata": {
      "needs_background": "light"
     },
     "output_type": "display_data"
    }
   ],
   "source": [
    "#visual inspection to verify the shopping centers are in fact near the 2 work/home addresses\n",
    "\n",
    "# Create a figure with one subplot\n",
    "fig, ax = plt.subplots(figsize=(15,8))\n",
    "\n",
    "# Plot population grid\n",
    "geo.plot(ax=ax)\n",
    "\n",
    "# Plot points\n",
    "shopping_centers.plot(ax=ax, color='red')\n",
    "\n",
    "# identify nearest shoppping_centers\n",
    "nearest_shopping_center.plot(color='green', ax=ax)"
   ]
  },
  {
   "cell_type": "markdown",
   "id": "d8b5db9e-e7e0-4e6e-a901-71472804ddf5",
   "metadata": {
    "tags": []
   },
   "source": [
    "- Print out the name of the shopping center that is nearest to a) home and b) work. For example: Shopping center closest to home: REDI."
   ]
  },
  {
   "cell_type": "code",
   "execution_count": 98,
   "id": "65dd82f1-342d-40a4-ad51-519685aaf3e0",
   "metadata": {},
   "outputs": [
    {
     "name": "stdout",
     "output_type": "stream",
     "text": [
      "Shopping center,  Yoga Valo, 5, Hermannin rantatie, Verkkosaari, Kalasatama, Sörnäinen, Helsinki, Helsingin seutukunta, Uusimaa, Etelä-Suomen aluehallintovirasto, Manner-Suomi, 00580, Suomi , closest to,  Koirasaarentie, Hopealaakso, Kruunuvuorenranta, Laajasalo, Helsinki, Helsingin seutukunta, Uusimaa, Etelä-Suomen aluehallintovirasto, Manner-Suomi, 00590, Suomi . \n",
      "\n",
      "Shopping center,  Pasilansilta, Keski-Pasila, Pasila, Keskinen suurpiiri, Helsingin seutukunta, Uusimaa, Etelä-Suomen aluehallintovirasto, Manner-Suomi, 00077, Suomi , closest to,  Unicafe Physicum, 2, Gustaf Hällströmin katu, Kumpula, Helsinki, Helsingin seutukunta, Uusimaa, Etelä-Suomen aluehallintovirasto, Manner-Suomi, 00560, Suomi . \n",
      "\n"
     ]
    }
   ],
   "source": [
    "for row in range(0,len(geo)):\n",
    "    print( \"Shopping center, \", geo.at[row,'nearest_location_address'], \", closest to, \" , geo.at[row,'address'], \". \\n\"  )"
   ]
  },
  {
   "cell_type": "code",
   "execution_count": null,
   "id": "e02d558d-fcaa-4e08-92ca-fa1cc0510205",
   "metadata": {},
   "outputs": [],
   "source": []
  }
 ],
 "metadata": {
  "kernelspec": {
   "display_name": "Python 3 (ipykernel)",
   "language": "python",
   "name": "python3"
  },
  "language_info": {
   "codemirror_mode": {
    "name": "ipython",
    "version": 3
   },
   "file_extension": ".py",
   "mimetype": "text/x-python",
   "name": "python",
   "nbconvert_exporter": "python",
   "pygments_lexer": "ipython3",
   "version": "3.8.12"
  }
 },
 "nbformat": 4,
 "nbformat_minor": 5
}
