{
 "cells": [
  {
   "cell_type": "markdown",
   "id": "79f28f12-f007-4467-825f-601ecdf2d1ed",
   "metadata": {},
   "source": [
    "Problem 1: Geocode shopping centers (5 points)\n",
    "The overall aim of problems 1-3 is to find out how many people live within a walking distance (1.5 km) from certain shopping centers in Helsinki.\n",
    "\n",
    "In problem 1 aim is to find out the addresses of shopping centers and to retreive numercal coordinates for these addresses. As an output, we will have a Shapefile called shopping_centers.shp which contains the geocoded result.\n",
    "\n",
    "Preparation: Find out the addresses for following shopping centers from the internet, and write the addresses into a text file called shopping_centers.txt:\n",
    "\n",
    "Itis\n",
    "Forum\n",
    "Iso-omena\n",
    "Sello\n",
    "Jumbo\n",
    "REDI\n",
    "Tripla\n",
    "\n",
    "Hint for \"Tripla\": This shopping center opened in October 10 2019, and if you are doing this exercise soon after that, the official address might not yet be in online databases. Check for an address nearby the Pasila railway station on OpenStreetMap.org and use that as input.\n",
    "\n",
    "shopping_centers.txt should have semicolon (;) as a separator, and the file should include the following columns:\n",
    "\n",
    "id (integer) containing an unique identifier for each shopping center\n",
    "name (string) of each shopping center\n",
    "addr (string) the address\n",
    "See and example of how to format the text file in the lesson 3 materials. Save (and upload) the text file into your exercise repository."
   ]
  },
  {
   "cell_type": "markdown",
   "id": "90c4ad11-bec8-4bdb-b0ce-6225f62167cb",
   "metadata": {},
   "source": [
    "Read shopping_centers.txt that you just created into a pandas DataFrame called data:"
   ]
  },
  {
   "cell_type": "code",
   "execution_count": null,
   "id": "09c5ac72-b130-49a6-86f5-cb6e5e3dc5cf",
   "metadata": {},
   "outputs": [],
   "source": [
    "import pandas as pd\n",
    "import geopandas as gpd\n",
    "from shapely.geometry import Point, LineString, Polygon\n",
    "\n",
    "#import the geocoding tool\n",
    "from geopandas.tools import geocode"
   ]
  },
  {
   "cell_type": "code",
   "execution_count": null,
   "id": "574f2a89-0b57-4eef-b5cd-36f549d6b153",
   "metadata": {},
   "outputs": [],
   "source": [
    "data = pd.read_csv('shopping_centers.txt', sep= ';')\n",
    "print(data.head)"
   ]
  },
  {
   "cell_type": "code",
   "execution_count": null,
   "id": "223ca337-3a84-4302-b113-cf15245fa085",
   "metadata": {},
   "outputs": [],
   "source": [
    "#verify if we are reading the data correctly\n",
    "print(data.columns)  #print all column headers\n",
    "print(data.iat[0,2]) #return address for item 1"
   ]
  },
  {
   "cell_type": "markdown",
   "id": "343cc6bb-839f-4eef-8aac-9c0a8037f975",
   "metadata": {
    "tags": []
   },
   "source": [
    "Geocode the addresses using the Nominatim geocoding service. Store the output in a variable called geo:"
   ]
  },
  {
   "cell_type": "markdown",
   "id": "3a2ff188-3d7c-49a0-a69b-3c0e4dcb9678",
   "metadata": {},
   "source": [
    "Geocoding without a rate limiter - use for small batch of calls"
   ]
  },
  {
   "cell_type": "code",
   "execution_count": null,
   "id": "76e92dd6-fc35-43ec-931e-912b6633c61a",
   "metadata": {},
   "outputs": [],
   "source": [
    "#geocode addresses using Nominatim api. #nominatim is rate limited to 1 call /second\n",
    "geo = geocode(data['addr'], provider='nominatim', user_agent='autogis_xx',timeout=4)\n",
    "\n",
    "#verify geocode works\n",
    "geo.head()"
   ]
  },
  {
   "cell_type": "markdown",
   "id": "72ce34d0-b3e6-4586-9c21-c6358f7000f9",
   "metadata": {
    "tags": []
   },
   "source": [
    "Geocoding with a rate limiter - use when you have a larger data set Nominatim is rate limited to 1 call /second"
   ]
  },
  {
   "cell_type": "markdown",
   "id": "cee8857e-6528-4604-a6f4-a5341bf5487d",
   "metadata": {},
   "source": [
    "from geopy.geocoders import Nominatim\n",
    "from geopy.extra.rate_limiter import RateLimiter\n",
    "\n",
    "#import the geocoding tool\n",
    "from geopandas.tools import geocode\n",
    "\n",
    "#Initiate geocoder Nominatim api provider\n",
    "geolocator = Nominatim(user_agent = 'autogis_xx')\n",
    "\n",
    "#create a geopy rate limiter: (to slow down the geo code requests and handle exceptions)\n",
    "geocode_with_delay = RateLimiter(geolocator.geocode, min_delay_seconds=1)\n",
    "\n",
    "#apply the geocoder with delay using the rate limiter for each row in data['addr']\n",
    "data['temp'] = data['addr'].apply(geocode_with_delay)\n",
    "\n",
    "#get point coordinates from the geopy location object on each row\n",
    "data['coords'] = data['temp'].apply(lambda loc: tuple(loc.point) if loc else None)\n",
    "     \n",
    "#create shapely point objects to geometry column\n",
    "data['geometry'] = data['coords'].apply(Point)\n"
   ]
  },
  {
   "cell_type": "markdown",
   "id": "292b50b8-d53b-46d0-8d64-e1cb6fe18888",
   "metadata": {},
   "source": [
    "data.head()"
   ]
  },
  {
   "cell_type": "code",
   "execution_count": null,
   "id": "3156a8ea-996c-4780-9c29-35e65d5c26c6",
   "metadata": {},
   "outputs": [],
   "source": [
    "#NON-EDITABLE TEST CELL\n",
    "# Check the geocoded output\n",
    "print(geo)"
   ]
  },
  {
   "cell_type": "code",
   "execution_count": null,
   "id": "53634ec5-6f35-4b89-b053-db424a4d9fa2",
   "metadata": {},
   "outputs": [],
   "source": [
    "#NON-EDITABLE TEST CELL\n",
    "# Check the data type (should be a GeoDataFrame!)\n",
    "print(type(geo))"
   ]
  },
  {
   "cell_type": "markdown",
   "id": "0f355e89-04f7-4f24-8b71-208c12cb709a",
   "metadata": {},
   "source": [
    "Check that the coordinate reference system of the geocoded result is correctly defined, and reproject the layer into ETRS GK-25 (EPSG:3879):"
   ]
  },
  {
   "cell_type": "code",
   "execution_count": null,
   "id": "78992c2c-076a-4872-8c5c-7b28e75cbcc7",
   "metadata": {},
   "outputs": [],
   "source": [
    "#import CRS class for crs reprojection\n",
    "from pyproj import CRS\n",
    "\n",
    "# Check layer crs\n",
    "print(geo.crs)\n",
    "\n",
    "#re-project the coordinates in the geometry-column AND re-define the .crs definition\n",
    "geo = geo.to_crs(CRS.from_epsg(3879))"
   ]
  },
  {
   "cell_type": "code",
   "execution_count": null,
   "id": "3909f51f-c95c-4fd4-b7e2-44ee253fac98",
   "metadata": {},
   "outputs": [],
   "source": [
    "#NON-EDITABLE TEST CELL\n",
    "# Check layer crs\n",
    "print(geo.crs)"
   ]
  },
  {
   "cell_type": "markdown",
   "id": "49fc87ff-bde0-4c0c-82ef-8f0ef4057c08",
   "metadata": {},
   "source": [
    "- Make a table join between the geocoded addresses (geo) and the original addresses (data) in order to link the numerical coordinates and the id and name of each shopping center.\n",
    "- Store the output in a variable called geodata"
   ]
  },
  {
   "cell_type": "code",
   "execution_count": null,
   "id": "22d59b5c-48c5-470b-a7ad-a93051dc5fa7",
   "metadata": {},
   "outputs": [],
   "source": [
    "#verify the data rows are in the same order as the geo rows\n",
    "print(data.head)\n",
    "print(geo.head)"
   ]
  },
  {
   "cell_type": "code",
   "execution_count": null,
   "id": "054b0492-32cb-49eb-9566-2d391571fc86",
   "metadata": {},
   "outputs": [],
   "source": [
    "#Join the table\n",
    "geodata = geo.join(data)\n",
    "print(geodata.head())"
   ]
  },
  {
   "cell_type": "markdown",
   "id": "77d9470e-0e8e-4929-aab0-c53348115d68",
   "metadata": {},
   "source": [
    "Save the output as a Shapefile called shopping_centers.shp"
   ]
  },
  {
   "cell_type": "code",
   "execution_count": null,
   "id": "f21c0c82-6ee2-4c3c-bdcd-f7497d7df5c5",
   "metadata": {},
   "outputs": [],
   "source": [
    "# Define output filepath\n",
    "out_fp = 'shopping_centers.shp'\n",
    "\n",
    "# Save file\n",
    "geodata.to_file(out_fp)"
   ]
  },
  {
   "cell_type": "code",
   "execution_count": null,
   "id": "f236389b-738f-4623-a749-d6776eaed687",
   "metadata": {},
   "outputs": [],
   "source": [
    "#NON-EDITABLE TEST CELL\n",
    "# Print info about output file\n",
    "print(\"Geocoded output is stored in this file:\", out_fp)"
   ]
  },
  {
   "cell_type": "markdown",
   "id": "d04b67c8-9f2f-49cd-b0f8-5715f93d16cc",
   "metadata": {},
   "source": [
    "Problem 2: Create buffers around shopping centers (5 points)\n",
    "- Let's continue with our case study and calculate a 1.5 km buffer around the geocoded points."
   ]
  },
  {
   "cell_type": "markdown",
   "id": "f4779324-b5ec-4a78-abcc-20276699fa54",
   "metadata": {},
   "source": [
    "Start by creating a new column called buffer to geodata GeoDataFrame:"
   ]
  },
  {
   "cell_type": "code",
   "execution_count": null,
   "id": "6a45a931-0f34-49db-b809-abb78826e428",
   "metadata": {},
   "outputs": [],
   "source": [
    "geodata['buffer'] = None"
   ]
  },
  {
   "cell_type": "markdown",
   "id": "dff90190-fbb9-4aba-997b-303ecaebd5f1",
   "metadata": {},
   "source": [
    "Calculate a 1.5 km buffer for each geocoded point. Store the buffer geometry in the new buffer column."
   ]
  },
  {
   "cell_type": "code",
   "execution_count": null,
   "id": "b9d1d3ef-2784-485d-8639-ec1cc2009aff",
   "metadata": {},
   "outputs": [],
   "source": [
    "geodata['buffer'] = geodata.buffer(1500)"
   ]
  },
  {
   "cell_type": "code",
   "execution_count": null,
   "id": "664fb0a6-775c-4957-98f0-6433ac58860b",
   "metadata": {},
   "outputs": [],
   "source": [
    "#NON-EDITABLE TEST CELL\n",
    "print(geodata.head())"
   ]
  },
  {
   "cell_type": "code",
   "execution_count": null,
   "id": "e06e4cc9-2875-464a-9baa-08e71f16d5df",
   "metadata": {},
   "outputs": [],
   "source": [
    "#NON-EDITABLE TEST CELL\n",
    "# Check the data type of the first value in the buffer-column\n",
    "print(type(geodata.at[0,'buffer']))"
   ]
  },
  {
   "cell_type": "code",
   "execution_count": null,
   "id": "9e782c26-670a-4584-8e60-74961092ce0e",
   "metadata": {},
   "outputs": [],
   "source": [
    "#NON-EDITABLE TEST CELL\n",
    "# Check the areas of your buffers in km^2\n",
    "print(round(gpd.GeoSeries(geodata[\"buffer\"]).area / 1000000))"
   ]
  },
  {
   "cell_type": "markdown",
   "id": "f645aba9-ce7d-4cad-9c11-52679f16d176",
   "metadata": {},
   "source": [
    "Replace the values in geometry column with the values of buffer column:"
   ]
  },
  {
   "cell_type": "code",
   "execution_count": null,
   "id": "9119eb12-2d97-4766-ad8b-8d6021b1d08c",
   "metadata": {},
   "outputs": [],
   "source": [
    "geodata.rename(columns = {'geometry':'location_point', 'buffer':'geometry'} , inplace =True)\n",
    "print(geodata.head())"
   ]
  },
  {
   "cell_type": "markdown",
   "id": "ca7b92f9-50a8-4c6d-a674-3d90d5892c6b",
   "metadata": {},
   "source": [
    "Problem 3: How many people live near shopping centers? (5 points)\n",
    "Last step in our analysis is to make a spatial join between our buffer layer and population data in order to find out how many people live near each shopping center. We will use the same data as we did during lesson 3; a Population Grid that is available via the HSY wfs.\n",
    "\n",
    "Alternatively, you can also download the data from the Helsinki Region Infoshare (HRI) as a shapefile (using wget).\n",
    "\n",
    "The coordinate reference system of the population grid is ETRS GK-25 (EPSG:3879).\n",
    "\n",
    "Steps:\n",
    "\n",
    "- Read the population grid into a geodataframe\n",
    "\n",
    "- Select only the useful columns from the population grid: 'asukkaita' (=population count per grid square) and 'geometry'\n",
    "\n",
    "- Make a spatial join between your buffered point layer and population grid layer. Join the information now from buffer layer into the population grid layer\n",
    "\n",
    "- Group the joined layer by shopping center index\n",
    "\n",
    "- Calculate the sum of population living within 1.5 km for each shopping center.\n",
    "\n",
    "Finally:\n",
    "\n",
    "- Print out the population living within 1.5 km from each shopping center:\n",
    "\n",
    "- Itis\n",
    "- Forum\n",
    "- Iso-omena\n",
    "- Sello\n",
    "- Jumbo\n",
    "- REDI\n",
    "- Tripla\n",
    "\n",
    "Final print out should contain both the shopping center name and population count, for example: 26532 people live within 1.5 km from Iso-Omena.\n",
    "\n",
    "Feel free to divide your solution into several codeblocks! Remember to comment your code :)"
   ]
  },
  {
   "cell_type": "markdown",
   "id": "d45e7716-0323-4ca4-bd28-af0091a4cd3d",
   "metadata": {},
   "source": [
    "Read Population grid: 250m x 250m grid polygon layer that contains population information from the Helsinki Region.\n",
    "\n",
    "- The population grid a dataset is produced by the Helsinki Region Environmental Services Authority (HSY) (see this page to access data from different years).\n",
    "- You can download the data from from this link in the Helsinki Region Infroshare (HRI) open data portal.\n",
    "\n",
    "Here, we will access the data directly from the HSY wfs:"
   ]
  },
  {
   "cell_type": "code",
   "execution_count": null,
   "id": "e55d6ecb-1ad7-4b61-95e3-a6808848d43f",
   "metadata": {},
   "outputs": [],
   "source": [
    "import requests\n",
    "import geojson\n",
    "\n",
    "# Specify the url for web feature service\n",
    "url = 'https://kartta.hsy.fi/geoserver/wfs'\n",
    "\n",
    "# Specify parameters (read data in json format). \n",
    "# Available feature types in this particular data source: http://geo.stat.fi/geoserver/vaestoruutu/wfs?service=wfs&version=2.0.0&request=describeFeatureType\n",
    "params = dict(service='WFS', \n",
    "              version='2.0.0', \n",
    "              request='GetFeature', \n",
    "              typeName='asuminen_ja_maankaytto:Vaestotietoruudukko_2018', \n",
    "              outputFormat='json')\n",
    "\n",
    "# Fetch data from WFS using requests\n",
    "r = requests.get(url, params=params)\n",
    "\n",
    "# Create GeoDataFrame from geojson\n",
    "pop = gpd.GeoDataFrame.from_features(geojson.loads(r.content))"
   ]
  },
  {
   "cell_type": "code",
   "execution_count": null,
   "id": "86fa054e-6caa-49cd-a571-24828dc1ce1f",
   "metadata": {},
   "outputs": [],
   "source": [
    "print(pop.head())"
   ]
  },
  {
   "cell_type": "markdown",
   "id": "8584e548-25aa-42cb-bed4-b6d7b899c9c3",
   "metadata": {},
   "source": [
    "Select useful columns from the population grid: asukkaita, geometry."
   ]
  },
  {
   "cell_type": "code",
   "execution_count": null,
   "id": "08773264-f94c-4391-a5c7-7e68dca5887c",
   "metadata": {},
   "outputs": [],
   "source": [
    "sub_pop = pop[['asukkaita', 'geometry']].copy()"
   ]
  },
  {
   "cell_type": "code",
   "execution_count": null,
   "id": "49619a71-fe19-4987-8dd2-97bc0d4b45f8",
   "metadata": {},
   "outputs": [],
   "source": [
    "print(sub_pop.head())"
   ]
  },
  {
   "cell_type": "markdown",
   "id": "311beeed-d381-4a19-ad96-f9573a10cf17",
   "metadata": {},
   "source": [
    "Make a spatial join between your buffered point layer and population grid layer. Join the information now from buffer layer into the population grid layer"
   ]
  },
  {
   "cell_type": "code",
   "execution_count": null,
   "id": "a4b32fec-ea39-471a-a370-7cfce3f13cef",
   "metadata": {},
   "outputs": [],
   "source": [
    "#check the crs of population grids and the buffered point layers\n",
    "print(sub_pop.crs)\n",
    "print(geodata.crs)"
   ]
  },
  {
   "cell_type": "code",
   "execution_count": null,
   "id": "e9ccee8a-1779-4829-9296-efd89f593e96",
   "metadata": {},
   "outputs": [],
   "source": [
    "#define a CRS for sub_pop, since sub_pop is currently not projected to anything.\n",
    "from pyproj import CRS\n",
    "\n",
    "sub_pop.crs = CRS.from_epsg(3879).to_wkt()\n",
    "\n",
    "print(sub_pop.crs)"
   ]
  },
  {
   "cell_type": "code",
   "execution_count": null,
   "id": "3705bb38-494d-4a24-a1b3-a4d8e082ca06",
   "metadata": {},
   "outputs": [],
   "source": [
    "# Are the layers in the same projection?\n",
    "geodata.crs == sub_pop.crs"
   ]
  },
  {
   "cell_type": "code",
   "execution_count": null,
   "id": "d2f538f0-b743-42b9-8609-b5c5d58049f1",
   "metadata": {},
   "outputs": [],
   "source": [
    "#join sub_pop data into geodata layer if sub_pop grid overlaps geodata, conduct a inner join.\n",
    "join = gpd.sjoin(geodata,sub_pop, how=\"inner\", op=\"intersects\")\n",
    "\n",
    "print(join.head())\n",
    "\n",
    "#index_right = index of the matching polygon\n",
    "#assukaita = population in the cell where the address point is located."
   ]
  },
  {
   "cell_type": "code",
   "execution_count": 103,
   "id": "2b5475c9-8367-495e-bd79-ff865ed1d744",
   "metadata": {},
   "outputs": [
    {
     "name": "stdout",
     "output_type": "stream",
     "text": [
      "633\n",
      "7\n",
      "5832\n"
     ]
    }
   ],
   "source": [
    "#verify if we have lost data.\n",
    "print(len(join))\n",
    "print(len(geodata))\n",
    "print(len(sub_pop))"
   ]
  },
  {
   "cell_type": "markdown",
   "id": "c79c6b43-7c8a-4612-afa7-aed2289587a2",
   "metadata": {},
   "source": [
    "Plot the layers on top of each other, we can observe that some of the points are located outside the populated grid squares \n",
    "- (increase figure size if you can’t see this properly!)"
   ]
  },
  {
   "cell_type": "code",
   "execution_count": null,
   "id": "fb50c7a4-155e-4730-aa4e-8bf2bd1aabb9",
   "metadata": {},
   "outputs": [],
   "source": [
    "import matplotlib.pyplot as plt\n",
    "\n",
    "# Create a figure with one subplot\n",
    "fig, ax = plt.subplots(figsize=(15,8))\n",
    "\n",
    "# Plot population grid\n",
    "sub_pop.plot(ax=ax)\n",
    "\n",
    "# Plot points\n",
    "geodata.plot(ax=ax, color='red', markersize=5)"
   ]
  },
  {
   "cell_type": "markdown",
   "id": "b4d64621-d4e3-4799-9b40-5ec671054923",
   "metadata": {},
   "source": [
    "Visualize the joined output\n",
    "\n",
    "Plot the points and use the assukaita column to indicate the color: \n",
    "- cmap -parameter tells to use a sequential colormap for the values (adjust color based on population density)\n",
    "- markersize adjusts the size of a point, \n",
    "- scheme parameter can be used to adjust the classification method based on pysal,\n",
    "- legend tells that we want to have a legend:"
   ]
  },
  {
   "cell_type": "code",
   "execution_count": null,
   "id": "c60a48f7-a17f-441b-8a51-51632126d875",
   "metadata": {},
   "outputs": [],
   "source": [
    "# Create a figure with one subplot\n",
    "fig, ax = plt.subplots(figsize=(10,6))\n",
    "\n",
    "# Plot the points with population info\n",
    "join.plot(ax=ax, column='asukkaita', cmap=\"Reds\", markersize=15, scheme='quantiles', legend=True);\n",
    "\n",
    "# Add title\n",
    "plt.title(\"Amount of inhabitants living close the the point\");\n",
    "\n",
    "# Remove white space around the figure\n",
    "plt.tight_layout()"
   ]
  },
  {
   "cell_type": "markdown",
   "id": "d09a6ba1-811a-4394-ab64-64763e265b5b",
   "metadata": {},
   "source": [
    "plot the original population grid and check the overall population distribution in Helsinki:"
   ]
  },
  {
   "cell_type": "code",
   "execution_count": null,
   "id": "b26ac9e8-8f19-40c8-a1fe-bfcf395bc87b",
   "metadata": {},
   "outputs": [],
   "source": [
    "# Create a figure with one subplot\n",
    "fig, ax = plt.subplots(figsize=(10,6))\n",
    "\n",
    "# Plot the grid with population info\n",
    "sub_pop.plot(ax=ax, column='asukkaita', cmap=\"Reds\", scheme='quantiles', legend=True);\n",
    "\n",
    "# Add title\n",
    "plt.title(\"Population 2018 in 250 x 250 m grid squares\");\n",
    "\n",
    "# Remove white space around the figure\n",
    "plt.tight_layout()"
   ]
  },
  {
   "cell_type": "markdown",
   "id": "9029897e-53a8-4fcc-84b1-cdd8f15090c2",
   "metadata": {
    "tags": []
   },
   "source": [
    "Group the joined layer by shopping center index"
   ]
  },
  {
   "cell_type": "code",
   "execution_count": 102,
   "id": "8e9c37b0-d7e6-4984-abe4-8e5e4e40033e",
   "metadata": {},
   "outputs": [
    {
     "name": "stdout",
     "output_type": "stream",
     "text": [
      "<bound method NDFrame.head of                      location_point  \\\n",
      "0  POINT (25504598.602 6677662.109)   \n",
      "1  POINT (25496573.542 6672878.360)   \n",
      "2  POINT (25485431.705 6672252.372)   \n",
      "3  POINT (25489491.076 6678322.265)   \n",
      "4  POINT (25497943.932 6686656.982)   \n",
      "5  POINT (25498829.274 6674970.005)   \n",
      "6  POINT (25496345.008 6676150.296)   \n",
      "\n",
      "                                             address  id       name  \\\n",
      "0  Kauppakeskus Itis, 1-7, Itäkatu, Itäkeskus, Va...   0       Itis   \n",
      "1  Salaattiasema, 14-20, Mannerheimintie, Kluuvi,...   1      Forum   \n",
      "2  Sports Academy, 11, Piispansilta, Matinkylä, S...   2  Iso-Omena   \n",
      "3  Lasten kappeli Arkki, 3-9, Leppävaarankatu, Sä...   3      Sello   \n",
      "4  Stockmann, 3, Vantaanportinkatu, Vantaanportti...   4      Jumbo   \n",
      "5  Yoga Valo, 5, Hermannin rantatie, Verkkosaari,...   5       REDI   \n",
      "6  Pasilansilta, Keski-Pasila, Pasila, Keskinen s...   6     Tripla   \n",
      "\n",
      "                                             addr  \\\n",
      "0            Itäkatu 1-7, 00930 Helsinki, Finland   \n",
      "1  Mannerheimintie 14-20, 00100 Helsinki, Finland   \n",
      "2           Piispansilta 11, 02230 Espoo, Finland   \n",
      "3       Leppävaarankatu 3-9, 02600 Espoo, Finland   \n",
      "4               Vantaanportinkatu 3, 01510 Vantaa   \n",
      "5            Hermannin rantatie 5, 00580 Helsinki   \n",
      "6                 Pasilansilta 11, 00520 Helsinki   \n",
      "\n",
      "                                            geometry  \n",
      "0  POLYGON ((25506098.602 6677662.109, 25506091.3...  \n",
      "1  POLYGON ((25498073.542 6672878.360, 25498066.3...  \n",
      "2  POLYGON ((25486931.705 6672252.372, 25486924.4...  \n",
      "3  POLYGON ((25490991.076 6678322.265, 25490983.8...  \n",
      "4  POLYGON ((25499443.932 6686656.982, 25499436.7...  \n",
      "5  POLYGON ((25500329.274 6674970.005, 25500322.0...  \n",
      "6  POLYGON ((25497845.008 6676150.296, 25497837.7...  >\n",
      "<bound method NDFrame.head of                       location_point  \\\n",
      "0   POINT (25504598.602 6677662.109)   \n",
      "0   POINT (25504598.602 6677662.109)   \n",
      "0   POINT (25504598.602 6677662.109)   \n",
      "0   POINT (25504598.602 6677662.109)   \n",
      "0   POINT (25504598.602 6677662.109)   \n",
      "..                               ...   \n",
      "6   POINT (25496345.008 6676150.296)   \n",
      "6   POINT (25496345.008 6676150.296)   \n",
      "6   POINT (25496345.008 6676150.296)   \n",
      "6   POINT (25496345.008 6676150.296)   \n",
      "6   POINT (25496345.008 6676150.296)   \n",
      "\n",
      "                                              address  id    name  \\\n",
      "0   Kauppakeskus Itis, 1-7, Itäkatu, Itäkeskus, Va...   0    Itis   \n",
      "0   Kauppakeskus Itis, 1-7, Itäkatu, Itäkeskus, Va...   0    Itis   \n",
      "0   Kauppakeskus Itis, 1-7, Itäkatu, Itäkeskus, Va...   0    Itis   \n",
      "0   Kauppakeskus Itis, 1-7, Itäkatu, Itäkeskus, Va...   0    Itis   \n",
      "0   Kauppakeskus Itis, 1-7, Itäkatu, Itäkeskus, Va...   0    Itis   \n",
      "..                                                ...  ..     ...   \n",
      "6   Pasilansilta, Keski-Pasila, Pasila, Keskinen s...   6  Tripla   \n",
      "6   Pasilansilta, Keski-Pasila, Pasila, Keskinen s...   6  Tripla   \n",
      "6   Pasilansilta, Keski-Pasila, Pasila, Keskinen s...   6  Tripla   \n",
      "6   Pasilansilta, Keski-Pasila, Pasila, Keskinen s...   6  Tripla   \n",
      "6   Pasilansilta, Keski-Pasila, Pasila, Keskinen s...   6  Tripla   \n",
      "\n",
      "                                    addr  \\\n",
      "0   Itäkatu 1-7, 00930 Helsinki, Finland   \n",
      "0   Itäkatu 1-7, 00930 Helsinki, Finland   \n",
      "0   Itäkatu 1-7, 00930 Helsinki, Finland   \n",
      "0   Itäkatu 1-7, 00930 Helsinki, Finland   \n",
      "0   Itäkatu 1-7, 00930 Helsinki, Finland   \n",
      "..                                   ...   \n",
      "6        Pasilansilta 11, 00520 Helsinki   \n",
      "6        Pasilansilta 11, 00520 Helsinki   \n",
      "6        Pasilansilta 11, 00520 Helsinki   \n",
      "6        Pasilansilta 11, 00520 Helsinki   \n",
      "6        Pasilansilta 11, 00520 Helsinki   \n",
      "\n",
      "                                             geometry  index_right  asukkaita  \n",
      "0   POLYGON ((25506098.602 6677662.109, 25506091.3...         4844        859  \n",
      "0   POLYGON ((25506098.602 6677662.109, 25506091.3...         4916        670  \n",
      "0   POLYGON ((25506098.602 6677662.109, 25506091.3...         5222        149  \n",
      "0   POLYGON ((25506098.602 6677662.109, 25506091.3...         5280        136  \n",
      "0   POLYGON ((25506098.602 6677662.109, 25506091.3...         5161        147  \n",
      "..                                                ...          ...        ...  \n",
      "6   POLYGON ((25497845.008 6676150.296, 25497837.7...         3326        304  \n",
      "6   POLYGON ((25497845.008 6676150.296, 25497837.7...         3482        562  \n",
      "6   POLYGON ((25497845.008 6676150.296, 25497837.7...         3245       1116  \n",
      "6   POLYGON ((25497845.008 6676150.296, 25497837.7...         3435         60  \n",
      "6   POLYGON ((25497845.008 6676150.296, 25497837.7...         3285       1783  \n",
      "\n",
      "[633 rows x 8 columns]>\n"
     ]
    }
   ],
   "source": [
    "print(geodata.head)\n",
    "print(join.head)"
   ]
  },
  {
   "cell_type": "code",
   "execution_count": 118,
   "id": "5085d0c4-68dd-4139-8f77-0908b1249b22",
   "metadata": {},
   "outputs": [
    {
     "name": "stdout",
     "output_type": "stream",
     "text": [
      "    asukkaita\n",
      "id           \n",
      "0       29199\n",
      "1       78796\n",
      "2       35284\n",
      "3       28863\n",
      "4       11103\n",
      "5       41076\n",
      "6       47498\n"
     ]
    }
   ],
   "source": [
    "#compute group by id to get sum of populations\n",
    "groupby_join = join.groupby(by =['id']).sum()\n",
    "\n",
    "#remove the index_right column for display\n",
    "groupby_join = groupby_join[['asukkaita']]\n",
    "\n",
    "print(groupby_join)"
   ]
  },
  {
   "cell_type": "code",
   "execution_count": null,
   "id": "c8fba60c-68c2-42ff-a5d4-fc61adcdd946",
   "metadata": {},
   "outputs": [],
   "source": []
  }
 ],
 "metadata": {
  "kernelspec": {
   "display_name": "Python 3 (ipykernel)",
   "language": "python",
   "name": "python3"
  },
  "language_info": {
   "codemirror_mode": {
    "name": "ipython",
    "version": 3
   },
   "file_extension": ".py",
   "mimetype": "text/x-python",
   "name": "python",
   "nbconvert_exporter": "python",
   "pygments_lexer": "ipython3",
   "version": "3.8.12"
  }
 },
 "nbformat": 4,
 "nbformat_minor": 5
}
