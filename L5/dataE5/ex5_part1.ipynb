{
 "cells": [
  {
   "cell_type": "markdown",
   "id": "3f08a4b1-4ab3-4650-840e-18fcf6e11ef6",
   "metadata": {},
   "source": [
    "# Problem 1: Visualize a static map (8 points)"
   ]
  },
  {
   "cell_type": "markdown",
   "id": "a25e4170-094c-48a7-9418-a28cf5c48ad6",
   "metadata": {},
   "source": [
    "Create a static map using the skills you leared in lesson 5. The map should contain multiple layers of data (at least two different data sets), and you should pay attention to the classification and visualization (colors, edges etc.) when creating the map. Write your code into a notebook file (.ipynb) or a python script file (.py) and store the output map(s) in .png format into the docs folder.\n",
    "\n",
    "Topic of the map:\n",
    "\n",
    "You can either use the data sets we have already used during this course (eg. the Travel Time Matrix, or population grid), or you can select some other data set of your interest (for example, statistics in postal code areas).\n",
    "Feel free to adapt examples provided in this course! You can do further calculations based on the datasets or use the analysis outputs that we have done earlier in the course (for example, the dominance areas or travel times for shopping centers).\n",
    "Criteria:\n",
    "\n",
    "The map should have multiple layers on it (for example, the travel time matrix and the road network). Basemap is optional (use a basemap only if it adds useful information / visual touch!)\n",
    "The map should portray some kind of classification and/or an analysis output (not just the raw data).\n",
    "Consider good cartographic practices (map extent, zoom level, color choices, legend, credit data sources etc.) when plotting the map.\n",
    "Output:\n",
    "\n",
    "Remember to commit the code and input data (or at least a link to input data)\n",
    "Save your map(s) as png image in the docs folder"
   ]
  },
  {
   "cell_type": "code",
   "execution_count": 1,
   "id": "072370c0-d8c1-4a46-8940-a62b4ef509ae",
   "metadata": {},
   "outputs": [],
   "source": [
    "import geopandas as gpd\n",
    "import pandas as pd\n",
    "import matplotlib.pyplot as plt\n",
    "from pyproj import CRS\n",
    "import os\n",
    "from shapely.geometry import LineString, Point, Polygon"
   ]
  },
  {
   "cell_type": "markdown",
   "id": "fe485e6b-4cbf-446b-a9e5-3919a406c478",
   "metadata": {},
   "source": [
    "You can read in the population data from the HSY WFS service: https://kartta.hsy.fi/geoserver/wfs\n",
    "\n",
    "Found in Lesson 3 Spatial Join"
   ]
  },
  {
   "cell_type": "code",
   "execution_count": 2,
   "id": "e6b5c4b4-d34a-4aa2-9be7-8a3bc1cf0584",
   "metadata": {},
   "outputs": [],
   "source": [
    "import requests\n",
    "import geojson\n",
    "\n",
    "# Specify the url for web feature service\n",
    "url = 'https://kartta.hsy.fi/geoserver/wfs'\n",
    "\n",
    "# Specify parameters (read data in json format). \n",
    "# Available feature types in this particular data source: http://geo.stat.fi/geoserver/vaestoruutu/wfs?service=wfs&version=2.0.0&request=describeFeatureType\n",
    "params = dict(service='WFS', \n",
    "              version='2.0.0', \n",
    "              request='GetFeature', \n",
    "              typeName='asuminen_ja_maankaytto:Vaestotietoruudukko_2018', \n",
    "              outputFormat='json')\n",
    "\n",
    "# Fetch data from WFS using requests\n",
    "r = requests.get(url, params=params)\n",
    "\n",
    "# Create GeoDataFrame from geojson\n",
    "pop = gpd.GeoDataFrame.from_features(geojson.loads(r.content))"
   ]
  },
  {
   "cell_type": "code",
   "execution_count": 3,
   "id": "4a98ca2d-6b2f-4f0e-bb9b-3cd71d0c2816",
   "metadata": {},
   "outputs": [
    {
     "data": {
      "text/html": [
       "<div>\n",
       "<style scoped>\n",
       "    .dataframe tbody tr th:only-of-type {\n",
       "        vertical-align: middle;\n",
       "    }\n",
       "\n",
       "    .dataframe tbody tr th {\n",
       "        vertical-align: top;\n",
       "    }\n",
       "\n",
       "    .dataframe thead th {\n",
       "        text-align: right;\n",
       "    }\n",
       "</style>\n",
       "<table border=\"1\" class=\"dataframe\">\n",
       "  <thead>\n",
       "    <tr style=\"text-align: right;\">\n",
       "      <th></th>\n",
       "      <th>geometry</th>\n",
       "      <th>index</th>\n",
       "      <th>asukkaita</th>\n",
       "      <th>asvaljyys</th>\n",
       "      <th>ika0_9</th>\n",
       "      <th>ika10_19</th>\n",
       "      <th>ika20_29</th>\n",
       "      <th>ika30_39</th>\n",
       "      <th>ika40_49</th>\n",
       "      <th>ika50_59</th>\n",
       "      <th>ika60_69</th>\n",
       "      <th>ika70_79</th>\n",
       "      <th>ika_yli80</th>\n",
       "    </tr>\n",
       "  </thead>\n",
       "  <tbody>\n",
       "    <tr>\n",
       "      <th>0</th>\n",
       "      <td>POLYGON ((25472499.995 6689749.005, 25472499.9...</td>\n",
       "      <td>688</td>\n",
       "      <td>9</td>\n",
       "      <td>28.0</td>\n",
       "      <td>99</td>\n",
       "      <td>99</td>\n",
       "      <td>99</td>\n",
       "      <td>99</td>\n",
       "      <td>99</td>\n",
       "      <td>99</td>\n",
       "      <td>99</td>\n",
       "      <td>99</td>\n",
       "      <td>99</td>\n",
       "    </tr>\n",
       "    <tr>\n",
       "      <th>1</th>\n",
       "      <td>POLYGON ((25472499.995 6685998.998, 25472499.9...</td>\n",
       "      <td>703</td>\n",
       "      <td>5</td>\n",
       "      <td>51.0</td>\n",
       "      <td>99</td>\n",
       "      <td>99</td>\n",
       "      <td>99</td>\n",
       "      <td>99</td>\n",
       "      <td>99</td>\n",
       "      <td>99</td>\n",
       "      <td>99</td>\n",
       "      <td>99</td>\n",
       "      <td>99</td>\n",
       "    </tr>\n",
       "    <tr>\n",
       "      <th>2</th>\n",
       "      <td>POLYGON ((25472499.995 6684249.004, 25472499.9...</td>\n",
       "      <td>710</td>\n",
       "      <td>8</td>\n",
       "      <td>44.0</td>\n",
       "      <td>99</td>\n",
       "      <td>99</td>\n",
       "      <td>99</td>\n",
       "      <td>99</td>\n",
       "      <td>99</td>\n",
       "      <td>99</td>\n",
       "      <td>99</td>\n",
       "      <td>99</td>\n",
       "      <td>99</td>\n",
       "    </tr>\n",
       "    <tr>\n",
       "      <th>3</th>\n",
       "      <td>POLYGON ((25472499.995 6683999.005, 25472499.9...</td>\n",
       "      <td>711</td>\n",
       "      <td>5</td>\n",
       "      <td>90.0</td>\n",
       "      <td>99</td>\n",
       "      <td>99</td>\n",
       "      <td>99</td>\n",
       "      <td>99</td>\n",
       "      <td>99</td>\n",
       "      <td>99</td>\n",
       "      <td>99</td>\n",
       "      <td>99</td>\n",
       "      <td>99</td>\n",
       "    </tr>\n",
       "    <tr>\n",
       "      <th>4</th>\n",
       "      <td>POLYGON ((25472499.995 6682998.998, 25472499.9...</td>\n",
       "      <td>715</td>\n",
       "      <td>11</td>\n",
       "      <td>41.0</td>\n",
       "      <td>99</td>\n",
       "      <td>99</td>\n",
       "      <td>99</td>\n",
       "      <td>99</td>\n",
       "      <td>99</td>\n",
       "      <td>99</td>\n",
       "      <td>99</td>\n",
       "      <td>99</td>\n",
       "      <td>99</td>\n",
       "    </tr>\n",
       "  </tbody>\n",
       "</table>\n",
       "</div>"
      ],
      "text/plain": [
       "                                            geometry  index  asukkaita  \\\n",
       "0  POLYGON ((25472499.995 6689749.005, 25472499.9...    688          9   \n",
       "1  POLYGON ((25472499.995 6685998.998, 25472499.9...    703          5   \n",
       "2  POLYGON ((25472499.995 6684249.004, 25472499.9...    710          8   \n",
       "3  POLYGON ((25472499.995 6683999.005, 25472499.9...    711          5   \n",
       "4  POLYGON ((25472499.995 6682998.998, 25472499.9...    715         11   \n",
       "\n",
       "   asvaljyys  ika0_9  ika10_19  ika20_29  ika30_39  ika40_49  ika50_59  \\\n",
       "0       28.0      99        99        99        99        99        99   \n",
       "1       51.0      99        99        99        99        99        99   \n",
       "2       44.0      99        99        99        99        99        99   \n",
       "3       90.0      99        99        99        99        99        99   \n",
       "4       41.0      99        99        99        99        99        99   \n",
       "\n",
       "   ika60_69  ika70_79  ika_yli80  \n",
       "0        99        99         99  \n",
       "1        99        99         99  \n",
       "2        99        99         99  \n",
       "3        99        99         99  \n",
       "4        99        99         99  "
      ]
     },
     "execution_count": 3,
     "metadata": {},
     "output_type": "execute_result"
    }
   ],
   "source": [
    "pop.head()"
   ]
  },
  {
   "cell_type": "code",
   "execution_count": 4,
   "id": "b85875e9-5f3c-4f5c-90df-3893ecd500f4",
   "metadata": {},
   "outputs": [
    {
     "data": {
      "text/plain": [
       "Index(['geometry', 'index', 'pop18', 'asvaljyys', 'ika0_9', 'ika10_19',\n",
       "       'ika20_29', 'ika30_39', 'ika40_49', 'ika50_59', 'ika60_69', 'ika70_79',\n",
       "       'ika_yli80'],\n",
       "      dtype='object')"
      ]
     },
     "execution_count": 4,
     "metadata": {},
     "output_type": "execute_result"
    }
   ],
   "source": [
    "# Change the name of a column\n",
    "pop = pop.rename(columns={'asukkaita': 'pop18'})\n",
    "\n",
    "# Check the column names\n",
    "pop.columns"
   ]
  },
  {
   "cell_type": "code",
   "execution_count": 5,
   "id": "51f63068-fc12-4839-bf8a-8d8cf338ccd1",
   "metadata": {},
   "outputs": [
    {
     "data": {
      "text/html": [
       "<div>\n",
       "<style scoped>\n",
       "    .dataframe tbody tr th:only-of-type {\n",
       "        vertical-align: middle;\n",
       "    }\n",
       "\n",
       "    .dataframe tbody tr th {\n",
       "        vertical-align: top;\n",
       "    }\n",
       "\n",
       "    .dataframe thead th {\n",
       "        text-align: right;\n",
       "    }\n",
       "</style>\n",
       "<table border=\"1\" class=\"dataframe\">\n",
       "  <thead>\n",
       "    <tr style=\"text-align: right;\">\n",
       "      <th></th>\n",
       "      <th>pop18</th>\n",
       "      <th>geometry</th>\n",
       "    </tr>\n",
       "  </thead>\n",
       "  <tbody>\n",
       "    <tr>\n",
       "      <th>0</th>\n",
       "      <td>9</td>\n",
       "      <td>POLYGON ((25472499.995 6689749.005, 25472499.9...</td>\n",
       "    </tr>\n",
       "    <tr>\n",
       "      <th>1</th>\n",
       "      <td>5</td>\n",
       "      <td>POLYGON ((25472499.995 6685998.998, 25472499.9...</td>\n",
       "    </tr>\n",
       "    <tr>\n",
       "      <th>2</th>\n",
       "      <td>8</td>\n",
       "      <td>POLYGON ((25472499.995 6684249.004, 25472499.9...</td>\n",
       "    </tr>\n",
       "    <tr>\n",
       "      <th>3</th>\n",
       "      <td>5</td>\n",
       "      <td>POLYGON ((25472499.995 6683999.005, 25472499.9...</td>\n",
       "    </tr>\n",
       "    <tr>\n",
       "      <th>4</th>\n",
       "      <td>11</td>\n",
       "      <td>POLYGON ((25472499.995 6682998.998, 25472499.9...</td>\n",
       "    </tr>\n",
       "  </tbody>\n",
       "</table>\n",
       "</div>"
      ],
      "text/plain": [
       "   pop18                                           geometry\n",
       "0      9  POLYGON ((25472499.995 6689749.005, 25472499.9...\n",
       "1      5  POLYGON ((25472499.995 6685998.998, 25472499.9...\n",
       "2      8  POLYGON ((25472499.995 6684249.004, 25472499.9...\n",
       "3      5  POLYGON ((25472499.995 6683999.005, 25472499.9...\n",
       "4     11  POLYGON ((25472499.995 6682998.998, 25472499.9..."
      ]
     },
     "execution_count": 5,
     "metadata": {},
     "output_type": "execute_result"
    }
   ],
   "source": [
    "# Subset columns\n",
    "pop = pop[[\"pop18\", \"geometry\"]]\n",
    "\n",
    "pop.head()"
   ]
  },
  {
   "cell_type": "markdown",
   "id": "d9091b4f-ad38-4b91-8bc2-f0c2cfb16256",
   "metadata": {},
   "source": [
    "# Create Grid File\n",
    "Extract txt file paths"
   ]
  },
  {
   "cell_type": "code",
   "execution_count": 6,
   "id": "2dbbeaf0-1d6c-4597-badc-6eecd222d802",
   "metadata": {},
   "outputs": [
    {
     "name": "stdout",
     "output_type": "stream",
     "text": [
      "['data_e4\\\\TravelTimes_to_5878070_Jumbo.txt', 'data_e4\\\\TravelTimes_to_5878087_Dixi.txt', 'data_e4\\\\TravelTimes_to_5902043_Myyrmanni.txt', 'data_e4\\\\TravelTimes_to_5944003_Itis.txt', 'data_e4\\\\TravelTimes_to_5975373_Forum.txt', 'data_e4\\\\TravelTimes_to_5978593_IsoOmena.txt', 'data_e4\\\\TravelTimes_to_5980260_Ruoholahti.txt']  length of:  7\n",
      "Jumbo\n",
      "data_e4\\TravelTimes_to_5878070_Jumbo.txt\n",
      "data_e4\\TravelTimes_to_5878087_Dixi.txt\n",
      "data_e4\\TravelTimes_to_5902043_Myyrmanni.txt\n",
      "data_e4\\TravelTimes_to_5944003_Itis.txt\n",
      "data_e4\\TravelTimes_to_5975373_Forum.txt\n",
      "data_e4\\TravelTimes_to_5978593_IsoOmena.txt\n",
      "data_e4\\TravelTimes_to_5980260_Ruoholahti.txt\n",
      "['Jumbo', 'Dixi', 'Myyrmanni', 'Itis', 'Forum', 'IsoOmena', 'Ruoholahti']\n"
     ]
    }
   ],
   "source": [
    "directory = r\"data_e4\"\n",
    "grid_file = r\"MetropAccess_YKR_grid_EurefFIN.shp\"\n",
    "grid_path = os.path.join(directory, grid_file)\n",
    "\n",
    "\n",
    "list_of_files = os.listdir(directory)\n",
    "list_of_travel_time_files = []\n",
    "\n",
    "for file in list_of_files:\n",
    "    if '.txt' in file:\n",
    "        list_of_travel_time_files.append(os.path.join(directory, file))\n",
    "\n",
    "print(list_of_travel_time_files, \" length of: \", len(list_of_travel_time_files) )\n",
    "\n",
    "#split string by '_' seperator\n",
    "#extract 'XXXX.txt'\n",
    "#extract XXXX, by removing '.txt' portion of the string, subscript -4\n",
    "shopping_center_example = list_of_files[8].split('_')[3][:-4]\n",
    "\n",
    "print(shopping_center_example)\n",
    "shopping_center_names_list = []\n",
    "\n",
    "#repeat for all shopping centers\n",
    "for shopping_center in list_of_travel_time_files:\n",
    "    print(shopping_center)\n",
    "    shopping_center_names_list.append( shopping_center.split('_')[4][:-4] )\n",
    "\n",
    "print(shopping_center_names_list)"
   ]
  },
  {
   "cell_type": "markdown",
   "id": "d6484ef4-ef92-4be3-a859-7dc855050688",
   "metadata": {},
   "source": [
    "- Import grid file\n",
    "\n",
    "- Change CRS to 3857 before table merging pop and grid"
   ]
  },
  {
   "cell_type": "code",
   "execution_count": 7,
   "id": "f5429a48-ccfa-485f-858b-f40e06a0fef4",
   "metadata": {},
   "outputs": [
    {
     "name": "stdout",
     "output_type": "stream",
     "text": [
      "epsg:3067\n"
     ]
    }
   ],
   "source": [
    "from pyproj import CRS\n",
    "\n",
    "#read in grid shapefile\n",
    "grid = gpd.read_file(grid_path)\n",
    "\n",
    "print(grid.crs)\n",
    "\n",
    "#transform the crs of grid shapefile before performing the aggregation of geometry features using 'dissolve' (after dissolving, cant transform crs of multipolygon feature)\n",
    "grid = grid.to_crs(CRS.from_epsg(3879))\n",
    "\n",
    "#define a projection for pop, due to missing projection\n",
    "pop.crs = CRS.from_epsg(3879)\n",
    "\n",
    "#reprojecting a layer to epsg 3857\n",
    "pop = pop.to_crs(CRS.from_epsg(3879))\n",
    "\n",
    "\n",
    "assert grid.crs == pop.crs, \"CRS of population and Grids are not equal\"\n"
   ]
  },
  {
   "cell_type": "code",
   "execution_count": 8,
   "id": "4cb6d556-bf87-45f2-90e9-be5202f9466f",
   "metadata": {},
   "outputs": [
    {
     "name": "stdout",
     "output_type": "stream",
     "text": [
      "<bound method NDFrame.head of               x          y   YKR_ID  \\\n",
      "0      381875.0  6697880.0  5785640   \n",
      "1      382125.0  6697880.0  5785641   \n",
      "2      382375.0  6697880.0  5785642   \n",
      "3      382625.0  6697880.0  5785643   \n",
      "4      381125.0  6697630.0  5787544   \n",
      "...         ...        ...      ...   \n",
      "13226  372875.0  6665630.0  6016698   \n",
      "13227  373125.0  6665630.0  6016699   \n",
      "13228  372375.0  6665380.0  6018252   \n",
      "13229  372625.0  6665380.0  6018253   \n",
      "13230  372875.0  6665380.0  6018254   \n",
      "\n",
      "                                                geometry  \n",
      "0      POLYGON ((25492192.647 6698519.964, 25491942.7...  \n",
      "1      POLYGON ((25492442.589 6698527.553, 25492192.6...  \n",
      "2      POLYGON ((25492692.532 6698535.142, 25492442.5...  \n",
      "3      POLYGON ((25492942.475 6698542.731, 25492692.5...  \n",
      "4      POLYGON ((25491450.410 6698247.254, 25491200.4...  \n",
      "...                                                  ...  \n",
      "13226  POLYGON ((25484172.408 6666004.940, 25483922.4...  \n",
      "13227  POLYGON ((25484422.345 6666012.507, 25484172.4...  \n",
      "13228  POLYGON ((25483680.102 6665739.869, 25483430.1...  \n",
      "13229  POLYGON ((25483930.038 6665747.436, 25483680.1...  \n",
      "13230  POLYGON ((25484179.975 6665755.003, 25483930.0...  \n",
      "\n",
      "[13231 rows x 4 columns]>\n"
     ]
    }
   ],
   "source": [
    "#check crs of grid\n",
    "print(grid.head)"
   ]
  },
  {
   "cell_type": "code",
   "execution_count": 9,
   "id": "444154ee-05f1-46b7-9e30-97dc3c543462",
   "metadata": {},
   "outputs": [
    {
     "name": "stdout",
     "output_type": "stream",
     "text": [
      "<bound method NDFrame.head of       pop18                                           geometry\n",
      "0         9  POLYGON ((25472499.995 6689749.005, 25472499.9...\n",
      "1         5  POLYGON ((25472499.995 6685998.998, 25472499.9...\n",
      "2         8  POLYGON ((25472499.995 6684249.004, 25472499.9...\n",
      "3         5  POLYGON ((25472499.995 6683999.005, 25472499.9...\n",
      "4        11  POLYGON ((25472499.995 6682998.998, 25472499.9...\n",
      "...     ...                                                ...\n",
      "5827      6  POLYGON ((25513249.999 6685998.998, 25513249.9...\n",
      "5828     14  POLYGON ((25513249.999 6685748.999, 25513249.9...\n",
      "5829     13  POLYGON ((25513249.999 6685499.000, 25513249.9...\n",
      "5830      5  POLYGON ((25513499.996 6685499.000, 25513499.9...\n",
      "5831  36716  POLYGON ((25514000.000 6659998.998, 25514000.0...\n",
      "\n",
      "[5832 rows x 2 columns]>\n"
     ]
    }
   ],
   "source": [
    "#check crs of population grid\n",
    "print(pop.head)"
   ]
  },
  {
   "cell_type": "markdown",
   "id": "2ae28228-2a9f-47e3-b908-195467bf90a8",
   "metadata": {},
   "source": [
    "- merge grid geodataframe with pandas dataframe for each shopping center using ID key match"
   ]
  },
  {
   "cell_type": "code",
   "execution_count": 10,
   "id": "2baf77db-8373-4630-8fe5-7714bd76abb8",
   "metadata": {},
   "outputs": [],
   "source": [
    "#read each txt file as a data frame store in the list\n",
    "for file, shopping_center in zip(list_of_travel_time_files, shopping_center_names_list):\n",
    "    \n",
    "    data = pd.read_csv(file, sep=';') \n",
    "    \n",
    "    #generate new column name\n",
    "    title_string = 'pt_r_t_{val}'.format(val = shopping_center)\n",
    "    \n",
    "    #create a new column using values from the 'pt_r_t' column\n",
    "    data[title_string] = data[ [ 'pt_r_t' ] ] \n",
    "    \n",
    "    data.drop(columns=['pt_r_t'], axis=1, inplace=True)\n",
    "    \n",
    "    #create a smaller subset of data, join both tables using YKR_ID from grid and from_id of data, overwrite the previous dataframe\n",
    "    grid = grid.merge(data[ [title_string, 'from_id'] ],  how='outer', left_on = 'YKR_ID', right_on ='from_id')\n",
    "    \n",
    "    grid.drop(columns = ['from_id'], axis=1, inplace=True)"
   ]
  },
  {
   "cell_type": "markdown",
   "id": "49813208-7510-416f-b636-a65ee3e08b2c",
   "metadata": {},
   "source": [
    "- calculate the minimum travel time for each row\n",
    "- identify the shopping center with the shortest travel time on each row"
   ]
  },
  {
   "cell_type": "code",
   "execution_count": 11,
   "id": "1f6f6620-cc7a-4f4e-b947-9b32c691e8e8",
   "metadata": {},
   "outputs": [
    {
     "name": "stdout",
     "output_type": "stream",
     "text": [
      "13231\n"
     ]
    },
    {
     "ename": "NameError",
     "evalue": "name 'row_min' is not defined",
     "output_type": "error",
     "traceback": [
      "\u001b[1;31m---------------------------------------------------------------------------\u001b[0m",
      "\u001b[1;31mNameError\u001b[0m                                 Traceback (most recent call last)",
      "\u001b[1;32m~\\AppData\\Local\\Temp/ipykernel_14848/1031193135.py\u001b[0m in \u001b[0;36m<module>\u001b[1;34m\u001b[0m\n\u001b[0;32m      9\u001b[0m \u001b[0mdominant_service\u001b[0m \u001b[1;33m=\u001b[0m \u001b[1;33m[\u001b[0m\u001b[1;33m]\u001b[0m\u001b[1;33m\u001b[0m\u001b[1;33m\u001b[0m\u001b[0m\n\u001b[0;32m     10\u001b[0m \u001b[0mmax_t\u001b[0m \u001b[1;33m=\u001b[0m \u001b[1;33m[\u001b[0m\u001b[1;33m]\u001b[0m\u001b[1;33m\u001b[0m\u001b[1;33m\u001b[0m\u001b[0m\n\u001b[1;32m---> 11\u001b[1;33m \u001b[1;32mfor\u001b[0m \u001b[0mindex\u001b[0m \u001b[1;32min\u001b[0m \u001b[0mrange\u001b[0m\u001b[1;33m(\u001b[0m\u001b[1;36m0\u001b[0m\u001b[1;33m,\u001b[0m\u001b[0mlen\u001b[0m\u001b[1;33m(\u001b[0m\u001b[0mrow_min\u001b[0m\u001b[1;33m)\u001b[0m\u001b[1;33m)\u001b[0m\u001b[1;33m:\u001b[0m\u001b[1;33m\u001b[0m\u001b[1;33m\u001b[0m\u001b[0m\n\u001b[0m\u001b[0;32m     12\u001b[0m     \u001b[0mmax_t\u001b[0m\u001b[1;33m.\u001b[0m\u001b[0mappend\u001b[0m\u001b[1;33m(\u001b[0m \u001b[0mgrid\u001b[0m\u001b[1;33m.\u001b[0m\u001b[0mat\u001b[0m\u001b[1;33m[\u001b[0m\u001b[0mindex\u001b[0m\u001b[1;33m,\u001b[0m \u001b[0mrow_max\u001b[0m\u001b[1;33m[\u001b[0m\u001b[0mindex\u001b[0m\u001b[1;33m]\u001b[0m\u001b[1;33m]\u001b[0m \u001b[1;33m)\u001b[0m\u001b[1;33m\u001b[0m\u001b[1;33m\u001b[0m\u001b[0m\n\u001b[0;32m     13\u001b[0m     \u001b[0mdominant_service\u001b[0m\u001b[1;33m.\u001b[0m\u001b[0mappend\u001b[0m\u001b[1;33m(\u001b[0m \u001b[0mrow_max\u001b[0m\u001b[1;33m[\u001b[0m\u001b[0mindex\u001b[0m\u001b[1;33m]\u001b[0m\u001b[1;33m.\u001b[0m\u001b[0msplit\u001b[0m\u001b[1;33m(\u001b[0m\u001b[1;34m'_'\u001b[0m\u001b[1;33m)\u001b[0m\u001b[1;33m[\u001b[0m\u001b[1;36m3\u001b[0m\u001b[1;33m]\u001b[0m \u001b[1;33m)\u001b[0m\u001b[1;33m\u001b[0m\u001b[1;33m\u001b[0m\u001b[0m\n",
      "\u001b[1;31mNameError\u001b[0m: name 'row_min' is not defined"
     ]
    }
   ],
   "source": [
    "columns_for_comparison = grid.columns[4:]\n",
    "\n",
    "#extract the max value from current row\n",
    "row_max =  grid[ columns_for_comparison ].idxmax(axis='columns',skipna=True)\n",
    "\n",
    "#test row_min\n",
    "print(len(row_max))\n",
    "\n",
    "dominant_service = []\n",
    "max_t = []\n",
    "for index in range(0,len(row_min)):\n",
    "    max_t.append( grid.at[index, row_max[index]] )\n",
    "    dominant_service.append( row_max[index].split('_')[3] )\n",
    "    \n",
    "grid['max_t'] = max_t\n",
    "grid['dominant_service'] = dominant_service"
   ]
  },
  {
   "cell_type": "markdown",
   "id": "60895878-ed4f-4eec-8602-bac31c8d2061",
   "metadata": {},
   "source": [
    "- Remove null values from the grid geodataframe"
   ]
  },
  {
   "cell_type": "code",
   "execution_count": null,
   "id": "0c9ea3a7-2b73-4630-9c12-5981d87d3ee9",
   "metadata": {},
   "outputs": [],
   "source": [
    "import numpy as np\n",
    "\n",
    "#more efficient way of removing null values from dataframe\n",
    "grid.replace(-1, np.nan, inplace=True)\n",
    "\n",
    "#drop NA values if there any NA values in thw row, do not make a copy of the instance.\n",
    "grid.dropna(axis=0, how='any', inplace=True)\n",
    "\n",
    "grid.reset_index( inplace=True)\n",
    "\n",
    "print(\"simplified NA removal: \" , len(grid))"
   ]
  },
  {
   "cell_type": "markdown",
   "id": "dfc0f5fe-87b6-4294-9e72-1ec4b96e1c40",
   "metadata": {},
   "source": [
    "- Aggregate your dominance areas from problem 2 into a unified geometries using dissolve() -function in geopandas before joining with the population data."
   ]
  },
  {
   "cell_type": "markdown",
   "id": "688aec41-4326-4bb3-81be-a075667adf9b",
   "metadata": {},
   "source": [
    "- check the crs of the input data.\n",
    "reproject all layers to EPSG 3857 to use a basemap "
   ]
  },
  {
   "cell_type": "code",
   "execution_count": null,
   "id": "4ef2984a-2dfe-4a9f-8b8d-733e19d68fbc",
   "metadata": {},
   "outputs": [],
   "source": [
    "# how the dissolve function works:\n",
    "#https://geopandas.org/en/stable/docs/user_guide/aggregation_with_dissolve.html\n",
    "\n",
    "data_geo = grid.dissolve(by= 'dominant_service')\n",
    "\n",
    "data_geo.head()"
   ]
  },
  {
   "cell_type": "code",
   "execution_count": null,
   "id": "dde56b1a-d24e-4c64-a07b-f3dfc067912a",
   "metadata": {},
   "outputs": [],
   "source": [
    "#extract the aggregated grids and dominant service center\n",
    "data_geo = data_geo[ ['geometry'] ] \n",
    "\n",
    "data_geo.head()"
   ]
  },
  {
   "cell_type": "code",
   "execution_count": null,
   "id": "04b73a74-f3e2-454d-8389-2d8a30c58794",
   "metadata": {},
   "outputs": [],
   "source": [
    "print(data_geo.head)\n",
    "print(pop.head)"
   ]
  },
  {
   "cell_type": "markdown",
   "id": "19ea91dc-86ab-40dd-8ae4-6c356279d9fd",
   "metadata": {},
   "source": [
    "- Join information between the population grid and the dominance areas -layer using intersect as the condition in the spatial join."
   ]
  },
  {
   "cell_type": "code",
   "execution_count": null,
   "id": "4c691a70-a58f-44c3-b44a-7888f51a572d",
   "metadata": {},
   "outputs": [],
   "source": [
    "#reference for sjoin: https://geopandas.org/en/stable/docs/reference/api/geopandas.sjoin.html\n",
    "\n",
    "#inner join to preserve column attributes from both geodataframes, preserve the geometry of population grid\n",
    "nearest_shopping_center= gpd.sjoin(pop, data_geo, how='inner', predicate='intersects')\n",
    "\n",
    "nearest_shopping_center.rename( columns= { 'index_right': 'nearest_shopping_center' } ,inplace=True)\n",
    "\n",
    "nearest_shopping_center.head()"
   ]
  },
  {
   "cell_type": "markdown",
   "id": "e9f800a2-62d9-4cdd-a12f-5f0a9c36dfcd",
   "metadata": {},
   "source": [
    "- check if the projection of grids & population match."
   ]
  },
  {
   "cell_type": "code",
   "execution_count": null,
   "id": "50297cf4-92f7-4348-8d7f-6d73f42babc2",
   "metadata": {},
   "outputs": [],
   "source": [
    "nearest_shopping_center.groupby(by=['nearest_shopping_center']).sum()"
   ]
  },
  {
   "cell_type": "code",
   "execution_count": null,
   "id": "7c9060bf-5ad7-4c30-a0d8-425aca02cd0a",
   "metadata": {},
   "outputs": [],
   "source": [
    "fig, axs = plt.subplots(nrows=1, ncols=2, figsize=(15,15))\n",
    "\n",
    "base = grid.plot(ax=axs[0], color='white', edgecolor='black')\n",
    "plot1 = nearest_shopping_center.plot(ax=base, column='nearest_shopping_center', legend=True, cmap=\"RdYlBu\", k=7)\n",
    "plot1.set_title('shopping center with longest travel time')\n",
    "plot1.axis('off')\n",
    "leg1 = plot1.get_legend()\n",
    "leg1.set_bbox_to_anchor((0., 0., 0.2, 0.2))\n",
    "\n",
    "newbase = grid.plot(ax=axs[1], color='black')\n",
    "plot2 = nearest_shopping_center.plot(ax=newbase, column= \"pop18\", scheme= \"Natural_Breaks\", k=7, cmap=\"RdYlBu\", linewidth=0, legend =True,figsize=(10,5))\n",
    "plot2.set_title('2018 population density')\n",
    "plot2.axis('off')\n",
    "leg2 = plot2.get_legend()\n",
    "leg2.set_bbox_to_anchor((0., 0., 0.2, 0.2))\n",
    "\n",
    "plt.tight_layout()\n",
    "\n",
    "plt.show()"
   ]
  },
  {
   "cell_type": "code",
   "execution_count": null,
   "id": "bd5f85e2-1a6b-4bd8-b1f6-2ab36c33d044",
   "metadata": {},
   "outputs": [],
   "source": [
    "output_file = 'furthest_shopping_center_from_population_grid.png'\n",
    "\n",
    "fig.savefig(output_file)"
   ]
  }
 ],
 "metadata": {
  "kernelspec": {
   "display_name": "Python 3 (ipykernel)",
   "language": "python",
   "name": "python3"
  },
  "language_info": {
   "codemirror_mode": {
    "name": "ipython",
    "version": 3
   },
   "file_extension": ".py",
   "mimetype": "text/x-python",
   "name": "python",
   "nbconvert_exporter": "python",
   "pygments_lexer": "ipython3",
   "version": "3.8.12"
  }
 },
 "nbformat": 4,
 "nbformat_minor": 5
}
