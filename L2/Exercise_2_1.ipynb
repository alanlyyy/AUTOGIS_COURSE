{
 "cells": [
  {
   "cell_type": "markdown",
   "id": "4ae70352-a9c1-4720-baa7-332f34311b6a",
   "metadata": {},
   "source": [
    "Problem 1: Create Polygon from lists of coordinates (5 points)\n",
    "In the first problem the aim is to create a polygon based on the provided coordinates, and to plot the polygon on as a map.\n",
    "\n",
    "Two lists;longitudes andlatitudes contain the input coordinates for the polygon. The first coordinate pair looks like this: (29.99671173095703, 63.748023986816406).\n",
    "\n",
    "The codeblocks below help you get started with the task. More detailed instructions are given below."
   ]
  },
  {
   "cell_type": "code",
   "execution_count": null,
   "id": "13f6407c-a60b-45f7-a41c-1b875c913f9c",
   "metadata": {},
   "outputs": [],
   "source": [
    "import os\n",
    "import geopandas as gpd\n",
    "import matplotlib.pyplot as plt\n",
    "from shapely.geometry import Polygon\n",
    "\n",
    "# Longitudes in decimal degrees\n",
    "longitudes = [29.99671173095703, 31.58196258544922, 27.738052368164062, 26.50013542175293, 26.652359008789062, 25.921663284301758, 22.90027618408203, 23.257217407226562,\n",
    "           23.335693359375, 22.87444305419922, 23.08465003967285, 22.565473556518555, 21.452774047851562, 21.66388702392578, 21.065969467163086, 21.67659568786621,\n",
    "           21.496871948242188, 22.339998245239258, 22.288192749023438, 24.539581298828125, 25.444232940673828, 25.303749084472656, 24.669166564941406, 24.689163208007812,\n",
    "          24.174999237060547, 23.68471908569336, 24.000761032104492, 23.57332992553711, 23.76513671875, 23.430830001831055, 23.6597900390625, 20.580928802490234, 21.320831298828125,\n",
    "           22.398330688476562, 23.97638702392578, 24.934917449951172, 25.7611083984375, 25.95930290222168, 26.476804733276367, 27.91069221496582, 29.1027774810791, 29.29846954345703,\n",
    "           28.4355525970459, 28.817358016967773, 28.459857940673828, 30.028610229492188, 29.075136184692383, 30.13492774963379, 29.818885803222656, 29.640830993652344, 30.57735824584961,\n",
    "           29.99671173095703]\n",
    "\n",
    "# Latitudes in decimal degrees\n",
    "latitudes = [63.748023986816406, 62.90789794921875, 60.511383056640625, 60.44499588012695, 60.646385192871094, 60.243743896484375, 59.806800842285156, 59.91944122314453,\n",
    "           60.02395248413086, 60.14555358886719, 60.3452033996582, 60.211936950683594, 60.56249237060547, 61.54027557373047, 62.59798049926758, 63.02013397216797,\n",
    "           63.20353698730469, 63.27652359008789, 63.525691986083984, 64.79915618896484, 64.9533920288086, 65.51513671875, 65.65470886230469, 65.89610290527344, 65.79151916503906,\n",
    "           66.26332092285156, 66.80228424072266, 67.1570053100586, 67.4168701171875, 67.47978210449219, 67.94589233398438, 69.060302734375, 69.32611083984375, 68.71110534667969,\n",
    "           68.83248901367188, 68.580810546875, 68.98916625976562, 69.68568420410156, 69.9363784790039, 70.08860778808594, 69.70597076416016, 69.48533630371094, 68.90263366699219,\n",
    "           68.84700012207031, 68.53485107421875, 67.69471740722656, 66.90360260009766, 65.70887756347656, 65.6533203125, 64.92096710205078, 64.22373962402344, 63.748023986816406]"
   ]
  },
  {
   "cell_type": "code",
   "execution_count": null,
   "id": "a65b86f0-3a9f-4a3e-8a30-adbb7590dda0",
   "metadata": {},
   "outputs": [],
   "source": [
    "print(\"Lat Length: \" , len(latitudes))\n",
    "print(\"Long Length: \", len(longitudes))"
   ]
  },
  {
   "cell_type": "markdown",
   "id": "3ebd851b-628c-4ac1-9530-09022de1fd64",
   "metadata": {},
   "source": [
    "First, create a Polygon variable poly based on the coordinates:\n",
    "\n",
    "Create a list of coordinate pairs based on the provided longitudes and latitudes and store the list in a variable coordpairs. A coordinate pair can be either a tuple or a list.\n",
    "Create a shapely Polygon using the coordpairs -list. Store the polygon in a variable poly.\n",
    "Please use the provided variable names (replace None with your own code)."
   ]
  },
  {
   "cell_type": "code",
   "execution_count": null,
   "id": "d950de2b-e7a9-43f8-a505-b299c863e848",
   "metadata": {},
   "outputs": [],
   "source": [
    "# Create a list of coordinate pairs\n",
    "coordpairs =[]\n",
    "\n",
    "for index in range(0, len(latitudes)):\n",
    "    coordpairs.append( (longitudes[index],latitudes[index]) )\n",
    "\n",
    "# Create a shapely Polygon using the 'coordpairs' -list\n",
    "poly = Polygon(coordpairs)\n"
   ]
  },
  {
   "cell_type": "code",
   "execution_count": null,
   "id": "29d3f93d-b298-4843-a2b9-97754e9cd33d",
   "metadata": {},
   "outputs": [],
   "source": [
    "# NON-EDITABLE CODE CELL FOR TESTING YOUR SOLUTION\n",
    "\n",
    "# Check the first coordinate pair. Shoud be: (29.99671173095703, 63.748023986816406)\n",
    "print(coordpairs[0])"
   ]
  },
  {
   "cell_type": "code",
   "execution_count": null,
   "id": "0ccfc6bd-0dc1-4d69-b488-3eff2df9937e",
   "metadata": {},
   "outputs": [],
   "source": [
    "# NON-EDITABLE CODE CELL FOR TESTING YOUR SOLUTION\n",
    "\n",
    "# Check the data type of your polygon:\n",
    "print(poly.geom_type)"
   ]
  },
  {
   "cell_type": "markdown",
   "id": "db25a9be-d53b-4a91-8f1a-3dd3df87a0ef",
   "metadata": {},
   "source": [
    "Insert the polygon into a GeoDataFrame called geo:\n",
    "\n",
    "Create an empty geodataframe variable geo\n",
    "Insert our poly -polygon into the geo GeoDataFrame into a new column named 'geometry'\n",
    "Please use the provided variable names (replace None with your own code)."
   ]
  },
  {
   "cell_type": "code",
   "execution_count": null,
   "id": "7886443d-f0b2-4599-acc9-631730796350",
   "metadata": {},
   "outputs": [],
   "source": [
    "# Create an empty GeoDataFrame\n",
    "geo = gpd.GeoDataFrame()\n",
    "\n",
    "#create a new column called geometry to to the GeoDataFrame\n",
    "geo['geometry'] = None\n",
    "\n",
    "print(geo)\n",
    "# Insert the 'poly' -polygon into the 'geo' GeoDataFrame into a new column named 'geometry' \n",
    "#insert the polygon into 'geometry' -column at row 0\n",
    "geo.at[0,'geometry'] = poly\n",
    "      \n",
    "print(geo)"
   ]
  },
  {
   "cell_type": "code",
   "execution_count": null,
   "id": "d3da3519-4e29-4283-8cd0-c498b9798f2a",
   "metadata": {},
   "outputs": [],
   "source": [
    "# NON-EDITABLE CODE CELL FOR TESTING YOUR SOLUTION\n",
    "\n",
    "# Check the content of the GeoDataFrame:\n",
    "print(geo.head())"
   ]
  },
  {
   "cell_type": "code",
   "execution_count": null,
   "id": "f1e97758-0339-4083-ad08-a0f37f8b4bdf",
   "metadata": {},
   "outputs": [],
   "source": [
    "# NON-EDITABLE CODE CELL FOR TESTING YOUR SOLUTION\n",
    "\n",
    "# Check the number of rows:\n",
    "print(len(geo))"
   ]
  },
  {
   "cell_type": "markdown",
   "id": "d39f5a8a-bb50-442b-abae-6c92826bb067",
   "metadata": {},
   "source": [
    "Finally:\n",
    "\n",
    "plot the polygon. Note: you might need to call matplotlib pyplot show() -method in order to display the map"
   ]
  },
  {
   "cell_type": "code",
   "execution_count": null,
   "id": "3a04a6f5-cf39-4e56-b089-ea7b3760133d",
   "metadata": {},
   "outputs": [],
   "source": [
    "# Plot the polygon. What shape is it :) ?\n",
    "geo.plot()"
   ]
  },
  {
   "cell_type": "markdown",
   "id": "fdf70a09-6366-4ef3-8a9d-13bf3e0c6e16",
   "metadata": {},
   "source": [
    "What can you see on the map? :)\n",
    "\n",
    "save the GeoDataFrame into a Shapefile called 'polygon.shp'."
   ]
  },
  {
   "cell_type": "code",
   "execution_count": null,
   "id": "65934f51-91d0-4bf5-a9cf-274135896091",
   "metadata": {},
   "outputs": [],
   "source": [
    "# Save the GeoDataFrame into a new Shapefile called 'polygon.shp'.\n",
    "fp = 'polygon.shp'\n",
    "\n",
    "#Add CRS definition to newdata in wkt format\n",
    "\n",
    "#Set the GeoDataFrame coordinate system to WGS84 (i.e. epsg code = 4326)\n",
    "#geo.crs = CRS.from_epsg(4326).to_wkt()\n",
    "\n",
    "#write the data into the shapefile\n",
    "geo.to_file(fp)\n",
    "\n",
    "\n"
   ]
  },
  {
   "cell_type": "code",
   "execution_count": null,
   "id": "39007b82-32af-46fd-96c5-d821e2573558",
   "metadata": {},
   "outputs": [],
   "source": [
    "# NON-EDITABLE CODE CELL FOR TESTING YOUR SOLUTION\n",
    "\n",
    "#Check if output file exists\n",
    "assert os.path.isfile(fp), \"Output file does not exits.\""
   ]
  },
  {
   "cell_type": "code",
   "execution_count": null,
   "id": "95d2d797-f6a9-4562-a7d6-11c155517e67",
   "metadata": {},
   "outputs": [],
   "source": []
  }
 ],
 "metadata": {
  "kernelspec": {
   "display_name": "Python 3 (ipykernel)",
   "language": "python",
   "name": "python3"
  },
  "language_info": {
   "codemirror_mode": {
    "name": "ipython",
    "version": 3
   },
   "file_extension": ".py",
   "mimetype": "text/x-python",
   "name": "python",
   "nbconvert_exporter": "python",
   "pygments_lexer": "ipython3",
   "version": "3.8.12"
  }
 },
 "nbformat": 4,
 "nbformat_minor": 5
}
