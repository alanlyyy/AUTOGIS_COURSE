{
 "cells": [
  {
   "cell_type": "markdown",
   "id": "63af82d1-670d-47a8-920b-28324e16387a",
   "metadata": {},
   "source": [
    "In Shapefiles, information about the coordinate reference system is stored in the .prj -file. If this file is missing, you might be in trouble!. When reading the data into GeoDataFrame with Geopandas crs information is automatically stored into the .crs attribute of the GeoDataFrame."
   ]
  },
  {
   "cell_type": "code",
   "execution_count": null,
   "id": "800d4ec1-0782-4d16-90da-2d4025524645",
   "metadata": {},
   "outputs": [],
   "source": [
    "import geopandas as gpd\n",
    "\n",
    "#read the file\n",
    "fp = r\"L2_data/Europe_borders.shp\"\n",
    "data = gpd.read_file(fp)"
   ]
  },
  {
   "cell_type": "code",
   "execution_count": null,
   "id": "aa3fb04f-9282-42b3-aa1c-8153a509ced3",
   "metadata": {},
   "outputs": [],
   "source": [
    "#check the coordinate reference system\n",
    "data.crs"
   ]
  },
  {
   "cell_type": "code",
   "execution_count": null,
   "id": "dc12093a-c7c1-4a75-b6e5-0c0523d9fbe3",
   "metadata": {},
   "outputs": [],
   "source": [
    "#verify geometry column to see if CRS of GeoDataFrame is correct\n",
    "data['geometry'].head() \n",
    "\n",
    "#coordinate values of the Polygons indeed look like latitude and longitude values, so everything seems to be in order."
   ]
  },
  {
   "cell_type": "markdown",
   "id": "81bc16cc-c80a-45e5-8f31-082c5e3a3879",
   "metadata": {},
   "source": [
    "Let’s re-project our data into EPSG 3035 using epsg -parameter:"
   ]
  },
  {
   "cell_type": "code",
   "execution_count": null,
   "id": "59ddf228-3ba1-477c-9035-bda2f97987f1",
   "metadata": {},
   "outputs": [],
   "source": [
    "#lets make a backup copy of our data\n",
    "data_wgs84 = data.copy()\n",
    "\n",
    "#reproject the data ETRS-LAEA projection.\n",
    "data = data.to_crs(epsg=3055)"
   ]
  },
  {
   "cell_type": "code",
   "execution_count": null,
   "id": "2e6ac5ea-3c0f-4771-98d3-9496a9c43497",
   "metadata": {},
   "outputs": [],
   "source": [
    "#check the new geometry values\n",
    "data['geometry'].head()"
   ]
  },
  {
   "cell_type": "markdown",
   "id": "01182475-dd92-4669-9aba-9b6ec8437a20",
   "metadata": {},
   "source": [
    "Plot data with EPSG4326 & EPSG3055"
   ]
  },
  {
   "cell_type": "code",
   "execution_count": null,
   "id": "4021eee3-1b59-4392-ac15-dd786eec3fe7",
   "metadata": {},
   "outputs": [],
   "source": [
    "import matplotlib.pyplot as plt\n",
    "\n",
    "#make subplots that are next to each other (1x2)\n",
    "fig, (ax1,ax2) = plt.subplots(nrows=1, ncols=2,figsize=(12,12) )\n",
    "\n",
    "#Plot the data in WGS84 CRS\n",
    "data_wgs84.plot(ax=ax1, facecolor='gray')\n",
    "\n",
    "#add title\n",
    "ax1.set_title(\"WGS84\")\n",
    "\n",
    "#plot the one with ETRS-LAEA projection\n",
    "data.plot(ax=ax2, facecolor='blue')\n",
    "\n",
    "#add title \n",
    "ax2.set_title(\"ETRS Lambert Azimuthal Equal Area Projection\")\n",
    "\n",
    "#set aspect ratio as 1\n",
    "#ax1.set_aspect(aspect=1)\n",
    "#ax2.set_aspect(aspect=1)\n",
    "\n",
    "#remove empty white space around the plot\n",
    "plt.tight_layout()\n"
   ]
  },
  {
   "cell_type": "code",
   "execution_count": null,
   "id": "8382d63c-eb07-4811-9861-22e92b11a366",
   "metadata": {},
   "outputs": [],
   "source": [
    "#output filepath of new projection\n",
    "outfp = \"L2_data/Europe_borders_epsg3055.shp\"\n",
    "\n",
    "#save shapefile\n",
    "data.to_file(outfp)"
   ]
  },
  {
   "cell_type": "markdown",
   "id": "ae04b25f-e76e-4e07-ad86-fc8294d94e94",
   "metadata": {},
   "source": [
    " pyproj is a Python wrapper around a software called PROJ (maintained by OSGeo community), which is widely used tool for conducting coordinate transformations in various GIS softwares"
   ]
  },
  {
   "cell_type": "code",
   "execution_count": null,
   "id": "b52fa933-ac5c-4357-b09a-a9e35c868810",
   "metadata": {},
   "outputs": [],
   "source": [
    "### Import CRS class from pyproj\n",
    "from pyproj import CRS\n",
    "\n",
    "#proj dictionary\n",
    "crs_dict = data_wgs84.crs\n",
    "\n",
    "#pyproj CRS object:\n",
    "crs_object = CRS(data_wgs84.crs)\n",
    "\n",
    "#EPSG code (here, the input crs information is a bit vague so we need to lower the confidence threshold\n",
    "crs_epsg = CRS(data_wgs84.crs).to_epsg(min_confidence=25)\n",
    "\n",
    "#PROJ string\n",
    "crs_proj4 = CRS(data_wgs84.crs).to_proj4()\n",
    "\n",
    "#Well known text (WKT)\n",
    "crs_wkt = CRS(data_wgs84.crs).to_wkt()"
   ]
  },
  {
   "cell_type": "code",
   "execution_count": null,
   "id": "ebdf904b-8303-4db4-aa98-a42265c0af14",
   "metadata": {},
   "outputs": [],
   "source": [
    "print(\"Proj dictionary: \\n\" , crs_dict)\n",
    "print(\"\\nCRS object: \\n\", crs_object)\n",
    "print(\"\\nEPSG code: \\n\", crs_epsg)\n",
    "print(\"\\nPROJ string: \\n\", crs_proj4)\n",
    "print(\"\\nWell-Known Text (WKT): \\n\", crs_wkt)"
   ]
  },
  {
   "cell_type": "markdown",
   "id": "b9f6f19e-2af3-4a5a-ad73-66da582ba0ad",
   "metadata": {},
   "source": [
    "Pyproj CRS object"
   ]
  },
  {
   "cell_type": "code",
   "execution_count": null,
   "id": "fd53221b-cd74-40af-bc7c-972102a65af7",
   "metadata": {},
   "outputs": [],
   "source": [
    "#get current CRS of data\n",
    "print(data.crs)"
   ]
  },
  {
   "cell_type": "code",
   "execution_count": null,
   "id": "06b7e403-8feb-4055-84cc-5fa923e06e66",
   "metadata": {},
   "outputs": [],
   "source": [
    "#initialize CRS class for epsg code 3035\n",
    "crs_object = CRS.from_epsg(3035)\n",
    "crs_object"
   ]
  },
  {
   "cell_type": "markdown",
   "id": "32b1fc26-f224-44a8-8eca-886371e1fd21",
   "metadata": {
    "tags": []
   },
   "source": [
    "parse CRS information individually as follows:"
   ]
  },
  {
   "cell_type": "code",
   "execution_count": null,
   "id": "1511a1a1-96d3-44fb-9d59-536fdb48c9d3",
   "metadata": {},
   "outputs": [],
   "source": [
    "#get name\n",
    "print(\"Name:\" , crs_object.name)\n",
    "\n",
    "#get coordinate system\n",
    "print(\"Coordinate system:\", crs_object.coordinate_system)\n",
    "\n",
    "#get Boundas of the area where CRS is used\n",
    "print(\"Bounds:\", crs_object.area_of_use.bounds)"
   ]
  },
  {
   "cell_type": "markdown",
   "id": "aaf013ee-639e-49f6-b79d-b3832232a5e7",
   "metadata": {
    "tags": []
   },
   "source": [
    "convert the crs information from one format to another. Quite often it is useful to know the EPSG code of the CRS."
   ]
  },
  {
   "cell_type": "code",
   "execution_count": null,
   "id": "ed60d56c-2b41-4953-8715-0620b089c4cc",
   "metadata": {},
   "outputs": [],
   "source": [
    "#retrive CRS information in WKT format\n",
    "#.prj file of a Shapefile contains the information in this format.\n",
    "\n",
    "crs_wkt = crs_object.to_wkt()\n",
    "print(crs_wkt)"
   ]
  },
  {
   "cell_type": "markdown",
   "id": "e32c8754-f6dc-457a-9924-f3420d360cea",
   "metadata": {},
   "source": [
    "extract EPSG code from WKT format"
   ]
  },
  {
   "cell_type": "code",
   "execution_count": null,
   "id": "4e50c6e4-614a-45f1-a8cc-734c535e710f",
   "metadata": {},
   "outputs": [],
   "source": [
    "#Retrieve EPSG code from WKT text\n",
    "epsg = CRS(crs_wkt).to_epsg()\n",
    "print(epsg)"
   ]
  },
  {
   "cell_type": "markdown",
   "id": "d35af3fa-5d87-4e8b-b5a9-402aae38eeb6",
   "metadata": {},
   "source": [
    "Sometimes to_epsg() isn’t able to recognize the EPSG code from the WKT representation. This can happen if the WKT information is missing some details. Luckily, we can easily adjust the minimum level of confidence for matching the CRS info and the EPSG code. We can do this by adjusting a parameter min_confidence when calling the function. By default, the confidence level is 70 %, but it is also possible to set a lower confidence threshold."
   ]
  },
  {
   "cell_type": "markdown",
   "id": "8dfaf62a-b31c-4e82-9fc0-d6c11e741c4c",
   "metadata": {},
   "source": [
    "Save data in WKT format as the CRS of GEODATAFRAME. WKT is preferred output format when storing CRS info as text"
   ]
  },
  {
   "cell_type": "code",
   "execution_count": null,
   "id": "5e6c9d07-54f8-43cc-b3a2-89400d95767c",
   "metadata": {},
   "outputs": [],
   "source": [
    "#re-define the CRS of the input GeoDataFrame -> convert to WKT\n",
    "data.crs = CRS.from_epsg(3035).to_wkt()\n",
    "print(data.crs)"
   ]
  },
  {
   "cell_type": "code",
   "execution_count": null,
   "id": "5dbf31bc-63c6-44d9-b228-57316bc6ab0d",
   "metadata": {},
   "outputs": [],
   "source": [
    "#output filepath\n",
    "outfp = \"L2_data/Europe_borders_epsg3035.shp\"\n",
    "\n",
    "#save to disk\n",
    "data.to_file(outfp)"
   ]
  },
  {
   "cell_type": "markdown",
   "id": "239a805b-6f8e-414a-8d6b-4e8427a36f8c",
   "metadata": {},
   "source": [
    "Global Map Projections"
   ]
  },
  {
   "cell_type": "code",
   "execution_count": null,
   "id": "418ff997-f1ac-4608-9dc2-ef87ab0a8085",
   "metadata": {},
   "outputs": [],
   "source": [
    "#read in data\n",
    "fp = \"L2_data/ne_110m_admin_0_countries/ne_110m_admin_0_countries.shp\"\n",
    "admin = gpd.read_file(fp)"
   ]
  },
  {
   "cell_type": "code",
   "execution_count": null,
   "id": "42e4987a-4683-4c11-a970-a1cfc653ba41",
   "metadata": {},
   "outputs": [],
   "source": [
    "#check input crs\n",
    "admin.crs"
   ]
  },
  {
   "cell_type": "code",
   "execution_count": null,
   "id": "a77e036c-9282-4899-bf6a-361ceec55dfb",
   "metadata": {},
   "outputs": [],
   "source": [
    "#set figure size\n",
    "plt.rcParams['figure.figsize'] = [12, 6]"
   ]
  },
  {
   "cell_type": "code",
   "execution_count": null,
   "id": "134a9aef-278f-4819-ab95-b2858f825495",
   "metadata": {},
   "outputs": [],
   "source": [
    "#plot in original CRS\n",
    "admin.plot()\n",
    "plt.title(\"WGS84\")"
   ]
  },
  {
   "cell_type": "code",
   "execution_count": null,
   "id": "e171a01c-6881-4fc8-91f9-353b322c2c63",
   "metadata": {},
   "outputs": [],
   "source": [
    "#Define projections as web mercator, 3785\n",
    "web_mercator = CRS.from_epsg(3785)\n",
    "\n",
    "#re-project and plot\n",
    "admin.to_crs(web_mercator).plot()\n",
    "\n",
    "#Remove x and y axis\n",
    "plt.axis('off')\n",
    "plt.title(\"Web mercator\")"
   ]
  },
  {
   "cell_type": "code",
   "execution_count": null,
   "id": "b8366384-7881-4be4-831a-3620f87069b6",
   "metadata": {},
   "outputs": [],
   "source": [
    "#Define projection Eckert IV from https://spatialreference.org/ref/esri/54012/\n",
    "eckert_IV = CRS.from_proj4(\"+proj=eck4 +lon_0=0 +x_0=0 +y_0=0 +ellps=WGS84 +datum=WGS84 +units=m +no_defs\")\n",
    "\n",
    "#Re-project and plot\n",
    "admin.to_crs(eckert_IV).plot()\n",
    "\n",
    "#Remove x and y axis\n",
    "plt.axis('off')\n",
    "plt.title(\"Eckert IV\")"
   ]
  },
  {
   "cell_type": "code",
   "execution_count": null,
   "id": "69148e8b-7713-4a54-9360-ef3e2eb43f9e",
   "metadata": {},
   "outputs": [],
   "source": [
    "#Define an orthographic projection, centered in Finland! from: http://www.statsmapsnpix.com/2019/09/globe-projections-and-insets-in-qgis.html\n",
    "ortho = CRS.from_proj4(\"+proj=ortho +lat_0=60.00 +lon_0=23.0000 +x_0=0 +y_0=0 +a=6370997 +b=6370997 +units=m +no_defs\")\n",
    "\n",
    "#re-project and plot\n",
    "admin.to_crs(ortho).plot()\n",
    "\n",
    "#remove x and y axis\n",
    "plt.axis('off')\n",
    "plt.title(\"Orthographic\")"
   ]
  },
  {
   "cell_type": "code",
   "execution_count": null,
   "id": "497ef483-0d4d-4ee6-b787-5a603dd6a012",
   "metadata": {},
   "outputs": [],
   "source": []
  }
 ],
 "metadata": {
  "kernelspec": {
   "display_name": "Python 3 (ipykernel)",
   "language": "python",
   "name": "python3"
  },
  "language_info": {
   "codemirror_mode": {
    "name": "ipython",
    "version": 3
   },
   "file_extension": ".py",
   "mimetype": "text/x-python",
   "name": "python",
   "nbconvert_exporter": "python",
   "pygments_lexer": "ipython3",
   "version": "3.8.12"
  }
 },
 "nbformat": 4,
 "nbformat_minor": 5
}
