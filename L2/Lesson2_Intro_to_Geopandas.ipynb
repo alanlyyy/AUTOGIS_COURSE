{
 "cells": [
  {
   "cell_type": "markdown",
   "id": "29bc9bad-a922-49c8-bed2-6b0a43ae7efa",
   "metadata": {},
   "source": [
    "Geopandas uses fiona.open() when reading in data"
   ]
  },
  {
   "cell_type": "code",
   "execution_count": null,
   "id": "28686d75-dee3-4374-8baf-01511f1ad046",
   "metadata": {},
   "outputs": [],
   "source": [
    "#error with rtree installation when importing geopandas\n",
    "#https://github.com/geopandas/geopandas/issues/1812\n",
    "import geopandas as gpd\n",
    "\n",
    "#check supported format drivers\n",
    "gpd.io.file.fiona.drvsupport.supported_drivers\n",
    "\n",
    "#equivalent:\n",
    "#import fiona\n",
    "#fiona.supported_drivers"
   ]
  },
  {
   "cell_type": "markdown",
   "id": "59b486fd-1a3f-484f-afba-df8d754be609",
   "metadata": {},
   "source": [
    "Read / write GeoJSON "
   ]
  },
  {
   "cell_type": "markdown",
   "id": "172a8ef1-430a-4dcd-afb6-3fdb5116588b",
   "metadata": {},
   "source": [
    "#read file from GeoJSON\n",
    "fp = 'data/finland_municipalities.gjson'\n",
    "data = gpd.read_file(fp, driver=\"GeoJSON\")\n",
    "\n",
    "#Wrote tp GeoJSON (just make a copy)\n",
    "outfp = \"temp/finland_municipalities.gjson\"\n",
    "data.to_file(outfp, driver =\"GeoJSON\")"
   ]
  },
  {
   "cell_type": "markdown",
   "id": "bb8b5c25-86b7-4679-983c-c30d93b16973",
   "metadata": {},
   "source": [
    "Managing Filepaths"
   ]
  },
  {
   "cell_type": "code",
   "execution_count": null,
   "id": "c7af85be-4cd1-4898-8eb8-347197f93ddf",
   "metadata": {},
   "outputs": [],
   "source": [
    "import os\n",
    "\n",
    "#define path to the folder, Relative paths are relative to current working directory. In this case L2 is the current directory\n",
    "input_folder = r\"L2\\L2_data\\NLS\\2018\\L4\\L41\\L4132R_shp\"\n",
    "#Join folder path and file name\n",
    "fp = os.path.join(input_folder, \"m_L4132R_p.shp\")\n",
    "\n",
    "#print out the full file path\n",
    "print(fp)"
   ]
  },
  {
   "cell_type": "markdown",
   "id": "979b0a84-5108-4fc4-ae73-baa15fb88d69",
   "metadata": {},
   "source": [
    "Reading a shapefile"
   ]
  },
  {
   "cell_type": "code",
   "execution_count": null,
   "id": "98fdb099-91c8-4670-af73-eacc01646db6",
   "metadata": {},
   "outputs": [],
   "source": [
    "#read a file using gpd.read_file()\n",
    "data = gpd.read_file(fp)\n",
    "\n",
    "type(data)"
   ]
  },
  {
   "cell_type": "code",
   "execution_count": null,
   "id": "de2c848b-75ac-45f6-8a43-42846fe026c3",
   "metadata": {},
   "outputs": [],
   "source": [
    "#check first 5 rows of geo data frame\n",
    "data.head()"
   ]
  },
  {
   "cell_type": "code",
   "execution_count": null,
   "id": "8dee451b-6c61-45c5-b617-113d1b4e00fe",
   "metadata": {},
   "outputs": [],
   "source": [
    "#check all column names\n",
    "data.columns.values"
   ]
  },
  {
   "cell_type": "code",
   "execution_count": null,
   "id": "0ffb6e04-b20e-4470-96a6-433e5d42c0f2",
   "metadata": {},
   "outputs": [],
   "source": [
    "#deine new column names in a directory\n",
    "colnames = {'RYHMA': 'GROUP', 'LUOKKA':'CLASS'}\n",
    "\n",
    "#rename column names\n",
    "data.rename(columns=colnames,inplace=True)\n",
    "\n",
    "#check new columns names\n",
    "data.head()"
   ]
  },
  {
   "cell_type": "markdown",
   "id": "270e1389-4b4b-4b11-b1de-192d761f2989",
   "metadata": {},
   "source": [
    "identify number of rows, classes, groups"
   ]
  },
  {
   "cell_type": "code",
   "execution_count": null,
   "id": "a1bf8caf-09ac-44f7-9061-32f679945421",
   "metadata": {},
   "outputs": [],
   "source": [
    "print(\"Number of rows\", len(data['CLASS']))\n",
    "print(\"Number of classes\", data['CLASS'].nunique())\n",
    "print(\"Number of groups\", data['GROUP'].nunique())"
   ]
  },
  {
   "cell_type": "markdown",
   "id": "40340b0c-034c-4972-b220-44ee97474f5c",
   "metadata": {},
   "source": [
    " Creating a simple map from a GeoDataFrame is really easy: you can use .plot() -function from geopandas that creates a map based on the geometries of the data. "
   ]
  },
  {
   "cell_type": "code",
   "execution_count": null,
   "id": "f2b66ce2-6710-4b19-b55e-b42d04354437",
   "metadata": {},
   "outputs": [],
   "source": [
    "data.plot()"
   ]
  },
  {
   "cell_type": "markdown",
   "id": "cd727688-8bfa-4860-9d31-8791acb2c6a4",
   "metadata": {},
   "source": [
    "easy to produce a map out of your Shapefile with geopandas. Geopandas automatically positions your map in a way that it covers the whole extent of your data."
   ]
  },
  {
   "cell_type": "markdown",
   "id": "1cbc9f2e-c9e6-4106-8c6a-f26a5927f38f",
   "metadata": {},
   "source": [
    "Shapely’s geometric objects. \n",
    "Geometries are stored in a column called geometry that is a default column name for storing geometric information in geopandas."
   ]
  },
  {
   "cell_type": "code",
   "execution_count": null,
   "id": "0130b73b-4366-409f-8e9e-b04b1782e677",
   "metadata": {},
   "outputs": [],
   "source": [
    "#print first 5 rows of the column geometry, returns 5 shapely Polygon objects\n",
    "data['geometry'].head()"
   ]
  },
  {
   "cell_type": "code",
   "execution_count": null,
   "id": "f6ae5629-af5a-438b-862d-50621b60dd86",
   "metadata": {},
   "outputs": [],
   "source": [
    "#access the geometry on the first row of data\n",
    "data.at[0,\"geometry\"]"
   ]
  },
  {
   "cell_type": "code",
   "execution_count": null,
   "id": "60eac7aa-777d-4216-85d2-f528fdd66de7",
   "metadata": {},
   "outputs": [],
   "source": [
    "#print information about the area of the geometry in the first row\n",
    "print(\"Area:\", round(data.at[0,\"geometry\"].area, 0), \"square meters\")"
   ]
  },
  {
   "cell_type": "code",
   "execution_count": null,
   "id": "3ffad006-bf2b-42ef-a390-6443264b400b",
   "metadata": {},
   "outputs": [],
   "source": [
    "#Geopandas is an extension for pandas.\n",
    "\n",
    "#iterate over rows and print the area of a polygon\n",
    "for index, row in data[0:5].iterrows():\n",
    "    \n",
    "    #Get the area from the shapely-object stored in the geometry column\n",
    "    poly_area = row['geometry'].area\n",
    "    \n",
    "    #print info\n",
    "    print(\"Polygon area at index {index} is: {area:.0f} square meters\".format(index=index, area=poly_area))"
   ]
  },
  {
   "cell_type": "markdown",
   "id": "5e31540a-e5bd-4481-9d90-cb638ef28e0b",
   "metadata": {},
   "source": [
    "Geodataframes and geoseries have an attribute area which we can use for accessing the area for each feature at once:"
   ]
  },
  {
   "cell_type": "code",
   "execution_count": null,
   "id": "1669e19f-d907-43d8-af5d-871d4756cf1d",
   "metadata": {},
   "outputs": [],
   "source": [
    "#get the area of each feature in all 4311 rows \n",
    "data.area"
   ]
  },
  {
   "cell_type": "code",
   "execution_count": null,
   "id": "31e9cfb6-cd39-4c81-87cf-d74ac73ad486",
   "metadata": {},
   "outputs": [],
   "source": [
    "# Create a new column called 'area' in data table\n",
    "data['area'] = data.area"
   ]
  },
  {
   "cell_type": "code",
   "execution_count": null,
   "id": "49fb7ea2-0662-4d85-b24e-13dac106e86c",
   "metadata": {},
   "outputs": [],
   "source": [
    "#check area column in data table\n",
    "data['area']"
   ]
  },
  {
   "cell_type": "code",
   "execution_count": null,
   "id": "21ce0ab0-43cb-4500-9c29-4e346adccc86",
   "metadata": {},
   "outputs": [],
   "source": [
    "#get maximum area\n",
    "round(data['area'].max(),2)"
   ]
  },
  {
   "cell_type": "code",
   "execution_count": null,
   "id": "62156735-6374-40a7-a237-87dcc1f468c1",
   "metadata": {},
   "outputs": [],
   "source": [
    "#get minimum area\n",
    "round(data['area'].min(),2)"
   ]
  },
  {
   "cell_type": "code",
   "execution_count": null,
   "id": "67183bef-63ef-4f81-aa2d-5f2a0226e981",
   "metadata": {},
   "outputs": [],
   "source": [
    "#get average area\n",
    "round(data['area'].mean(),2)"
   ]
  },
  {
   "cell_type": "markdown",
   "id": "735ac505-a3ef-4ec2-86af-fc1c96734c95",
   "metadata": {},
   "source": [
    "Export GeoDataFrames into various data formats using the to_file() method. \n",
    "\n",
    "In our case, we want to export subsets of the data into Shapefiles (one file for each feature class)."
   ]
  },
  {
   "cell_type": "markdown",
   "id": "66e30fc7-f641-4d18-beac-d7403ccd1a16",
   "metadata": {},
   "source": [
    "Let’s first select one class (class number 36200, “Lake water”) from the data as a new GeoDataFrame:"
   ]
  },
  {
   "cell_type": "code",
   "execution_count": null,
   "id": "ea63eb63-fec1-49ba-a72c-2f531a06619f",
   "metadata": {},
   "outputs": [],
   "source": [
    "#select all rows with CLASS value 36200\n",
    "selection = data.loc[data[\"CLASS\"] ==36200]"
   ]
  },
  {
   "cell_type": "code",
   "execution_count": null,
   "id": "0e7257eb-56fe-4d67-96a1-ffb4a0ce5a5f",
   "metadata": {},
   "outputs": [],
   "source": [
    "#check the selection\n",
    "selection.plot()"
   ]
  },
  {
   "cell_type": "code",
   "execution_count": null,
   "id": "1b7085c0-b814-43d6-ba7b-f003898c79ce",
   "metadata": {},
   "outputs": [],
   "source": [
    "#write this layer into a new shapefile using gpd.to_file method\n",
    "output_folder = r\"L2\\L2_data\"\n",
    "output_fp = os.path.join(output_folder, \"Class_36200.shp\")\n",
    "print(output_fp)"
   ]
  },
  {
   "cell_type": "code",
   "execution_count": null,
   "id": "e4d84817-d142-478b-a524-52ffe874f9aa",
   "metadata": {},
   "outputs": [],
   "source": [
    "#write those rows into a new file, default output file format is shapefile\n",
    "selection.to_file(output_fp)"
   ]
  },
  {
   "cell_type": "markdown",
   "id": "7eb657d1-b0d7-4335-b949-be1520fcf915",
   "metadata": {},
   "source": [
    "Read just created shape file in a new geodataframe and verify if data looks good"
   ]
  },
  {
   "cell_type": "code",
   "execution_count": null,
   "id": "d2352725-79b2-457f-bf3e-407044ef7f3b",
   "metadata": {},
   "outputs": [],
   "source": [
    "temp = gpd.read_file(output_fp)"
   ]
  },
  {
   "cell_type": "code",
   "execution_count": null,
   "id": "5108f765-f66a-434d-829d-3509e0209fa0",
   "metadata": {},
   "outputs": [],
   "source": [
    "#check first rows\n",
    "temp.head()"
   ]
  },
  {
   "cell_type": "code",
   "execution_count": null,
   "id": "39c2089e-081d-4204-bc11-970630f82b49",
   "metadata": {},
   "outputs": [],
   "source": [
    "#plot data for visual inspection\n",
    "temp.plot()"
   ]
  },
  {
   "cell_type": "markdown",
   "id": "9556a168-377b-47eb-b368-e312cddd048c",
   "metadata": {},
   "source": [
    "The CLASS column in the data contains information about different land use types. With .unique() -function we can quickly see all different values in that column:"
   ]
  },
  {
   "cell_type": "code",
   "execution_count": null,
   "id": "d60b0d48-65b9-4bcb-b798-e3f7e7cd36a5",
   "metadata": {},
   "outputs": [],
   "source": [
    "#print all unique values in the column\n",
    "data['CLASS'].unique()"
   ]
  },
  {
   "cell_type": "code",
   "execution_count": null,
   "id": "ac510fdc-6bf4-4818-a651-8e5ddbfbba14",
   "metadata": {},
   "outputs": [],
   "source": [
    "grouped = data.groupby('CLASS')\n",
    "\n",
    "#group by function gives us objected called DataFrameGroupBy (similar to keys-values in a dictionary)\n",
    "grouped"
   ]
  },
  {
   "cell_type": "code",
   "execution_count": null,
   "id": "db6278e9-5891-49db-b584-ced9d623c40e",
   "metadata": {},
   "outputs": [],
   "source": [
    "#check all unique classes from 'Class' column in groupby dataframe\n",
    "grouped.groups.keys()"
   ]
  },
  {
   "cell_type": "code",
   "execution_count": null,
   "id": "eeb55edf-527b-4dc6-8331-13a743be3243",
   "metadata": {},
   "outputs": [],
   "source": [
    "#check number rows for each data group\n",
    "\n",
    "for key, group in grouped:\n",
    "    #print CLASS ID\n",
    "    print('Terrain Class: ', key)\n",
    "    \n",
    "    print('Number of rows: ', len(group))\n",
    "    \n",
    "    #group = values list containing all CLASS Instances for a given key.\n",
    "    #print('current group: ', group, \"\\n\")"
   ]
  },
  {
   "cell_type": "code",
   "execution_count": null,
   "id": "167c0106-342c-457d-956c-480dd19cf50d",
   "metadata": {},
   "outputs": [],
   "source": [
    "#check last group, using the variables in memory from the last iteration of the for loop\n",
    "group.head()"
   ]
  },
  {
   "cell_type": "code",
   "execution_count": null,
   "id": "99183446-b688-4b3a-8b9d-6c125ce066e2",
   "metadata": {},
   "outputs": [],
   "source": [
    "#check datatype of group\n",
    "type(group)\n",
    "\n",
    "#As we can see, each set of data are now grouped into separate GeoDataFrames, and we can save them into separate files."
   ]
  },
  {
   "cell_type": "markdown",
   "id": "8c4fa3c5-a7e2-4c7c-869f-fe44964f7007",
   "metadata": {},
   "source": [
    "Let’s export each class into a separate Shapefile. While doing this, we also want to create unique filenames for each class."
   ]
  },
  {
   "cell_type": "code",
   "execution_count": null,
   "id": "1e47d83e-97b6-4505-9f93-fa7f05415905",
   "metadata": {},
   "outputs": [],
   "source": [
    "basename = \"terrain\"\n",
    "key = 36200\n",
    "\n",
    "#option 1. concatenating using the '+' operator:\n",
    "out_fp = basename + \"_\" + str(key) + \".shp\"\n",
    "\n",
    "#option 2. positional formatting using '%' operator\n",
    "out_fp2 = \"%s_%s.shp\" %(basename,key)\n",
    "\n",
    "#option 3. positional formatting using '.format()'\n",
    "out_fp3 = \"{}_{}.shp\".format(basename,key)"
   ]
  },
  {
   "cell_type": "code",
   "execution_count": null,
   "id": "2e48cfa0-534d-485c-9723-3cdf2459ae71",
   "metadata": {},
   "outputs": [],
   "source": [
    "#determine output directory\n",
    "output_folder = r\"L2/L2_data\"\n",
    "\n",
    "#create a new folder called Results\n",
    "result_folder = os.path.join(output_folder, 'Results')\n",
    "\n",
    "#check if the folder exists already\n",
    "if not os.path.exists(result_folder):\n",
    "    \n",
    "    print(\"Creating a folder for the results...\")\n",
    "    \n",
    "    #If it does not exist, create one\n",
    "    os.mkdir(result_folder)\n",
    "\n",
    "else:\n",
    "    print(\"Results folder already exists.\")"
   ]
  },
  {
   "cell_type": "code",
   "execution_count": null,
   "id": "db558e68-7f5d-4b2c-a479-371a8fd85d2f",
   "metadata": {},
   "outputs": [],
   "source": [
    "#Save those individual classes into separate Shapefiles and named the file according to the class name\n",
    "\n",
    "#iterate over the groups of CLASS ID\n",
    "for key, group in grouped:\n",
    "    \n",
    "    #format the filename\n",
    "    output_name = \"terrain_{}.shp\".format(key)\n",
    "    \n",
    "    #print info about the process\n",
    "    print(\"Saving file\", os.path.basename(output_name))\n",
    "    \n",
    "    #create an output path\n",
    "    outpath = os.path.join(result_folder,output_name)\n",
    "    \n",
    "    #export the group into a shape file\n",
    "    group.to_file(outpath)"
   ]
  },
  {
   "cell_type": "code",
   "execution_count": null,
   "id": "ca972356-4b48-4241-b957-6659e8e5836f",
   "metadata": {},
   "outputs": [],
   "source": [
    "#summarize total area of each group\n",
    "area_info = grouped.area.sum().round()\n",
    "\n",
    "area_info"
   ]
  },
  {
   "cell_type": "code",
   "execution_count": null,
   "id": "caf1042e-c1ff-431f-99e4-661ad6782965",
   "metadata": {},
   "outputs": [],
   "source": [
    "#export area to csv file using pandas to_csv method\n",
    "area_info.to_csv(os.path.join(result_folder, \"terrain_class_areas.csv\"),header=True)"
   ]
  },
  {
   "cell_type": "code",
   "execution_count": null,
   "id": "6bf3c716-7b7d-4df6-93ba-bee0dfa6b2ab",
   "metadata": {},
   "outputs": [],
   "source": []
  }
 ],
 "metadata": {
  "kernelspec": {
   "display_name": "Python 3 (ipykernel)",
   "language": "python",
   "name": "python3"
  },
  "language_info": {
   "codemirror_mode": {
    "name": "ipython",
    "version": 3
   },
   "file_extension": ".py",
   "mimetype": "text/x-python",
   "name": "python",
   "nbconvert_exporter": "python",
   "pygments_lexer": "ipython3",
   "version": "3.8.12"
  }
 },
 "nbformat": 4,
 "nbformat_minor": 5
}
