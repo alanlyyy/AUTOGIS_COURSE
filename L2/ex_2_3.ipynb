{
 "cells": [
  {
   "cell_type": "markdown",
   "id": "ee0c9ba4-7c49-4345-86c0-bf833f71d6b1",
   "metadata": {},
   "source": [
    "Problem 3: \n",
    "How long distance individuals have travelled? (8 points)\n",
    "In this problem the aim is to calculate the \"distance\" in meters that the individuals have travelled according the social media posts (Euclidean distances between points). In this problem, we will need the userid -column and the points created in the previous problem. You will need the shapefile Kruger_posts.shp generated in Problem 2 as input file.\n",
    "\n",
    "Our goal is to answer these questions based on the input data:\n",
    "\n",
    "What was the shortest distance travelled in meters?\n",
    "What was the mean distance travelled in meters?\n",
    "What was the maximum distance travelled in meters?\n",
    "In your code, you should first:\n",
    "\n",
    "- Import required modules.\n",
    "\n",
    "- Read in the shapefile as a geodataframe called data\n",
    "\n",
    "- Reproject the data from WGS84 projection into EPSG:32735 \n",
    "\n",
    "- projection which stands for UTM Zone 35S (UTM zone for South Africa) to transform the data into the metric system.\n",
    "\n",
    "- Store the result in a variable called data!"
   ]
  },
  {
   "cell_type": "code",
   "execution_count": 2,
   "id": "f1ad734d-b450-4e40-8d6b-8f9d8237315a",
   "metadata": {},
   "outputs": [],
   "source": [
    "#Import required modules.\n",
    "import geopandas as gpd\n",
    "from shapely.geometry import Point, LineString\n",
    "import pandas as pd\n",
    "from pyproj import CRS"
   ]
  },
  {
   "cell_type": "code",
   "execution_count": 3,
   "id": "e2808b97-2ea1-41c5-a1bd-e57d2d4777b1",
   "metadata": {},
   "outputs": [
    {
     "name": "stdout",
     "output_type": "stream",
     "text": [
      "         lat        lon         timestamp    userid  \\\n",
      "0 -24.980792  31.484633  2015-07-07 03:02  66487960   \n",
      "1 -25.499225  31.508906  2015-07-07 03:18  65281761   \n",
      "2 -24.342578  30.930866  2015-03-07 03:38  90916112   \n",
      "3 -24.854614  31.519718  2015-10-07 05:04  37959089   \n",
      "4 -24.921069  31.520836  2015-10-07 05:19  27793716   \n",
      "\n",
      "                     geometry  \n",
      "0  POINT (31.48463 -24.98079)  \n",
      "1  POINT (31.50891 -25.49922)  \n",
      "2  POINT (30.93087 -24.34258)  \n",
      "3  POINT (31.51972 -24.85461)  \n",
      "4  POINT (31.52084 -24.92107)  \n"
     ]
    }
   ],
   "source": [
    "#Read in the shapefile as a geodataframe called data\n",
    "fp = 'Kruger_posts.shp'\n",
    "data = gpd.read_file(fp)\n",
    "\n",
    "print(data.head())"
   ]
  },
  {
   "cell_type": "code",
   "execution_count": 4,
   "id": "81aa6bd6-554b-4682-bef2-760ca6b37cb7",
   "metadata": {},
   "outputs": [
    {
     "data": {
      "text/plain": [
       "geopandas.geodataframe.GeoDataFrame"
      ]
     },
     "execution_count": 4,
     "metadata": {},
     "output_type": "execute_result"
    }
   ],
   "source": [
    "#Let’s check the data type:\n",
    "type(data)"
   ]
  },
  {
   "cell_type": "code",
   "execution_count": 5,
   "id": "3b95052a-cd4d-4ccf-996b-6d77c3f61146",
   "metadata": {},
   "outputs": [],
   "source": [
    "#Reproject the data from WGS84 projection into EPSG:32735 \n",
    "data = data.to_crs(epsg=32735)"
   ]
  },
  {
   "cell_type": "code",
   "execution_count": 6,
   "id": "d3bc7714-1fa7-40e6-a65b-822c32e9e95a",
   "metadata": {},
   "outputs": [
    {
     "data": {
      "text/plain": [
       "<Projected CRS: EPSG:32735>\n",
       "Name: WGS 84 / UTM zone 35S\n",
       "Axis Info [cartesian]:\n",
       "- E[east]: Easting (metre)\n",
       "- N[north]: Northing (metre)\n",
       "Area of Use:\n",
       "- name: Between 24°E and 30°E, southern hemisphere between 80°S and equator, onshore and offshore. Botswana. Burundi. Democratic Republic of the Congo (Zaire). Rwanda. South Africa. Tanzania. Uganda. Zambia. Zimbabwe.\n",
       "- bounds: (24.0, -80.0, 30.0, 0.0)\n",
       "Coordinate Operation:\n",
       "- name: UTM zone 35S\n",
       "- method: Transverse Mercator\n",
       "Datum: World Geodetic System 1984\n",
       "- Ellipsoid: WGS 84\n",
       "- Prime Meridian: Greenwich"
      ]
     },
     "execution_count": 6,
     "metadata": {},
     "output_type": "execute_result"
    }
   ],
   "source": [
    "data.crs"
   ]
  },
  {
   "cell_type": "code",
   "execution_count": 7,
   "id": "b15ed2fd-7342-4c9a-8396-3e8ea154d8b5",
   "metadata": {},
   "outputs": [
    {
     "name": "stdout",
     "output_type": "stream",
     "text": [
      "         lat        lon         timestamp    userid  \\\n",
      "0 -24.980792  31.484633  2015-07-07 03:02  66487960   \n",
      "1 -25.499225  31.508906  2015-07-07 03:18  65281761   \n",
      "2 -24.342578  30.930866  2015-03-07 03:38  90916112   \n",
      "3 -24.854614  31.519718  2015-10-07 05:04  37959089   \n",
      "4 -24.921069  31.520836  2015-10-07 05:19  27793716   \n",
      "\n",
      "                         geometry  \n",
      "0  POINT (952912.890 7229683.258)  \n",
      "1  POINT (953433.223 7172080.632)  \n",
      "2  POINT (898955.144 7302197.408)  \n",
      "3  POINT (956927.218 7243564.942)  \n",
      "4  POINT (956794.955 7236187.926)  \n"
     ]
    }
   ],
   "source": [
    "# NON-EDITABLE CODE CELL FOR TESTING YOUR SOLUTION\n",
    "\n",
    "# Check the data\n",
    "print(data.head())"
   ]
  },
  {
   "cell_type": "code",
   "execution_count": 8,
   "id": "dabbcb3f-c8b6-403b-96b1-f6ac2c29b153",
   "metadata": {},
   "outputs": [
    {
     "name": "stdout",
     "output_type": "stream",
     "text": [
      "epsg:32735\n"
     ]
    }
   ],
   "source": [
    "# NON-EDITABLE CODE CELL FOR TESTING YOUR SOLUTION\n",
    "\n",
    "# Check that the crs is correct after re-projecting (should be epsg:32735)\n",
    "print(data.crs)"
   ]
  },
  {
   "cell_type": "markdown",
   "id": "17f7bf38-5a98-4ea0-92a3-62e1070b4eb0",
   "metadata": {},
   "source": [
    "Group the data by userid"
   ]
  },
  {
   "cell_type": "code",
   "execution_count": 9,
   "id": "f34e5478-a6a5-4589-9ddc-2c0917430489",
   "metadata": {
    "tags": []
   },
   "outputs": [
    {
     "name": "stdout",
     "output_type": "stream",
     "text": [
      "<pandas.core.groupby.generic.DataFrameGroupBy object at 0x00000230C383D970>\n"
     ]
    }
   ],
   "source": [
    "#group the data by userid\n",
    "grouped = data.groupby('userid')\n",
    "\n",
    "#check group keys\n",
    "#grouped.groups.keys()\n",
    "\n",
    "print(grouped)\n",
    "#print(\"Groups: \", grouped.groups) #grab dictionary of userid and associated indices\n",
    "#print(\"Indicies: \", grouped.indices) #grab dictionary of userid and associated indicies in array format"
   ]
  },
  {
   "cell_type": "code",
   "execution_count": 10,
   "id": "95cf7363-a56d-4ae1-b4d2-7c910102e53f",
   "metadata": {},
   "outputs": [],
   "source": [
    "# NON-EDITABLE CODE CELL FOR TESTING YOUR SOLUTION\n",
    "\n",
    "#Check the number of groups:\n",
    "assert len(grouped.groups) == data[\"userid\"].nunique(), \"Number of groups should match number of unique users!\""
   ]
  },
  {
   "cell_type": "markdown",
   "id": "4b39886a-ed15-4aad-8d69-6144a6043e66",
   "metadata": {},
   "source": [
    "Create LineString objects for each user connecting the points from oldest to latest:\n",
    "\n",
    "Suggested steps:\n",
    "\n",
    "- Create an empty DataFrame called movements.\n",
    "- Create an empty column \"geometry\"\n",
    "- Use a for-loop where you iterate over the grouped object. For each user's data:\n",
    "    - sort the rows by timestamp\n",
    "    - create a LineString object based on the user's points\n",
    "    - Add the LineString to the geometry column of the movements dataframe. You can also add the userid in a separate column (or use the userid as index).\n",
    "- Convert movements into a GeoDataFrame (you can replace the DataFrame created in the previous steps with the GeoDataFrame). Remember to set the geometry column.\n",
    "- Set the CRS of the movements GeoDataFrame as EPSG:32735"
   ]
  },
  {
   "cell_type": "markdown",
   "id": "86ba3c63-c174-433d-bad5-51c08dd8a984",
   "metadata": {},
   "source": [
    "Test Code for Inplace sort for timestamp value looking at a subset of 10 userid values"
   ]
  },
  {
   "cell_type": "code",
   "execution_count": null,
   "id": "3777d21f-acf1-418a-939d-fa0ecfab850e",
   "metadata": {
    "tags": []
   },
   "outputs": [],
   "source": [
    "#extract the first 10 userid unique values \n",
    "subset_id = data[\"userid\"].unique()[0:10]\n",
    "print(subset_id)\n",
    "\n",
    "#example of extracting the first unique value from our subset of unique values\n",
    "print(subset_id[0])\n",
    "\n",
    "print(\"Before Sort....\\n\")\n",
    "#build a subset groupby geodataframe: userid: [ rows_related_to_user_id ] \n",
    "subset_groupby = {}\n",
    "for user_id in subset_id:\n",
    "    #get copy of geodataframe with userid\n",
    "    subset_groupby[user_id] = grouped.get_group(user_id).copy()\n",
    "    print(subset_groupby[user_id].head())\n",
    "\n",
    "print(\"-------------\")\n",
    "print(\"After Sort....\\n\")\n",
    "\n",
    "#sort userid rows by timestamp value inplace in ascending order\n",
    "for user_id in subset_id:\n",
    "    subset_groupby[user_id].sort_values('timestamp', ascending=True, inplace=True)\n",
    "    print(subset_groupby[user_id].head())\n",
    "\n",
    "    "
   ]
  },
  {
   "cell_type": "markdown",
   "id": "b1cd61e3-079b-4a0f-bafa-0f5824c5670e",
   "metadata": {},
   "source": [
    "More test code for sorting in place of Geodataframe"
   ]
  },
  {
   "cell_type": "code",
   "execution_count": null,
   "id": "c4057bad-5d11-4a7a-a8a1-c2e00442b85a",
   "metadata": {
    "tags": []
   },
   "outputs": [],
   "source": [
    "#example of extracting Geodataframe from GroupByGeoDataFrame\\\n",
    "#\n",
    "#\n",
    "#return dataframe of rows with the following userid \n",
    "test = grouped.get_group(65281761).copy()\n",
    "print(test)\n",
    "print(type(test))\n",
    "print(\"--------------------------\")\n",
    "\n",
    "#sort dataframe by timestamp in ascending order\n",
    "test.sort_values('timestamp', ascending=True, inplace=True)\n",
    "print(test)\n",
    "\n",
    "type(grouped)"
   ]
  },
  {
   "cell_type": "code",
   "execution_count": 39,
   "id": "370157b7-194e-45da-a9f2-cf23d42e9e18",
   "metadata": {
    "tags": []
   },
   "outputs": [
    {
     "name": "stdout",
     "output_type": "stream",
     "text": [
      "                                            geometry    userid\n",
      "0        LINESTRING (31.485 -24.981, 31.485 -24.981)  66487960\n",
      "1  LINESTRING (31.450 -25.427, 31.509 -25.499, 31...  65281761\n",
      "2  LINESTRING (30.931 -24.343, 30.931 -24.343, 30...  90916112\n",
      "3  LINESTRING (31.522 -24.921, 31.521 -24.921, 31...  37959089\n",
      "4  LINESTRING (31.401 -24.786, 31.402 -24.860, 31...  27793716\n"
     ]
    }
   ],
   "source": [
    "movements = gpd.GeoDataFrame()\n",
    "movements['geometry'] = None\n",
    "movements['userid'] = None\n",
    "\n",
    "def return_lines(user_id_list, groupby_geo_data_frame):\n",
    "    '''\n",
    "    Takes a groupby dataframe, and unique id list. \n",
    "    Sorts dataframe by timestamp, creates lat long points for each row, and generates a linestring from the points for each userid\n",
    "    '''\n",
    "    \n",
    "    lines = []\n",
    "\n",
    "    for user_id in user_id_list:\n",
    "        \n",
    "        #get copy of geodataframe with userid\n",
    "        temp = groupby_geo_data_frame.get_group(user_id).copy()\n",
    "\n",
    "        #sort the timestamps of the copied rows with userid\n",
    "        temp.sort_values('timestamp', ascending=True, inplace=True)\n",
    "\n",
    "        #reset the previous index to start from 0 to N, old index is added to geodataframe as a column\n",
    "        temp.reset_index(inplace=True)\n",
    "\n",
    "        #store all points for a given userid\n",
    "        points = []\n",
    "\n",
    "        #create point with each lat, long\n",
    "        #append point to line list\n",
    "        for index in range(0,len(temp)):\n",
    "            points.append( Point( temp.at[index,'lon'], temp.at[index,'lat'] ) )\n",
    "\n",
    "        \n",
    "        #print(\"userid: \",user_id , \", # of Points:\", len(points))\n",
    "        \n",
    "        #if userid contains 1 point, create a Point object, otherwise create a LineString object\n",
    "        if (len(points)> 1):\n",
    "            lines.append(LineString(points))\n",
    "        else:\n",
    "            #make a 'LineString with the same point (point that points to itself)\n",
    "            lines.append(LineString( [ points[0],points[0] ] ))\n",
    "            \n",
    "    return lines\n",
    "\n",
    "\n",
    "#Iterate over the grouped dictionary : userid : [rows]\n",
    "#print(grouped.get_group(65281761))\n",
    "\n",
    "#get a sample of unique user ids\n",
    "#all_unique_id = data[\"userid\"].unique()[0:5]\n",
    "\n",
    "#get all unique user_ids\n",
    "all_unique_id = data[\"userid\"].unique()\n",
    "\n",
    "#append userid to geodataframe\n",
    "movements['userid'] = all_unique_id\n",
    "\n",
    "#append geometry to geodataframe\n",
    "movements['geometry'] = return_lines(all_unique_id,grouped)\n",
    "\n",
    "#convert movements epsg to 32735\n",
    "movements.crs= CRS.from_epsg(32735).to_wkt()\n",
    "\n",
    "print(movements.head())"
   ]
  },
  {
   "cell_type": "code",
   "execution_count": 40,
   "id": "ba6dab28-e41e-4025-b727-f30ffada2c16",
   "metadata": {
    "tags": []
   },
   "outputs": [
    {
     "name": "stdout",
     "output_type": "stream",
     "text": [
      "<class 'geopandas.geodataframe.GeoDataFrame'>\n",
      "PROJCRS[\"WGS 84 / UTM zone 35S\",BASEGEOGCRS[\"WGS 84\",DATUM[\"World Geodetic System 1984\",ELLIPSOID[\"WGS 84\",6378137,298.257223563,LENGTHUNIT[\"metre\",1]]],PRIMEM[\"Greenwich\",0,ANGLEUNIT[\"degree\",0.0174532925199433]],ID[\"EPSG\",4326]],CONVERSION[\"UTM zone 35S\",METHOD[\"Transverse Mercator\",ID[\"EPSG\",9807]],PARAMETER[\"Latitude of natural origin\",0,ANGLEUNIT[\"degree\",0.0174532925199433],ID[\"EPSG\",8801]],PARAMETER[\"Longitude of natural origin\",27,ANGLEUNIT[\"degree\",0.0174532925199433],ID[\"EPSG\",8802]],PARAMETER[\"Scale factor at natural origin\",0.9996,SCALEUNIT[\"unity\",1],ID[\"EPSG\",8805]],PARAMETER[\"False easting\",500000,LENGTHUNIT[\"metre\",1],ID[\"EPSG\",8806]],PARAMETER[\"False northing\",10000000,LENGTHUNIT[\"metre\",1],ID[\"EPSG\",8807]]],CS[Cartesian,2],AXIS[\"(E)\",east,ORDER[1],LENGTHUNIT[\"metre\",1]],AXIS[\"(N)\",north,ORDER[2],LENGTHUNIT[\"metre\",1]],USAGE[SCOPE[\"Engineering survey, topographic mapping.\"],AREA[\"Between 24°E and 30°E, southern hemisphere between 80°S and equator, onshore and offshore. Botswana. Burundi. Democratic Republic of the Congo (Zaire). Rwanda. South Africa. Tanzania. Uganda. Zambia. Zimbabwe.\"],BBOX[-80,24,0,30]],ID[\"EPSG\",32735]]\n",
      "0          LINESTRING (31.485 -24.981, 31.485 -24.981)\n",
      "1    LINESTRING (31.450 -25.427, 31.509 -25.499, 31...\n",
      "2    LINESTRING (30.931 -24.343, 30.931 -24.343, 30...\n",
      "3    LINESTRING (31.522 -24.921, 31.521 -24.921, 31...\n",
      "4    LINESTRING (31.401 -24.786, 31.402 -24.860, 31...\n",
      "Name: geometry, dtype: geometry\n"
     ]
    }
   ],
   "source": [
    "# NON-EDITABLE CODE CELL FOR TESTING YOUR SOLUTION\n",
    "\n",
    "#Check the result\n",
    "print(type(movements))\n",
    "print(movements.crs)\n",
    "print(movements[\"geometry\"].head())"
   ]
  },
  {
   "cell_type": "markdown",
   "id": "e484f0eb-4643-4cbf-b50e-37a6941c96cc",
   "metadata": {},
   "source": [
    "Finally:\n",
    "\n",
    "- Check once more the crs definition of your dataframe (should be epsg:32735, define the correct crs if this information is missing)\n",
    "\n",
    "- Calculate the lenghts of the lines into a new column called distance in movements GeoDataFrame."
   ]
  },
  {
   "cell_type": "code",
   "execution_count": 20,
   "id": "45d25897-00d2-41c7-8fd2-66c59ad7da1c",
   "metadata": {},
   "outputs": [
    {
     "name": "stdout",
     "output_type": "stream",
     "text": [
      "PROJCRS[\"WGS 84 / UTM zone 35S\",BASEGEOGCRS[\"WGS 84\",DATUM[\"World Geodetic System 1984\",ELLIPSOID[\"WGS 84\",6378137,298.257223563,LENGTHUNIT[\"metre\",1]]],PRIMEM[\"Greenwich\",0,ANGLEUNIT[\"degree\",0.0174532925199433]],ID[\"EPSG\",4326]],CONVERSION[\"UTM zone 35S\",METHOD[\"Transverse Mercator\",ID[\"EPSG\",9807]],PARAMETER[\"Latitude of natural origin\",0,ANGLEUNIT[\"degree\",0.0174532925199433],ID[\"EPSG\",8801]],PARAMETER[\"Longitude of natural origin\",27,ANGLEUNIT[\"degree\",0.0174532925199433],ID[\"EPSG\",8802]],PARAMETER[\"Scale factor at natural origin\",0.9996,SCALEUNIT[\"unity\",1],ID[\"EPSG\",8805]],PARAMETER[\"False easting\",500000,LENGTHUNIT[\"metre\",1],ID[\"EPSG\",8806]],PARAMETER[\"False northing\",10000000,LENGTHUNIT[\"metre\",1],ID[\"EPSG\",8807]]],CS[Cartesian,2],AXIS[\"(E)\",east,ORDER[1],LENGTHUNIT[\"metre\",1]],AXIS[\"(N)\",north,ORDER[2],LENGTHUNIT[\"metre\",1]],USAGE[SCOPE[\"Engineering survey, topographic mapping.\"],AREA[\"Between 24°E and 30°E, southern hemisphere between 80°S and equator, onshore and offshore. Botswana. Burundi. Democratic Republic of the Congo (Zaire). Rwanda. South Africa. Tanzania. Uganda. Zambia. Zimbabwe.\"],BBOX[-80,24,0,30]],ID[\"EPSG\",32735]]\n"
     ]
    }
   ],
   "source": [
    "print(movements.crs)"
   ]
  },
  {
   "cell_type": "code",
   "execution_count": 41,
   "id": "fd8407c9-019a-403a-9350-98ce0610c5a1",
   "metadata": {},
   "outputs": [],
   "source": [
    "#get the distance of each linestring of the geopandas dataframe\n",
    "movements['distance'] = movements.length"
   ]
  },
  {
   "cell_type": "code",
   "execution_count": 42,
   "id": "cf49b871-93cd-4aa8-a452-8348b527af59",
   "metadata": {},
   "outputs": [
    {
     "data": {
      "text/html": [
       "<div>\n",
       "<style scoped>\n",
       "    .dataframe tbody tr th:only-of-type {\n",
       "        vertical-align: middle;\n",
       "    }\n",
       "\n",
       "    .dataframe tbody tr th {\n",
       "        vertical-align: top;\n",
       "    }\n",
       "\n",
       "    .dataframe thead th {\n",
       "        text-align: right;\n",
       "    }\n",
       "</style>\n",
       "<table border=\"1\" class=\"dataframe\">\n",
       "  <thead>\n",
       "    <tr style=\"text-align: right;\">\n",
       "      <th></th>\n",
       "      <th>geometry</th>\n",
       "      <th>userid</th>\n",
       "      <th>distance</th>\n",
       "    </tr>\n",
       "  </thead>\n",
       "  <tbody>\n",
       "    <tr>\n",
       "      <th>0</th>\n",
       "      <td>LINESTRING (31.485 -24.981, 31.485 -24.981)</td>\n",
       "      <td>66487960</td>\n",
       "      <td>0.000000</td>\n",
       "    </tr>\n",
       "    <tr>\n",
       "      <th>1</th>\n",
       "      <td>LINESTRING (31.450 -25.427, 31.509 -25.499, 31...</td>\n",
       "      <td>65281761</td>\n",
       "      <td>1.633636</td>\n",
       "    </tr>\n",
       "    <tr>\n",
       "      <th>2</th>\n",
       "      <td>LINESTRING (30.931 -24.343, 30.931 -24.343, 30...</td>\n",
       "      <td>90916112</td>\n",
       "      <td>0.044455</td>\n",
       "    </tr>\n",
       "    <tr>\n",
       "      <th>3</th>\n",
       "      <td>LINESTRING (31.522 -24.921, 31.521 -24.921, 31...</td>\n",
       "      <td>37959089</td>\n",
       "      <td>7.854558</td>\n",
       "    </tr>\n",
       "    <tr>\n",
       "      <th>4</th>\n",
       "      <td>LINESTRING (31.401 -24.786, 31.402 -24.860, 31...</td>\n",
       "      <td>27793716</td>\n",
       "      <td>0.207887</td>\n",
       "    </tr>\n",
       "  </tbody>\n",
       "</table>\n",
       "</div>"
      ],
      "text/plain": [
       "                                            geometry    userid  distance\n",
       "0        LINESTRING (31.485 -24.981, 31.485 -24.981)  66487960  0.000000\n",
       "1  LINESTRING (31.450 -25.427, 31.509 -25.499, 31...  65281761  1.633636\n",
       "2  LINESTRING (30.931 -24.343, 30.931 -24.343, 30...  90916112  0.044455\n",
       "3  LINESTRING (31.522 -24.921, 31.521 -24.921, 31...  37959089  7.854558\n",
       "4  LINESTRING (31.401 -24.786, 31.402 -24.860, 31...  27793716  0.207887"
      ]
     },
     "execution_count": 42,
     "metadata": {},
     "output_type": "execute_result"
    }
   ],
   "source": [
    "# NON-EDITABLE CODE CELL FOR TESTING YOUR SOLUTION\n",
    "\n",
    "#Check the output\n",
    "movements.head()"
   ]
  },
  {
   "cell_type": "markdown",
   "id": "0efa306d-dbf1-49c8-8ab9-e9573a0192dc",
   "metadata": {},
   "source": [
    "You should now be able to print answers to the following questions:\n",
    "\n",
    "- What was the shortest distance travelled in meters?\n",
    "- What was the mean distance travelled in meters?\n",
    "- What was the maximum distance travelled in meters?"
   ]
  },
  {
   "cell_type": "code",
   "execution_count": 43,
   "id": "252a6e7f-8207-4669-b058-9358cbe02925",
   "metadata": {},
   "outputs": [
    {
     "name": "stdout",
     "output_type": "stream",
     "text": [
      "min:  0.0\n",
      "mean:  0.604835107294859\n",
      "max:  63.94749765236673\n"
     ]
    }
   ],
   "source": [
    "#get the min distance travelled\n",
    "print(\"min: \", movements['distance'].min() )\n",
    "\n",
    "#get the mean distance travelled\n",
    "print(\"mean: \", movements['distance'].sum() / len(movements['distance']) )\n",
    "\n",
    "#get the max distance travelled\n",
    "print(\"max: \", movements['distance'].max() )"
   ]
  },
  {
   "cell_type": "markdown",
   "id": "4434ccce-6fff-4354-80de-2452c7f97d10",
   "metadata": {},
   "source": [
    "Finally, save the movements of into a Shapefile called some_movements.shp"
   ]
  },
  {
   "cell_type": "code",
   "execution_count": 44,
   "id": "d3f9fdba-b7d7-480f-8157-acdf88b5b37a",
   "metadata": {},
   "outputs": [
    {
     "name": "stderr",
     "output_type": "stream",
     "text": [
      "C:\\Users\\aly\\AppData\\Local\\Continuum\\anaconda3\\envs\\python-gis\\lib\\site-packages\\geopandas\\io\\file.py:362: FutureWarning: pandas.Int64Index is deprecated and will be removed from pandas in a future version. Use pandas.Index with the appropriate dtype instead.\n",
      "  pd.Int64Index,\n"
     ]
    }
   ],
   "source": [
    "fp = \"some_movements.shp\"\n",
    "\n",
    "#each shapefile can only contain one geometry, points and lines geometry cannot be mixed together\n",
    "movements.to_file(fp)"
   ]
  },
  {
   "cell_type": "code",
   "execution_count": 45,
   "id": "4d6cef0e-e0c3-452a-a01d-7ba78ffae789",
   "metadata": {},
   "outputs": [],
   "source": [
    "# NON-EDITABLE CODE CELL FOR TESTING YOUR SOLUTION\n",
    "\n",
    "import os\n",
    "\n",
    "#Check if output file exists\n",
    "assert os.path.isfile(fp), \"Output file does not exits.\""
   ]
  },
  {
   "cell_type": "code",
   "execution_count": null,
   "id": "57e95f7f-0b10-4801-aa6d-9c4dc5e7c7f1",
   "metadata": {},
   "outputs": [],
   "source": []
  }
 ],
 "metadata": {
  "kernelspec": {
   "display_name": "Python 3 (ipykernel)",
   "language": "python",
   "name": "python3"
  },
  "language_info": {
   "codemirror_mode": {
    "name": "ipython",
    "version": 3
   },
   "file_extension": ".py",
   "mimetype": "text/x-python",
   "name": "python",
   "nbconvert_exporter": "python",
   "pygments_lexer": "ipython3",
   "version": "3.8.12"
  }
 },
 "nbformat": 4,
 "nbformat_minor": 5
}
