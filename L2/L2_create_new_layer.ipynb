{
 "cells": [
  {
   "cell_type": "code",
   "execution_count": 2,
   "id": "79e3e2a1-9411-41e8-b844-6c6a64703b8b",
   "metadata": {},
   "outputs": [],
   "source": [
    "import geopandas as gpd\n",
    "from shapely.geometry import Point, Polygon\n",
    "from pyproj import CRS"
   ]
  },
  {
   "cell_type": "markdown",
   "id": "a587c02e-2b0f-4eff-95ad-8060a6a4e814",
   "metadata": {},
   "source": [
    "Create empty GeoDataFrame"
   ]
  },
  {
   "cell_type": "code",
   "execution_count": 3,
   "id": "4b706406-80eb-4632-9bbf-05f45adbfcc7",
   "metadata": {},
   "outputs": [],
   "source": [
    "newdata = gpd.GeoDataFrame()"
   ]
  },
  {
   "cell_type": "code",
   "execution_count": 4,
   "id": "6856ce71-7961-4676-8eb8-fbcfd98e508a",
   "metadata": {},
   "outputs": [
    {
     "name": "stdout",
     "output_type": "stream",
     "text": [
      "Empty GeoDataFrame\n",
      "Columns: []\n",
      "Index: []\n"
     ]
    }
   ],
   "source": [
    "print(newdata)"
   ]
  },
  {
   "cell_type": "markdown",
   "id": "27a1fd6c-e2f0-4109-8190-1eb2340e43be",
   "metadata": {},
   "source": [
    "A geodataframe is basically a pandas DataFrame that should have one column dedicated for geometries. By default, the geometry-column should be named geometry (geopandas looks for geometries from this column)."
   ]
  },
  {
   "cell_type": "markdown",
   "id": "d1cb0d53-c82a-491e-8133-62e2b915c434",
   "metadata": {},
   "source": [
    "Create a geometry column"
   ]
  },
  {
   "cell_type": "code",
   "execution_count": 5,
   "id": "80c2cc60-6f2b-4a1a-b929-337f971d57fd",
   "metadata": {},
   "outputs": [],
   "source": [
    "#create a new column called geometry to to the GeoDataFrame\n",
    "newdata['geometry'] = None"
   ]
  },
  {
   "cell_type": "code",
   "execution_count": 6,
   "id": "9b6eb92a-8de6-44ad-a31b-f3091cdfa627",
   "metadata": {},
   "outputs": [
    {
     "name": "stdout",
     "output_type": "stream",
     "text": [
      "Empty GeoDataFrame\n",
      "Columns: [geometry]\n",
      "Index: []\n"
     ]
    }
   ],
   "source": [
    "print(newdata)"
   ]
  },
  {
   "cell_type": "code",
   "execution_count": 7,
   "id": "246ea965-216f-4232-9ab8-dfdd31044fd3",
   "metadata": {},
   "outputs": [],
   "source": [
    "#coordinates of the helsinki senate square in decimal degrees\n",
    "coordinates = [ (24.950899, 601.169158), (24.953492, 60.169158), (24.953510,60.170104), (24.950958, 60.169990)]"
   ]
  },
  {
   "cell_type": "code",
   "execution_count": 8,
   "id": "394a8875-e7b5-46a3-9834-6b6527ac48c0",
   "metadata": {},
   "outputs": [],
   "source": [
    "#CREATE a shapely polygon from the coordinate-tuple list\n",
    "poly = Polygon(coordinates)"
   ]
  },
  {
   "cell_type": "code",
   "execution_count": 9,
   "id": "9bc1a358-973d-4012-8413-e1acb966b4cf",
   "metadata": {},
   "outputs": [
    {
     "name": "stdout",
     "output_type": "stream",
     "text": [
      "POLYGON ((24.950899 601.169158, 24.953492 60.169158, 24.95351 60.170104, 24.950958 60.16999, 24.950899 601.169158))\n"
     ]
    }
   ],
   "source": [
    "print(poly)"
   ]
  },
  {
   "cell_type": "markdown",
   "id": "d1b3a39c-f666-449a-a07b-565a846e54f2",
   "metadata": {},
   "source": [
    "Insert polygon into our geometry column of GeoDataFrame on the first row"
   ]
  },
  {
   "cell_type": "code",
   "execution_count": 10,
   "id": "ec48331e-b21f-4c7b-a909-267451bbece7",
   "metadata": {},
   "outputs": [],
   "source": [
    "#insert the polygon into 'geometry' -column at row 0\n",
    "newdata.at[0,'geometry'] = poly"
   ]
  },
  {
   "cell_type": "code",
   "execution_count": 11,
   "id": "b4e34063-9140-42b9-9976-624e9d01ec89",
   "metadata": {},
   "outputs": [
    {
     "name": "stdout",
     "output_type": "stream",
     "text": [
      "                                            geometry\n",
      "0  POLYGON ((24.951 601.169, 24.953 60.169, 24.95...\n"
     ]
    }
   ],
   "source": [
    "print(newdata)"
   ]
  },
  {
   "cell_type": "markdown",
   "id": "2f719230-f6b3-42d9-942f-dc8b4f662a8f",
   "metadata": {},
   "source": [
    "Add another column to our GeoDataFrame called location with text sanaatintori to describe location of the feature"
   ]
  },
  {
   "cell_type": "code",
   "execution_count": 12,
   "id": "4c18560a-0bf2-43e9-aa4c-e945ada3bdf7",
   "metadata": {},
   "outputs": [],
   "source": [
    "#add a new column and insert data\n",
    "newdata.at[0,'location'] = 'Senaatintori'"
   ]
  },
  {
   "cell_type": "code",
   "execution_count": 13,
   "id": "8f76a3a7-8778-4f2f-8d2e-0da58c4d26ad",
   "metadata": {},
   "outputs": [
    {
     "name": "stdout",
     "output_type": "stream",
     "text": [
      "                                            geometry      location\n",
      "0  POLYGON ((24.951 601.169, 24.953 60.169, 24.95...  Senaatintori\n"
     ]
    }
   ],
   "source": [
    "\n",
    "#Let's chek the data\n",
    "print(newdata)\n",
    "\n",
    "#we have additional information that is useful for recognicing what the feature represents."
   ]
  },
  {
   "cell_type": "markdown",
   "id": "1c45a2a0-2331-4e81-9828-a8e7a9b02f62",
   "metadata": {},
   "source": [
    "Before exporting the data it is always good (basically necessary) to determine the coordinate reference system (projection) for the GeoDataFrame. "
   ]
  },
  {
   "cell_type": "code",
   "execution_count": 15,
   "id": "47e99f1f-2bdb-480c-a2f7-f17f7dddb10d",
   "metadata": {},
   "outputs": [
    {
     "name": "stdout",
     "output_type": "stream",
     "text": [
      "None\n"
     ]
    }
   ],
   "source": [
    "#crs of GeoDataFrame is none because the data frame was created from scratch.\n",
    "print(newdata.crs) "
   ]
  },
  {
   "cell_type": "markdown",
   "id": "231668bc-2730-41f8-b779-125d41171b3a",
   "metadata": {},
   "source": [
    "Add a crs for our GeoDataFrame. We passed the coordinates as latitude and longitude decimal degrees, so the correct CRS is WGS84 (epsg code: 4326).\n",
    "The CRS information is necessary for creating a .prj file for our output Shapefile."
   ]
  },
  {
   "cell_type": "code",
   "execution_count": 18,
   "id": "3bd2531e-6efc-4af8-879e-f0d626f5ccb4",
   "metadata": {},
   "outputs": [],
   "source": [
    "#Add CRS definition to newdata in wkt format\n",
    "\n",
    "#Set the GeoDataFrame coordinate system to WGS84 (i.e. epsg code = 4326)\n",
    "newdata.crs = CRS.from_epsg(4326).to_wkt()"
   ]
  },
  {
   "cell_type": "code",
   "execution_count": 19,
   "id": "e7c1047d-fcab-4324-9039-3d388800cbe9",
   "metadata": {},
   "outputs": [
    {
     "name": "stderr",
     "output_type": "stream",
     "text": [
      "C:\\Users\\aly\\AppData\\Local\\Continuum\\anaconda3\\envs\\python-gis\\lib\\site-packages\\geopandas\\io\\file.py:362: FutureWarning: pandas.Int64Index is deprecated and will be removed from pandas in a future version. Use pandas.Index with the appropriate dtype instead.\n",
      "  pd.Int64Index,\n"
     ]
    }
   ],
   "source": [
    "#Determine the output path for the shapefile\n",
    "outfp = \"L2_data/Senaatintori.shp\"\n",
    "\n",
    "#write the data into the shapefile\n",
    "newdata.to_file(outfp)"
   ]
  },
  {
   "cell_type": "markdown",
   "id": "aa700692-051d-4df6-af40-cb0d7dfefa65",
   "metadata": {},
   "source": [
    "Now we have successfully created a Shapefile from scratch using only Python programming. Similar approach can be used to for example to read coordinates from a text file (e.g. points) and create Shapefiles from those automatically."
   ]
  },
  {
   "cell_type": "markdown",
   "id": "abb742a3-6298-461a-9af7-aecc4f4767ea",
   "metadata": {},
   "source": [
    "Check the output Shapefile by reading it with geopandas and make sure that the attribute table and geometry seems correct."
   ]
  },
  {
   "cell_type": "code",
   "execution_count": 20,
   "id": "8da29c32-7f80-4f32-8e05-bf58804c23cd",
   "metadata": {},
   "outputs": [
    {
     "name": "stdout",
     "output_type": "stream",
     "text": [
      "       location                                           geometry\n",
      "0  Senaatintori  POLYGON ((24.95090 601.16916, 24.95349 60.1691...\n"
     ]
    }
   ],
   "source": [
    "#read shapefile\n",
    "testdata = gpd.read_file(outfp)\n",
    "print(testdata)"
   ]
  },
  {
   "cell_type": "code",
   "execution_count": 22,
   "id": "aeb7c2ee-80c5-4fa5-a04d-2363660655fa",
   "metadata": {},
   "outputs": [
    {
     "data": {
      "text/plain": [
       "<AxesSubplot:>"
      ]
     },
     "execution_count": 22,
     "metadata": {},
     "output_type": "execute_result"
    },
    {
     "data": {
      "image/png": "[encoded data removed]",
      "text/plain": [
       "<Figure size 432x288 with 1 Axes>"
      ]
     },
     "metadata": {
      "needs_background": "light"
     },
     "output_type": "display_data"
    }
   ],
   "source": [
    "#visual inspection of the data\n",
    "testdata.plot()"
   ]
  },
  {
   "cell_type": "markdown",
   "id": "0d6d7c46-98b9-4089-b828-4a711275425a",
   "metadata": {},
   "source": [
    "Re-project the data to ETRS-TM35FIN (EPSG:3067) and save into a new file!"
   ]
  },
  {
   "cell_type": "code",
   "execution_count": 23,
   "id": "209d0af3-cbb9-4590-9f0f-c18623561af5",
   "metadata": {},
   "outputs": [],
   "source": [
    "testdata.crs = CRS.from_epsg(3067).to_wkt()"
   ]
  },
  {
   "cell_type": "code",
   "execution_count": 24,
   "id": "3484a583-0156-4c2e-825c-116458e98b08",
   "metadata": {},
   "outputs": [
    {
     "data": {
      "text/plain": [
       "<AxesSubplot:>"
      ]
     },
     "execution_count": 24,
     "metadata": {},
     "output_type": "execute_result"
    },
    {
     "data": {
      "image/png": "[encoded data removed]",
      "text/plain": [
       "<Figure size 432x288 with 1 Axes>"
      ]
     },
     "metadata": {
      "needs_background": "light"
     },
     "output_type": "display_data"
    }
   ],
   "source": [
    "testdata.plot()"
   ]
  },
  {
   "cell_type": "code",
   "execution_count": 25,
   "id": "da03f894-6e96-4973-a661-bbc368b7b9e3",
   "metadata": {},
   "outputs": [
    {
     "name": "stderr",
     "output_type": "stream",
     "text": [
      "C:\\Users\\aly\\AppData\\Local\\Continuum\\anaconda3\\envs\\python-gis\\lib\\site-packages\\geopandas\\io\\file.py:362: FutureWarning: pandas.Int64Index is deprecated and will be removed from pandas in a future version. Use pandas.Index with the appropriate dtype instead.\n",
      "  pd.Int64Index,\n"
     ]
    }
   ],
   "source": [
    "#Determine the output path for the shapefile\n",
    "outfp = \"L2_data/Senaatintori_EPSG3067.shp\"\n",
    "\n",
    "#write the data into the shapefile\n",
    "testdata.to_file(outfp)"
   ]
  },
  {
   "cell_type": "code",
   "execution_count": null,
   "id": "ddde53e0-786a-481f-82cd-b8d3a9da257a",
   "metadata": {},
   "outputs": [],
   "source": []
  }
 ],
 "metadata": {
  "kernelspec": {
   "display_name": "Python 3 (ipykernel)",
   "language": "python",
   "name": "python3"
  },
  "language_info": {
   "codemirror_mode": {
    "name": "ipython",
    "version": 3
   },
   "file_extension": ".py",
   "mimetype": "text/x-python",
   "name": "python",
   "nbconvert_exporter": "python",
   "pygments_lexer": "ipython3",
   "version": "3.8.12"
  }
 },
 "nbformat": 4,
 "nbformat_minor": 5
}
