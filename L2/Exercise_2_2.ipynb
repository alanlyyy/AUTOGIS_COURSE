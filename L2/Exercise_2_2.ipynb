{
 "cells": [
  {
   "cell_type": "markdown",
   "id": "5563474b-18a1-4112-ad28-2e50f86e7794",
   "metadata": {},
   "source": [
    "n this problem we continue to learn how to turn latitude and longitude coordinates into geometries.\n",
    "\n",
    "Our aim is to plot a map based on a set of longitude and latitude coordinates that are stored in a csv file. The coordinates are in WGS84 decimal degrees (EPSG:4326), and the data is stored in some_posts.csv comma separated file in the folder data. First rows of the data look like this:\n",
    "\n",
    "lat,lon,timestamp,userid\n",
    "-24.980792492,31.484633302,2015-07-07 03:02,66487960\n",
    "-25.499224667,31.508905612,2015-07-07 03:18,65281761\n",
    "-24.342578456,30.930866066,2015-03-07 03:38,90916112\n",
    "-24.85461393,31.519718439,2015-10-07 05:04,37959089\n",
    "The data has 81379 rows and consists of locations and times of de-identified social media posts inside Kruger national park in South Africa:\n",
    "\n",
    "Column\tDescription\n",
    "lat\ty-coordinate of the post\n",
    "lon\tx-coordinate of the post\n",
    "timestamp\tTime when the post was uploaded\n",
    "userid\tunique id for each user\n",
    "Note: Although the data is based on real social media data, the userids and timestamps have been randomized making it impossible to link the data to the original posts.\n",
    "\n",
    "First:\n",
    "\n",
    "-Import the needed modules\n",
    "-Read the data from data/some_posts.csv into a Pandas dataframe called data\n",
    "-Create an empty column called geometry where you will store shapely Point objects\n",
    "-Insert Point objects into the column geometry based on the coordinate columns\n"
   ]
  },
  {
   "cell_type": "code",
   "execution_count": null,
   "id": "c50df38e-af21-48b4-8455-2f8811589276",
   "metadata": {},
   "outputs": [],
   "source": [
    "#-Import the needed modules\n",
    "import pandas as pd\n",
    "from shapely.geometry import Point"
   ]
  },
  {
   "cell_type": "code",
   "execution_count": null,
   "id": "03607b29-6e09-454e-849e-fb84fd52b729",
   "metadata": {},
   "outputs": [],
   "source": [
    "#-Read the data from data/some_posts.csv into a Pandas dataframe called data\n",
    "data = pd.read_csv(\"some_posts.csv\")\n",
    "print(data.head())"
   ]
  },
  {
   "cell_type": "code",
   "execution_count": null,
   "id": "e5dac844-b07a-4ff7-8cd5-a01fb799e1d0",
   "metadata": {},
   "outputs": [],
   "source": [
    "#-Create an empty column called geometry where you will store shapely Point objects\n",
    "#Insert Point objects into the column geometry based on the coordinate columns\n",
    "\n",
    "# Define a function for creating points from row values\n",
    "def create_point(row):\n",
    "    '''Returns a shapely point object based on values in x and y columns'''\n",
    "\n",
    "    point = Point(row['lon'], row['lat'])\n",
    "\n",
    "    return point\n",
    "\n",
    "# Apply the function to each row\n",
    "data['geometry'] = data.apply(create_point, axis=1)\n",
    "\n",
    "print(data.head())"
   ]
  },
  {
   "cell_type": "code",
   "execution_count": null,
   "id": "0635455f-b0e8-4294-beb7-9304d5804b88",
   "metadata": {},
   "outputs": [],
   "source": [
    "# NON-EDITABLE CODE CELL FOR TESTING YOUR SOLUTION\n",
    "\n",
    "# Check the result\n",
    "print(\"Number of rows:\", len(data))"
   ]
  },
  {
   "cell_type": "code",
   "execution_count": null,
   "id": "84f8f07c-a6d3-49ae-9c25-effa935acb7f",
   "metadata": {},
   "outputs": [],
   "source": [
    "# NON-EDITABLE CODE CELL FOR TESTING YOUR SOLUTION\n",
    "\n",
    "# Check the result\n",
    "print(data['geometry'].head())"
   ]
  },
  {
   "cell_type": "markdown",
   "id": "0e342382-8213-4bf7-86b5-7f27cf8de3fc",
   "metadata": {},
   "source": [
    "Next:\n",
    "\n",
    "-Convert that DataFrame into a GeoDataFrame using geopandas GeoDataFrame constructor. See hints for more details.\n",
    "\n",
    "-Update the CRS for coordinate system as WGS84 (i.e. epsg code: 4326)\n",
    "\n",
    "-Save the data into a Shapefile called Kruger_posts.shp\n",
    "\n"
   ]
  },
  {
   "cell_type": "code",
   "execution_count": null,
   "id": "34147dc2-c3f7-4e88-a703-b5072592c89e",
   "metadata": {},
   "outputs": [],
   "source": [
    "import geopandas as gpd\n",
    "from pyproj import CRS\n",
    "\n",
    "#-Convert that DataFrame into a GeoDataFrame using geopandas GeoDataFrame constructor. See hints for more details.\n",
    "#-Update the CRS for coordinate system as WGS84 (i.e. epsg code: 4326)\n",
    "\n",
    "#convert dataframe into a geodataframe\n",
    "geo = gpd.GeoDataFrame(data, geometry = 'geometry', crs=CRS.from_epsg(4326).to_wkt())\n",
    "\n",
    "type(geo)\n",
    "\n",
    "#-Save the data into a Shapefile called Kruger_posts.shp\n",
    "fp = r\"Kruger_posts.shp\"\n",
    "geo.to_file(fp)"
   ]
  },
  {
   "cell_type": "code",
   "execution_count": null,
   "id": "e516e47b-cd7d-4893-bc1d-22c399b47b51",
   "metadata": {},
   "outputs": [],
   "source": [
    "# NON-EDITABLE CODE CELL FOR TESTING YOUR SOLUTION\n",
    "\n",
    "# Check the geodataframe head\n",
    "print(\"Number of rows:\", len(geo))\n",
    "print(geo.head())"
   ]
  },
  {
   "cell_type": "code",
   "execution_count": null,
   "id": "dcbdaef2-5f5a-4d2a-bf51-5337f00dee57",
   "metadata": {},
   "outputs": [],
   "source": [
    "# NON-EDITABLE CODE CELL FOR TESTING YOUR SOLUTION\n",
    "\n",
    "# Check that the output file exists\n",
    "import os\n",
    "assert os.path.isfile(fp), \"output shapefile does not exist\""
   ]
  },
  {
   "cell_type": "markdown",
   "id": "b231369d-8221-4109-adcd-8ef6e65bfc7d",
   "metadata": {},
   "source": [
    "Finally:\n",
    "\n",
    "Create a simple map of the points using the plot() -funtion."
   ]
  },
  {
   "cell_type": "code",
   "execution_count": null,
   "id": "b1e14a11-7f00-43f2-a4ac-17aed2df77b9",
   "metadata": {},
   "outputs": [],
   "source": [
    "geo.plot()"
   ]
  },
  {
   "cell_type": "code",
   "execution_count": null,
   "id": "a3f0fe19-5d60-4d2c-9ef5-fd44e75d0d97",
   "metadata": {},
   "outputs": [],
   "source": []
  }
 ],
 "metadata": {
  "kernelspec": {
   "display_name": "Python 3 (ipykernel)",
   "language": "python",
   "name": "python3"
  },
  "language_info": {
   "codemirror_mode": {
    "name": "ipython",
    "version": 3
   },
   "file_extension": ".py",
   "mimetype": "text/x-python",
   "name": "python",
   "nbconvert_exporter": "python",
   "pygments_lexer": "ipython3",
   "version": "3.8.12"
  }
 },
 "nbformat": 4,
 "nbformat_minor": 5
}
