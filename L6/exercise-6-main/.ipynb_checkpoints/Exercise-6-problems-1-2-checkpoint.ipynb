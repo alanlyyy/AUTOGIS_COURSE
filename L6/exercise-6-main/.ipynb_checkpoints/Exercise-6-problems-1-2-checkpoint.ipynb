{
 "cells": [
  {
   "cell_type": "markdown",
   "metadata": {},
   "source": [
    "# Exercise 6\n",
    "\n",
    "This week we will practice how to work with OpenStreetMap data and conduct network analysis in Python."
   ]
  },
  {
   "cell_type": "markdown",
   "metadata": {
    "deletable": false,
    "editable": false,
    "nbgrader": {
     "cell_type": "markdown",
     "checksum": "be6111c9aa8358ad60c02bbc94dc4d7d",
     "grade": false,
     "grade_id": "cell-40f3565ed1f7dad8",
     "locked": true,
     "schema_version": 3,
     "solution": false
    }
   },
   "source": [
    "## Problem 1 (8 points)\n",
    "\n",
    "There are two csv-files in the [/data](./data) folder:\n",
    "\n",
    "- `origins.csv`\n",
    "- `destinations.csv`\n",
    "\n",
    "The files contain coordinates of the origin and destination points in certain area of the world as latitude and longitude coordinates (decimal degrees). \n",
    "\n",
    "**1: Your task is to find out where the points are located based on the coordinates found in the files** (which city/country?) Use your GIS skills to find out the solution in two different ways."
   ]
  },
  {
   "cell_type": "markdown",
   "metadata": {},
   "source": [
    "A. detect the location using **visualization techniques**; plot the points on top of a background map and see where they are located! "
   ]
  },
  {
   "cell_type": "code",
   "execution_count": 118,
   "metadata": {
    "deletable": false,
    "nbgrader": {
     "cell_type": "code",
     "checksum": "59a0b1f1b51a4dcf8f063beb414f8259",
     "grade": true,
     "grade_id": "problem_1_plot_map",
     "locked": false,
     "points": 1,
     "schema_version": 3,
     "solution": true,
     "task": false
    }
   },
   "outputs": [],
   "source": [
    "import geopandas as gpd\n",
    "from shapely.geometry import Point, LineString, Polygon\n",
    "import pandas as pd\n",
    "import matplotlib.pyplot as plt\n",
    "\n",
    "from pyproj import CRS\n",
    "import contextily as ctx\n",
    "\n",
    "import osmnx as ox\n",
    "import networkx as nx"
   ]
  },
  {
   "cell_type": "code",
   "execution_count": 119,
   "metadata": {},
   "outputs": [],
   "source": [
    "origin_pt = pd.read_csv(r'data/origins.csv')\n",
    "dest_pt = pd.read_csv(r'data/destinations.csv')"
   ]
  },
  {
   "cell_type": "code",
   "execution_count": 120,
   "metadata": {},
   "outputs": [
    {
     "data": {
      "text/html": [
       "<div>\n",
       "<style scoped>\n",
       "    .dataframe tbody tr th:only-of-type {\n",
       "        vertical-align: middle;\n",
       "    }\n",
       "\n",
       "    .dataframe tbody tr th {\n",
       "        vertical-align: top;\n",
       "    }\n",
       "\n",
       "    .dataframe thead th {\n",
       "        text-align: right;\n",
       "    }\n",
       "</style>\n",
       "<table border=\"1\" class=\"dataframe\">\n",
       "  <thead>\n",
       "    <tr style=\"text-align: right;\">\n",
       "      <th></th>\n",
       "      <th>x</th>\n",
       "      <th>y</th>\n",
       "    </tr>\n",
       "  </thead>\n",
       "  <tbody>\n",
       "    <tr>\n",
       "      <th>0</th>\n",
       "      <td>24.6159</td>\n",
       "      <td>59.4052</td>\n",
       "    </tr>\n",
       "    <tr>\n",
       "      <th>1</th>\n",
       "      <td>24.6407</td>\n",
       "      <td>59.4074</td>\n",
       "    </tr>\n",
       "    <tr>\n",
       "      <th>2</th>\n",
       "      <td>24.6686</td>\n",
       "      <td>59.4018</td>\n",
       "    </tr>\n",
       "    <tr>\n",
       "      <th>3</th>\n",
       "      <td>24.6980</td>\n",
       "      <td>59.4477</td>\n",
       "    </tr>\n",
       "    <tr>\n",
       "      <th>4</th>\n",
       "      <td>24.7680</td>\n",
       "      <td>59.4303</td>\n",
       "    </tr>\n",
       "  </tbody>\n",
       "</table>\n",
       "</div>"
      ],
      "text/plain": [
       "         x        y\n",
       "0  24.6159  59.4052\n",
       "1  24.6407  59.4074\n",
       "2  24.6686  59.4018\n",
       "3  24.6980  59.4477\n",
       "4  24.7680  59.4303"
      ]
     },
     "execution_count": 120,
     "metadata": {},
     "output_type": "execute_result"
    }
   ],
   "source": [
    "origin_pt.head()"
   ]
  },
  {
   "cell_type": "code",
   "execution_count": 121,
   "metadata": {},
   "outputs": [
    {
     "data": {
      "text/html": [
       "<div>\n",
       "<style scoped>\n",
       "    .dataframe tbody tr th:only-of-type {\n",
       "        vertical-align: middle;\n",
       "    }\n",
       "\n",
       "    .dataframe tbody tr th {\n",
       "        vertical-align: top;\n",
       "    }\n",
       "\n",
       "    .dataframe thead th {\n",
       "        text-align: right;\n",
       "    }\n",
       "</style>\n",
       "<table border=\"1\" class=\"dataframe\">\n",
       "  <thead>\n",
       "    <tr style=\"text-align: right;\">\n",
       "      <th></th>\n",
       "      <th>x</th>\n",
       "      <th>y</th>\n",
       "    </tr>\n",
       "  </thead>\n",
       "  <tbody>\n",
       "    <tr>\n",
       "      <th>0</th>\n",
       "      <td>24.8441</td>\n",
       "      <td>59.4395</td>\n",
       "    </tr>\n",
       "    <tr>\n",
       "      <th>1</th>\n",
       "      <td>24.6150</td>\n",
       "      <td>59.3433</td>\n",
       "    </tr>\n",
       "    <tr>\n",
       "      <th>2</th>\n",
       "      <td>24.8656</td>\n",
       "      <td>59.4405</td>\n",
       "    </tr>\n",
       "    <tr>\n",
       "      <th>3</th>\n",
       "      <td>24.6983</td>\n",
       "      <td>59.4013</td>\n",
       "    </tr>\n",
       "    <tr>\n",
       "      <th>4</th>\n",
       "      <td>24.7630</td>\n",
       "      <td>59.4407</td>\n",
       "    </tr>\n",
       "  </tbody>\n",
       "</table>\n",
       "</div>"
      ],
      "text/plain": [
       "         x        y\n",
       "0  24.8441  59.4395\n",
       "1  24.6150  59.3433\n",
       "2  24.8656  59.4405\n",
       "3  24.6983  59.4013\n",
       "4  24.7630  59.4407"
      ]
     },
     "execution_count": 121,
     "metadata": {},
     "output_type": "execute_result"
    }
   ],
   "source": [
    "dest_pt.head()"
   ]
  },
  {
   "cell_type": "code",
   "execution_count": 122,
   "metadata": {},
   "outputs": [
    {
     "data": {
      "text/plain": [
       "24.8441"
      ]
     },
     "execution_count": 122,
     "metadata": {},
     "output_type": "execute_result"
    }
   ],
   "source": [
    "dest_pt['x'][0]"
   ]
  },
  {
   "cell_type": "markdown",
   "metadata": {},
   "source": [
    "# Convert points to shapely Points."
   ]
  },
  {
   "cell_type": "code",
   "execution_count": 123,
   "metadata": {},
   "outputs": [],
   "source": [
    "def create_point(x_coord,y_coord):\n",
    "    return Point(x_coord, y_coord)\n",
    "\n",
    "def create_list_of_points(df):\n",
    "    geom = []\n",
    "    \n",
    "    for index in range(0, len(df)):\n",
    "        geom.append( create_point( df.at[index, 'x'], df.at[index, 'y'] ) )\n",
    "     \n",
    "    return geom\n",
    "\n",
    "origin_pt['geometry'] = create_list_of_points(origin_pt)\n",
    "dest_pt['geometry'] = create_list_of_points(dest_pt)"
   ]
  },
  {
   "cell_type": "code",
   "execution_count": 124,
   "metadata": {},
   "outputs": [
    {
     "data": {
      "text/html": [
       "<div>\n",
       "<style scoped>\n",
       "    .dataframe tbody tr th:only-of-type {\n",
       "        vertical-align: middle;\n",
       "    }\n",
       "\n",
       "    .dataframe tbody tr th {\n",
       "        vertical-align: top;\n",
       "    }\n",
       "\n",
       "    .dataframe thead th {\n",
       "        text-align: right;\n",
       "    }\n",
       "</style>\n",
       "<table border=\"1\" class=\"dataframe\">\n",
       "  <thead>\n",
       "    <tr style=\"text-align: right;\">\n",
       "      <th></th>\n",
       "      <th>x</th>\n",
       "      <th>y</th>\n",
       "      <th>geometry</th>\n",
       "    </tr>\n",
       "  </thead>\n",
       "  <tbody>\n",
       "    <tr>\n",
       "      <th>0</th>\n",
       "      <td>24.6159</td>\n",
       "      <td>59.4052</td>\n",
       "      <td>POINT (24.6159 59.4052)</td>\n",
       "    </tr>\n",
       "    <tr>\n",
       "      <th>1</th>\n",
       "      <td>24.6407</td>\n",
       "      <td>59.4074</td>\n",
       "      <td>POINT (24.6407 59.4074)</td>\n",
       "    </tr>\n",
       "    <tr>\n",
       "      <th>2</th>\n",
       "      <td>24.6686</td>\n",
       "      <td>59.4018</td>\n",
       "      <td>POINT (24.6686 59.4018)</td>\n",
       "    </tr>\n",
       "    <tr>\n",
       "      <th>3</th>\n",
       "      <td>24.6980</td>\n",
       "      <td>59.4477</td>\n",
       "      <td>POINT (24.698 59.4477)</td>\n",
       "    </tr>\n",
       "    <tr>\n",
       "      <th>4</th>\n",
       "      <td>24.7680</td>\n",
       "      <td>59.4303</td>\n",
       "      <td>POINT (24.768 59.4303)</td>\n",
       "    </tr>\n",
       "  </tbody>\n",
       "</table>\n",
       "</div>"
      ],
      "text/plain": [
       "         x        y                 geometry\n",
       "0  24.6159  59.4052  POINT (24.6159 59.4052)\n",
       "1  24.6407  59.4074  POINT (24.6407 59.4074)\n",
       "2  24.6686  59.4018  POINT (24.6686 59.4018)\n",
       "3  24.6980  59.4477   POINT (24.698 59.4477)\n",
       "4  24.7680  59.4303   POINT (24.768 59.4303)"
      ]
     },
     "execution_count": 124,
     "metadata": {},
     "output_type": "execute_result"
    }
   ],
   "source": [
    "origin_pt.head()"
   ]
  },
  {
   "cell_type": "code",
   "execution_count": 125,
   "metadata": {},
   "outputs": [
    {
     "data": {
      "text/html": [
       "<div>\n",
       "<style scoped>\n",
       "    .dataframe tbody tr th:only-of-type {\n",
       "        vertical-align: middle;\n",
       "    }\n",
       "\n",
       "    .dataframe tbody tr th {\n",
       "        vertical-align: top;\n",
       "    }\n",
       "\n",
       "    .dataframe thead th {\n",
       "        text-align: right;\n",
       "    }\n",
       "</style>\n",
       "<table border=\"1\" class=\"dataframe\">\n",
       "  <thead>\n",
       "    <tr style=\"text-align: right;\">\n",
       "      <th></th>\n",
       "      <th>x</th>\n",
       "      <th>y</th>\n",
       "      <th>geometry</th>\n",
       "    </tr>\n",
       "  </thead>\n",
       "  <tbody>\n",
       "    <tr>\n",
       "      <th>0</th>\n",
       "      <td>24.8441</td>\n",
       "      <td>59.4395</td>\n",
       "      <td>POINT (24.8441 59.4395)</td>\n",
       "    </tr>\n",
       "    <tr>\n",
       "      <th>1</th>\n",
       "      <td>24.6150</td>\n",
       "      <td>59.3433</td>\n",
       "      <td>POINT (24.615 59.3433)</td>\n",
       "    </tr>\n",
       "    <tr>\n",
       "      <th>2</th>\n",
       "      <td>24.8656</td>\n",
       "      <td>59.4405</td>\n",
       "      <td>POINT (24.8656 59.4405)</td>\n",
       "    </tr>\n",
       "    <tr>\n",
       "      <th>3</th>\n",
       "      <td>24.6983</td>\n",
       "      <td>59.4013</td>\n",
       "      <td>POINT (24.6983 59.4013)</td>\n",
       "    </tr>\n",
       "    <tr>\n",
       "      <th>4</th>\n",
       "      <td>24.7630</td>\n",
       "      <td>59.4407</td>\n",
       "      <td>POINT (24.763 59.4407)</td>\n",
       "    </tr>\n",
       "  </tbody>\n",
       "</table>\n",
       "</div>"
      ],
      "text/plain": [
       "         x        y                 geometry\n",
       "0  24.8441  59.4395  POINT (24.8441 59.4395)\n",
       "1  24.6150  59.3433   POINT (24.615 59.3433)\n",
       "2  24.8656  59.4405  POINT (24.8656 59.4405)\n",
       "3  24.6983  59.4013  POINT (24.6983 59.4013)\n",
       "4  24.7630  59.4407   POINT (24.763 59.4407)"
      ]
     },
     "execution_count": 125,
     "metadata": {},
     "output_type": "execute_result"
    }
   ],
   "source": [
    "dest_pt.head()"
   ]
  },
  {
   "cell_type": "markdown",
   "metadata": {},
   "source": [
    "# Concatenate  the destination and origin points into a single df"
   ]
  },
  {
   "cell_type": "code",
   "execution_count": 126,
   "metadata": {},
   "outputs": [
    {
     "data": {
      "text/html": [
       "<div>\n",
       "<style scoped>\n",
       "    .dataframe tbody tr th:only-of-type {\n",
       "        vertical-align: middle;\n",
       "    }\n",
       "\n",
       "    .dataframe tbody tr th {\n",
       "        vertical-align: top;\n",
       "    }\n",
       "\n",
       "    .dataframe thead th {\n",
       "        text-align: right;\n",
       "    }\n",
       "</style>\n",
       "<table border=\"1\" class=\"dataframe\">\n",
       "  <thead>\n",
       "    <tr style=\"text-align: right;\">\n",
       "      <th></th>\n",
       "      <th>x</th>\n",
       "      <th>y</th>\n",
       "      <th>geometry</th>\n",
       "    </tr>\n",
       "  </thead>\n",
       "  <tbody>\n",
       "    <tr>\n",
       "      <th>0</th>\n",
       "      <td>24.6159</td>\n",
       "      <td>59.4052</td>\n",
       "      <td>POINT (24.6159 59.4052)</td>\n",
       "    </tr>\n",
       "    <tr>\n",
       "      <th>1</th>\n",
       "      <td>24.6407</td>\n",
       "      <td>59.4074</td>\n",
       "      <td>POINT (24.6407 59.4074)</td>\n",
       "    </tr>\n",
       "    <tr>\n",
       "      <th>2</th>\n",
       "      <td>24.6686</td>\n",
       "      <td>59.4018</td>\n",
       "      <td>POINT (24.6686 59.4018)</td>\n",
       "    </tr>\n",
       "    <tr>\n",
       "      <th>3</th>\n",
       "      <td>24.6980</td>\n",
       "      <td>59.4477</td>\n",
       "      <td>POINT (24.698 59.4477)</td>\n",
       "    </tr>\n",
       "    <tr>\n",
       "      <th>4</th>\n",
       "      <td>24.7680</td>\n",
       "      <td>59.4303</td>\n",
       "      <td>POINT (24.768 59.4303)</td>\n",
       "    </tr>\n",
       "  </tbody>\n",
       "</table>\n",
       "</div>"
      ],
      "text/plain": [
       "         x        y                 geometry\n",
       "0  24.6159  59.4052  POINT (24.6159 59.4052)\n",
       "1  24.6407  59.4074  POINT (24.6407 59.4074)\n",
       "2  24.6686  59.4018  POINT (24.6686 59.4018)\n",
       "3  24.6980  59.4477   POINT (24.698 59.4477)\n",
       "4  24.7680  59.4303   POINT (24.768 59.4303)"
      ]
     },
     "execution_count": 126,
     "metadata": {},
     "output_type": "execute_result"
    }
   ],
   "source": [
    "all_points = pd.concat ([ origin_pt, dest_pt], axis=0, ignore_index=True)\n",
    "\n",
    "all_points.head()"
   ]
  },
  {
   "cell_type": "code",
   "execution_count": 127,
   "metadata": {},
   "outputs": [
    {
     "name": "stdout",
     "output_type": "stream",
     "text": [
      "origin pt:  16\n",
      "destination pt:  20\n",
      "total pts:  36\n"
     ]
    }
   ],
   "source": [
    "print(\"origin pt: \", len(origin_pt) )\n",
    "\n",
    "print(\"destination pt: \", len(dest_pt) )\n",
    "\n",
    "print(\"total pts: \", len(all_points) )"
   ]
  },
  {
   "cell_type": "code",
   "execution_count": 128,
   "metadata": {},
   "outputs": [],
   "source": [
    "#create a geodataframe of all points\n",
    "all_points_gdf = gpd.GeoDataFrame( all_points, geometry=all_points['geometry'] )"
   ]
  },
  {
   "cell_type": "code",
   "execution_count": 129,
   "metadata": {},
   "outputs": [
    {
     "name": "stdout",
     "output_type": "stream",
     "text": [
      "None\n"
     ]
    }
   ],
   "source": [
    "print(all_points_gdf.crs)"
   ]
  },
  {
   "cell_type": "code",
   "execution_count": 130,
   "metadata": {},
   "outputs": [],
   "source": [
    "#set projection to 4326 WGS84, \n",
    "#(this command only updates the metadata about coordinate reference system which is stored in the class variable .crs, and does not modify the actual coordinate values.)\n",
    "all_points_gdf.crs = CRS.from_epsg(4326)\n",
    "\n",
    "#re-project geometry to 4326 WGS84, and redefine the .crs\n",
    "all_points_gdf = all_points_gdf.to_crs( CRS.from_epsg(4326) )"
   ]
  },
  {
   "cell_type": "markdown",
   "metadata": {},
   "source": [
    "# Plot points on basemap"
   ]
  },
  {
   "cell_type": "code",
   "execution_count": 131,
   "metadata": {},
   "outputs": [
    {
     "data": {
      "image/png": "[encoded data removed]",
      "text/plain": [
       "<Figure size 864x576 with 1 Axes>"
      ]
     },
     "metadata": {
      "needs_background": "light"
     },
     "output_type": "display_data"
    }
   ],
   "source": [
    "fig, ax = plt.subplots(figsize= (12,8))\n",
    "\n",
    "#polygon_gdf.plot(ax=ax, facecolor='dimgray')\n",
    "\n",
    "all_points_gdf.plot(ax=ax, facecolor= 'red')\n",
    "\n",
    "ctx.add_basemap(ax=ax, crs=polygon_gdf.crs, source=ctx.providers.CartoDB.Positron)"
   ]
  },
  {
   "cell_type": "code",
   "execution_count": 132,
   "metadata": {},
   "outputs": [
    {
     "data": {
      "text/html": [
       "<div>\n",
       "<style scoped>\n",
       "    .dataframe tbody tr th:only-of-type {\n",
       "        vertical-align: middle;\n",
       "    }\n",
       "\n",
       "    .dataframe tbody tr th {\n",
       "        vertical-align: top;\n",
       "    }\n",
       "\n",
       "    .dataframe thead th {\n",
       "        text-align: right;\n",
       "    }\n",
       "</style>\n",
       "<table border=\"1\" class=\"dataframe\">\n",
       "  <thead>\n",
       "    <tr style=\"text-align: right;\">\n",
       "      <th></th>\n",
       "      <th>x</th>\n",
       "      <th>y</th>\n",
       "      <th>geometry</th>\n",
       "    </tr>\n",
       "  </thead>\n",
       "  <tbody>\n",
       "    <tr>\n",
       "      <th>0</th>\n",
       "      <td>24.6159</td>\n",
       "      <td>59.4052</td>\n",
       "      <td>POINT (24.61590 59.40520)</td>\n",
       "    </tr>\n",
       "    <tr>\n",
       "      <th>1</th>\n",
       "      <td>24.6407</td>\n",
       "      <td>59.4074</td>\n",
       "      <td>POINT (24.64070 59.40740)</td>\n",
       "    </tr>\n",
       "    <tr>\n",
       "      <th>2</th>\n",
       "      <td>24.6686</td>\n",
       "      <td>59.4018</td>\n",
       "      <td>POINT (24.66860 59.40180)</td>\n",
       "    </tr>\n",
       "    <tr>\n",
       "      <th>3</th>\n",
       "      <td>24.6980</td>\n",
       "      <td>59.4477</td>\n",
       "      <td>POINT (24.69800 59.44770)</td>\n",
       "    </tr>\n",
       "    <tr>\n",
       "      <th>4</th>\n",
       "      <td>24.7680</td>\n",
       "      <td>59.4303</td>\n",
       "      <td>POINT (24.76800 59.43030)</td>\n",
       "    </tr>\n",
       "  </tbody>\n",
       "</table>\n",
       "</div>"
      ],
      "text/plain": [
       "         x        y                   geometry\n",
       "0  24.6159  59.4052  POINT (24.61590 59.40520)\n",
       "1  24.6407  59.4074  POINT (24.64070 59.40740)\n",
       "2  24.6686  59.4018  POINT (24.66860 59.40180)\n",
       "3  24.6980  59.4477  POINT (24.69800 59.44770)\n",
       "4  24.7680  59.4303  POINT (24.76800 59.43030)"
      ]
     },
     "execution_count": 132,
     "metadata": {},
     "output_type": "execute_result"
    }
   ],
   "source": [
    "all_points_gdf.head()"
   ]
  },
  {
   "cell_type": "code",
   "execution_count": 133,
   "metadata": {},
   "outputs": [
    {
     "data": {
      "text/plain": [
       "x            float64\n",
       "y            float64\n",
       "geometry    geometry\n",
       "dtype: object"
      ]
     },
     "execution_count": 133,
     "metadata": {},
     "output_type": "execute_result"
    }
   ],
   "source": [
    "all_points_gdf.dtypes"
   ]
  },
  {
   "cell_type": "code",
   "execution_count": 134,
   "metadata": {},
   "outputs": [
    {
     "data": {
      "text/plain": [
       "59.4074"
      ]
     },
     "execution_count": 134,
     "metadata": {},
     "output_type": "execute_result"
    }
   ],
   "source": [
    "all_points_gdf.at[1, 'y']"
   ]
  },
  {
   "cell_type": "markdown",
   "metadata": {},
   "source": [
    "B. Detect the location using **geocoding techniques**; reverse geocode at least one of the locations (see [hints from geopy documentation](https://geopy.readthedocs.io/en/stable/index.html?highlight=reverse#module-geopy.geocoders)). As output, you should print out information about the location (can be a full address, or just the name of the city):"
   ]
  },
  {
   "cell_type": "code",
   "execution_count": 135,
   "metadata": {},
   "outputs": [
    {
     "name": "stdout",
     "output_type": "stream",
     "text": [
      "Address of points:  Astangu Rimi super, 4, Kotermaa, Astangu, Haabersti linnaosa, Tallinn, Harju maakond, 13524, Eesti\n"
     ]
    }
   ],
   "source": [
    "from geopy.geocoders import Nominatim\n",
    "\n",
    "row = 0\n",
    "#take a location and grab the state, country, city (format = lat , lon)\n",
    "coords = \"{val1},{val2}\".format( val1 = all_points_gdf.at[row, 'y'], val2 = all_points_gdf.at[row, 'x'] )\n",
    "geolocator = Nominatim(user_agent=\"L6_exercise\")\n",
    "location = geolocator.reverse(coords)\n",
    "\n",
    "print(\"Address of points: \", location.address)"
   ]
  },
  {
   "cell_type": "markdown",
   "metadata": {
    "deletable": false,
    "editable": false,
    "nbgrader": {
     "cell_type": "markdown",
     "checksum": "697ffb2302a39c6b3a934fda4fe79c62",
     "grade": false,
     "grade_id": "cell-5f8e9329f6654711",
     "locked": true,
     "schema_version": 3,
     "solution": false
    },
    "tags": []
   },
   "source": [
    "**2: Retrieve OpenStreetMap data (only streets that can be driven with car) from the area where the points are located.**\n",
    "\n",
    "- Specify a Polygon that covers the **extent where all the points are located*. \n",
    "- Store the extent as a Shapely Polygon stored in a variable called `graph_extent`.\n",
    "- Add a little bit of buffer around the extent for downloading the graph, so that you cover all routes between the points.\n",
    "- See hints from this [week's hints page](https://autogis-site.readthedocs.io/en/latest/lessons/L6/exercise-6.html#hints) on how to define the extent."
   ]
  },
  {
   "cell_type": "markdown",
   "metadata": {},
   "source": [
    "# Create a bounding box of area"
   ]
  },
  {
   "cell_type": "markdown",
   "metadata": {},
   "source": [
    "- Create a multipoint from individual points"
   ]
  },
  {
   "cell_type": "code",
   "execution_count": 136,
   "metadata": {},
   "outputs": [
    {
     "data": {
      "image/svg+xml": [
       "<svg xmlns=\"http://www.w3.org/2000/svg\" xmlns:xlink=\"http://www.w3.org/1999/xlink\" width=\"100.0\" height=\"100.0\" viewBox=\"24.546508 59.309108 0.35888399999999976 0.19538399999999712\" preserveAspectRatio=\"xMinYMin meet\"><g transform=\"matrix(1,0,0,-1,0,118.81360000000001)\"><g><circle cx=\"24.5598\" cy=\"59.3224\" r=\"0.010766519999999993\" stroke=\"#555555\" stroke-width=\"0.0035888399999999977\" fill=\"#66cc99\" opacity=\"0.6\" /><circle cx=\"24.615\" cy=\"59.3433\" r=\"0.010766519999999993\" stroke=\"#555555\" stroke-width=\"0.0035888399999999977\" fill=\"#66cc99\" opacity=\"0.6\" /><circle cx=\"24.6159\" cy=\"59.4052\" r=\"0.010766519999999993\" stroke=\"#555555\" stroke-width=\"0.0035888399999999977\" fill=\"#66cc99\" opacity=\"0.6\" /><circle cx=\"24.6311\" cy=\"59.3601\" r=\"0.010766519999999993\" stroke=\"#555555\" stroke-width=\"0.0035888399999999977\" fill=\"#66cc99\" opacity=\"0.6\" /><circle cx=\"24.6407\" cy=\"59.4074\" r=\"0.010766519999999993\" stroke=\"#555555\" stroke-width=\"0.0035888399999999977\" fill=\"#66cc99\" opacity=\"0.6\" /><circle cx=\"24.6552\" cy=\"59.4135\" r=\"0.010766519999999993\" stroke=\"#555555\" stroke-width=\"0.0035888399999999977\" fill=\"#66cc99\" opacity=\"0.6\" /><circle cx=\"24.6686\" cy=\"59.4018\" r=\"0.010766519999999993\" stroke=\"#555555\" stroke-width=\"0.0035888399999999977\" fill=\"#66cc99\" opacity=\"0.6\" /><circle cx=\"24.6882\" cy=\"59.4074\" r=\"0.010766519999999993\" stroke=\"#555555\" stroke-width=\"0.0035888399999999977\" fill=\"#66cc99\" opacity=\"0.6\" /><circle cx=\"24.6887\" cy=\"59.4085\" r=\"0.010766519999999993\" stroke=\"#555555\" stroke-width=\"0.0035888399999999977\" fill=\"#66cc99\" opacity=\"0.6\" /><circle cx=\"24.698\" cy=\"59.4477\" r=\"0.010766519999999993\" stroke=\"#555555\" stroke-width=\"0.0035888399999999977\" fill=\"#66cc99\" opacity=\"0.6\" /><circle cx=\"24.6983\" cy=\"59.4013\" r=\"0.010766519999999993\" stroke=\"#555555\" stroke-width=\"0.0035888399999999977\" fill=\"#66cc99\" opacity=\"0.6\" /><circle cx=\"24.7023\" cy=\"59.4469\" r=\"0.010766519999999993\" stroke=\"#555555\" stroke-width=\"0.0035888399999999977\" fill=\"#66cc99\" opacity=\"0.6\" /><circle cx=\"24.7072\" cy=\"59.4145\" r=\"0.010766519999999993\" stroke=\"#555555\" stroke-width=\"0.0035888399999999977\" fill=\"#66cc99\" opacity=\"0.6\" /><circle cx=\"24.7157\" cy=\"59.4275\" r=\"0.010766519999999993\" stroke=\"#555555\" stroke-width=\"0.0035888399999999977\" fill=\"#66cc99\" opacity=\"0.6\" /><circle cx=\"24.7167\" cy=\"59.3721\" r=\"0.010766519999999993\" stroke=\"#555555\" stroke-width=\"0.0035888399999999977\" fill=\"#66cc99\" opacity=\"0.6\" /><circle cx=\"24.7212\" cy=\"59.3912\" r=\"0.010766519999999993\" stroke=\"#555555\" stroke-width=\"0.0035888399999999977\" fill=\"#66cc99\" opacity=\"0.6\" /><circle cx=\"24.7301\" cy=\"59.4415\" r=\"0.010766519999999993\" stroke=\"#555555\" stroke-width=\"0.0035888399999999977\" fill=\"#66cc99\" opacity=\"0.6\" /><circle cx=\"24.7356\" cy=\"59.4262\" r=\"0.010766519999999993\" stroke=\"#555555\" stroke-width=\"0.0035888399999999977\" fill=\"#66cc99\" opacity=\"0.6\" /><circle cx=\"24.7428\" cy=\"59.4442\" r=\"0.010766519999999993\" stroke=\"#555555\" stroke-width=\"0.0035888399999999977\" fill=\"#66cc99\" opacity=\"0.6\" /><circle cx=\"24.7446\" cy=\"59.4381\" r=\"0.010766519999999993\" stroke=\"#555555\" stroke-width=\"0.0035888399999999977\" fill=\"#66cc99\" opacity=\"0.6\" /><circle cx=\"24.7453\" cy=\"59.4254\" r=\"0.010766519999999993\" stroke=\"#555555\" stroke-width=\"0.0035888399999999977\" fill=\"#66cc99\" opacity=\"0.6\" /><circle cx=\"24.7508\" cy=\"59.4383\" r=\"0.010766519999999993\" stroke=\"#555555\" stroke-width=\"0.0035888399999999977\" fill=\"#66cc99\" opacity=\"0.6\" /><circle cx=\"24.7536\" cy=\"59.437\" r=\"0.010766519999999993\" stroke=\"#555555\" stroke-width=\"0.0035888399999999977\" fill=\"#66cc99\" opacity=\"0.6\" /><circle cx=\"24.7562\" cy=\"59.4377\" r=\"0.010766519999999993\" stroke=\"#555555\" stroke-width=\"0.0035888399999999977\" fill=\"#66cc99\" opacity=\"0.6\" /><circle cx=\"24.7563\" cy=\"59.4377\" r=\"0.010766519999999993\" stroke=\"#555555\" stroke-width=\"0.0035888399999999977\" fill=\"#66cc99\" opacity=\"0.6\" /><circle cx=\"24.7604\" cy=\"59.4342\" r=\"0.010766519999999993\" stroke=\"#555555\" stroke-width=\"0.0035888399999999977\" fill=\"#66cc99\" opacity=\"0.6\" /><circle cx=\"24.763\" cy=\"59.4407\" r=\"0.010766519999999993\" stroke=\"#555555\" stroke-width=\"0.0035888399999999977\" fill=\"#66cc99\" opacity=\"0.6\" /><circle cx=\"24.768\" cy=\"59.4303\" r=\"0.010766519999999993\" stroke=\"#555555\" stroke-width=\"0.0035888399999999977\" fill=\"#66cc99\" opacity=\"0.6\" /><circle cx=\"24.77\" cy=\"59.4276\" r=\"0.010766519999999993\" stroke=\"#555555\" stroke-width=\"0.0035888399999999977\" fill=\"#66cc99\" opacity=\"0.6\" /><circle cx=\"24.7918\" cy=\"59.4279\" r=\"0.010766519999999993\" stroke=\"#555555\" stroke-width=\"0.0035888399999999977\" fill=\"#66cc99\" opacity=\"0.6\" /><circle cx=\"24.7944\" cy=\"59.4219\" r=\"0.010766519999999993\" stroke=\"#555555\" stroke-width=\"0.0035888399999999977\" fill=\"#66cc99\" opacity=\"0.6\" /><circle cx=\"24.8441\" cy=\"59.4395\" r=\"0.010766519999999993\" stroke=\"#555555\" stroke-width=\"0.0035888399999999977\" fill=\"#66cc99\" opacity=\"0.6\" /><circle cx=\"24.845\" cy=\"59.4484\" r=\"0.010766519999999993\" stroke=\"#555555\" stroke-width=\"0.0035888399999999977\" fill=\"#66cc99\" opacity=\"0.6\" /><circle cx=\"24.8656\" cy=\"59.4405\" r=\"0.010766519999999993\" stroke=\"#555555\" stroke-width=\"0.0035888399999999977\" fill=\"#66cc99\" opacity=\"0.6\" /><circle cx=\"24.8792\" cy=\"59.4912\" r=\"0.010766519999999993\" stroke=\"#555555\" stroke-width=\"0.0035888399999999977\" fill=\"#66cc99\" opacity=\"0.6\" /><circle cx=\"24.8921\" cy=\"59.4442\" r=\"0.010766519999999993\" stroke=\"#555555\" stroke-width=\"0.0035888399999999977\" fill=\"#66cc99\" opacity=\"0.6\" /></g></g></svg>"
      ],
      "text/plain": [
       "<shapely.geometry.multipoint.MultiPoint at 0x1c29405d550>"
      ]
     },
     "execution_count": 136,
     "metadata": {},
     "output_type": "execute_result"
    }
   ],
   "source": [
    "union_of_all_points = all_points_gdf.unary_union\n",
    "union_of_all_points"
   ]
  },
  {
   "cell_type": "code",
   "execution_count": 137,
   "metadata": {},
   "outputs": [
    {
     "name": "stdout",
     "output_type": "stream",
     "text": [
      "MULTIPOINT (24.5598 59.3224, 24.615 59.3433, 24.6159 59.4052, 24.6311 59.3601, 24.6407 59.4074, 24.6552 59.4135, 24.6686 59.4018, 24.6882 59.4074, 24.6887 59.4085, 24.698 59.4477, 24.6983 59.4013, 24.7023 59.4469, 24.7072 59.4145, 24.7157 59.4275, 24.7167 59.3721, 24.7212 59.3912, 24.7301 59.4415, 24.7356 59.4262, 24.7428 59.4442, 24.7446 59.4381, 24.7453 59.4254, 24.7508 59.4383, 24.7536 59.437, 24.7562 59.4377, 24.7563 59.4377, 24.7604 59.4342, 24.763 59.4407, 24.768 59.4303, 24.77 59.4276, 24.7918 59.4279, 24.7944 59.4219, 24.8441 59.4395, 24.845 59.4484, 24.8656 59.4405, 24.8792 59.4912, 24.8921 59.4442)\n"
     ]
    }
   ],
   "source": [
    "print(union_of_all_points)"
   ]
  },
  {
   "cell_type": "markdown",
   "metadata": {},
   "source": [
    "- Create (1) minimum boundary polygon that encompasses all points\n",
    "\n",
    "\n",
    "The convex hull of a geometry is the smallest convex Polygon containing all the points in each geometry, unless the number of points in the geometric object is less than three. For two points, the convex hull collapses to a LineString; for 1, a Point."
   ]
  },
  {
   "cell_type": "code",
   "execution_count": 138,
   "metadata": {
    "deletable": false,
    "nbgrader": {
     "cell_type": "code",
     "checksum": "02c8dc075999564d79ade60ebe734688",
     "grade": false,
     "grade_id": "cell-388ce822e4b8d30f",
     "locked": false,
     "schema_version": 3,
     "solution": true,
     "task": false
    }
   },
   "outputs": [
    {
     "data": {
      "image/svg+xml": [
       "<svg xmlns=\"http://www.w3.org/2000/svg\" xmlns:xlink=\"http://www.w3.org/1999/xlink\" width=\"100.0\" height=\"100.0\" viewBox=\"24.546508 59.309108 0.35888399999999976 0.19538399999999712\" preserveAspectRatio=\"xMinYMin meet\"><g transform=\"matrix(1,0,0,-1,0,118.81360000000001)\"><path fill-rule=\"evenodd\" fill=\"#66cc99\" stroke=\"#555555\" stroke-width=\"0.007177679999999995\" opacity=\"0.6\" d=\"M 24.5598,59.3224 L 24.6159,59.4052 L 24.698,59.4477 L 24.8792,59.4912 L 24.8921,59.4442 L 24.7167,59.3721 L 24.5598,59.3224 z\" /></g></svg>"
      ],
      "text/plain": [
       "<shapely.geometry.polygon.Polygon at 0x1c2940065e0>"
      ]
     },
     "execution_count": 138,
     "metadata": {},
     "output_type": "execute_result"
    }
   ],
   "source": [
    "graph_extent = union_of_all_points.convex_hull\n",
    "\n",
    "graph_extent"
   ]
  },
  {
   "cell_type": "code",
   "execution_count": 139,
   "metadata": {},
   "outputs": [
    {
     "data": {
      "image/svg+xml": [
       "<svg xmlns=\"http://www.w3.org/2000/svg\" xmlns:xlink=\"http://www.w3.org/1999/xlink\" width=\"100.0\" height=\"100.0\" viewBox=\"24.438509155146395 59.20111396066154 0.5748579871569532 0.4112833847360946\" preserveAspectRatio=\"xMinYMin meet\"><g transform=\"matrix(1,0,0,-1,0,118.81351130605917)\"><path fill-rule=\"evenodd\" fill=\"#66cc99\" stroke=\"#555555\" stroke-width=\"0.011497159743139064\" opacity=\"0.6\" d=\"M 24.58999745364521,59.22706840086653 L 24.58043480675898,59.22455213466805 L 24.570670401376073,59.222992583908834 L 24.560799709762065,59.2224049972229 L 24.550919243404774,59.22279511978675 L 24.541125609365373,59.22415913714536 L 24.53151456569499,59.22648371250837 L 24.522180085152623,59.22974611715165 L 24.513213436378848,59.233914452649195 L 24.50470229150929,59.2389479627626 L 24.496729868953217,59.24479743193849 L 24.489374119718768,59.25140566651758 L 24.482706965240677,59.2587080539503 L 24.476793594162594,59.266633194551275 L 24.47169182494984,59.275103599615505 L 24.467451540564674,59.284036449070484 L 24.46411420073158,59.29334440125616 L 24.46171243656145,59.302936446915105 L 24.460269731498258,59.31271879904294 L 24.459800191707764,59.32259580989833 L 24.460308408153356,59.33247090620656 L 24.46178941170752,59.34224753341255 L 24.464228721737882,59.351830099750856 L 24.467602487692787,59.361124910901914 L 24.471877722301972,59.37004108609584 L 24.47701262411231,59.37849144670652 L 24.53311262411231,59.46129144670652 L 24.53909564907809,59.46923976639139 L 24.54583882493487,59.4765542693081 L 24.55327541287067,59.48316256208515 L 24.561331811209573,59.4889992408804 L 24.56992828386499,59.494006538698464 L 24.65202828386499,59.53650653869846 L 24.663087035644832,59.54140744324724 L 24.674656615961023,59.54493726868649 L 24.855856615961024,59.58843726868649 L 24.86530021892372,59.59022926883519 L 24.874872245996734,59.59110630883627 L 24.884484258444658,59.59106028546269 L 24.894047448095613,59.59009162393777 L 24.903473457865697,59.58820927400637 L 24.91267519811574,59.585430627245664 L 24.921567651297728,59.5817813563793 L 24.930068657456616,59.577295178079616 L 24.938099673329976,59.57201354144957 L 24.945586498031993,59.565985245062436 L 24.952459958616984,59.55926598609759 L 24.9586565491883,59.551917845738195 L 24.964119017647747,59.544008715585036 L 24.96879689466432,59.53561167038641 L 24.972646959974995,59.526804292879255 L 24.975633641709294,59.517667956979786 L 24.988533641709292,59.47066795697979 L 24.9906365006603,59.461245763040196 L 24.99182100184518,59.45166470300771 L 24.99207610574198,59.44201407212652 L 24.991399434788647,59.432383814039426 L 24.989797295541848,59.42286368251528 L 24.987284619900013,59.41354240494608 L 24.98388482593841,59.40450685540984 L 24.979629599653272,59.39584124500634 L 24.974558599649065,59.38762633701169 L 24.968719087521286,59.37993869416667 L 24.962165487379547,59.37284996511377 L 24.95495887861622,59.366426216633684 L 24.947166426647982,59.36072731790447 L 24.9388607569358,59.35580638252232 L 24.930119278117406,59.35170927348415 L 24.754719278117406,59.27960927348415 L 24.74689745364521,59.27676840086653 L 24.58999745364521,59.22706840086653 z\" /></g></svg>"
      ],
      "text/plain": [
       "<shapely.geometry.polygon.Polygon at 0x1c2a0f237c0>"
      ]
     },
     "execution_count": 139,
     "metadata": {},
     "output_type": "execute_result"
    }
   ],
   "source": [
    "#buffer the convex hull polygon (eg. adding 0.1 decimal degrees to the extent using Shapely’s buffer method)\n",
    "buffered_polygon= graph_extent.buffer(0.1)\n",
    "buffered_polygon"
   ]
  },
  {
   "cell_type": "code",
   "execution_count": 140,
   "metadata": {},
   "outputs": [
    {
     "data": {
      "text/plain": [
       "0    POLYGON ((24.59000 59.22707, 24.58043 59.22455...\n",
       "dtype: geometry"
      ]
     },
     "execution_count": 140,
     "metadata": {},
     "output_type": "execute_result"
    }
   ],
   "source": [
    "polygon_gdf = gpd.GeoSeries( [ buffered_polygon] )\n",
    "\n",
    "polygon_gdf.head()"
   ]
  },
  {
   "cell_type": "code",
   "execution_count": 141,
   "metadata": {
    "deletable": false,
    "nbgrader": {
     "cell_type": "code",
     "checksum": "c152fabe13044d214381babe49e44cca",
     "grade": true,
     "grade_id": "problem_1_area_of_interest",
     "locked": false,
     "points": 1,
     "schema_version": 3,
     "solution": true
    },
    "tags": []
   },
   "outputs": [
    {
     "name": "stdout",
     "output_type": "stream",
     "text": [
      "None\n"
     ]
    }
   ],
   "source": [
    "print(polygon_gdf.crs)"
   ]
  },
  {
   "cell_type": "code",
   "execution_count": 142,
   "metadata": {},
   "outputs": [],
   "source": [
    "#set projection to 4326 WGS84, \n",
    "#(this command only updates the metadata about coordinate reference system which is stored in the class variable .crs, and does not modify the actual coordinate values.)\n",
    "polygon_gdf.crs = CRS.from_epsg(4326)\n",
    "\n",
    "#re-project geometry to 4326 WGS84, and redefine the .crs\n",
    "polygon_gdf = polygon_gdf.to_crs( CRS.from_epsg(4326) )"
   ]
  },
  {
   "cell_type": "code",
   "execution_count": 143,
   "metadata": {
    "deletable": false,
    "editable": false,
    "nbgrader": {
     "cell_type": "code",
     "checksum": "45de2e82e51769b42157901b5709fa30",
     "grade": true,
     "grade_id": "problem_1_convex_hull",
     "locked": true,
     "points": 0.75,
     "schema_version": 3,
     "solution": false,
     "task": false
    }
   },
   "outputs": [
    {
     "name": "stdout",
     "output_type": "stream",
     "text": [
      "POLYGON ((24.5598 59.3224, 24.6159 59.4052, 24.698 59.4477, 24.8792 59.4912, 24.8921 59.4442, 24.7167 59.3721, 24.5598 59.3224))\n"
     ]
    }
   ],
   "source": [
    "# NON-EDITABLE TEST CELL\n",
    "# The extent should be a shapely Polygon\n",
    "print(graph_extent)"
   ]
  },
  {
   "cell_type": "code",
   "execution_count": 144,
   "metadata": {
    "deletable": false,
    "editable": false,
    "nbgrader": {
     "cell_type": "code",
     "checksum": "96bed64cdfa9cf3719e0be9b39529f20",
     "grade": true,
     "grade_id": "problem_1_extent_test",
     "locked": true,
     "points": 0.25,
     "schema_version": 3,
     "solution": false,
     "task": false
    }
   },
   "outputs": [
    {
     "name": "stdout",
     "output_type": "stream",
     "text": [
      "<class 'shapely.geometry.polygon.Polygon'>\n"
     ]
    }
   ],
   "source": [
    "# NON-EDITABLE TEST CELL\n",
    "# The extent should be a shapely Polygon\n",
    "print(type(graph_extent))"
   ]
  },
  {
   "cell_type": "code",
   "execution_count": 145,
   "metadata": {},
   "outputs": [
    {
     "data": {
      "text/plain": [
       "0    POLYGON ((24.59000 59.22707, 24.58043 59.22455...\n",
       "dtype: geometry"
      ]
     },
     "execution_count": 145,
     "metadata": {},
     "output_type": "execute_result"
    }
   ],
   "source": [
    "polygon_gdf.head()"
   ]
  },
  {
   "cell_type": "markdown",
   "metadata": {},
   "source": [
    "- Use the polygon to fetch the drivable network data with `.graph_from_polygon()` function \n",
    "- Remember to specify correct `network_type`\n",
    "- see [osmnx docs](https://osmnx.readthedocs.io/en/stable/osmnx.html#osmnx.core.graph_from_polygon) for more details\n",
    "- store the street network a variable called `graph`"
   ]
  },
  {
   "cell_type": "code",
   "execution_count": 146,
   "metadata": {
    "deletable": false,
    "nbgrader": {
     "cell_type": "code",
     "checksum": "43ee5b031ba2c6f06c860a2a255f44a2",
     "grade": false,
     "grade_id": "retrieve-osm-data",
     "locked": false,
     "schema_version": 3,
     "solution": true,
     "task": false
    }
   },
   "outputs": [],
   "source": [
    "# REPLACE THE ERROR BELOW WITH YOUR OWN CODE\n",
    "#retrieve the network\n",
    "graph = ox.graph_from_polygon(polygon_gdf.values[0], network_type='drive')"
   ]
  },
  {
   "cell_type": "code",
   "execution_count": 147,
   "metadata": {
    "deletable": false,
    "editable": false,
    "nbgrader": {
     "cell_type": "code",
     "checksum": "15f1b3029eed20dc635230d9c11b6ad5",
     "grade": true,
     "grade_id": "problem_1_retrieve_osm_data_test",
     "locked": true,
     "points": 0.75,
     "schema_version": 3,
     "solution": false,
     "task": false
    }
   },
   "outputs": [
    {
     "name": "stdout",
     "output_type": "stream",
     "text": [
      "<class 'networkx.classes.multidigraph.MultiDiGraph'>\n"
     ]
    }
   ],
   "source": [
    "# NON-EDITABLE TEST CELL\n",
    "# The graph should be a networkx MultiDiGraph\n",
    "print(type(graph))"
   ]
  },
  {
   "cell_type": "code",
   "execution_count": 148,
   "metadata": {
    "deletable": false,
    "editable": false,
    "nbgrader": {
     "cell_type": "code",
     "checksum": "fdd5c73974bf95f6ed0acfe4b38ffd31",
     "grade": true,
     "grade_id": "problem_1_graph_size_test",
     "locked": true,
     "points": 0.25,
     "schema_version": 3,
     "solution": false,
     "task": false
    }
   },
   "outputs": [
    {
     "name": "stdout",
     "output_type": "stream",
     "text": [
      "29267\n"
     ]
    }
   ],
   "source": [
    "# NON-EDITABLE TEST CELL\n",
    "# Check the graph size. The example solution graph size is 28756 (don't panic if yours is not exactly the same, you can still proceed!)\n",
    "print(graph.size())"
   ]
  },
  {
   "cell_type": "code",
   "execution_count": 149,
   "metadata": {},
   "outputs": [
    {
     "data": {
      "image/png": "[encoded data removed]",
      "text/plain": [
       "<Figure size 576x576 with 1 Axes>"
      ]
     },
     "metadata": {},
     "output_type": "display_data"
    }
   ],
   "source": [
    "#plot the streets\n",
    "fig, ax = ox.plot_graph(graph)"
   ]
  },
  {
   "cell_type": "code",
   "execution_count": 150,
   "metadata": {},
   "outputs": [],
   "source": [
    "#retrieve nodes and edges\n",
    "nodes, edges = ox.graph_to_gdfs(graph)"
   ]
  },
  {
   "cell_type": "code",
   "execution_count": 151,
   "metadata": {},
   "outputs": [
    {
     "data": {
      "text/html": [
       "<div>\n",
       "<style scoped>\n",
       "    .dataframe tbody tr th:only-of-type {\n",
       "        vertical-align: middle;\n",
       "    }\n",
       "\n",
       "    .dataframe tbody tr th {\n",
       "        vertical-align: top;\n",
       "    }\n",
       "\n",
       "    .dataframe thead th {\n",
       "        text-align: right;\n",
       "    }\n",
       "</style>\n",
       "<table border=\"1\" class=\"dataframe\">\n",
       "  <thead>\n",
       "    <tr style=\"text-align: right;\">\n",
       "      <th></th>\n",
       "      <th>y</th>\n",
       "      <th>x</th>\n",
       "      <th>street_count</th>\n",
       "      <th>highway</th>\n",
       "      <th>geometry</th>\n",
       "    </tr>\n",
       "    <tr>\n",
       "      <th>osmid</th>\n",
       "      <th></th>\n",
       "      <th></th>\n",
       "      <th></th>\n",
       "      <th></th>\n",
       "      <th></th>\n",
       "    </tr>\n",
       "  </thead>\n",
       "  <tbody>\n",
       "    <tr>\n",
       "      <th>6920814</th>\n",
       "      <td>59.446680</td>\n",
       "      <td>24.926537</td>\n",
       "      <td>3</td>\n",
       "      <td>NaN</td>\n",
       "      <td>POINT (24.92654 59.44668)</td>\n",
       "    </tr>\n",
       "    <tr>\n",
       "      <th>10578472</th>\n",
       "      <td>59.428396</td>\n",
       "      <td>24.723404</td>\n",
       "      <td>3</td>\n",
       "      <td>NaN</td>\n",
       "      <td>POINT (24.72340 59.42840)</td>\n",
       "    </tr>\n",
       "    <tr>\n",
       "      <th>10578481</th>\n",
       "      <td>59.438986</td>\n",
       "      <td>24.720409</td>\n",
       "      <td>3</td>\n",
       "      <td>NaN</td>\n",
       "      <td>POINT (24.72041 59.43899)</td>\n",
       "    </tr>\n",
       "    <tr>\n",
       "      <th>10578496</th>\n",
       "      <td>59.437414</td>\n",
       "      <td>24.723348</td>\n",
       "      <td>3</td>\n",
       "      <td>NaN</td>\n",
       "      <td>POINT (24.72335 59.43741)</td>\n",
       "    </tr>\n",
       "    <tr>\n",
       "      <th>10578534</th>\n",
       "      <td>59.430780</td>\n",
       "      <td>24.713766</td>\n",
       "      <td>3</td>\n",
       "      <td>NaN</td>\n",
       "      <td>POINT (24.71377 59.43078)</td>\n",
       "    </tr>\n",
       "  </tbody>\n",
       "</table>\n",
       "</div>"
      ],
      "text/plain": [
       "                  y          x  street_count highway  \\\n",
       "osmid                                                  \n",
       "6920814   59.446680  24.926537             3     NaN   \n",
       "10578472  59.428396  24.723404             3     NaN   \n",
       "10578481  59.438986  24.720409             3     NaN   \n",
       "10578496  59.437414  24.723348             3     NaN   \n",
       "10578534  59.430780  24.713766             3     NaN   \n",
       "\n",
       "                           geometry  \n",
       "osmid                                \n",
       "6920814   POINT (24.92654 59.44668)  \n",
       "10578472  POINT (24.72340 59.42840)  \n",
       "10578481  POINT (24.72041 59.43899)  \n",
       "10578496  POINT (24.72335 59.43741)  \n",
       "10578534  POINT (24.71377 59.43078)  "
      ]
     },
     "execution_count": 151,
     "metadata": {},
     "output_type": "execute_result"
    }
   ],
   "source": [
    "nodes.head()"
   ]
  },
  {
   "cell_type": "markdown",
   "metadata": {
    "deletable": false,
    "editable": false,
    "nbgrader": {
     "cell_type": "markdown",
     "checksum": "eac9896152f8be16cf253020a1c79968",
     "grade": false,
     "grade_id": "cell-9b073bb7932a26ab",
     "locked": true,
     "schema_version": 3,
     "solution": false
    }
   },
   "source": [
    "**3: Reproject the data into UTM projection, and plot:**\n",
    "  - the street network (with `gray` color and line width of `0.5` and alpha set to `0.7`)\n",
    "  - the origin points (with `red` color)\n",
    "  - destination points (with `blue` color)\n",
    "  \n",
    "In the end you should have a map that looks something like following:\n",
    "\n",
    "![](img/route_network_with_OD_points.png)"
   ]
  },
  {
   "cell_type": "markdown",
   "metadata": {},
   "source": [
    "# Retrieve streets from the graph"
   ]
  },
  {
   "cell_type": "code",
   "execution_count": 152,
   "metadata": {
    "collapsed": false,
    "deletable": false,
    "jupyter": {
     "outputs_hidden": false
    },
    "nbgrader": {
     "cell_type": "code",
     "checksum": "c64e08c1049f1d50a76dc65b7e979094",
     "grade": true,
     "grade_id": "problem_1_visualize-graph-and-OD-points",
     "locked": false,
     "points": 4,
     "schema_version": 3,
     "solution": true
    }
   },
   "outputs": [
    {
     "name": "stdout",
     "output_type": "stream",
     "text": [
      "Index(['osmid', 'oneway', 'lanes', 'ref', 'name', 'highway', 'maxspeed',\n",
      "       'length', 'geometry', 'tunnel', 'junction', 'width', 'bridge',\n",
      "       'access'],\n",
      "      dtype='object')\n"
     ]
    }
   ],
   "source": [
    "#retrieve only edges from the graph convert to geodataframe\n",
    "streets = ox.graph_to_gdfs(graph, nodes=False, edges=True)\n",
    "\n",
    "print(streets.columns)"
   ]
  },
  {
   "cell_type": "code",
   "execution_count": 153,
   "metadata": {
    "collapsed": false,
    "deletable": false,
    "jupyter": {
     "outputs_hidden": false
    },
    "nbgrader": {
     "cell_type": "code",
     "checksum": "c64e08c1049f1d50a76dc65b7e979094",
     "grade": true,
     "grade_id": "problem_1_visualize-graph-and-OD-points",
     "locked": false,
     "points": 4,
     "schema_version": 3,
     "solution": true
    }
   },
   "outputs": [
    {
     "data": {
      "text/html": [
       "<div>\n",
       "<style scoped>\n",
       "    .dataframe tbody tr th:only-of-type {\n",
       "        vertical-align: middle;\n",
       "    }\n",
       "\n",
       "    .dataframe tbody tr th {\n",
       "        vertical-align: top;\n",
       "    }\n",
       "\n",
       "    .dataframe thead th {\n",
       "        text-align: right;\n",
       "    }\n",
       "</style>\n",
       "<table border=\"1\" class=\"dataframe\">\n",
       "  <thead>\n",
       "    <tr style=\"text-align: right;\">\n",
       "      <th></th>\n",
       "      <th></th>\n",
       "      <th></th>\n",
       "      <th>osmid</th>\n",
       "      <th>oneway</th>\n",
       "      <th>lanes</th>\n",
       "      <th>ref</th>\n",
       "      <th>name</th>\n",
       "      <th>highway</th>\n",
       "      <th>maxspeed</th>\n",
       "      <th>length</th>\n",
       "      <th>geometry</th>\n",
       "      <th>tunnel</th>\n",
       "      <th>junction</th>\n",
       "      <th>width</th>\n",
       "      <th>bridge</th>\n",
       "      <th>access</th>\n",
       "    </tr>\n",
       "    <tr>\n",
       "      <th>u</th>\n",
       "      <th>v</th>\n",
       "      <th>key</th>\n",
       "      <th></th>\n",
       "      <th></th>\n",
       "      <th></th>\n",
       "      <th></th>\n",
       "      <th></th>\n",
       "      <th></th>\n",
       "      <th></th>\n",
       "      <th></th>\n",
       "      <th></th>\n",
       "      <th></th>\n",
       "      <th></th>\n",
       "      <th></th>\n",
       "      <th></th>\n",
       "      <th></th>\n",
       "    </tr>\n",
       "  </thead>\n",
       "  <tbody>\n",
       "    <tr>\n",
       "      <th rowspan=\"2\" valign=\"top\">6920814</th>\n",
       "      <th>11279496</th>\n",
       "      <th>0</th>\n",
       "      <td>91563671</td>\n",
       "      <td>True</td>\n",
       "      <td>3</td>\n",
       "      <td>1</td>\n",
       "      <td>Peterburi tee</td>\n",
       "      <td>trunk</td>\n",
       "      <td>90</td>\n",
       "      <td>418.566</td>\n",
       "      <td>LINESTRING (24.92654 59.44668, 24.92791 59.446...</td>\n",
       "      <td>NaN</td>\n",
       "      <td>NaN</td>\n",
       "      <td>NaN</td>\n",
       "      <td>NaN</td>\n",
       "      <td>NaN</td>\n",
       "    </tr>\n",
       "    <tr>\n",
       "      <th>1584679220</th>\n",
       "      <th>0</th>\n",
       "      <td>97114010</td>\n",
       "      <td>True</td>\n",
       "      <td>1</td>\n",
       "      <td>NaN</td>\n",
       "      <td>NaN</td>\n",
       "      <td>trunk_link</td>\n",
       "      <td>NaN</td>\n",
       "      <td>233.270</td>\n",
       "      <td>LINESTRING (24.92654 59.44668, 24.92747 59.446...</td>\n",
       "      <td>NaN</td>\n",
       "      <td>NaN</td>\n",
       "      <td>NaN</td>\n",
       "      <td>NaN</td>\n",
       "      <td>NaN</td>\n",
       "    </tr>\n",
       "    <tr>\n",
       "      <th rowspan=\"2\" valign=\"top\">10578472</th>\n",
       "      <th>243943723</th>\n",
       "      <th>0</th>\n",
       "      <td>47854217</td>\n",
       "      <td>False</td>\n",
       "      <td>NaN</td>\n",
       "      <td>NaN</td>\n",
       "      <td>Madara</td>\n",
       "      <td>residential</td>\n",
       "      <td>NaN</td>\n",
       "      <td>55.915</td>\n",
       "      <td>LINESTRING (24.72340 59.42840, 24.72303 59.42886)</td>\n",
       "      <td>NaN</td>\n",
       "      <td>NaN</td>\n",
       "      <td>NaN</td>\n",
       "      <td>NaN</td>\n",
       "      <td>NaN</td>\n",
       "    </tr>\n",
       "    <tr>\n",
       "      <th>75704748</th>\n",
       "      <th>0</th>\n",
       "      <td>27457613</td>\n",
       "      <td>True</td>\n",
       "      <td>NaN</td>\n",
       "      <td>NaN</td>\n",
       "      <td>Madara</td>\n",
       "      <td>residential</td>\n",
       "      <td>NaN</td>\n",
       "      <td>84.921</td>\n",
       "      <td>LINESTRING (24.72340 59.42840, 24.72346 59.428...</td>\n",
       "      <td>NaN</td>\n",
       "      <td>NaN</td>\n",
       "      <td>NaN</td>\n",
       "      <td>NaN</td>\n",
       "      <td>NaN</td>\n",
       "    </tr>\n",
       "    <tr>\n",
       "      <th>10578481</th>\n",
       "      <th>10578496</th>\n",
       "      <th>0</th>\n",
       "      <td>40389091</td>\n",
       "      <td>False</td>\n",
       "      <td>NaN</td>\n",
       "      <td>NaN</td>\n",
       "      <td>Rohu</td>\n",
       "      <td>residential</td>\n",
       "      <td>NaN</td>\n",
       "      <td>241.221</td>\n",
       "      <td>LINESTRING (24.72041 59.43899, 24.72335 59.43741)</td>\n",
       "      <td>NaN</td>\n",
       "      <td>NaN</td>\n",
       "      <td>NaN</td>\n",
       "      <td>NaN</td>\n",
       "      <td>NaN</td>\n",
       "    </tr>\n",
       "  </tbody>\n",
       "</table>\n",
       "</div>"
      ],
      "text/plain": [
       "                            osmid  oneway lanes  ref           name  \\\n",
       "u        v          key                                               \n",
       "6920814  11279496   0    91563671    True     3    1  Peterburi tee   \n",
       "         1584679220 0    97114010    True     1  NaN            NaN   \n",
       "10578472 243943723  0    47854217   False   NaN  NaN         Madara   \n",
       "         75704748   0    27457613    True   NaN  NaN         Madara   \n",
       "10578481 10578496   0    40389091   False   NaN  NaN           Rohu   \n",
       "\n",
       "                             highway maxspeed   length  \\\n",
       "u        v          key                                  \n",
       "6920814  11279496   0          trunk       90  418.566   \n",
       "         1584679220 0     trunk_link      NaN  233.270   \n",
       "10578472 243943723  0    residential      NaN   55.915   \n",
       "         75704748   0    residential      NaN   84.921   \n",
       "10578481 10578496   0    residential      NaN  241.221   \n",
       "\n",
       "                                                                  geometry  \\\n",
       "u        v          key                                                      \n",
       "6920814  11279496   0    LINESTRING (24.92654 59.44668, 24.92791 59.446...   \n",
       "         1584679220 0    LINESTRING (24.92654 59.44668, 24.92747 59.446...   \n",
       "10578472 243943723  0    LINESTRING (24.72340 59.42840, 24.72303 59.42886)   \n",
       "         75704748   0    LINESTRING (24.72340 59.42840, 24.72346 59.428...   \n",
       "10578481 10578496   0    LINESTRING (24.72041 59.43899, 24.72335 59.43741)   \n",
       "\n",
       "                        tunnel junction width bridge access  \n",
       "u        v          key                                      \n",
       "6920814  11279496   0      NaN      NaN   NaN    NaN    NaN  \n",
       "         1584679220 0      NaN      NaN   NaN    NaN    NaN  \n",
       "10578472 243943723  0      NaN      NaN   NaN    NaN    NaN  \n",
       "         75704748   0      NaN      NaN   NaN    NaN    NaN  \n",
       "10578481 10578496   0      NaN      NaN   NaN    NaN    NaN  "
      ]
     },
     "execution_count": 153,
     "metadata": {},
     "output_type": "execute_result"
    }
   ],
   "source": [
    "streets.head()"
   ]
  },
  {
   "cell_type": "code",
   "execution_count": 154,
   "metadata": {},
   "outputs": [
    {
     "data": {
      "text/html": [
       "<div>\n",
       "<style scoped>\n",
       "    .dataframe tbody tr th:only-of-type {\n",
       "        vertical-align: middle;\n",
       "    }\n",
       "\n",
       "    .dataframe tbody tr th {\n",
       "        vertical-align: top;\n",
       "    }\n",
       "\n",
       "    .dataframe thead th {\n",
       "        text-align: right;\n",
       "    }\n",
       "</style>\n",
       "<table border=\"1\" class=\"dataframe\">\n",
       "  <thead>\n",
       "    <tr style=\"text-align: right;\">\n",
       "      <th></th>\n",
       "      <th>x</th>\n",
       "      <th>y</th>\n",
       "      <th>geometry</th>\n",
       "    </tr>\n",
       "  </thead>\n",
       "  <tbody>\n",
       "    <tr>\n",
       "      <th>0</th>\n",
       "      <td>24.6159</td>\n",
       "      <td>59.4052</td>\n",
       "      <td>POINT (24.61590 59.40520)</td>\n",
       "    </tr>\n",
       "    <tr>\n",
       "      <th>1</th>\n",
       "      <td>24.6407</td>\n",
       "      <td>59.4074</td>\n",
       "      <td>POINT (24.64070 59.40740)</td>\n",
       "    </tr>\n",
       "    <tr>\n",
       "      <th>2</th>\n",
       "      <td>24.6686</td>\n",
       "      <td>59.4018</td>\n",
       "      <td>POINT (24.66860 59.40180)</td>\n",
       "    </tr>\n",
       "    <tr>\n",
       "      <th>3</th>\n",
       "      <td>24.6980</td>\n",
       "      <td>59.4477</td>\n",
       "      <td>POINT (24.69800 59.44770)</td>\n",
       "    </tr>\n",
       "    <tr>\n",
       "      <th>4</th>\n",
       "      <td>24.7680</td>\n",
       "      <td>59.4303</td>\n",
       "      <td>POINT (24.76800 59.43030)</td>\n",
       "    </tr>\n",
       "  </tbody>\n",
       "</table>\n",
       "</div>"
      ],
      "text/plain": [
       "         x        y                   geometry\n",
       "0  24.6159  59.4052  POINT (24.61590 59.40520)\n",
       "1  24.6407  59.4074  POINT (24.64070 59.40740)\n",
       "2  24.6686  59.4018  POINT (24.66860 59.40180)\n",
       "3  24.6980  59.4477  POINT (24.69800 59.44770)\n",
       "4  24.7680  59.4303  POINT (24.76800 59.43030)"
      ]
     },
     "execution_count": 154,
     "metadata": {},
     "output_type": "execute_result"
    }
   ],
   "source": [
    "#covert origin pt to gdf for plotting\n",
    "origin_gdf = gpd.GeoDataFrame(origin_pt, geometry=gpd.points_from_xy(origin_pt['x'], origin_pt['y'] ))\n",
    "\n",
    "origin_gdf.head()"
   ]
  },
  {
   "cell_type": "code",
   "execution_count": 155,
   "metadata": {},
   "outputs": [
    {
     "data": {
      "text/html": [
       "<div>\n",
       "<style scoped>\n",
       "    .dataframe tbody tr th:only-of-type {\n",
       "        vertical-align: middle;\n",
       "    }\n",
       "\n",
       "    .dataframe tbody tr th {\n",
       "        vertical-align: top;\n",
       "    }\n",
       "\n",
       "    .dataframe thead th {\n",
       "        text-align: right;\n",
       "    }\n",
       "</style>\n",
       "<table border=\"1\" class=\"dataframe\">\n",
       "  <thead>\n",
       "    <tr style=\"text-align: right;\">\n",
       "      <th></th>\n",
       "      <th>x</th>\n",
       "      <th>y</th>\n",
       "      <th>geometry</th>\n",
       "    </tr>\n",
       "  </thead>\n",
       "  <tbody>\n",
       "    <tr>\n",
       "      <th>0</th>\n",
       "      <td>24.8441</td>\n",
       "      <td>59.4395</td>\n",
       "      <td>POINT (24.84410 59.43950)</td>\n",
       "    </tr>\n",
       "    <tr>\n",
       "      <th>1</th>\n",
       "      <td>24.6150</td>\n",
       "      <td>59.3433</td>\n",
       "      <td>POINT (24.61500 59.34330)</td>\n",
       "    </tr>\n",
       "    <tr>\n",
       "      <th>2</th>\n",
       "      <td>24.8656</td>\n",
       "      <td>59.4405</td>\n",
       "      <td>POINT (24.86560 59.44050)</td>\n",
       "    </tr>\n",
       "    <tr>\n",
       "      <th>3</th>\n",
       "      <td>24.6983</td>\n",
       "      <td>59.4013</td>\n",
       "      <td>POINT (24.69830 59.40130)</td>\n",
       "    </tr>\n",
       "    <tr>\n",
       "      <th>4</th>\n",
       "      <td>24.7630</td>\n",
       "      <td>59.4407</td>\n",
       "      <td>POINT (24.76300 59.44070)</td>\n",
       "    </tr>\n",
       "  </tbody>\n",
       "</table>\n",
       "</div>"
      ],
      "text/plain": [
       "         x        y                   geometry\n",
       "0  24.8441  59.4395  POINT (24.84410 59.43950)\n",
       "1  24.6150  59.3433  POINT (24.61500 59.34330)\n",
       "2  24.8656  59.4405  POINT (24.86560 59.44050)\n",
       "3  24.6983  59.4013  POINT (24.69830 59.40130)\n",
       "4  24.7630  59.4407  POINT (24.76300 59.44070)"
      ]
     },
     "execution_count": 155,
     "metadata": {},
     "output_type": "execute_result"
    }
   ],
   "source": [
    "#covert dest pt to gdf for plotting\n",
    "dest_gdf = gpd.GeoDataFrame(dest_pt, geometry=gpd.points_from_xy(dest_pt['x'], dest_pt['y'] ))\n",
    "\n",
    "dest_gdf.head()"
   ]
  },
  {
   "cell_type": "code",
   "execution_count": 156,
   "metadata": {},
   "outputs": [],
   "source": [
    "#set projection to 4326 WGS84, \n",
    "#(this command only updates the metadata about coordinate reference system which is stored in the class variable .crs, and does not modify the actual coordinate values.)\n",
    "origin_gdf.crs = CRS.from_epsg(4326)\n",
    "\n",
    "#re-project geometry to 4326 WGS84, and redefine the .crs\n",
    "origin_gdf = origin_gdf.to_crs( CRS.from_epsg(4326) )"
   ]
  },
  {
   "cell_type": "code",
   "execution_count": 157,
   "metadata": {},
   "outputs": [],
   "source": [
    "#set projection to 4326 WGS84, \n",
    "#(this command only updates the metadata about coordinate reference system which is stored in the class variable .crs, and does not modify the actual coordinate values.)\n",
    "dest_gdf.crs = CRS.from_epsg(4326)\n",
    "\n",
    "#re-project geometry to 4326 WGS84, and redefine the .crs\n",
    "dest_gdf = dest_gdf.to_crs( CRS.from_epsg(4326) )"
   ]
  },
  {
   "cell_type": "code",
   "execution_count": 158,
   "metadata": {},
   "outputs": [
    {
     "data": {
      "image/png": "[encoded data removed]",
      "text/plain": [
       "<Figure size 864x576 with 1 Axes>"
      ]
     },
     "metadata": {
      "needs_background": "light"
     },
     "output_type": "display_data"
    }
   ],
   "source": [
    "fig, ax = plt.subplots( figsize=(12,8) )\n",
    "\n",
    "ax = streets.plot(ax = ax, color = 'gray', linewidth=0.5, alpha=0.7)\n",
    "ax = origin_gdf.plot(ax= ax, facecolor='red')\n",
    "ax=  dest_gdf.plot(ax=ax, facecolor='blue' )"
   ]
  },
  {
   "cell_type": "markdown",
   "metadata": {},
   "source": [
    "### Done!\n",
    "\n",
    "That's it! Now you can continue with problem 2. "
   ]
  },
  {
   "cell_type": "markdown",
   "metadata": {
    "deletable": false,
    "editable": false,
    "nbgrader": {
     "cell_type": "markdown",
     "checksum": "f160419ef002d7929e05cf77740b7fa9",
     "grade": false,
     "grade_id": "cell-20712c995ba6bbcf",
     "locked": true,
     "schema_version": 3,
     "solution": false
    }
   },
   "source": [
    "## Problem 2 (12 points)\n",
    "\n",
    "In this problem we practice conducting shortest path routing.\n",
    "\n",
    "### Steps\n",
    "\n",
    "**1: Calculate the shortest paths between all origin points (16) and destination points (20) using the `length` of the road segments as the impedance measure (in total 320 routes).** \n",
    "\n",
    "- To be able to find the shortest paths, you should find the nearest nodes from the graph for both origin and destination points. \n",
    "- Notice: if the closest node is the same for both origin and destination point, you should skip the shortest path calculation. - After the routing, you should add the shortest path routes as LineString geometries into a GeoDataFrame called `routes`. \n",
    "- You should use the projected graph as the network for the analyses\n",
    "- remember to use informative variable names, and to comment your code!"
   ]
  },
  {
   "cell_type": "code",
   "execution_count": 161,
   "metadata": {
    "deletable": false,
    "nbgrader": {
     "cell_type": "code",
     "checksum": "7633d99b1ac22f7aa765248ccb959662",
     "grade": true,
     "grade_id": "problem_2_shortest-paths",
     "locked": false,
     "points": 8,
     "schema_version": 3,
     "solution": true
    }
   },
   "outputs": [],
   "source": [
    "# Store the shortest path routes as LineString geometries in a GeoDataFrame called routes:\n",
    "routes = None"
   ]
  },
  {
   "cell_type": "code",
   "execution_count": 96,
   "metadata": {},
   "outputs": [
    {
     "data": {
      "text/plain": [
       "x                           24.6159\n",
       "y                           59.4052\n",
       "geometry    POINT (24.6159 59.4052)\n",
       "Name: 0, dtype: object"
      ]
     },
     "execution_count": 96,
     "metadata": {},
     "output_type": "execute_result"
    }
   ],
   "source": [
    "#test extract each row\n",
    "origin_gdf.iloc[0,]"
   ]
  },
  {
   "cell_type": "code",
   "execution_count": 162,
   "metadata": {
    "deletable": false,
    "nbgrader": {
     "cell_type": "code",
     "checksum": "7633d99b1ac22f7aa765248ccb959662",
     "grade": true,
     "grade_id": "problem_2_shortest-paths",
     "locked": false,
     "points": 8,
     "schema_version": 3,
     "solution": true
    }
   },
   "outputs": [],
   "source": [
    "#find the node in te graph that is closest to the origin point( here, we want to get the node id)\n",
    "def get_nearest_node_id(row,graph):\n",
    "    \n",
    "    #point needs to be in lat, long format\n",
    "    point =  (row['y'], row['x'])\n",
    "    \n",
    "    node_id = ox.get_nearest_node(graph, point, method='euclidean')\n",
    "    \n",
    "    return node_id\n",
    "\n",
    "def get_list_node_id(gdf,graph):\n",
    "    \n",
    "    id_list = [] \n",
    "    \n",
    "    for index in range(0, len(gdf)):\n",
    "        \n",
    "        #get the nearest node in the graph given each row\n",
    "        id_list.append( get_nearest_node_id( gdf.iloc[index,], graph) )\n",
    "        \n",
    "    return id_list"
   ]
  },
  {
   "cell_type": "code",
   "execution_count": 164,
   "metadata": {},
   "outputs": [
    {
     "name": "stderr",
     "output_type": "stream",
     "text": [
      "C:\\Anaconda\\envs\\python-gis\\lib\\site-packages\\osmnx\\distance.py:356: UserWarning: The `get_nearest_node` function has been deprecated and will be removed in a future release. Use the more efficient `distance.nearest_nodes` instead.\n",
      "  warnings.warn(msg)\n",
      "C:\\Anaconda\\envs\\python-gis\\lib\\site-packages\\osmnx\\distance.py:356: UserWarning: The `get_nearest_node` function has been deprecated and will be removed in a future release. Use the more efficient `distance.nearest_nodes` instead.\n",
      "  warnings.warn(msg)\n",
      "C:\\Anaconda\\envs\\python-gis\\lib\\site-packages\\osmnx\\distance.py:356: UserWarning: The `get_nearest_node` function has been deprecated and will be removed in a future release. Use the more efficient `distance.nearest_nodes` instead.\n",
      "  warnings.warn(msg)\n",
      "C:\\Anaconda\\envs\\python-gis\\lib\\site-packages\\osmnx\\distance.py:356: UserWarning: The `get_nearest_node` function has been deprecated and will be removed in a future release. Use the more efficient `distance.nearest_nodes` instead.\n",
      "  warnings.warn(msg)\n",
      "C:\\Anaconda\\envs\\python-gis\\lib\\site-packages\\osmnx\\distance.py:356: UserWarning: The `get_nearest_node` function has been deprecated and will be removed in a future release. Use the more efficient `distance.nearest_nodes` instead.\n",
      "  warnings.warn(msg)\n",
      "C:\\Anaconda\\envs\\python-gis\\lib\\site-packages\\osmnx\\distance.py:356: UserWarning: The `get_nearest_node` function has been deprecated and will be removed in a future release. Use the more efficient `distance.nearest_nodes` instead.\n",
      "  warnings.warn(msg)\n",
      "C:\\Anaconda\\envs\\python-gis\\lib\\site-packages\\osmnx\\distance.py:356: UserWarning: The `get_nearest_node` function has been deprecated and will be removed in a future release. Use the more efficient `distance.nearest_nodes` instead.\n",
      "  warnings.warn(msg)\n",
      "C:\\Anaconda\\envs\\python-gis\\lib\\site-packages\\osmnx\\distance.py:356: UserWarning: The `get_nearest_node` function has been deprecated and will be removed in a future release. Use the more efficient `distance.nearest_nodes` instead.\n",
      "  warnings.warn(msg)\n",
      "C:\\Anaconda\\envs\\python-gis\\lib\\site-packages\\osmnx\\distance.py:356: UserWarning: The `get_nearest_node` function has been deprecated and will be removed in a future release. Use the more efficient `distance.nearest_nodes` instead.\n",
      "  warnings.warn(msg)\n",
      "C:\\Anaconda\\envs\\python-gis\\lib\\site-packages\\osmnx\\distance.py:356: UserWarning: The `get_nearest_node` function has been deprecated and will be removed in a future release. Use the more efficient `distance.nearest_nodes` instead.\n",
      "  warnings.warn(msg)\n",
      "C:\\Anaconda\\envs\\python-gis\\lib\\site-packages\\osmnx\\distance.py:356: UserWarning: The `get_nearest_node` function has been deprecated and will be removed in a future release. Use the more efficient `distance.nearest_nodes` instead.\n",
      "  warnings.warn(msg)\n",
      "C:\\Anaconda\\envs\\python-gis\\lib\\site-packages\\osmnx\\distance.py:356: UserWarning: The `get_nearest_node` function has been deprecated and will be removed in a future release. Use the more efficient `distance.nearest_nodes` instead.\n",
      "  warnings.warn(msg)\n",
      "C:\\Anaconda\\envs\\python-gis\\lib\\site-packages\\osmnx\\distance.py:356: UserWarning: The `get_nearest_node` function has been deprecated and will be removed in a future release. Use the more efficient `distance.nearest_nodes` instead.\n",
      "  warnings.warn(msg)\n",
      "C:\\Anaconda\\envs\\python-gis\\lib\\site-packages\\osmnx\\distance.py:356: UserWarning: The `get_nearest_node` function has been deprecated and will be removed in a future release. Use the more efficient `distance.nearest_nodes` instead.\n",
      "  warnings.warn(msg)\n",
      "C:\\Anaconda\\envs\\python-gis\\lib\\site-packages\\osmnx\\distance.py:356: UserWarning: The `get_nearest_node` function has been deprecated and will be removed in a future release. Use the more efficient `distance.nearest_nodes` instead.\n",
      "  warnings.warn(msg)\n",
      "C:\\Anaconda\\envs\\python-gis\\lib\\site-packages\\osmnx\\distance.py:356: UserWarning: The `get_nearest_node` function has been deprecated and will be removed in a future release. Use the more efficient `distance.nearest_nodes` instead.\n",
      "  warnings.warn(msg)\n"
     ]
    },
    {
     "data": {
      "text/html": [
       "<div>\n",
       "<style scoped>\n",
       "    .dataframe tbody tr th:only-of-type {\n",
       "        vertical-align: middle;\n",
       "    }\n",
       "\n",
       "    .dataframe tbody tr th {\n",
       "        vertical-align: top;\n",
       "    }\n",
       "\n",
       "    .dataframe thead th {\n",
       "        text-align: right;\n",
       "    }\n",
       "</style>\n",
       "<table border=\"1\" class=\"dataframe\">\n",
       "  <thead>\n",
       "    <tr style=\"text-align: right;\">\n",
       "      <th></th>\n",
       "      <th>x</th>\n",
       "      <th>y</th>\n",
       "      <th>geometry</th>\n",
       "      <th>nearest_node</th>\n",
       "    </tr>\n",
       "  </thead>\n",
       "  <tbody>\n",
       "    <tr>\n",
       "      <th>0</th>\n",
       "      <td>24.6159</td>\n",
       "      <td>59.4052</td>\n",
       "      <td>POINT (24.61590 59.40520)</td>\n",
       "      <td>341986868</td>\n",
       "    </tr>\n",
       "    <tr>\n",
       "      <th>1</th>\n",
       "      <td>24.6407</td>\n",
       "      <td>59.4074</td>\n",
       "      <td>POINT (24.64070 59.40740)</td>\n",
       "      <td>297425570</td>\n",
       "    </tr>\n",
       "    <tr>\n",
       "      <th>2</th>\n",
       "      <td>24.6686</td>\n",
       "      <td>59.4018</td>\n",
       "      <td>POINT (24.66860 59.40180)</td>\n",
       "      <td>1262556101</td>\n",
       "    </tr>\n",
       "    <tr>\n",
       "      <th>3</th>\n",
       "      <td>24.6980</td>\n",
       "      <td>59.4477</td>\n",
       "      <td>POINT (24.69800 59.44770)</td>\n",
       "      <td>1769386593</td>\n",
       "    </tr>\n",
       "    <tr>\n",
       "      <th>4</th>\n",
       "      <td>24.7680</td>\n",
       "      <td>59.4303</td>\n",
       "      <td>POINT (24.76800 59.43030)</td>\n",
       "      <td>10580988</td>\n",
       "    </tr>\n",
       "    <tr>\n",
       "      <th>5</th>\n",
       "      <td>24.7918</td>\n",
       "      <td>59.4279</td>\n",
       "      <td>POINT (24.79180 59.42790)</td>\n",
       "      <td>7129214038</td>\n",
       "    </tr>\n",
       "    <tr>\n",
       "      <th>6</th>\n",
       "      <td>24.7536</td>\n",
       "      <td>59.4370</td>\n",
       "      <td>POINT (24.75360 59.43700)</td>\n",
       "      <td>31288160</td>\n",
       "    </tr>\n",
       "    <tr>\n",
       "      <th>7</th>\n",
       "      <td>24.8792</td>\n",
       "      <td>59.4912</td>\n",
       "      <td>POINT (24.87920 59.49120)</td>\n",
       "      <td>8035654283</td>\n",
       "    </tr>\n",
       "    <tr>\n",
       "      <th>8</th>\n",
       "      <td>24.6882</td>\n",
       "      <td>59.4074</td>\n",
       "      <td>POINT (24.68820 59.40740)</td>\n",
       "      <td>2094699826</td>\n",
       "    </tr>\n",
       "    <tr>\n",
       "      <th>9</th>\n",
       "      <td>24.7356</td>\n",
       "      <td>59.4262</td>\n",
       "      <td>POINT (24.73560 59.42620)</td>\n",
       "      <td>312958791</td>\n",
       "    </tr>\n",
       "    <tr>\n",
       "      <th>10</th>\n",
       "      <td>24.8921</td>\n",
       "      <td>59.4442</td>\n",
       "      <td>POINT (24.89210 59.44420)</td>\n",
       "      <td>614673980</td>\n",
       "    </tr>\n",
       "    <tr>\n",
       "      <th>11</th>\n",
       "      <td>24.7157</td>\n",
       "      <td>59.4275</td>\n",
       "      <td>POINT (24.71570 59.42750)</td>\n",
       "      <td>924262748</td>\n",
       "    </tr>\n",
       "    <tr>\n",
       "      <th>12</th>\n",
       "      <td>24.8450</td>\n",
       "      <td>59.4484</td>\n",
       "      <td>POINT (24.84500 59.44840)</td>\n",
       "      <td>2155986862</td>\n",
       "    </tr>\n",
       "    <tr>\n",
       "      <th>13</th>\n",
       "      <td>24.7563</td>\n",
       "      <td>59.4377</td>\n",
       "      <td>POINT (24.75630 59.43770)</td>\n",
       "      <td>11783954</td>\n",
       "    </tr>\n",
       "    <tr>\n",
       "      <th>14</th>\n",
       "      <td>24.7700</td>\n",
       "      <td>59.4276</td>\n",
       "      <td>POINT (24.77000 59.42760)</td>\n",
       "      <td>31267389</td>\n",
       "    </tr>\n",
       "    <tr>\n",
       "      <th>15</th>\n",
       "      <td>24.7508</td>\n",
       "      <td>59.4383</td>\n",
       "      <td>POINT (24.75080 59.43830)</td>\n",
       "      <td>10581174</td>\n",
       "    </tr>\n",
       "  </tbody>\n",
       "</table>\n",
       "</div>"
      ],
      "text/plain": [
       "          x        y                   geometry  nearest_node\n",
       "0   24.6159  59.4052  POINT (24.61590 59.40520)     341986868\n",
       "1   24.6407  59.4074  POINT (24.64070 59.40740)     297425570\n",
       "2   24.6686  59.4018  POINT (24.66860 59.40180)    1262556101\n",
       "3   24.6980  59.4477  POINT (24.69800 59.44770)    1769386593\n",
       "4   24.7680  59.4303  POINT (24.76800 59.43030)      10580988\n",
       "5   24.7918  59.4279  POINT (24.79180 59.42790)    7129214038\n",
       "6   24.7536  59.4370  POINT (24.75360 59.43700)      31288160\n",
       "7   24.8792  59.4912  POINT (24.87920 59.49120)    8035654283\n",
       "8   24.6882  59.4074  POINT (24.68820 59.40740)    2094699826\n",
       "9   24.7356  59.4262  POINT (24.73560 59.42620)     312958791\n",
       "10  24.8921  59.4442  POINT (24.89210 59.44420)     614673980\n",
       "11  24.7157  59.4275  POINT (24.71570 59.42750)     924262748\n",
       "12  24.8450  59.4484  POINT (24.84500 59.44840)    2155986862\n",
       "13  24.7563  59.4377  POINT (24.75630 59.43770)      11783954\n",
       "14  24.7700  59.4276  POINT (24.77000 59.42760)      31267389\n",
       "15  24.7508  59.4383  POINT (24.75080 59.43830)      10581174"
      ]
     },
     "execution_count": 164,
     "metadata": {},
     "output_type": "execute_result"
    }
   ],
   "source": [
    "#get nearest node for each origin point\n",
    "origin_gdf['nearest_node'] = get_list_node_id(origin_gdf, graph)\n",
    "\n",
    "origin_gdf"
   ]
  },
  {
   "cell_type": "code",
   "execution_count": 165,
   "metadata": {},
   "outputs": [
    {
     "name": "stderr",
     "output_type": "stream",
     "text": [
      "C:\\Anaconda\\envs\\python-gis\\lib\\site-packages\\osmnx\\distance.py:356: UserWarning: The `get_nearest_node` function has been deprecated and will be removed in a future release. Use the more efficient `distance.nearest_nodes` instead.\n",
      "  warnings.warn(msg)\n",
      "C:\\Anaconda\\envs\\python-gis\\lib\\site-packages\\osmnx\\distance.py:356: UserWarning: The `get_nearest_node` function has been deprecated and will be removed in a future release. Use the more efficient `distance.nearest_nodes` instead.\n",
      "  warnings.warn(msg)\n",
      "C:\\Anaconda\\envs\\python-gis\\lib\\site-packages\\osmnx\\distance.py:356: UserWarning: The `get_nearest_node` function has been deprecated and will be removed in a future release. Use the more efficient `distance.nearest_nodes` instead.\n",
      "  warnings.warn(msg)\n",
      "C:\\Anaconda\\envs\\python-gis\\lib\\site-packages\\osmnx\\distance.py:356: UserWarning: The `get_nearest_node` function has been deprecated and will be removed in a future release. Use the more efficient `distance.nearest_nodes` instead.\n",
      "  warnings.warn(msg)\n",
      "C:\\Anaconda\\envs\\python-gis\\lib\\site-packages\\osmnx\\distance.py:356: UserWarning: The `get_nearest_node` function has been deprecated and will be removed in a future release. Use the more efficient `distance.nearest_nodes` instead.\n",
      "  warnings.warn(msg)\n",
      "C:\\Anaconda\\envs\\python-gis\\lib\\site-packages\\osmnx\\distance.py:356: UserWarning: The `get_nearest_node` function has been deprecated and will be removed in a future release. Use the more efficient `distance.nearest_nodes` instead.\n",
      "  warnings.warn(msg)\n",
      "C:\\Anaconda\\envs\\python-gis\\lib\\site-packages\\osmnx\\distance.py:356: UserWarning: The `get_nearest_node` function has been deprecated and will be removed in a future release. Use the more efficient `distance.nearest_nodes` instead.\n",
      "  warnings.warn(msg)\n",
      "C:\\Anaconda\\envs\\python-gis\\lib\\site-packages\\osmnx\\distance.py:356: UserWarning: The `get_nearest_node` function has been deprecated and will be removed in a future release. Use the more efficient `distance.nearest_nodes` instead.\n",
      "  warnings.warn(msg)\n",
      "C:\\Anaconda\\envs\\python-gis\\lib\\site-packages\\osmnx\\distance.py:356: UserWarning: The `get_nearest_node` function has been deprecated and will be removed in a future release. Use the more efficient `distance.nearest_nodes` instead.\n",
      "  warnings.warn(msg)\n",
      "C:\\Anaconda\\envs\\python-gis\\lib\\site-packages\\osmnx\\distance.py:356: UserWarning: The `get_nearest_node` function has been deprecated and will be removed in a future release. Use the more efficient `distance.nearest_nodes` instead.\n",
      "  warnings.warn(msg)\n",
      "C:\\Anaconda\\envs\\python-gis\\lib\\site-packages\\osmnx\\distance.py:356: UserWarning: The `get_nearest_node` function has been deprecated and will be removed in a future release. Use the more efficient `distance.nearest_nodes` instead.\n",
      "  warnings.warn(msg)\n",
      "C:\\Anaconda\\envs\\python-gis\\lib\\site-packages\\osmnx\\distance.py:356: UserWarning: The `get_nearest_node` function has been deprecated and will be removed in a future release. Use the more efficient `distance.nearest_nodes` instead.\n",
      "  warnings.warn(msg)\n",
      "C:\\Anaconda\\envs\\python-gis\\lib\\site-packages\\osmnx\\distance.py:356: UserWarning: The `get_nearest_node` function has been deprecated and will be removed in a future release. Use the more efficient `distance.nearest_nodes` instead.\n",
      "  warnings.warn(msg)\n",
      "C:\\Anaconda\\envs\\python-gis\\lib\\site-packages\\osmnx\\distance.py:356: UserWarning: The `get_nearest_node` function has been deprecated and will be removed in a future release. Use the more efficient `distance.nearest_nodes` instead.\n",
      "  warnings.warn(msg)\n",
      "C:\\Anaconda\\envs\\python-gis\\lib\\site-packages\\osmnx\\distance.py:356: UserWarning: The `get_nearest_node` function has been deprecated and will be removed in a future release. Use the more efficient `distance.nearest_nodes` instead.\n",
      "  warnings.warn(msg)\n",
      "C:\\Anaconda\\envs\\python-gis\\lib\\site-packages\\osmnx\\distance.py:356: UserWarning: The `get_nearest_node` function has been deprecated and will be removed in a future release. Use the more efficient `distance.nearest_nodes` instead.\n",
      "  warnings.warn(msg)\n",
      "C:\\Anaconda\\envs\\python-gis\\lib\\site-packages\\osmnx\\distance.py:356: UserWarning: The `get_nearest_node` function has been deprecated and will be removed in a future release. Use the more efficient `distance.nearest_nodes` instead.\n",
      "  warnings.warn(msg)\n",
      "C:\\Anaconda\\envs\\python-gis\\lib\\site-packages\\osmnx\\distance.py:356: UserWarning: The `get_nearest_node` function has been deprecated and will be removed in a future release. Use the more efficient `distance.nearest_nodes` instead.\n",
      "  warnings.warn(msg)\n",
      "C:\\Anaconda\\envs\\python-gis\\lib\\site-packages\\osmnx\\distance.py:356: UserWarning: The `get_nearest_node` function has been deprecated and will be removed in a future release. Use the more efficient `distance.nearest_nodes` instead.\n",
      "  warnings.warn(msg)\n",
      "C:\\Anaconda\\envs\\python-gis\\lib\\site-packages\\osmnx\\distance.py:356: UserWarning: The `get_nearest_node` function has been deprecated and will be removed in a future release. Use the more efficient `distance.nearest_nodes` instead.\n",
      "  warnings.warn(msg)\n"
     ]
    },
    {
     "data": {
      "text/html": [
       "<div>\n",
       "<style scoped>\n",
       "    .dataframe tbody tr th:only-of-type {\n",
       "        vertical-align: middle;\n",
       "    }\n",
       "\n",
       "    .dataframe tbody tr th {\n",
       "        vertical-align: top;\n",
       "    }\n",
       "\n",
       "    .dataframe thead th {\n",
       "        text-align: right;\n",
       "    }\n",
       "</style>\n",
       "<table border=\"1\" class=\"dataframe\">\n",
       "  <thead>\n",
       "    <tr style=\"text-align: right;\">\n",
       "      <th></th>\n",
       "      <th>x</th>\n",
       "      <th>y</th>\n",
       "      <th>geometry</th>\n",
       "      <th>nearest_node</th>\n",
       "    </tr>\n",
       "  </thead>\n",
       "  <tbody>\n",
       "    <tr>\n",
       "      <th>0</th>\n",
       "      <td>24.8441</td>\n",
       "      <td>59.4395</td>\n",
       "      <td>POINT (24.84410 59.43950)</td>\n",
       "      <td>614466115</td>\n",
       "    </tr>\n",
       "    <tr>\n",
       "      <th>1</th>\n",
       "      <td>24.6150</td>\n",
       "      <td>59.3433</td>\n",
       "      <td>POINT (24.61500 59.34330)</td>\n",
       "      <td>3092027759</td>\n",
       "    </tr>\n",
       "    <tr>\n",
       "      <th>2</th>\n",
       "      <td>24.8656</td>\n",
       "      <td>59.4405</td>\n",
       "      <td>POINT (24.86560 59.44050)</td>\n",
       "      <td>2571675809</td>\n",
       "    </tr>\n",
       "    <tr>\n",
       "      <th>3</th>\n",
       "      <td>24.6983</td>\n",
       "      <td>59.4013</td>\n",
       "      <td>POINT (24.69830 59.40130)</td>\n",
       "      <td>11790828</td>\n",
       "    </tr>\n",
       "    <tr>\n",
       "      <th>4</th>\n",
       "      <td>24.7630</td>\n",
       "      <td>59.4407</td>\n",
       "      <td>POINT (24.76300 59.44070)</td>\n",
       "      <td>790046528</td>\n",
       "    </tr>\n",
       "    <tr>\n",
       "      <th>5</th>\n",
       "      <td>24.6552</td>\n",
       "      <td>59.4135</td>\n",
       "      <td>POINT (24.65520 59.41350)</td>\n",
       "      <td>306940027</td>\n",
       "    </tr>\n",
       "    <tr>\n",
       "      <th>6</th>\n",
       "      <td>24.7167</td>\n",
       "      <td>59.3721</td>\n",
       "      <td>POINT (24.71670 59.37210)</td>\n",
       "      <td>2505605108</td>\n",
       "    </tr>\n",
       "    <tr>\n",
       "      <th>7</th>\n",
       "      <td>24.7428</td>\n",
       "      <td>59.4442</td>\n",
       "      <td>POINT (24.74280 59.44420)</td>\n",
       "      <td>11782860</td>\n",
       "    </tr>\n",
       "    <tr>\n",
       "      <th>8</th>\n",
       "      <td>24.7562</td>\n",
       "      <td>59.4377</td>\n",
       "      <td>POINT (24.75620 59.43770)</td>\n",
       "      <td>11783954</td>\n",
       "    </tr>\n",
       "    <tr>\n",
       "      <th>9</th>\n",
       "      <td>24.6311</td>\n",
       "      <td>59.3601</td>\n",
       "      <td>POINT (24.63110 59.36010)</td>\n",
       "      <td>385912627</td>\n",
       "    </tr>\n",
       "    <tr>\n",
       "      <th>10</th>\n",
       "      <td>24.5598</td>\n",
       "      <td>59.3224</td>\n",
       "      <td>POINT (24.55980 59.32240)</td>\n",
       "      <td>27224782</td>\n",
       "    </tr>\n",
       "    <tr>\n",
       "      <th>11</th>\n",
       "      <td>24.7212</td>\n",
       "      <td>59.3912</td>\n",
       "      <td>POINT (24.72120 59.39120)</td>\n",
       "      <td>5954187445</td>\n",
       "    </tr>\n",
       "    <tr>\n",
       "      <th>12</th>\n",
       "      <td>24.7023</td>\n",
       "      <td>59.4469</td>\n",
       "      <td>POINT (24.70230 59.44690)</td>\n",
       "      <td>4556067994</td>\n",
       "    </tr>\n",
       "    <tr>\n",
       "      <th>13</th>\n",
       "      <td>24.7072</td>\n",
       "      <td>59.4145</td>\n",
       "      <td>POINT (24.70720 59.41450)</td>\n",
       "      <td>10580645</td>\n",
       "    </tr>\n",
       "    <tr>\n",
       "      <th>14</th>\n",
       "      <td>24.6887</td>\n",
       "      <td>59.4085</td>\n",
       "      <td>POINT (24.68870 59.40850)</td>\n",
       "      <td>4820840740</td>\n",
       "    </tr>\n",
       "    <tr>\n",
       "      <th>15</th>\n",
       "      <td>24.7453</td>\n",
       "      <td>59.4254</td>\n",
       "      <td>POINT (24.74530 59.42540)</td>\n",
       "      <td>11788903</td>\n",
       "    </tr>\n",
       "    <tr>\n",
       "      <th>16</th>\n",
       "      <td>24.7301</td>\n",
       "      <td>59.4415</td>\n",
       "      <td>POINT (24.73010 59.44150)</td>\n",
       "      <td>11782502</td>\n",
       "    </tr>\n",
       "    <tr>\n",
       "      <th>17</th>\n",
       "      <td>24.7604</td>\n",
       "      <td>59.4342</td>\n",
       "      <td>POINT (24.76040 59.43420)</td>\n",
       "      <td>1054298532</td>\n",
       "    </tr>\n",
       "    <tr>\n",
       "      <th>18</th>\n",
       "      <td>24.7446</td>\n",
       "      <td>59.4381</td>\n",
       "      <td>POINT (24.74460 59.43810)</td>\n",
       "      <td>31283017</td>\n",
       "    </tr>\n",
       "    <tr>\n",
       "      <th>19</th>\n",
       "      <td>24.7944</td>\n",
       "      <td>59.4219</td>\n",
       "      <td>POINT (24.79440 59.42190)</td>\n",
       "      <td>642191742</td>\n",
       "    </tr>\n",
       "  </tbody>\n",
       "</table>\n",
       "</div>"
      ],
      "text/plain": [
       "          x        y                   geometry  nearest_node\n",
       "0   24.8441  59.4395  POINT (24.84410 59.43950)     614466115\n",
       "1   24.6150  59.3433  POINT (24.61500 59.34330)    3092027759\n",
       "2   24.8656  59.4405  POINT (24.86560 59.44050)    2571675809\n",
       "3   24.6983  59.4013  POINT (24.69830 59.40130)      11790828\n",
       "4   24.7630  59.4407  POINT (24.76300 59.44070)     790046528\n",
       "5   24.6552  59.4135  POINT (24.65520 59.41350)     306940027\n",
       "6   24.7167  59.3721  POINT (24.71670 59.37210)    2505605108\n",
       "7   24.7428  59.4442  POINT (24.74280 59.44420)      11782860\n",
       "8   24.7562  59.4377  POINT (24.75620 59.43770)      11783954\n",
       "9   24.6311  59.3601  POINT (24.63110 59.36010)     385912627\n",
       "10  24.5598  59.3224  POINT (24.55980 59.32240)      27224782\n",
       "11  24.7212  59.3912  POINT (24.72120 59.39120)    5954187445\n",
       "12  24.7023  59.4469  POINT (24.70230 59.44690)    4556067994\n",
       "13  24.7072  59.4145  POINT (24.70720 59.41450)      10580645\n",
       "14  24.6887  59.4085  POINT (24.68870 59.40850)    4820840740\n",
       "15  24.7453  59.4254  POINT (24.74530 59.42540)      11788903\n",
       "16  24.7301  59.4415  POINT (24.73010 59.44150)      11782502\n",
       "17  24.7604  59.4342  POINT (24.76040 59.43420)    1054298532\n",
       "18  24.7446  59.4381  POINT (24.74460 59.43810)      31283017\n",
       "19  24.7944  59.4219  POINT (24.79440 59.42190)     642191742"
      ]
     },
     "execution_count": 165,
     "metadata": {},
     "output_type": "execute_result"
    }
   ],
   "source": [
    "#get nearest node for each origin point\n",
    "dest_gdf['nearest_node'] = get_list_node_id(dest_gdf, graph)\n",
    "\n",
    "dest_gdf"
   ]
  },
  {
   "cell_type": "code",
   "execution_count": 174,
   "metadata": {},
   "outputs": [
    {
     "data": {
      "text/html": [
       "<div>\n",
       "<style scoped>\n",
       "    .dataframe tbody tr th:only-of-type {\n",
       "        vertical-align: middle;\n",
       "    }\n",
       "\n",
       "    .dataframe tbody tr th {\n",
       "        vertical-align: top;\n",
       "    }\n",
       "\n",
       "    .dataframe thead th {\n",
       "        text-align: right;\n",
       "    }\n",
       "</style>\n",
       "<table border=\"1\" class=\"dataframe\">\n",
       "  <thead>\n",
       "    <tr style=\"text-align: right;\">\n",
       "      <th></th>\n",
       "      <th>x</th>\n",
       "      <th>y</th>\n",
       "      <th>geometry</th>\n",
       "      <th>nearest_node</th>\n",
       "    </tr>\n",
       "  </thead>\n",
       "  <tbody>\n",
       "    <tr>\n",
       "      <th>0</th>\n",
       "      <td>24.6159</td>\n",
       "      <td>59.4052</td>\n",
       "      <td>POINT (24.61590 59.40520)</td>\n",
       "      <td>341986868</td>\n",
       "    </tr>\n",
       "    <tr>\n",
       "      <th>1</th>\n",
       "      <td>24.6407</td>\n",
       "      <td>59.4074</td>\n",
       "      <td>POINT (24.64070 59.40740)</td>\n",
       "      <td>297425570</td>\n",
       "    </tr>\n",
       "    <tr>\n",
       "      <th>2</th>\n",
       "      <td>24.6686</td>\n",
       "      <td>59.4018</td>\n",
       "      <td>POINT (24.66860 59.40180)</td>\n",
       "      <td>1262556101</td>\n",
       "    </tr>\n",
       "    <tr>\n",
       "      <th>3</th>\n",
       "      <td>24.6980</td>\n",
       "      <td>59.4477</td>\n",
       "      <td>POINT (24.69800 59.44770)</td>\n",
       "      <td>1769386593</td>\n",
       "    </tr>\n",
       "    <tr>\n",
       "      <th>4</th>\n",
       "      <td>24.7680</td>\n",
       "      <td>59.4303</td>\n",
       "      <td>POINT (24.76800 59.43030)</td>\n",
       "      <td>10580988</td>\n",
       "    </tr>\n",
       "  </tbody>\n",
       "</table>\n",
       "</div>"
      ],
      "text/plain": [
       "         x        y                   geometry  nearest_node\n",
       "0  24.6159  59.4052  POINT (24.61590 59.40520)     341986868\n",
       "1  24.6407  59.4074  POINT (24.64070 59.40740)     297425570\n",
       "2  24.6686  59.4018  POINT (24.66860 59.40180)    1262556101\n",
       "3  24.6980  59.4477  POINT (24.69800 59.44770)    1769386593\n",
       "4  24.7680  59.4303  POINT (24.76800 59.43030)      10580988"
      ]
     },
     "execution_count": 174,
     "metadata": {},
     "output_type": "execute_result"
    }
   ],
   "source": [
    "#concatenate origin and destination gdf for generating linestring geometries from points\n",
    "all_points_gdf =gpd.GeoDataFrame( pd.concat([ origin_gdf, dest_gdf], ignore_index= True) , geometry= 'geometry',crs= origin_gdf.crs)\n",
    "\n",
    "all_points_gdf.head()"
   ]
  },
  {
   "cell_type": "code",
   "execution_count": 171,
   "metadata": {},
   "outputs": [
    {
     "data": {
      "text/plain": [
       "(36, 4)"
      ]
     },
     "execution_count": 171,
     "metadata": {},
     "output_type": "execute_result"
    }
   ],
   "source": [
    "all_points_gdf.shape"
   ]
  },
  {
   "cell_type": "code",
   "execution_count": 175,
   "metadata": {},
   "outputs": [],
   "source": [
    "all_points_gdf.set_index('nearest_node',inplace=True)"
   ]
  },
  {
   "cell_type": "code",
   "execution_count": 176,
   "metadata": {},
   "outputs": [
    {
     "data": {
      "text/html": [
       "<div>\n",
       "<style scoped>\n",
       "    .dataframe tbody tr th:only-of-type {\n",
       "        vertical-align: middle;\n",
       "    }\n",
       "\n",
       "    .dataframe tbody tr th {\n",
       "        vertical-align: top;\n",
       "    }\n",
       "\n",
       "    .dataframe thead th {\n",
       "        text-align: right;\n",
       "    }\n",
       "</style>\n",
       "<table border=\"1\" class=\"dataframe\">\n",
       "  <thead>\n",
       "    <tr style=\"text-align: right;\">\n",
       "      <th></th>\n",
       "      <th>x</th>\n",
       "      <th>y</th>\n",
       "      <th>geometry</th>\n",
       "    </tr>\n",
       "    <tr>\n",
       "      <th>nearest_node</th>\n",
       "      <th></th>\n",
       "      <th></th>\n",
       "      <th></th>\n",
       "    </tr>\n",
       "  </thead>\n",
       "  <tbody>\n",
       "    <tr>\n",
       "      <th>341986868</th>\n",
       "      <td>24.6159</td>\n",
       "      <td>59.4052</td>\n",
       "      <td>POINT (24.61590 59.40520)</td>\n",
       "    </tr>\n",
       "    <tr>\n",
       "      <th>297425570</th>\n",
       "      <td>24.6407</td>\n",
       "      <td>59.4074</td>\n",
       "      <td>POINT (24.64070 59.40740)</td>\n",
       "    </tr>\n",
       "    <tr>\n",
       "      <th>1262556101</th>\n",
       "      <td>24.6686</td>\n",
       "      <td>59.4018</td>\n",
       "      <td>POINT (24.66860 59.40180)</td>\n",
       "    </tr>\n",
       "    <tr>\n",
       "      <th>1769386593</th>\n",
       "      <td>24.6980</td>\n",
       "      <td>59.4477</td>\n",
       "      <td>POINT (24.69800 59.44770)</td>\n",
       "    </tr>\n",
       "    <tr>\n",
       "      <th>10580988</th>\n",
       "      <td>24.7680</td>\n",
       "      <td>59.4303</td>\n",
       "      <td>POINT (24.76800 59.43030)</td>\n",
       "    </tr>\n",
       "    <tr>\n",
       "      <th>7129214038</th>\n",
       "      <td>24.7918</td>\n",
       "      <td>59.4279</td>\n",
       "      <td>POINT (24.79180 59.42790)</td>\n",
       "    </tr>\n",
       "    <tr>\n",
       "      <th>31288160</th>\n",
       "      <td>24.7536</td>\n",
       "      <td>59.4370</td>\n",
       "      <td>POINT (24.75360 59.43700)</td>\n",
       "    </tr>\n",
       "    <tr>\n",
       "      <th>8035654283</th>\n",
       "      <td>24.8792</td>\n",
       "      <td>59.4912</td>\n",
       "      <td>POINT (24.87920 59.49120)</td>\n",
       "    </tr>\n",
       "    <tr>\n",
       "      <th>2094699826</th>\n",
       "      <td>24.6882</td>\n",
       "      <td>59.4074</td>\n",
       "      <td>POINT (24.68820 59.40740)</td>\n",
       "    </tr>\n",
       "    <tr>\n",
       "      <th>312958791</th>\n",
       "      <td>24.7356</td>\n",
       "      <td>59.4262</td>\n",
       "      <td>POINT (24.73560 59.42620)</td>\n",
       "    </tr>\n",
       "    <tr>\n",
       "      <th>614673980</th>\n",
       "      <td>24.8921</td>\n",
       "      <td>59.4442</td>\n",
       "      <td>POINT (24.89210 59.44420)</td>\n",
       "    </tr>\n",
       "    <tr>\n",
       "      <th>924262748</th>\n",
       "      <td>24.7157</td>\n",
       "      <td>59.4275</td>\n",
       "      <td>POINT (24.71570 59.42750)</td>\n",
       "    </tr>\n",
       "    <tr>\n",
       "      <th>2155986862</th>\n",
       "      <td>24.8450</td>\n",
       "      <td>59.4484</td>\n",
       "      <td>POINT (24.84500 59.44840)</td>\n",
       "    </tr>\n",
       "    <tr>\n",
       "      <th>11783954</th>\n",
       "      <td>24.7563</td>\n",
       "      <td>59.4377</td>\n",
       "      <td>POINT (24.75630 59.43770)</td>\n",
       "    </tr>\n",
       "    <tr>\n",
       "      <th>31267389</th>\n",
       "      <td>24.7700</td>\n",
       "      <td>59.4276</td>\n",
       "      <td>POINT (24.77000 59.42760)</td>\n",
       "    </tr>\n",
       "    <tr>\n",
       "      <th>10581174</th>\n",
       "      <td>24.7508</td>\n",
       "      <td>59.4383</td>\n",
       "      <td>POINT (24.75080 59.43830)</td>\n",
       "    </tr>\n",
       "    <tr>\n",
       "      <th>614466115</th>\n",
       "      <td>24.8441</td>\n",
       "      <td>59.4395</td>\n",
       "      <td>POINT (24.84410 59.43950)</td>\n",
       "    </tr>\n",
       "    <tr>\n",
       "      <th>3092027759</th>\n",
       "      <td>24.6150</td>\n",
       "      <td>59.3433</td>\n",
       "      <td>POINT (24.61500 59.34330)</td>\n",
       "    </tr>\n",
       "    <tr>\n",
       "      <th>2571675809</th>\n",
       "      <td>24.8656</td>\n",
       "      <td>59.4405</td>\n",
       "      <td>POINT (24.86560 59.44050)</td>\n",
       "    </tr>\n",
       "    <tr>\n",
       "      <th>11790828</th>\n",
       "      <td>24.6983</td>\n",
       "      <td>59.4013</td>\n",
       "      <td>POINT (24.69830 59.40130)</td>\n",
       "    </tr>\n",
       "    <tr>\n",
       "      <th>790046528</th>\n",
       "      <td>24.7630</td>\n",
       "      <td>59.4407</td>\n",
       "      <td>POINT (24.76300 59.44070)</td>\n",
       "    </tr>\n",
       "    <tr>\n",
       "      <th>306940027</th>\n",
       "      <td>24.6552</td>\n",
       "      <td>59.4135</td>\n",
       "      <td>POINT (24.65520 59.41350)</td>\n",
       "    </tr>\n",
       "    <tr>\n",
       "      <th>2505605108</th>\n",
       "      <td>24.7167</td>\n",
       "      <td>59.3721</td>\n",
       "      <td>POINT (24.71670 59.37210)</td>\n",
       "    </tr>\n",
       "    <tr>\n",
       "      <th>11782860</th>\n",
       "      <td>24.7428</td>\n",
       "      <td>59.4442</td>\n",
       "      <td>POINT (24.74280 59.44420)</td>\n",
       "    </tr>\n",
       "    <tr>\n",
       "      <th>11783954</th>\n",
       "      <td>24.7562</td>\n",
       "      <td>59.4377</td>\n",
       "      <td>POINT (24.75620 59.43770)</td>\n",
       "    </tr>\n",
       "    <tr>\n",
       "      <th>385912627</th>\n",
       "      <td>24.6311</td>\n",
       "      <td>59.3601</td>\n",
       "      <td>POINT (24.63110 59.36010)</td>\n",
       "    </tr>\n",
       "    <tr>\n",
       "      <th>27224782</th>\n",
       "      <td>24.5598</td>\n",
       "      <td>59.3224</td>\n",
       "      <td>POINT (24.55980 59.32240)</td>\n",
       "    </tr>\n",
       "    <tr>\n",
       "      <th>5954187445</th>\n",
       "      <td>24.7212</td>\n",
       "      <td>59.3912</td>\n",
       "      <td>POINT (24.72120 59.39120)</td>\n",
       "    </tr>\n",
       "    <tr>\n",
       "      <th>4556067994</th>\n",
       "      <td>24.7023</td>\n",
       "      <td>59.4469</td>\n",
       "      <td>POINT (24.70230 59.44690)</td>\n",
       "    </tr>\n",
       "    <tr>\n",
       "      <th>10580645</th>\n",
       "      <td>24.7072</td>\n",
       "      <td>59.4145</td>\n",
       "      <td>POINT (24.70720 59.41450)</td>\n",
       "    </tr>\n",
       "    <tr>\n",
       "      <th>4820840740</th>\n",
       "      <td>24.6887</td>\n",
       "      <td>59.4085</td>\n",
       "      <td>POINT (24.68870 59.40850)</td>\n",
       "    </tr>\n",
       "    <tr>\n",
       "      <th>11788903</th>\n",
       "      <td>24.7453</td>\n",
       "      <td>59.4254</td>\n",
       "      <td>POINT (24.74530 59.42540)</td>\n",
       "    </tr>\n",
       "    <tr>\n",
       "      <th>11782502</th>\n",
       "      <td>24.7301</td>\n",
       "      <td>59.4415</td>\n",
       "      <td>POINT (24.73010 59.44150)</td>\n",
       "    </tr>\n",
       "    <tr>\n",
       "      <th>1054298532</th>\n",
       "      <td>24.7604</td>\n",
       "      <td>59.4342</td>\n",
       "      <td>POINT (24.76040 59.43420)</td>\n",
       "    </tr>\n",
       "    <tr>\n",
       "      <th>31283017</th>\n",
       "      <td>24.7446</td>\n",
       "      <td>59.4381</td>\n",
       "      <td>POINT (24.74460 59.43810)</td>\n",
       "    </tr>\n",
       "    <tr>\n",
       "      <th>642191742</th>\n",
       "      <td>24.7944</td>\n",
       "      <td>59.4219</td>\n",
       "      <td>POINT (24.79440 59.42190)</td>\n",
       "    </tr>\n",
       "  </tbody>\n",
       "</table>\n",
       "</div>"
      ],
      "text/plain": [
       "                    x        y                   geometry\n",
       "nearest_node                                             \n",
       "341986868     24.6159  59.4052  POINT (24.61590 59.40520)\n",
       "297425570     24.6407  59.4074  POINT (24.64070 59.40740)\n",
       "1262556101    24.6686  59.4018  POINT (24.66860 59.40180)\n",
       "1769386593    24.6980  59.4477  POINT (24.69800 59.44770)\n",
       "10580988      24.7680  59.4303  POINT (24.76800 59.43030)\n",
       "7129214038    24.7918  59.4279  POINT (24.79180 59.42790)\n",
       "31288160      24.7536  59.4370  POINT (24.75360 59.43700)\n",
       "8035654283    24.8792  59.4912  POINT (24.87920 59.49120)\n",
       "2094699826    24.6882  59.4074  POINT (24.68820 59.40740)\n",
       "312958791     24.7356  59.4262  POINT (24.73560 59.42620)\n",
       "614673980     24.8921  59.4442  POINT (24.89210 59.44420)\n",
       "924262748     24.7157  59.4275  POINT (24.71570 59.42750)\n",
       "2155986862    24.8450  59.4484  POINT (24.84500 59.44840)\n",
       "11783954      24.7563  59.4377  POINT (24.75630 59.43770)\n",
       "31267389      24.7700  59.4276  POINT (24.77000 59.42760)\n",
       "10581174      24.7508  59.4383  POINT (24.75080 59.43830)\n",
       "614466115     24.8441  59.4395  POINT (24.84410 59.43950)\n",
       "3092027759    24.6150  59.3433  POINT (24.61500 59.34330)\n",
       "2571675809    24.8656  59.4405  POINT (24.86560 59.44050)\n",
       "11790828      24.6983  59.4013  POINT (24.69830 59.40130)\n",
       "790046528     24.7630  59.4407  POINT (24.76300 59.44070)\n",
       "306940027     24.6552  59.4135  POINT (24.65520 59.41350)\n",
       "2505605108    24.7167  59.3721  POINT (24.71670 59.37210)\n",
       "11782860      24.7428  59.4442  POINT (24.74280 59.44420)\n",
       "11783954      24.7562  59.4377  POINT (24.75620 59.43770)\n",
       "385912627     24.6311  59.3601  POINT (24.63110 59.36010)\n",
       "27224782      24.5598  59.3224  POINT (24.55980 59.32240)\n",
       "5954187445    24.7212  59.3912  POINT (24.72120 59.39120)\n",
       "4556067994    24.7023  59.4469  POINT (24.70230 59.44690)\n",
       "10580645      24.7072  59.4145  POINT (24.70720 59.41450)\n",
       "4820840740    24.6887  59.4085  POINT (24.68870 59.40850)\n",
       "11788903      24.7453  59.4254  POINT (24.74530 59.42540)\n",
       "11782502      24.7301  59.4415  POINT (24.73010 59.44150)\n",
       "1054298532    24.7604  59.4342  POINT (24.76040 59.43420)\n",
       "31283017      24.7446  59.4381  POINT (24.74460 59.43810)\n",
       "642191742     24.7944  59.4219  POINT (24.79440 59.42190)"
      ]
     },
     "execution_count": 176,
     "metadata": {},
     "output_type": "execute_result"
    }
   ],
   "source": [
    "all_points_gdf"
   ]
  },
  {
   "cell_type": "markdown",
   "metadata": {
    "deletable": false,
    "editable": false,
    "nbgrader": {
     "cell_type": "markdown",
     "checksum": "bed972620cac664a0f31afc3ee856f5e",
     "grade": false,
     "grade_id": "cell-3663d3a6be76155f",
     "locked": true,
     "schema_version": 3,
     "solution": false
    }
   },
   "source": [
    "**2: Calculate the distance of the routes in meters into a new column called `route_dist`.**\n",
    " "
   ]
  },
  {
   "cell_type": "code",
   "execution_count": null,
   "metadata": {
    "deletable": false,
    "nbgrader": {
     "cell_type": "code",
     "checksum": "b6b671ccdf652672a74ff6076f3cdf4d",
     "grade": false,
     "grade_id": "problem_2_routes_length_test",
     "locked": false,
     "schema_version": 3,
     "solution": true,
     "task": false
    }
   },
   "outputs": [],
   "source": [
    "for origin_index in range(0, len(origin_gdf)):\n",
    "    \n",
    "    for dest_index in range(0, len(dest_gdf)):\n",
    "        \n",
    "        if ( origin_gdf.at[origin_index, 'nearest_node'] == dest_gdf.at[dest_index, 'nearest_node'] ):\n",
    "            \n",
    "            routes.append( LineString( [ origin_gdf.at[ origin_index, 'geometry'], dest_gdf.at[ dest_index, 'geometry'] ] ) )\n",
    "        \n",
    "        else:\n",
    "            #calculate the shortest path\n",
    "            source = origin_gdf.at[origin_index, 'nearest_node']\n",
    "            target = dest_gdf.at[dest_index, 'nearest_node' ]\n",
    "            \n",
    "            #returns a list of nodes ids\n",
    "            shortest_path = nx.shortest_path(G=graph, source=source, target=target, weight='length' )\n",
    "            \n",
    "            #extract all rows with ids found in shortest_path list\n",
    "            route_nodes = all_points_gdf.loc[shortest_path]\n",
    "            \n",
    "            #convert gdf geometry gdf series to a list of points, create a linestring object with the list of points.\n",
    "            routes.append( LineString( list(route_nodes.geometry.values) ) )\n",
    "            \n",
    "            \n",
    "              "
   ]
  },
  {
   "cell_type": "code",
   "execution_count": null,
   "metadata": {
    "deletable": false,
    "editable": false,
    "nbgrader": {
     "cell_type": "code",
     "checksum": "72483e95f8440f4ccd1d3b56d3b24d2d",
     "grade": true,
     "grade_id": "problem_2_route_dist_column_test",
     "locked": true,
     "points": 0.5,
     "schema_version": 3,
     "solution": false,
     "task": false
    }
   },
   "outputs": [],
   "source": [
    "# NON-EDITABLE TEST CELL\n",
    "print(\"Shortest distance:\", round(routes['route_dist'].min()), \"meters\")"
   ]
  },
  {
   "cell_type": "code",
   "execution_count": null,
   "metadata": {
    "deletable": false,
    "editable": false,
    "nbgrader": {
     "cell_type": "code",
     "checksum": "98355d515c29a9800e5744ae4b25b8f9",
     "grade": true,
     "grade_id": "problem_2_route_dist_column_test2",
     "locked": true,
     "points": 0.5,
     "schema_version": 3,
     "solution": false,
     "task": false
    }
   },
   "outputs": [],
   "source": [
    "# NON-EDITABLE TEST CELL (longest distance in the example solution is 29177 meters)\n",
    "print(\"Longest distance:\", round(routes['route_dist'].max()), \"meters\")"
   ]
  },
  {
   "cell_type": "markdown",
   "metadata": {
    "deletable": false,
    "editable": false,
    "nbgrader": {
     "cell_type": "markdown",
     "checksum": "7345a8bb82125b4011752efa0409c534",
     "grade": false,
     "grade_id": "cell-490f1e8c63b167d4",
     "locked": true,
     "schema_version": 3,
     "solution": false
    }
   },
   "source": [
    "**3: Plot all the routes on top of the street network.** \n",
    "\n",
    "In the end you should have something like following:\n",
    " \n",
    " ![](img/routings.png)"
   ]
  },
  {
   "cell_type": "code",
   "execution_count": null,
   "metadata": {
    "collapsed": false,
    "deletable": false,
    "jupyter": {
     "outputs_hidden": false
    },
    "nbgrader": {
     "cell_type": "code",
     "checksum": "ed911ce488832aca4f8d248ebae3cfbb",
     "grade": true,
     "grade_id": "problem_2_plot-optimal-routes_test",
     "locked": false,
     "points": 2,
     "schema_version": 3,
     "solution": true
    }
   },
   "outputs": [],
   "source": [
    "# REPLACE THE ERROR BELOW WITH YOUR OWN CODE\n",
    "raise NotImplementedError()"
   ]
  },
  {
   "cell_type": "markdown",
   "metadata": {
    "deletable": false,
    "editable": false,
    "nbgrader": {
     "cell_type": "markdown",
     "checksum": "682e7f3b22a47ddd3836994153b271c4",
     "grade": false,
     "grade_id": "cell-e6354106b1da73f5",
     "locked": true,
     "schema_version": 3,
     "solution": false
    }
   },
   "source": [
    "**4: Calculate the total distance of all the routes (i.e. sum of all route distances)** Update the `total_distance` based on your calculations:"
   ]
  },
  {
   "cell_type": "code",
   "execution_count": null,
   "metadata": {
    "collapsed": false,
    "deletable": false,
    "jupyter": {
     "outputs_hidden": false
    },
    "nbgrader": {
     "cell_type": "code",
     "checksum": "0e8fe1157ebdd0d72ab99ef8016ad495",
     "grade": false,
     "grade_id": "calculate-total-route-distance",
     "locked": false,
     "schema_version": 3,
     "solution": true,
     "task": false
    }
   },
   "outputs": [],
   "source": [
    "total_distance = 0\n",
    "\n",
    "# REPLACE THE ERROR BELOW WITH YOUR OWN CODE\n",
    "raise NotImplementedError()"
   ]
  },
  {
   "cell_type": "code",
   "execution_count": null,
   "metadata": {
    "deletable": false,
    "editable": false,
    "nbgrader": {
     "cell_type": "code",
     "checksum": "ade810237bc2f363cd4cc1aa37c828d3",
     "grade": true,
     "grade_id": "problem_2_final_solution",
     "locked": true,
     "points": 1,
     "schema_version": 3,
     "solution": false,
     "task": false
    }
   },
   "outputs": [],
   "source": [
    "# NON-EDITABLE TEST CELL (example solution: 2468 kilometers)\n",
    "#Print your solution:\n",
    "print(\"Total distance of all routes is: %.0f kilometers\" % (total_distance / 1000))\n"
   ]
  },
  {
   "cell_type": "markdown",
   "metadata": {
    "deletable": false,
    "editable": false,
    "nbgrader": {
     "cell_type": "markdown",
     "checksum": "ec7d6188bbc01d0cebf191db5ddf253e",
     "grade": false,
     "grade_id": "cell-c041243bd4421c06",
     "locked": true,
     "schema_version": 3,
     "solution": false
    }
   },
   "source": [
    "### Done!\n",
    "\n",
    "That's it! Now you have finished all the practical exercises of the course (except final assignment), congratulations! :)"
   ]
  }
 ],
 "metadata": {
  "anaconda-cloud": {},
  "kernelspec": {
   "display_name": "Python 3 (ipykernel)",
   "language": "python",
   "name": "python3"
  },
  "language_info": {
   "codemirror_mode": {
    "name": "ipython",
    "version": 3
   },
   "file_extension": ".py",
   "mimetype": "text/x-python",
   "name": "python",
   "nbconvert_exporter": "python",
   "pygments_lexer": "ipython3",
   "version": "3.8.12"
  }
 },
 "nbformat": 4,
 "nbformat_minor": 4
}
