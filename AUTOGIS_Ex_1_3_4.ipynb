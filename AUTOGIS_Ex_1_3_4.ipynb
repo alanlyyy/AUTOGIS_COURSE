{
 "cells": [
  {
   "cell_type": "markdown",
   "id": "e06667f4-10a8-434c-8f4b-c0b93ef537d8",
   "metadata": {
    "tags": []
   },
   "source": [
    "Problem 3: Reading coordinates from a file and creating geometries (5 points)\n",
    "In problem 3, our goal is to read in the data using Pandas and create two lists orig_pointsand dest_points that contain the origin points (based on columns from_x and from_y) and destination points (based on columns to_x and to_y) as Shapely objects."
   ]
  },
  {
   "cell_type": "markdown",
   "id": "388e6f34-1a7b-4ca2-b881-5d2822c789e5",
   "metadata": {},
   "source": [
    "1: Read the data/travelTimes_2015_Helsinki.txt file into a variable data using pandas."
   ]
  },
  {
   "cell_type": "code",
   "execution_count": 50,
   "id": "5f50370c-6271-4ca3-ba1e-fa7d855dd32d",
   "metadata": {},
   "outputs": [],
   "source": [
    "import pandas as pd\n",
    "\n",
    "data = pd.read_csv('travelTimes_2015_Helsinki.txt', sep=';')\n"
   ]
  },
  {
   "cell_type": "code",
   "execution_count": 51,
   "id": "1f57fb73-7d03-4a7e-bbb3-7d337d6cd8c3",
   "metadata": {},
   "outputs": [
    {
     "name": "stdout",
     "output_type": "stream",
     "text": [
      "(14643, 13)\n"
     ]
    }
   ],
   "source": [
    "#Check how many rows and columns there are:\n",
    "print(data.shape)"
   ]
  },
  {
   "cell_type": "code",
   "execution_count": 52,
   "id": "1c7ba294-eaaa-4e32-abd9-b81caf6befa9",
   "metadata": {},
   "outputs": [
    {
     "name": "stdout",
     "output_type": "stream",
     "text": [
      "   from_id    to_id      fromid_toid  route_number     at     from_x  \\\n",
      "0  5861326  5785640  5861326_5785640             1  08:10  24.970438   \n",
      "1  5861326  5785641  5861326_5785641             1  08:10  24.970438   \n",
      "2  5861326  5785642  5861326_5785642             1  08:10  24.970438   \n",
      "3  5861326  5785643  5861326_5785643             1  08:10  24.970438   \n",
      "4  5861326  5787544  5861326_5787544             1  08:10  24.970438   \n",
      "\n",
      "      from_y       to_x       to_y  total_route_time  route_time  \\\n",
      "0  60.311917  24.856034  60.399941             125.0        99.0   \n",
      "1  60.311917  24.860568  60.400014             123.0       102.0   \n",
      "2  60.311917  24.865102  60.400086             125.0       103.0   \n",
      "3  60.311917  24.869636  60.400159             129.0       107.0   \n",
      "4  60.311917  24.842582  60.397478             118.0        92.0   \n",
      "\n",
      "   route_distance  route_total_lines  \n",
      "0         22917.6                2.0  \n",
      "1         23123.5                2.0  \n",
      "2         23241.3                2.0  \n",
      "3         23534.2                2.0  \n",
      "4         22428.2                2.0  \n"
     ]
    }
   ],
   "source": [
    "\n",
    "# NON-EDITABLE CODE CELL FOR TESTING YOUR SOLUTION\n",
    "\n",
    "# This test print should print first five rows in the data (if not, something is incorrect):\n",
    "print(data.head())\n"
   ]
  },
  {
   "cell_type": "markdown",
   "id": "2b8a777c-f367-4023-b8a4-8cf741e8a50d",
   "metadata": {
    "tags": []
   },
   "source": [
    "2: Select the 4 columns that contain coordinate information ('from_x', 'from_y', 'to_x', 'to_y') and store them in variable data (i.e. update the data -variable to contain only these four columns)."
   ]
  },
  {
   "cell_type": "code",
   "execution_count": 53,
   "id": "04053555-4a49-4ceb-a3e0-1fca074fa46a",
   "metadata": {},
   "outputs": [
    {
     "name": "stdout",
     "output_type": "stream",
     "text": [
      "<bound method NDFrame.head of           from_x     from_y       to_x       to_y\n",
      "0      24.970438  60.311917  24.856034  60.399941\n",
      "1      24.970438  60.311917  24.860568  60.400014\n",
      "2      24.970438  60.311917  24.865102  60.400086\n",
      "3      24.970438  60.311917  24.869636  60.400159\n",
      "4      24.970438  60.311917  24.842582  60.397478\n",
      "...          ...        ...        ...        ...\n",
      "14638  24.970438  60.311917  24.559702  60.174754\n",
      "14639  24.970438  60.311917  24.564204  60.174837\n",
      "14640  24.970438  60.311917  24.555367  60.172428\n",
      "14641  24.970438  60.311917  24.559868  60.172511\n",
      "14642  24.970438  60.311917  24.555534  60.170185\n",
      "\n",
      "[14643 rows x 4 columns]>\n"
     ]
    }
   ],
   "source": [
    "#remove all columns aside from from_x, from_y, to_x, and to_y\n",
    "data.drop(df.columns[[0,1,2,3,4,9,10,11,12]], axis=1, inplace =True)\n",
    "print(data.head)"
   ]
  },
  {
   "cell_type": "code",
   "execution_count": 54,
   "id": "03f9ff08-d7bb-444d-bdd4-58b6ba4fe9e3",
   "metadata": {},
   "outputs": [
    {
     "name": "stdout",
     "output_type": "stream",
     "text": [
      "['from_x', 'from_y', 'to_x', 'to_y']\n"
     ]
    }
   ],
   "source": [
    "# NON-EDITABLE CODE CELL FOR TESTING YOUR SOLUTION\n",
    "print(list(data.columns))\n"
   ]
  },
  {
   "cell_type": "markdown",
   "id": "08596402-50ac-4bbe-a4de-1c2cadecd11e",
   "metadata": {
    "tags": []
   },
   "source": [
    "3: Create two empty lists called orig_points and dest_points. We will store the shapely points in these lists in the next step."
   ]
  },
  {
   "cell_type": "code",
   "execution_count": 55,
   "id": "499f07ed-43d5-4e42-9fa7-67150fff1764",
   "metadata": {},
   "outputs": [],
   "source": [
    "orig_points = []\n",
    "dest_points = [] "
   ]
  },
  {
   "cell_type": "code",
   "execution_count": 56,
   "id": "802bf48d-8e03-4b0e-9930-b340e4fd4e77",
   "metadata": {},
   "outputs": [
    {
     "name": "stdout",
     "output_type": "stream",
     "text": [
      "orig_points length: 0\n",
      "dest_points length: 0\n"
     ]
    }
   ],
   "source": [
    "# NON-EDITABLE CODE CELL FOR TESTING YOUR SOLUTION\n",
    "# List length should be zero at this point:\n",
    "print('orig_points length:', len(orig_points))\n",
    "print('dest_points length:', len(dest_points))"
   ]
  },
  {
   "cell_type": "markdown",
   "id": "71d243d9-b7bd-42bc-aa25-a00ef0c76e89",
   "metadata": {
    "tags": []
   },
   "source": [
    "4: Create shapely points for each origin and destination and add origin points to orig_points list and destination points to dest_points list.\n",
    "\n",
    "-Create origin points based on columns from_x and from_y\n",
    "\n",
    "-Create destination points based on columns to_x and to_y"
   ]
  },
  {
   "cell_type": "code",
   "execution_count": 57,
   "id": "cead7ce7-47e6-4030-8886-7a9fd4b62bb2",
   "metadata": {},
   "outputs": [],
   "source": [
    "from shapely.geometry import Point\n",
    "\n",
    "#create shapely points for each origin x,y and dest x,y\n",
    "for i in range(0, data.shape[0]):\n",
    "    orig_points.append(Point(data.iloc[i,0], data.iloc[i,1]))\n",
    "    dest_points.append(Point(data.iloc[i,2], data.iloc[i,3]))"
   ]
  },
  {
   "cell_type": "code",
   "execution_count": 58,
   "id": "f5f5b442-7700-41d5-87bf-d700a1ff471a",
   "metadata": {},
   "outputs": [
    {
     "name": "stdout",
     "output_type": "stream",
     "text": [
      "ORIGIN X Y: 24.9704379 60.3119173\n",
      "DESTINATION X Y: 24.8560344 60.3999406\n"
     ]
    }
   ],
   "source": [
    "# NON-EDITABLE CODE CELL FOR TESTING YOUR SOLUTION\n",
    "\n",
    "# This test print should print out the first origin and destination coordinates in the two lists:\n",
    "print(\"ORIGIN X Y:\", orig_points[0].x, orig_points[0].y)\n",
    "print(\"DESTINATION X Y:\", dest_points[0].x, dest_points[0].y)\n",
    "\n",
    "#Check that you created a correct amount of points:\n",
    "assert len(orig_points) == len(data), \"Number of origin points must be the same as number of rows in the original file\"\n",
    "assert len(dest_points) == len(data), \"Number of destination points must be the same as number of rows in the original file\""
   ]
  },
  {
   "cell_type": "markdown",
   "id": "9a49cf04-8d1b-44c4-b99b-b16b8cf3551e",
   "metadata": {},
   "source": [
    "Problem 4: Creating LineStrings that represent the movements (5 points):\n",
    "This task continuous where we left in Problem 3. In this problem, the goal is to create lines (Shapely LineString objects) between each origin-destination pair."
   ]
  },
  {
   "cell_type": "markdown",
   "id": "7ff578f5-d51b-480e-917a-b44b04c6c987",
   "metadata": {
    "tags": []
   },
   "source": [
    "1: Create a list called lines"
   ]
  },
  {
   "cell_type": "code",
   "execution_count": 59,
   "id": "17bb2119-f921-4dac-9610-53556f773f2a",
   "metadata": {},
   "outputs": [],
   "source": [
    "lines = []"
   ]
  },
  {
   "cell_type": "code",
   "execution_count": 60,
   "id": "c055bca3-6098-4f4a-bb33-52bb46f9beb4",
   "metadata": {},
   "outputs": [
    {
     "name": "stdout",
     "output_type": "stream",
     "text": [
      "lines length: 0\n"
     ]
    }
   ],
   "source": [
    "# NON-EDITABLE CODE CELL FOR TESTING YOUR SOLUTION\n",
    "\n",
    "# Lines length should be zero at this stage:\n",
    "print('lines length:', len(lines))"
   ]
  },
  {
   "cell_type": "markdown",
   "id": "e948caf0-9c7a-42aa-b5b8-79a63e07d1dd",
   "metadata": {
    "tags": []
   },
   "source": [
    "2a: Create a Shapely LineString -object for each origin and destination pair\n",
    "\n",
    "Alternative 1: You can take advantage of range() function and index values to access the values from two lists at the same time inside a for-loop.\n",
    "\n",
    "Alternative 2: You can use zip() function to iterate over many lists at the same time. See hints for this week\n",
    "\n",
    "2b: Add each LineString object into the lines -list you created before."
   ]
  },
  {
   "cell_type": "code",
   "execution_count": 61,
   "id": "79c90c59-64d6-4c3a-a215-a2ca18194dc6",
   "metadata": {},
   "outputs": [],
   "source": [
    "from shapely.geometry import LineString\n",
    "\n",
    "#create a LineString using each origin and dest point and append the string to lines list.\n",
    "for i in range(0, len(orig_points)):\n",
    "    lines.append( LineString([orig_points[i], dest_points[i]]) )"
   ]
  },
  {
   "cell_type": "code",
   "execution_count": 63,
   "id": "7f36fd06-95ed-433f-8eed-2a1a6d9f114c",
   "metadata": {},
   "outputs": [],
   "source": [
    "# NON-EDITABLE CODE CELL FOR TESTING YOUR SOLUTION\n",
    "\n",
    "#Test that the list has correct number of LineStrings\n",
    "assert len(lines) == len(data), \"There should be as many lines as there are rows in the original data\""
   ]
  },
  {
   "cell_type": "markdown",
   "id": "cebaac28-1988-4d3a-bd6c-f4b7571d6a70",
   "metadata": {
    "tags": []
   },
   "source": [
    "3: Create a variable called total_length, and store the total (Euclidian) distance of all the origin-destination LineStrings that we just created into that variable.\n",
    "\n",
    "Hint: You might want to iterate over the lines and update the total lenght on each iteration."
   ]
  },
  {
   "cell_type": "code",
   "execution_count": 64,
   "id": "a8274deb-c325-401b-a91f-9721e0c415e5",
   "metadata": {},
   "outputs": [],
   "source": [
    "total_length = 0\n",
    "\n",
    "for line in lines:\n",
    "    total_length = total_length + line.length"
   ]
  },
  {
   "cell_type": "code",
   "execution_count": 65,
   "id": "d504c1a7-dbd5-478f-99d6-17c08b9ad15a",
   "metadata": {},
   "outputs": [
    {
     "name": "stdout",
     "output_type": "stream",
     "text": [
      "Total length of all lines is 3148.57\n"
     ]
    }
   ],
   "source": [
    "# NON-EDITABLE CODE CELL FOR TESTING YOUR SOLUTION\n",
    "\n",
    "# This test print should print the total length of all lines\n",
    "print(\"Total length of all lines is\", round(total_length, 2))"
   ]
  },
  {
   "cell_type": "markdown",
   "id": "d973e984-a395-42a3-bbd7-017079d3d57f",
   "metadata": {},
   "source": [
    "4: write the previous parts, i.e. the creation of the LineString and calculating the total distance, into dedicated functions:\n",
    "\n",
    "create_od_lines(): Takes two lists of Shapely Point -objects as input and returns a list of LineStrings\n",
    "calculate_total_distance(): Takes a list of LineString geometries as input and returs their total length\n",
    "You can copy and paste the codes you have written earlier into the functions. Below, you can find a code cell for testing your functions (you should get the same result as earler).\n",
    "\n",
    "Note: avoid using the same variable names as earlier inside your functions! Functions are often defined at the top of the script file (or jupyter notebook), and now that we have them here at the very end you might accidentally alter an existing variable inside your functions. To avoid this, alter the variable names inside your own functions if you re-use code from this notebook."
   ]
  },
  {
   "cell_type": "code",
   "execution_count": 67,
   "id": "8e451318-1121-460e-a1a7-8dcbd5bff73b",
   "metadata": {},
   "outputs": [],
   "source": [
    "def create_od_lines(list_of_orig_points, list_of_dest_points):\n",
    "    \"\"\"return a list of LineStrings using each origin and dest point to create a LineString and append the string to lines list.\"\"\"\n",
    "    lines = []\n",
    "    \n",
    "    for i in range(0, len(orig_points)):\n",
    "        lines.append( LineString([orig_points[i], dest_points[i]]) )\n",
    "    \n",
    "    return lines\n",
    "\n",
    "def calculate_total_distance(list_of_line_strings):\n",
    "    \"\"\"Return running sum of total length of each LineString.\"\"\"\n",
    "    total_length = 0\n",
    "\n",
    "    for line in list_of_line_strings:\n",
    "        total_length = total_length + line.length\n",
    "    \n",
    "    return total_length"
   ]
  },
  {
   "cell_type": "code",
   "execution_count": 68,
   "id": "03cd594c-0dc1-4ef5-88db-118a52a9c952",
   "metadata": {},
   "outputs": [
    {
     "name": "stdout",
     "output_type": "stream",
     "text": [
      "Total distance 3148.57\n"
     ]
    }
   ],
   "source": [
    "# NON-EDITABLE CODE CELL FOR TESTING YOUR SOLUTION\n",
    "\n",
    "# Use the functions\n",
    "# -----------------\n",
    "\n",
    "# Create origin-destination lines\n",
    "od_lines = create_od_lines(orig_points, dest_points)\n",
    "\n",
    "# Calculate the total distance\n",
    "tot_dist = calculate_total_distance(od_lines)\n",
    "\n",
    "print(\"Total distance\", round(tot_dist,2))"
   ]
  },
  {
   "cell_type": "code",
   "execution_count": null,
   "id": "37d31d8a-6545-43ec-81cf-2683cd2e6d11",
   "metadata": {},
   "outputs": [],
   "source": []
  }
 ],
 "metadata": {
  "kernelspec": {
   "display_name": "Python 3 (ipykernel)",
   "language": "python",
   "name": "python3"
  },
  "language_info": {
   "codemirror_mode": {
    "name": "ipython",
    "version": 3
   },
   "file_extension": ".py",
   "mimetype": "text/x-python",
   "name": "python",
   "nbconvert_exporter": "python",
   "pygments_lexer": "ipython3",
   "version": "3.9.7"
  }
 },
 "nbformat": 4,
 "nbformat_minor": 5
}
