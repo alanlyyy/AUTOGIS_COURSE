{
 "cells": [
  {
   "cell_type": "code",
   "execution_count": 22,
   "id": "5f50370c-6271-4ca3-ba1e-fa7d855dd32d",
   "metadata": {},
   "outputs": [],
   "source": [
    "import pandas as pd\n",
    "\n",
    "data = pd.read_csv('travelTimes_2015_Helsinki.txt', sep=';')\n"
   ]
  },
  {
   "cell_type": "code",
   "execution_count": 23,
   "id": "1f57fb73-7d03-4a7e-bbb3-7d337d6cd8c3",
   "metadata": {},
   "outputs": [
    {
     "name": "stdout",
     "output_type": "stream",
     "text": [
      "(14643, 13)\n"
     ]
    }
   ],
   "source": [
    "#Check how many rows and columns there are:\n",
    "print(data.shape)"
   ]
  },
  {
   "cell_type": "code",
   "execution_count": 24,
   "id": "1c7ba294-eaaa-4e32-abd9-b81caf6befa9",
   "metadata": {},
   "outputs": [
    {
     "name": "stdout",
     "output_type": "stream",
     "text": [
      "   from_id    to_id      fromid_toid  route_number     at     from_x  \\\n",
      "0  5861326  5785640  5861326_5785640             1  08:10  24.970438   \n",
      "1  5861326  5785641  5861326_5785641             1  08:10  24.970438   \n",
      "2  5861326  5785642  5861326_5785642             1  08:10  24.970438   \n",
      "3  5861326  5785643  5861326_5785643             1  08:10  24.970438   \n",
      "4  5861326  5787544  5861326_5787544             1  08:10  24.970438   \n",
      "\n",
      "      from_y       to_x       to_y  total_route_time  route_time  \\\n",
      "0  60.311917  24.856034  60.399941             125.0        99.0   \n",
      "1  60.311917  24.860568  60.400014             123.0       102.0   \n",
      "2  60.311917  24.865102  60.400086             125.0       103.0   \n",
      "3  60.311917  24.869636  60.400159             129.0       107.0   \n",
      "4  60.311917  24.842582  60.397478             118.0        92.0   \n",
      "\n",
      "   route_distance  route_total_lines  \n",
      "0         22917.6                2.0  \n",
      "1         23123.5                2.0  \n",
      "2         23241.3                2.0  \n",
      "3         23534.2                2.0  \n",
      "4         22428.2                2.0  \n"
     ]
    }
   ],
   "source": [
    "\n",
    "# NON-EDITABLE CODE CELL FOR TESTING YOUR SOLUTION\n",
    "\n",
    "# This test print should print first five rows in the data (if not, something is incorrect):\n",
    "print(data.head())\n"
   ]
  },
  {
   "cell_type": "code",
   "execution_count": 25,
   "id": "04053555-4a49-4ceb-a3e0-1fca074fa46a",
   "metadata": {},
   "outputs": [
    {
     "name": "stdout",
     "output_type": "stream",
     "text": [
      "<bound method NDFrame.head of           from_x     from_y       to_x       to_y\n",
      "0      24.970438  60.311917  24.856034  60.399941\n",
      "1      24.970438  60.311917  24.860568  60.400014\n",
      "2      24.970438  60.311917  24.865102  60.400086\n",
      "3      24.970438  60.311917  24.869636  60.400159\n",
      "4      24.970438  60.311917  24.842582  60.397478\n",
      "...          ...        ...        ...        ...\n",
      "14638  24.970438  60.311917  24.559702  60.174754\n",
      "14639  24.970438  60.311917  24.564204  60.174837\n",
      "14640  24.970438  60.311917  24.555367  60.172428\n",
      "14641  24.970438  60.311917  24.559868  60.172511\n",
      "14642  24.970438  60.311917  24.555534  60.170185\n",
      "\n",
      "[14643 rows x 4 columns]>\n"
     ]
    }
   ],
   "source": [
    "#remove all columns aside from from_x, from_y, to_x, and to_y\n",
    "data.drop(df.columns[[0,1,2,3,4,9,10,11,12]], axis=1, inplace =True)\n",
    "print(data.head)"
   ]
  },
  {
   "cell_type": "code",
   "execution_count": 26,
   "id": "03f9ff08-d7bb-444d-bdd4-58b6ba4fe9e3",
   "metadata": {},
   "outputs": [
    {
     "name": "stdout",
     "output_type": "stream",
     "text": [
      "['from_x', 'from_y', 'to_x', 'to_y']\n"
     ]
    }
   ],
   "source": [
    "# NON-EDITABLE CODE CELL FOR TESTING YOUR SOLUTION\n",
    "print(list(data.columns))\n"
   ]
  },
  {
   "cell_type": "code",
   "execution_count": 27,
   "id": "499f07ed-43d5-4e42-9fa7-67150fff1764",
   "metadata": {},
   "outputs": [],
   "source": [
    "orig_points = []\n",
    "dest_points = [] \n",
    "\n"
   ]
  },
  {
   "cell_type": "code",
   "execution_count": 28,
   "id": "802bf48d-8e03-4b0e-9930-b340e4fd4e77",
   "metadata": {},
   "outputs": [
    {
     "name": "stdout",
     "output_type": "stream",
     "text": [
      "orig_points length: 0\n",
      "dest_points length: 0\n"
     ]
    }
   ],
   "source": [
    "# NON-EDITABLE CODE CELL FOR TESTING YOUR SOLUTION\n",
    "# List length should be zero at this point:\n",
    "print('orig_points length:', len(orig_points))\n",
    "print('dest_points length:', len(dest_points))"
   ]
  },
  {
   "cell_type": "code",
   "execution_count": 29,
   "id": "cead7ce7-47e6-4030-8886-7a9fd4b62bb2",
   "metadata": {},
   "outputs": [],
   "source": [
    "from shapely.geometry import Point\n",
    "\n",
    "#create shapely points for each origin x,y and dest x,y\n",
    "for i in range(0, data.shape[0]):\n",
    "    orig_points.append(Point(data.iloc[i,0], data.iloc[i,1]))\n",
    "    dest_points.append(Point(data.iloc[i,2], data.iloc[i,3]))"
   ]
  },
  {
   "cell_type": "code",
   "execution_count": 30,
   "id": "f5f5b442-7700-41d5-87bf-d700a1ff471a",
   "metadata": {},
   "outputs": [
    {
     "name": "stdout",
     "output_type": "stream",
     "text": [
      "ORIGIN X Y: 24.9704379 60.3119173\n",
      "DESTINATION X Y: 24.8560344 60.3999406\n"
     ]
    }
   ],
   "source": [
    "# NON-EDITABLE CODE CELL FOR TESTING YOUR SOLUTION\n",
    "\n",
    "# This test print should print out the first origin and destination coordinates in the two lists:\n",
    "print(\"ORIGIN X Y:\", orig_points[0].x, orig_points[0].y)\n",
    "print(\"DESTINATION X Y:\", dest_points[0].x, dest_points[0].y)\n",
    "\n",
    "#Check that you created a correct amount of points:\n",
    "assert len(orig_points) == len(data), \"Number of origin points must be the same as number of rows in the original file\"\n",
    "assert len(dest_points) == len(data), \"Number of destination points must be the same as number of rows in the original file\""
   ]
  },
  {
   "cell_type": "code",
   "execution_count": null,
   "id": "db182c37-1b7e-4859-b3b9-f2a0fd6ea810",
   "metadata": {},
   "outputs": [],
   "source": []
  }
 ],
 "metadata": {
  "kernelspec": {
   "display_name": "Python 3 (ipykernel)",
   "language": "python",
   "name": "python3"
  },
  "language_info": {
   "codemirror_mode": {
    "name": "ipython",
    "version": 3
   },
   "file_extension": ".py",
   "mimetype": "text/x-python",
   "name": "python",
   "nbconvert_exporter": "python",
   "pygments_lexer": "ipython3",
   "version": "3.9.7"
  }
 },
 "nbformat": 4,
 "nbformat_minor": 5
}
