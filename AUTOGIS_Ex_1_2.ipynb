{
 "cells": [
  {
   "cell_type": "code",
   "execution_count": 1,
   "id": "0dcc0b74-c213-492c-b23f-4ecb88fe8bde",
   "metadata": {},
   "outputs": [],
   "source": [
    "from shapely.geometry import Point, LineString, Polygon"
   ]
  },
  {
   "cell_type": "code",
   "execution_count": 10,
   "id": "e735dda5-a22b-4a92-9f93-6fc09bf620aa",
   "metadata": {},
   "outputs": [],
   "source": [
    "def get_centroid(geom):\n",
    "    assert ((type(geom) == Point) or (type(geom) == LineString) or (type(geom) == Polygon)) ,  \"Input should be a Shapely geometry!\"\n",
    "    \n",
    "    return geom.centroid"
   ]
  },
  {
   "cell_type": "code",
   "execution_count": 11,
   "id": "f92d8007-9c66-4c44-818e-edbfcaa84ac0",
   "metadata": {},
   "outputs": [],
   "source": [
    "point1 = Point(0.5,1.0)\n",
    "point2 = Point(1.0,1.0)\n",
    "point3 = Point(1,5,1.0)\n",
    "point4 = Point(2,1.5)\n",
    "\n",
    "line1 = LineString([point1,point2,point3])\n",
    "polygon1 = Polygon([point1,point2,point4])\n"
   ]
  },
  {
   "cell_type": "code",
   "execution_count": 12,
   "id": "254549eb-d918-4b0c-aac9-35f08a598d87",
   "metadata": {},
   "outputs": [
    {
     "name": "stdout",
     "output_type": "stream",
     "text": [
      "POINT (0.9722222222222222 2.777777777777778)\n",
      "POINT (1.166666666666667 1.166666666666667)\n"
     ]
    }
   ],
   "source": [
    "try:\n",
    "    print(get_centroid(line1))\n",
    "    print(get_centroid(polygon1))\n",
    "except AssertionError:\n",
    "    print(\"Something failed\")"
   ]
  },
  {
   "cell_type": "code",
   "execution_count": 9,
   "id": "0aa90bc3-3cbc-4765-a14d-239778496e21",
   "metadata": {},
   "outputs": [
    {
     "name": "stdout",
     "output_type": "stream",
     "text": [
      "Found and assertion error. Geometry -check works correctly.\n"
     ]
    }
   ],
   "source": [
    "#Test assertion error\n",
    "# NON-EDITABLE CODE CELL FOR TESTING YOUR SOLUTION\n",
    "try:\n",
    "    # Pass something else than a Shapely geometry\n",
    "    get_centroid(\"Give me a centroid!\")\n",
    "#catch an assertionError if assert equality fails\n",
    "except AssertionError:\n",
    "    print(\"Found and assertion error. Geometry -check works correctly.\")\n",
    "#catch all other exceptions aside from AssertionError\n",
    "except Exception as e:\n",
    "    raise e"
   ]
  },
  {
   "cell_type": "code",
   "execution_count": 14,
   "id": "5371819e-850c-4e9d-b743-fba7535c0188",
   "metadata": {},
   "outputs": [],
   "source": [
    "def get_area(polygon_shape):\n",
    "    assert (type(polygon_shape) == Polygon), \"Error, input should be a shapely Polygon -object!\"\n",
    "    \n",
    "    return polygon_shape.area"
   ]
  },
  {
   "cell_type": "code",
   "execution_count": 32,
   "id": "1d1d3238-a0f0-4914-9771-8b05ecfc01cb",
   "metadata": {},
   "outputs": [
    {
     "name": "stdout",
     "output_type": "stream",
     "text": [
      "64800.0\n",
      "(0.0, 0.0, 2.0, 2.0)\n",
      "2.0\n"
     ]
    }
   ],
   "source": [
    "point5 = Point(0.0, 0.0)\n",
    "point6 = Point(0.0, 2.0)\n",
    "point8 = Point(2.0, 2.0)\n",
    "polygon2 = Polygon([point5, point6, point8]) #LinearRing has 0 area FYI.\n",
    "border = [(-180, 90), (-180, -90), (180, -90), (180, 90)]\n",
    "world = Polygon(shell=border)\n",
    "print(world.area)\n",
    "\n",
    "try:\n",
    "    area = get_area(polygon2)\n",
    "    print(polygon2.bounds)\n",
    "    print(area)\n",
    "except AssertionError:\n",
    "    print(\"cannot get area of non polygon object\")\n",
    "except Exception as e:\n",
    "    raise e\n"
   ]
  },
  {
   "cell_type": "code",
   "execution_count": 24,
   "id": "1985284d-87d0-4bef-945a-1c7c12327b11",
   "metadata": {},
   "outputs": [
    {
     "name": "stdout",
     "output_type": "stream",
     "text": [
      "2.0\n"
     ]
    }
   ],
   "source": [
    "# NON-EDITABLE CODE CELL FOR TESTING YOUR SOLUTION\n",
    "area = get_area(polygon2)\n",
    "print(round(area, 2))"
   ]
  },
  {
   "cell_type": "code",
   "execution_count": 25,
   "id": "28bb7388-e6e8-4ee8-8e33-564abf61eaaa",
   "metadata": {},
   "outputs": [
    {
     "name": "stdout",
     "output_type": "stream",
     "text": [
      "Geometry -check works\n"
     ]
    }
   ],
   "source": [
    "#test if the assertion works\n",
    "# NON-EDITABLE CODE CELL FOR TESTING YOUR SOLUTION\n",
    "try:\n",
    "    # Pass something else than a Shapely geometry\n",
    "    get_area(\"Give me an area!\")\n",
    "except AssertionError:\n",
    "    print(\"Geometry -check works\")\n",
    "except Exception as e:\n",
    "    raise e"
   ]
  },
  {
   "cell_type": "code",
   "execution_count": 26,
   "id": "3dbd8e57-e945-4014-9323-3e8e4d51631b",
   "metadata": {},
   "outputs": [],
   "source": [
    "def get_length(geom):\n",
    "    assert  ((type(geom) == LineString) or (type(geom) == Polygon)) , \"Error, 'geom' should be either LineString or Polygon\"\n",
    "    return geom.length"
   ]
  },
  {
   "cell_type": "code",
   "execution_count": 27,
   "id": "2dad0206-fe8f-4e5e-bbd8-597ef90518a3",
   "metadata": {},
   "outputs": [],
   "source": [
    "line2 = LineString([point6,point8])"
   ]
  },
  {
   "cell_type": "code",
   "execution_count": 29,
   "id": "39f90bfb-6eed-4c6b-913a-8f32e8e273bd",
   "metadata": {},
   "outputs": [
    {
     "name": "stdout",
     "output_type": "stream",
     "text": [
      "6.82842712474619\n",
      "2.0\n"
     ]
    }
   ],
   "source": [
    "try:\n",
    "    length1 = get_length(polygon2)\n",
    "    length2 = get_length(line2)\n",
    "    print(length1)\n",
    "    print(length2)\n",
    "except AssertionError:\n",
    "    print(\"cannot get area of non polygon object\")\n",
    "except Exception as e:\n",
    "    raise e"
   ]
  },
  {
   "cell_type": "code",
   "execution_count": 33,
   "id": "10b3cc4f-1300-47ab-b859-ef8e21b0f218",
   "metadata": {},
   "outputs": [
    {
     "name": "stdout",
     "output_type": "stream",
     "text": [
      "Line length: 2.0\n"
     ]
    }
   ],
   "source": [
    "# NON-EDITABLE CODE CELL FOR TESTING YOUR SOLUTION\n",
    "line_length = get_length(line2) \n",
    "print(\"Line length:\", round(line_length,2))"
   ]
  },
  {
   "cell_type": "code",
   "execution_count": 34,
   "id": "b9fe5f7e-aa73-46b2-89db-d8989a2b7dc0",
   "metadata": {},
   "outputs": [
    {
     "name": "stdout",
     "output_type": "stream",
     "text": [
      "Polygon exterior length: 6.83\n"
     ]
    }
   ],
   "source": [
    "# NON-EDITABLE CODE CELL FOR TESTING YOUR SOLUTION\n",
    "#get line length/perimeter of linearRing \"Polygon\"\n",
    "poly_exterior_length = get_length(polygon2)\n",
    "print(\"Polygon exterior length:\", round(poly_exterior_length,2))"
   ]
  },
  {
   "cell_type": "code",
   "execution_count": 35,
   "id": "3cde4c67-1175-48de-b2a0-386a80938295",
   "metadata": {},
   "outputs": [
    {
     "name": "stdout",
     "output_type": "stream",
     "text": [
      "Geometry -check works\n"
     ]
    }
   ],
   "source": [
    "# NON-EDITABLE CODE CELL FOR TESTING YOUR SOLUTION\n",
    "try:\n",
    "    # Pass something else than a Shapely LineString or Polygon\n",
    "    get_length(Point(1,2))\n",
    "except AssertionError:\n",
    "    print(\"Geometry -check works\")\n",
    "except Exception as e:\n",
    "    raise e\n",
    "    "
   ]
  },
  {
   "cell_type": "code",
   "execution_count": null,
   "id": "db22013b-9c88-4c1a-a427-1012b9394b80",
   "metadata": {},
   "outputs": [],
   "source": []
  }
 ],
 "metadata": {
  "kernelspec": {
   "display_name": "Python 3 (ipykernel)",
   "language": "python",
   "name": "python3"
  },
  "language_info": {
   "codemirror_mode": {
    "name": "ipython",
    "version": 3
   },
   "file_extension": ".py",
   "mimetype": "text/x-python",
   "name": "python",
   "nbconvert_exporter": "python",
   "pygments_lexer": "ipython3",
   "version": "3.9.7"
  }
 },
 "nbformat": 4,
 "nbformat_minor": 5
}
